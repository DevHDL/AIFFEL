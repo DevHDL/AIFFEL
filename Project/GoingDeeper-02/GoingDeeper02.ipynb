{
 "cells": [
  {
   "cell_type": "code",
   "execution_count": 1,
   "metadata": {},
   "outputs": [
    {
     "name": "stderr",
     "output_type": "stream",
     "text": [
      "2024-07-05 07:00:16.346562: I tensorflow/core/util/port.cc:113] oneDNN custom operations are on. You may see slightly different numerical results due to floating-point round-off errors from different computation orders. To turn them off, set the environment variable `TF_ENABLE_ONEDNN_OPTS=0`.\n",
      "2024-07-05 07:00:16.454406: E external/local_xla/xla/stream_executor/cuda/cuda_dnn.cc:9261] Unable to register cuDNN factory: Attempting to register factory for plugin cuDNN when one has already been registered\n",
      "2024-07-05 07:00:16.454478: E external/local_xla/xla/stream_executor/cuda/cuda_fft.cc:607] Unable to register cuFFT factory: Attempting to register factory for plugin cuFFT when one has already been registered\n",
      "2024-07-05 07:00:16.464100: E external/local_xla/xla/stream_executor/cuda/cuda_blas.cc:1515] Unable to register cuBLAS factory: Attempting to register factory for plugin cuBLAS when one has already been registered\n",
      "2024-07-05 07:00:16.497286: I tensorflow/core/platform/cpu_feature_guard.cc:182] This TensorFlow binary is optimized to use available CPU instructions in performance-critical operations.\n",
      "To enable the following instructions: AVX2 AVX512F AVX512_VNNI FMA, in other operations, rebuild TensorFlow with the appropriate compiler flags.\n",
      "2024-07-05 07:00:17.545272: W tensorflow/compiler/tf2tensorrt/utils/py_utils.cc:38] TF-TRT Warning: Could not find TensorRT\n"
     ]
    }
   ],
   "source": [
    "import tensorflow as tf\n",
    "import numpy as np\n",
    "\n",
    "from tensorflow import keras\n",
    "import tensorflow_datasets as tfds\n",
    "import matplotlib.pyplot as plt"
   ]
  },
  {
   "cell_type": "markdown",
   "metadata": {},
   "source": [
    "## 데이터셋"
   ]
  },
  {
   "cell_type": "code",
   "execution_count": 2,
   "metadata": {},
   "outputs": [
    {
     "name": "stdout",
     "output_type": "stream",
     "text": [
      "120\n"
     ]
    },
    {
     "name": "stderr",
     "output_type": "stream",
     "text": [
      "2024-07-05 07:00:21.102361: I tensorflow/core/common_runtime/gpu/gpu_device.cc:1929] Created device /job:localhost/replica:0/task:0/device:GPU:0 with 8098 MB memory:  -> device: 0, name: NVIDIA A100 80GB PCIe MIG 1g.10gb, pci bus id: 0000:17:00.0, compute capability: 8.0\n"
     ]
    }
   ],
   "source": [
    "# stanford_dogs 데이터셋\n",
    "(ds_train, ds_test), ds_info = tfds.load(\n",
    "    'stanford_dogs',\n",
    "    split=['train', 'test'],\n",
    "    as_supervised=True,\n",
    "    shuffle_files=True,\n",
    "    with_info=True,\n",
    ")\n",
    "\n",
    "# label 수 저장(120)\n",
    "num_classes = ds_info.features[\"label\"].num_classes\n",
    "print(num_classes)"
   ]
  },
  {
   "cell_type": "markdown",
   "metadata": {},
   "source": [
    "### 데이터 전처리"
   ]
  },
  {
   "cell_type": "code",
   "execution_count": 3,
   "metadata": {},
   "outputs": [],
   "source": [
    "def get_clip_box(image_a, image_b):\n",
    "    # image.shape = (height, width, channel)\n",
    "    image_size_x = image_a.shape[1]\n",
    "    image_size_y = image_a.shape[0]\n",
    "    \n",
    "    # get center of box\n",
    "    # 0~image_size 사이의 random값 생성\n",
    "    # [] : scalar값 의미\n",
    "    x = tf.cast(tf.random.uniform([], 0, image_size_x), tf.int32)\n",
    "    y = tf.cast(tf.random.uniform([], 0, image_size_y), tf.int32)\n",
    "\n",
    "    # get width, height of box\n",
    "    width = tf.cast(image_size_x*tf.math.sqrt(1-tf.random.uniform([], 0, 1)), tf.int32)\n",
    "    height = tf.cast(image_size_y*tf.math.sqrt(1-tf.random.uniform([], 0, 1)), tf.int32)\n",
    "    \n",
    "    # clip box in image and get minmax bbox\n",
    "    # x_min : 중심 x로부터 width/2만큼 이전의 위치\n",
    "    # y_min : 중심 y로부터 height/2만큼 이전의 위치\n",
    "    x_min = tf.math.maximum(0, x-width//2)\n",
    "    y_min = tf.math.maximum(0, y-height//2)\n",
    "    x_max = tf.math.minimum(image_size_x, x+width//2)\n",
    "    y_max = tf.math.minimum(image_size_y, y+height//2)\n",
    "    \n",
    "    return x_min, y_min, x_max, y_max\n",
    "\n",
    "def mix_2_images_labels(\n",
    "    image_a, image_b, \n",
    "    label_a, label_b,\n",
    "    x_min, y_min, x_max, y_max,\n",
    "    num_classes=120\n",
    "):\n",
    "    # image 크기 추출\n",
    "    image_size_x = image_a.shape[1]\n",
    "    image_size_y = image_a.shape[0] \n",
    "\n",
    "    # image_a에 image_b(y_min~y_max, x_min~x_max)로 채우기\n",
    "    middle_left = image_a[y_min:y_max, 0:x_min, :]\n",
    "    middle_center = image_b[y_min:y_max, x_min:x_max, :]\n",
    "    middle_right = image_a[y_min:y_max, x_max:image_size_x, :]\n",
    "\n",
    "    middle = tf.concat([middle_left,middle_center,middle_right], axis=1)\n",
    "    top = image_a[0:y_min, :, :]\n",
    "    bottom = image_a[y_max:image_size_y, :, :]\n",
    "    mixed_img = tf.concat([top, middle, bottom],axis=0)\n",
    "\n",
    "    # ratio = middle_center 너비(mixed_area) / image 너비\n",
    "    mixed_area = (x_max-x_min)*(y_max-y_min)\n",
    "    total_area = image_size_x*image_size_y\n",
    "    ratio = tf.cast(mixed_area/total_area, tf.float32)\n",
    "\n",
    "    if len(label_a.shape)==0:\n",
    "        label_a = tf.one_hot(label_a, num_classes)\n",
    "    if len(label_b.shape)==0:\n",
    "        label_b = tf.one_hot(label_b, num_classes)\n",
    "    mixed_label = (1-ratio)*label_a + ratio*label_b\n",
    "    return mixed_img, mixed_label\n",
    "\n",
    "def cutmix(image, label, prob=1.0, batch_size=16, img_size=224, num_classes=120):\n",
    "    mixed_imgs = []\n",
    "    mixed_labels = []\n",
    "\n",
    "    # batch size 내의 image를 cutmix\n",
    "    for i in range(batch_size):\n",
    "        # 1번째 데이터 추출\n",
    "        image_a = image[i]\n",
    "        label_a = label[i]\n",
    "\n",
    "        # random index를 통한 2번째 데이터 추출\n",
    "        j = tf.cast(tf.random.uniform([],0, batch_size),tf.int32)\n",
    "        image_b = image[j]\n",
    "        label_b = label[j]\n",
    "\n",
    "        # mixed image, label 추출\n",
    "        x_min, y_min, x_max, y_max = get_clip_box(image_a, image_b)\n",
    "\n",
    "        mixed_img, mixed_label = mix_2_images_labels(\n",
    "            image_a, image_b, label_a, label_b,\n",
    "            x_min, y_min, x_max, y_max\n",
    "        )\n",
    "        mixed_imgs.append(mixed_img)\n",
    "        mixed_labels.append(mixed_label)\n",
    "\n",
    "    mixed_imgs = tf.reshape(tf.stack(mixed_imgs), (batch_size, img_size, img_size, 3))\n",
    "    mixed_labels = tf.reshape(tf.stack(mixed_labels), (batch_size, num_classes))\n",
    "    return mixed_imgs, mixed_labels\n",
    "    "
   ]
  },
  {
   "cell_type": "code",
   "execution_count": 4,
   "metadata": {},
   "outputs": [],
   "source": [
    "def mixup_2_images(image_a, image_b, label_a, label_b):\n",
    "    # ratio : 0~1 사이 랜덤값 추출\n",
    "    ratio = tf.random.uniform([], 0, 1)\n",
    "    \n",
    "    # one-hot encoding\n",
    "    if len(label_a.shape)==0:\n",
    "        label_a = tf.one_hot(label_a, num_classes)\n",
    "    if len(label_b.shape)==0:\n",
    "        label_b = tf.one_hot(label_b, num_classes)\n",
    "\n",
    "    # image_b를 기준으로 ratio 적용\n",
    "    mixed_image= (1-ratio)*image_a + ratio*image_b\n",
    "    mixed_label = (1-ratio)*label_a + ratio*label_b\n",
    "    \n",
    "    return mixed_image, mixed_label\n",
    "\n",
    "def mixup(image, label, prob=1.0, batch_size=16, img_size=224, num_classes=120):\n",
    "    mixed_imgs = []\n",
    "    mixed_labels = []\n",
    "\n",
    "    for i in range(batch_size):\n",
    "        image_a = image[i]\n",
    "        label_a = label[i]\n",
    "        j = tf.cast(tf.random.uniform([],0,batch_size), tf.int32)\n",
    "        image_b = image[j]\n",
    "        label_b = label[j]\n",
    "        \n",
    "        mixed_img, mixed_label = mixup_2_images(image_a, image_b, label_a, label_b)\n",
    "        mixed_imgs.append(mixed_img)\n",
    "        mixed_labels.append(mixed_label)\n",
    "\n",
    "    mixed_imgs = tf.reshape(tf.stack(mixed_imgs), (batch_size, img_size, img_size, 3))\n",
    "    mixed_labels = tf.reshape(tf.stack(mixed_labels), (batch_size, num_classes))\n",
    "    return mixed_imgs, mixed_labels"
   ]
  },
  {
   "cell_type": "code",
   "execution_count": 5,
   "metadata": {},
   "outputs": [],
   "source": [
    "# image 정규화\n",
    "def normalize_and_resize_img(image, label):\n",
    "    # Normalizes images: `uint8` -> `float32`\n",
    "    image = tf.image.resize(image, [224, 224])\n",
    "    return tf.cast(image, tf.float32) / 255., label\n",
    "\n",
    "# image 증강\n",
    "def augment(image, label):\n",
    "    image = tf.image.random_flip_left_right(image)\n",
    "    image = tf.image.random_brightness(image, max_delta=0.2)\n",
    "    image = tf.clip_by_value(image, 0, 1)\n",
    "    return image, label\n",
    "\n",
    "# one-hot encoding\n",
    "def onehot(image, label):\n",
    "    label = tf.one_hot(label, num_classes)\n",
    "    return image, label\n",
    "\n",
    "def apply_normalize_on_dataset(\n",
    "    ds, is_test=False, batch_size=16, \n",
    "    with_aug=False, with_cutmix=False, with_mixup=False\n",
    "):\n",
    "    # 정규화\n",
    "    ds = ds.map(\n",
    "        normalize_and_resize_img, \n",
    "        num_parallel_calls=2\n",
    "    )\n",
    "    \n",
    "    # augmentation\n",
    "    if not is_test and with_aug:\n",
    "        ds = ds.map(\n",
    "            augment\n",
    "        )\n",
    "\n",
    "    # batch size 설정\n",
    "    ds = ds.batch(batch_size)\n",
    "\n",
    "    # cutmix인 경우\n",
    "    # cutmix 내에 label이 one-hot encoding(mixed label)으로 변환\n",
    "    if not is_test and with_cutmix:\n",
    "        ds = ds.map(\n",
    "            cutmix,\n",
    "            num_parallel_calls=2\n",
    "        )\n",
    "    # mixup인 경우\n",
    "    elif not is_test and with_mixup:\n",
    "        ds = ds.map(\n",
    "            mixup,\n",
    "            num_parallel_calls=2\n",
    "        )\n",
    "    # cutmix가 아닌 경우\n",
    "    # one-hot encoding 사용\n",
    "    else:\n",
    "        ds = ds.map(\n",
    "            onehot,\n",
    "            num_parallel_calls=2\n",
    "        )\n",
    "    \n",
    "    if not is_test:\n",
    "        ds = ds.repeat()\n",
    "        ds = ds.shuffle(200)\n",
    "    ds = ds.prefetch(tf.data.experimental.AUTOTUNE)\n",
    "    return ds"
   ]
  },
  {
   "cell_type": "markdown",
   "metadata": {},
   "source": [
    "### 데이터셋 종류\n",
    "- No Augmentation\n",
    "- 기본 Augmentation\n",
    "- 기본 Augmentation + Cutmix 적용\n",
    "- 기본 Augmentation + Mixup 적용"
   ]
  },
  {
   "cell_type": "code",
   "execution_count": 6,
   "metadata": {},
   "outputs": [],
   "source": [
    "# base\n",
    "ds_train_base = apply_normalize_on_dataset(\n",
    "    ds_train, is_test=False, batch_size=16, \n",
    "    with_aug=False, with_cutmix=False, with_mixup=False \n",
    ")\n",
    "# augmentation만 적용\n",
    "ds_train_aug = apply_normalize_on_dataset(\n",
    "    ds_train, is_test=False, batch_size=16, \n",
    "    with_aug=True, with_cutmix=False, with_mixup=False \n",
    ")\n",
    "# augmentation + cutmix\n",
    "ds_train_aug_cutmix = apply_normalize_on_dataset(\n",
    "    ds_train, is_test=False, batch_size=16, \n",
    "    with_aug=True, with_cutmix=True, with_mixup=False \n",
    ")\n",
    "# augmentation + mixup\n",
    "ds_train_aug_mixup = apply_normalize_on_dataset(\n",
    "    ds_train, is_test=False, batch_size=16, \n",
    "    with_aug=True, with_cutmix=False, with_mixup=True \n",
    ")\n",
    "\n",
    "ds_test = apply_normalize_on_dataset(\n",
    "    ds_test, is_test=True, batch_size=16, \n",
    "    with_aug=False, with_cutmix=False, with_mixup=False \n",
    ")"
   ]
  },
  {
   "cell_type": "markdown",
   "metadata": {},
   "source": [
    "## Resnet 50 모델 정의"
   ]
  },
  {
   "cell_type": "code",
   "execution_count": 7,
   "metadata": {},
   "outputs": [],
   "source": [
    "# base datasets model\n",
    "resnet50_base = keras.models.Sequential([\n",
    "    keras.applications.resnet.ResNet50(\n",
    "        include_top=False,\n",
    "        weights='imagenet',\n",
    "        input_shape=(224,224,3),\n",
    "        pooling='avg',\n",
    "    ),\n",
    "    keras.layers.Dense(num_classes, activation='softmax')\n",
    "])\n",
    "# augmentation datasets model\n",
    "resnet50_aug = keras.models.Sequential([\n",
    "    keras.applications.resnet.ResNet50(\n",
    "        include_top=False,\n",
    "        weights='imagenet',\n",
    "        input_shape=(224,224,3),\n",
    "        pooling='avg',\n",
    "    ),\n",
    "    keras.layers.Dense(num_classes, activation='softmax')\n",
    "])\n",
    "# augmentation + cutmix datasets model\n",
    "resnet50_aug_cutmix = keras.models.Sequential([\n",
    "    keras.applications.resnet.ResNet50(\n",
    "        include_top=False,\n",
    "        weights='imagenet',\n",
    "        input_shape=(224,224,3),\n",
    "        pooling='avg',\n",
    "    ),\n",
    "    keras.layers.Dense(num_classes, activation='softmax')\n",
    "])\n",
    "# augmentation + mixup model\n",
    "resnet50_aug_mixup = keras.models.Sequential([\n",
    "    keras.applications.resnet.ResNet50(\n",
    "        include_top=False,\n",
    "        weights='imagenet',\n",
    "        input_shape=(224,224,3),\n",
    "        pooling='avg',\n",
    "    ),\n",
    "    keras.layers.Dense(num_classes, activation='softmax')\n",
    "])"
   ]
  },
  {
   "cell_type": "code",
   "execution_count": 8,
   "metadata": {},
   "outputs": [],
   "source": [
    "def model_compile(model):\n",
    "    model.compile(\n",
    "        loss='categorical_crossentropy',\n",
    "        optimizer=tf.keras.optimizers.SGD(learning_rate=0.01),\n",
    "        metrics=['accuracy'],\n",
    "    )\n",
    "    return model"
   ]
  },
  {
   "cell_type": "code",
   "execution_count": 9,
   "metadata": {},
   "outputs": [],
   "source": [
    "def model_fit(model, train, test, ds_info, epochs):\n",
    "    history = model.fit(\n",
    "        train,\n",
    "        steps_per_epoch=int(ds_info.splits['train'].num_examples/16),\n",
    "        validation_steps=int(ds_info.splits['test'].num_examples/16),\n",
    "        epochs=epochs,\n",
    "        validation_data=test,\n",
    "        verbose=1,\n",
    "        use_multiprocessing=True\n",
    "    )\n",
    "    return history, model"
   ]
  },
  {
   "cell_type": "code",
   "execution_count": 10,
   "metadata": {},
   "outputs": [],
   "source": [
    "resnet50_base = model_compile(resnet50_base)\n",
    "resnet50_aug = model_compile(resnet50_aug)\n",
    "resnet50_aug_cutmix = model_compile(resnet50_aug_cutmix)\n",
    "resnet50_aug_mixup = model_compile(resnet50_aug_mixup)"
   ]
  },
  {
   "cell_type": "code",
   "execution_count": 11,
   "metadata": {},
   "outputs": [],
   "source": [
    "EPOCHS = 20"
   ]
  },
  {
   "cell_type": "code",
   "execution_count": null,
   "metadata": {},
   "outputs": [],
   "source": [
    "history_base, resnet50_base = model_fit(resnet50_base, ds_train_base, ds_test, ds_info, EPOCHS)"
   ]
  },
  {
   "cell_type": "code",
   "execution_count": null,
   "metadata": {},
   "outputs": [],
   "source": [
    "history_aug, resnet50_aug = model_fit(resnet50_aug, ds_train_base, ds_test, ds_info, EPOCHS)"
   ]
  },
  {
   "cell_type": "code",
   "execution_count": null,
   "metadata": {},
   "outputs": [],
   "source": [
    "history_aug_cutmix, resnet50_aug_cutmix = model_fit(resnet50_aug_cutmix, ds_train_base, ds_test, ds_info, EPOCHS)"
   ]
  },
  {
   "cell_type": "code",
   "execution_count": null,
   "metadata": {},
   "outputs": [],
   "source": [
    "history_aug_mixup, resnet50_aug_mixup = model_fit(resnet50_aug_mixup, ds_train_base, ds_test, ds_info, EPOCHS)"
   ]
  },
  {
   "cell_type": "markdown",
   "metadata": {},
   "source": [
    "## Model 및 History 저장"
   ]
  },
  {
   "cell_type": "code",
   "execution_count": null,
   "metadata": {},
   "outputs": [],
   "source": [
    "model_path='model/'\n",
    "\n",
    "resnet50_base.save(model_path+'resnet50_base.h5')\n",
    "resnet50_aug.save(model_path+'resnet50_aug.h5')\n",
    "resnet50_aug_cutmix.save(model_path+'resnet50_aug_cutmix.h5')\n",
    "resnet50_aug_mixup.save(model_path+'resnet50_aug_mixup.h5')"
   ]
  },
  {
   "cell_type": "code",
   "execution_count": null,
   "metadata": {},
   "outputs": [],
   "source": [
    "import json\n",
    "\n",
    "def save_historyModel(history, name):\n",
    "    history_path = 'history/'\n",
    "    with open(history_path + name, 'w') as f:\n",
    "        json.dump(history.history, f)"
   ]
  },
  {
   "cell_type": "code",
   "execution_count": null,
   "metadata": {},
   "outputs": [],
   "source": [
    "save_historyModel(history_base, 'base.json')\n",
    "save_historyModel(history_aug, 'only_aug.json')\n",
    "save_historyModel(history_aug_cutmix, 'aug_cutmix.json')\n",
    "save_historyModel(history_aug_mixup, 'aug_mixup.json')"
   ]
  },
  {
   "cell_type": "markdown",
   "metadata": {},
   "source": [
    "## 비교"
   ]
  },
  {
   "cell_type": "code",
   "execution_count": 12,
   "metadata": {},
   "outputs": [],
   "source": [
    "model_path='model/'\n",
    "\n",
    "resnet50_base = tf.keras.models.load_model(model_path+'resnet50_base.h5')\n",
    "resnet50_aug = tf.keras.models.load_model(model_path+'resnet50_aug.h5')\n",
    "resnet50_aug_cutmix = tf.keras.models.load_model(model_path+'resnet50_aug_cutmix.h5')\n",
    "resnet50_aug_mixup = tf.keras.models.load_model(model_path+'resnet50_aug_mixup.h5')"
   ]
  },
  {
   "cell_type": "code",
   "execution_count": 13,
   "metadata": {},
   "outputs": [],
   "source": [
    "import json\n",
    "\n",
    "history_path = 'history/'\n",
    "\n",
    "def get_history(name):\n",
    "    with open(history_path+name+'.json', 'r') as f:\n",
    "        history = json.load(f)\n",
    "    return history"
   ]
  },
  {
   "cell_type": "code",
   "execution_count": 14,
   "metadata": {},
   "outputs": [],
   "source": [
    "history_base = get_history('base')\n",
    "history_aug = get_history('only_aug')\n",
    "history_aug_cutmix = get_history('aug_cutmix')\n",
    "history_aug_mixup = get_history('aug_mixup')"
   ]
  },
  {
   "cell_type": "code",
   "execution_count": 15,
   "metadata": {},
   "outputs": [
    {
     "data": {
      "image/png": "[encoded data removed]",
      "text/plain": [
       "<Figure size 640x480 with 1 Axes>"
      ]
     },
     "metadata": {},
     "output_type": "display_data"
    }
   ],
   "source": [
    "# val loss\n",
    "plt.plot(history_base['val_loss'], 'r', label='base')\n",
    "plt.plot(history_aug['val_loss'], 'g', label='aug_only')\n",
    "plt.plot(history_aug_cutmix['val_loss'], 'b', label='aug_cutmix')\n",
    "plt.plot(history_aug_mixup['val_loss'], 'violet', label='aug_mixup')\n",
    "plt.xlabel('epochs')\n",
    "plt.title('val_loss')\n",
    "plt.ylim(0.8,1.2)\n",
    "plt.legend()\n",
    "plt.show()"
   ]
  },
  {
   "cell_type": "markdown",
   "metadata": {},
   "source": [
    "**val_loss 비교**\n",
    "- 의외로 base 가장 loss가 낮음\n",
    "- aug_only가 가장 loss가 높음\n",
    "- 이와 비슷하게 aug_cutmix와 aug_mixup은 aug보다는 낮지만 base보다는 높게 loss가 형성\n",
    "    - aug를 기본적인 좌우 뒤집기 및 밝기 조절만 해서 오히려 다양한 표현을 하려던 것이 반대로 이미지의 특징을 가리게 되는 현상이 되었나?"
   ]
  },
  {
   "cell_type": "code",
   "execution_count": 16,
   "metadata": {},
   "outputs": [
    {
     "data": {
      "image/png": "[encoded data removed]",
      "text/plain": [
       "<Figure size 640x480 with 1 Axes>"
      ]
     },
     "metadata": {},
     "output_type": "display_data"
    }
   ],
   "source": [
    "# val loss\n",
    "plt.plot(history_base['val_accuracy'], 'r', label='base')\n",
    "plt.plot(history_aug['val_accuracy'], 'g', label='aug_only')\n",
    "plt.plot(history_aug_cutmix['val_accuracy'], 'b', label='aug_cutmix')\n",
    "plt.plot(history_aug_mixup['val_accuracy'], 'violet', label='aug_mixup')\n",
    "plt.xlabel('epochs')\n",
    "plt.title('val_accuracy')\n",
    "plt.ylim(0.7,0.76)\n",
    "plt.legend()\n",
    "plt.show()"
   ]
  },
  {
   "cell_type": "markdown",
   "metadata": {},
   "source": [
    "**val_accuracy**\n",
    "- val_loss의 형태와 비슷하게 나옴\n",
    "- only_aug를 brightness 대신 다른 aug기법을 사용해 보는 것이 좋을듯."
   ]
  },
  {
   "cell_type": "markdown",
   "metadata": {},
   "source": [
    "## 회고\n",
    "\n",
    "### 배운점\n",
    "- 다양한 Augmentation의 기법을 알게 됨.\n",
    "\n",
    "### 아쉬운 점\n",
    "- augment method 구현을 너무 단순하게만 시도한 듯 하다.\n",
    "    - 현재 augmentation을 한 데이터셋의 모델이 오히려 accuracy가 낮게 나오는 현상이 있음\n",
    "    - 이것이 추측컨데 flip_left_right만으로는 이미지의 다양한 표현을 하기엔 한계가 있고,\n",
    "    - brightness가 오히려 이미지 특징 추출에 방해가 되는 요소로 작용하지 않았나 생각 중.\n",
    "    - 이후 시간이 되면 더 시도해보자.\n",
    "- 4가지 모델을 학습하는데 시간이 너무 오래 걸림\n",
    "    - 오래 걸리다보니 중간에 끊기는 현상도 있어서 어려움을 많이 겪음."
   ]
  }
 ],
 "metadata": {
  "kernelspec": {
   "display_name": "dlthon",
   "language": "python",
   "name": "python3"
  },
  "language_info": {
   "codemirror_mode": {
    "name": "ipython",
    "version": 3
   },
   "file_extension": ".py",
   "mimetype": "text/x-python",
   "name": "python",
   "nbconvert_exporter": "python",
   "pygments_lexer": "ipython3",
   "version": "3.10.10"
  }
 },
 "nbformat": 4,
 "nbformat_minor": 2
}
