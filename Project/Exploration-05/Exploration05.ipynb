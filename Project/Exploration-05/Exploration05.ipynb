{
 "cells": [
  {
   "cell_type": "code",
   "execution_count": 1,
   "id": "1751e7cd",
   "metadata": {},
   "outputs": [],
   "source": [
    "import pandas as pd\n",
    "import konlpy\n",
    "import gensim"
   ]
  },
  {
   "cell_type": "markdown",
   "id": "d084667a",
   "metadata": {},
   "source": [
    "## 데이터 불러오기\n",
    "- Train, Test 데이터"
   ]
  },
  {
   "cell_type": "code",
   "execution_count": 3,
   "id": "b5b61797",
   "metadata": {},
   "outputs": [],
   "source": [
    "train_data = pd.read_table('~/aiffel/sentiment_classification/data/ratings_train.txt')\n",
    "test_data = pd.read_table('~/aiffel/sentiment_classification/data/ratings_test.txt')"
   ]
  },
  {
   "cell_type": "code",
   "execution_count": 4,
   "id": "42ef7790",
   "metadata": {
    "scrolled": false
   },
   "outputs": [
    {
     "data": {
      "text/html": [
       "<div>\n",
       "<style scoped>\n",
       "    .dataframe tbody tr th:only-of-type {\n",
       "        vertical-align: middle;\n",
       "    }\n",
       "\n",
       "    .dataframe tbody tr th {\n",
       "        vertical-align: top;\n",
       "    }\n",
       "\n",
       "    .dataframe thead th {\n",
       "        text-align: right;\n",
       "    }\n",
       "</style>\n",
       "<table border=\"1\" class=\"dataframe\">\n",
       "  <thead>\n",
       "    <tr style=\"text-align: right;\">\n",
       "      <th></th>\n",
       "      <th>id</th>\n",
       "      <th>document</th>\n",
       "      <th>label</th>\n",
       "    </tr>\n",
       "  </thead>\n",
       "  <tbody>\n",
       "    <tr>\n",
       "      <th>0</th>\n",
       "      <td>9976970</td>\n",
       "      <td>아 더빙.. 진짜 짜증나네요 목소리</td>\n",
       "      <td>0</td>\n",
       "    </tr>\n",
       "    <tr>\n",
       "      <th>1</th>\n",
       "      <td>3819312</td>\n",
       "      <td>흠...포스터보고 초딩영화줄....오버연기조차 가볍지 않구나</td>\n",
       "      <td>1</td>\n",
       "    </tr>\n",
       "    <tr>\n",
       "      <th>2</th>\n",
       "      <td>10265843</td>\n",
       "      <td>너무재밓었다그래서보는것을추천한다</td>\n",
       "      <td>0</td>\n",
       "    </tr>\n",
       "    <tr>\n",
       "      <th>3</th>\n",
       "      <td>9045019</td>\n",
       "      <td>교도소 이야기구먼 ..솔직히 재미는 없다..평점 조정</td>\n",
       "      <td>0</td>\n",
       "    </tr>\n",
       "    <tr>\n",
       "      <th>4</th>\n",
       "      <td>6483659</td>\n",
       "      <td>사이몬페그의 익살스런 연기가 돋보였던 영화!스파이더맨에서 늙어보이기만 했던 커스틴 ...</td>\n",
       "      <td>1</td>\n",
       "    </tr>\n",
       "  </tbody>\n",
       "</table>\n",
       "</div>"
      ],
      "text/plain": [
       "         id                                           document  label\n",
       "0   9976970                                아 더빙.. 진짜 짜증나네요 목소리      0\n",
       "1   3819312                  흠...포스터보고 초딩영화줄....오버연기조차 가볍지 않구나      1\n",
       "2  10265843                                  너무재밓었다그래서보는것을추천한다      0\n",
       "3   9045019                      교도소 이야기구먼 ..솔직히 재미는 없다..평점 조정      0\n",
       "4   6483659  사이몬페그의 익살스런 연기가 돋보였던 영화!스파이더맨에서 늙어보이기만 했던 커스틴 ...      1"
      ]
     },
     "execution_count": 4,
     "metadata": {},
     "output_type": "execute_result"
    }
   ],
   "source": [
    "train_data.head()"
   ]
  },
  {
   "cell_type": "code",
   "execution_count": 172,
   "id": "a377a315",
   "metadata": {},
   "outputs": [
    {
     "data": {
      "text/plain": [
       "((150000, 3), (50000, 3))"
      ]
     },
     "execution_count": 172,
     "metadata": {},
     "output_type": "execute_result"
    }
   ],
   "source": [
    "train_data.shape, test_data.shape"
   ]
  },
  {
   "cell_type": "markdown",
   "id": "22e209fb",
   "metadata": {},
   "source": [
    "## Train 데이터 분석"
   ]
  },
  {
   "cell_type": "code",
   "execution_count": 6,
   "id": "cdfb202f",
   "metadata": {},
   "outputs": [
    {
     "name": "stdout",
     "output_type": "stream",
     "text": [
      "<class 'pandas.core.frame.DataFrame'>\n",
      "RangeIndex: 150000 entries, 0 to 149999\n",
      "Data columns (total 3 columns):\n",
      " #   Column    Non-Null Count   Dtype \n",
      "---  ------    --------------   ----- \n",
      " 0   id        150000 non-null  int64 \n",
      " 1   document  149995 non-null  object\n",
      " 2   label     150000 non-null  int64 \n",
      "dtypes: int64(2), object(1)\n",
      "memory usage: 3.4+ MB\n"
     ]
    }
   ],
   "source": [
    "train_data.info()"
   ]
  },
  {
   "cell_type": "markdown",
   "id": "acbbb674",
   "metadata": {},
   "source": [
    "#### info 메소드로 확인 결과\n",
    "- 총 150000 데이터 중 document는 149995로 확인\n",
    "- 결측치가 있는지 확인"
   ]
  },
  {
   "cell_type": "code",
   "execution_count": 19,
   "id": "7783924e",
   "metadata": {
    "scrolled": true
   },
   "outputs": [
    {
     "data": {
      "text/html": [
       "<div>\n",
       "<style scoped>\n",
       "    .dataframe tbody tr th:only-of-type {\n",
       "        vertical-align: middle;\n",
       "    }\n",
       "\n",
       "    .dataframe tbody tr th {\n",
       "        vertical-align: top;\n",
       "    }\n",
       "\n",
       "    .dataframe thead th {\n",
       "        text-align: right;\n",
       "    }\n",
       "</style>\n",
       "<table border=\"1\" class=\"dataframe\">\n",
       "  <thead>\n",
       "    <tr style=\"text-align: right;\">\n",
       "      <th></th>\n",
       "      <th>id</th>\n",
       "      <th>document</th>\n",
       "      <th>label</th>\n",
       "    </tr>\n",
       "  </thead>\n",
       "  <tbody>\n",
       "    <tr>\n",
       "      <th>25857</th>\n",
       "      <td>2172111</td>\n",
       "      <td>NaN</td>\n",
       "      <td>1</td>\n",
       "    </tr>\n",
       "    <tr>\n",
       "      <th>55737</th>\n",
       "      <td>6369843</td>\n",
       "      <td>NaN</td>\n",
       "      <td>1</td>\n",
       "    </tr>\n",
       "    <tr>\n",
       "      <th>110014</th>\n",
       "      <td>1034280</td>\n",
       "      <td>NaN</td>\n",
       "      <td>0</td>\n",
       "    </tr>\n",
       "    <tr>\n",
       "      <th>126782</th>\n",
       "      <td>5942978</td>\n",
       "      <td>NaN</td>\n",
       "      <td>0</td>\n",
       "    </tr>\n",
       "    <tr>\n",
       "      <th>140721</th>\n",
       "      <td>1034283</td>\n",
       "      <td>NaN</td>\n",
       "      <td>0</td>\n",
       "    </tr>\n",
       "  </tbody>\n",
       "</table>\n",
       "</div>"
      ],
      "text/plain": [
       "             id document  label\n",
       "25857   2172111      NaN      1\n",
       "55737   6369843      NaN      1\n",
       "110014  1034280      NaN      0\n",
       "126782  5942978      NaN      0\n",
       "140721  1034283      NaN      0"
      ]
     },
     "execution_count": 19,
     "metadata": {},
     "output_type": "execute_result"
    }
   ],
   "source": [
    "# train데이터 중 document에 결측치가 있는지 확인\n",
    "train_data[train_data['document'].isnull()]"
   ]
  },
  {
   "cell_type": "code",
   "execution_count": 27,
   "id": "34921edb",
   "metadata": {
    "scrolled": true
   },
   "outputs": [
    {
     "data": {
      "text/plain": [
       "(Empty DataFrame\n",
       " Columns: [id, document, label]\n",
       " Index: [],\n",
       " Empty DataFrame\n",
       " Columns: [id, document, label]\n",
       " Index: [],\n",
       "              id document  label\n",
       " 25857   2172111      NaN      1\n",
       " 55737   6369843      NaN      1\n",
       " 110014  1034280      NaN      0\n",
       " 126782  5942978      NaN      0\n",
       " 140721  1034283      NaN      0)"
      ]
     },
     "execution_count": 27,
     "metadata": {},
     "output_type": "execute_result"
    }
   ],
   "source": [
    "# 각각 확인해보기\n",
    "train_data[train_data['id'].isnull()], train_data[train_data['label'].isnull()], train_data[train_data['document'].isnull()]"
   ]
  },
  {
   "cell_type": "code",
   "execution_count": 30,
   "id": "152c460c",
   "metadata": {},
   "outputs": [
    {
     "data": {
      "text/html": [
       "<div>\n",
       "<style scoped>\n",
       "    .dataframe tbody tr th:only-of-type {\n",
       "        vertical-align: middle;\n",
       "    }\n",
       "\n",
       "    .dataframe tbody tr th {\n",
       "        vertical-align: top;\n",
       "    }\n",
       "\n",
       "    .dataframe thead th {\n",
       "        text-align: right;\n",
       "    }\n",
       "</style>\n",
       "<table border=\"1\" class=\"dataframe\">\n",
       "  <thead>\n",
       "    <tr style=\"text-align: right;\">\n",
       "      <th></th>\n",
       "      <th>id</th>\n",
       "      <th>document</th>\n",
       "      <th>label</th>\n",
       "    </tr>\n",
       "  </thead>\n",
       "  <tbody>\n",
       "    <tr>\n",
       "      <th>1058</th>\n",
       "      <td>5890638</td>\n",
       "      <td>4</td>\n",
       "      <td>0</td>\n",
       "    </tr>\n",
       "    <tr>\n",
       "      <th>1097</th>\n",
       "      <td>2062443</td>\n",
       "      <td>쵝오</td>\n",
       "      <td>1</td>\n",
       "    </tr>\n",
       "    <tr>\n",
       "      <th>1248</th>\n",
       "      <td>3502685</td>\n",
       "      <td>최고</td>\n",
       "      <td>1</td>\n",
       "    </tr>\n",
       "    <tr>\n",
       "      <th>1483</th>\n",
       "      <td>775332</td>\n",
       "      <td>최고</td>\n",
       "      <td>1</td>\n",
       "    </tr>\n",
       "    <tr>\n",
       "      <th>1707</th>\n",
       "      <td>8009134</td>\n",
       "      <td>재밌다</td>\n",
       "      <td>1</td>\n",
       "    </tr>\n",
       "    <tr>\n",
       "      <th>...</th>\n",
       "      <td>...</td>\n",
       "      <td>...</td>\n",
       "      <td>...</td>\n",
       "    </tr>\n",
       "    <tr>\n",
       "      <th>149919</th>\n",
       "      <td>6502490</td>\n",
       "      <td>짱</td>\n",
       "      <td>1</td>\n",
       "    </tr>\n",
       "    <tr>\n",
       "      <th>149949</th>\n",
       "      <td>3924716</td>\n",
       "      <td>OO 영화</td>\n",
       "      <td>0</td>\n",
       "    </tr>\n",
       "    <tr>\n",
       "      <th>149960</th>\n",
       "      <td>6368431</td>\n",
       "      <td>지루하다</td>\n",
       "      <td>0</td>\n",
       "    </tr>\n",
       "    <tr>\n",
       "      <th>149966</th>\n",
       "      <td>6735753</td>\n",
       "      <td>1</td>\n",
       "      <td>0</td>\n",
       "    </tr>\n",
       "    <tr>\n",
       "      <th>149987</th>\n",
       "      <td>7669621</td>\n",
       "      <td>재미있어요^^</td>\n",
       "      <td>1</td>\n",
       "    </tr>\n",
       "  </tbody>\n",
       "</table>\n",
       "<p>3817 rows × 3 columns</p>\n",
       "</div>"
      ],
      "text/plain": [
       "             id document  label\n",
       "1058    5890638        4      0\n",
       "1097    2062443       쵝오      1\n",
       "1248    3502685       최고      1\n",
       "1483     775332       최고      1\n",
       "1707    8009134      재밌다      1\n",
       "...         ...      ...    ...\n",
       "149919  6502490        짱      1\n",
       "149949  3924716    OO 영화      0\n",
       "149960  6368431     지루하다      0\n",
       "149966  6735753        1      0\n",
       "149987  7669621  재미있어요^^      1\n",
       "\n",
       "[3817 rows x 3 columns]"
      ]
     },
     "execution_count": 30,
     "metadata": {},
     "output_type": "execute_result"
    }
   ],
   "source": [
    "# 중복 확인 3817개\n",
    "train_data[train_data['document'].duplicated()]"
   ]
  },
  {
   "cell_type": "markdown",
   "id": "eb478dd0",
   "metadata": {},
   "source": [
    "## 형태소 사전과 인코더-디코더 만들기\n",
    " \n",
    "> KoNLPy의 형태소 분석 종류 ([🔗](https://datascienceschool.net/03%20machine%20learning/03.01.02%20KoNLPy%20%ED%95%9C%EA%B5%AD%EC%96%B4%20%EC%B2%98%EB%A6%AC%20%ED%8C%A8%ED%82%A4%EC%A7%80.html))\n",
    "> - Hannanum: 한나눔. KAIST Semantic Web Research Center 개발.\n",
    "    - http://semanticweb.kaist.ac.kr/hannanum/\n",
    "> - Kkma: 꼬꼬마. 서울대학교 IDS(Intelligent Data Systems) 연구실 개발.\n",
    "    - http://kkma.snu.ac.kr/\n",
    "> - Komoran: 코모란. Shineware에서 개발.\n",
    "    - https://github.com/shin285/KOMORAN\n",
    "> - Mecab: 메카브. 일본어용 형태소 분석기를 한국어를 사용할 수 있도록 수정.\n",
    "    - https://bitbucket.org/eunjeon/mecab-ko\n",
    "> - Open Korean Text: 오픈 소스 한국어 분석기. 과거 트위터 형태소 분석기.\n",
    "    - https://github.com/open-korean-text/open-korean-text"
   ]
  },
  {
   "cell_type": "markdown",
   "id": "e0968dc5",
   "metadata": {},
   "source": [
    "#### 형태소 분석 선택 및 중복, 결측치 제거"
   ]
  },
  {
   "cell_type": "code",
   "execution_count": 7,
   "id": "c6806426",
   "metadata": {},
   "outputs": [],
   "source": [
    "from konlpy.tag import Mecab\n",
    "import numpy as np\n",
    "from collections import Counter"
   ]
  },
  {
   "cell_type": "code",
   "execution_count": 53,
   "id": "b2ba37d8",
   "metadata": {},
   "outputs": [],
   "source": [
    "# mecab 형태소 분석기 사용\n",
    "# 불용어 정의\n",
    "tokenizer = Mecab()\n",
    "stopwords = ['의','가','이','은','들','는','좀','잘','걍','과','도','를','으로','자','에','와','한','하다']"
   ]
  },
  {
   "cell_type": "code",
   "execution_count": 54,
   "id": "cd591ea2",
   "metadata": {},
   "outputs": [
    {
     "name": "stdout",
     "output_type": "stream",
     "text": [
      "<class 'pandas.core.frame.DataFrame'>\n",
      "Int64Index: 146182 entries, 0 to 149999\n",
      "Data columns (total 3 columns):\n",
      " #   Column    Non-Null Count   Dtype \n",
      "---  ------    --------------   ----- \n",
      " 0   id        146182 non-null  int64 \n",
      " 1   document  146182 non-null  object\n",
      " 2   label     146182 non-null  int64 \n",
      "dtypes: int64(2), object(1)\n",
      "memory usage: 4.5+ MB\n"
     ]
    }
   ],
   "source": [
    "# drop_duplicates : 중복값 제거 (결측치 중복 포함 : 3817)\n",
    "# dropna : 결측치 제거 (중복 제거 후 남은 결측치 : 1)\n",
    "# 15000 - 3817 -1 = 146182\n",
    "train_data_nonNa = train_data.drop_duplicates(subset=['document'])\n",
    "train_data_nonNa = train_data_nonNa.dropna(how = 'any')\n",
    "train_data_nonNa.info()"
   ]
  },
  {
   "cell_type": "markdown",
   "id": "ec62d04c",
   "metadata": {},
   "source": [
    "#### token화 및 불용어 처리"
   ]
  },
  {
   "cell_type": "code",
   "execution_count": 114,
   "id": "0b5ce2eb",
   "metadata": {},
   "outputs": [
    {
     "name": "stdout",
     "output_type": "stream",
     "text": [
      "기본 : 아 더빙.. 진짜 짜증나네요 목소리\n",
      "token화 : ['아', '더', '빙', '.', '.', '진짜', '짜증', '나', '네요', '목소리']\n",
      "불용어 처리 : ['아', '더', '빙', '.', '.', '진짜', '짜증', '나', '네요', '목소리']\n"
     ]
    }
   ],
   "source": [
    "# tokenizer 처리 예시\n",
    "def sentence2token(sentence):\n",
    "    token = tokenizer.morphs(sentence)\n",
    "    print('기본 : {}'.format(sentence))\n",
    "    print('token화 : {}'.format(token))\n",
    "    return token\n",
    "\n",
    "# train에서 문장 하나 가져오기\n",
    "sentence_num = 0\n",
    "# token 생성\n",
    "temp = sentence2token(sentence=train_data_nonNa.loc[sentence_num,\"document\"])\n",
    "# 불용어 처리\n",
    "temp = [word for word in temp if not word in stopwords]\n",
    "print(f'불용어 처리 : {temp}')"
   ]
  },
  {
   "cell_type": "code",
   "execution_count": 87,
   "id": "616f06fc",
   "metadata": {},
   "outputs": [],
   "source": [
    "# train에 있는 모든 문장을 토큰화 및 불용어 제거 후 토큰 리스트 생성\n",
    "X_train = []\n",
    "for sentence in train_data_nonNa['document']:\n",
    "    temp_X = tokenizer.morphs(sentence) # 토큰화\n",
    "    temp_X = [word for word in temp_X if not word in stopwords] # 불용어 제거\n",
    "    X_train.append(temp_X)"
   ]
  },
  {
   "cell_type": "code",
   "execution_count": 88,
   "id": "28e2b863",
   "metadata": {
    "scrolled": true
   },
   "outputs": [
    {
     "name": "stdout",
     "output_type": "stream",
     "text": [
      "[['아', '더', '빙', '.', '.', '진짜', '짜증', '나', '네요', '목소리'], ['흠', '.', '..', '포스터', '보고', '초딩', '영화', '줄', '.', '...', '오버', '연기', '조차', '가볍', '지', '않', '구나'], ['너무', '재', '밓었다그래서보는것을추천한다']]\n"
     ]
    }
   ],
   "source": [
    "# 토큰 리스트\n",
    "print(X_train[:3])"
   ]
  },
  {
   "cell_type": "markdown",
   "id": "ef329e29",
   "metadata": {},
   "source": [
    "#### 사전 정의"
   ]
  },
  {
   "cell_type": "code",
   "execution_count": 89,
   "id": "6f7fdd67",
   "metadata": {},
   "outputs": [
    {
     "name": "stdout",
     "output_type": "stream",
     "text": [
      "2336238\n"
     ]
    }
   ],
   "source": [
    "# X_train은 각 document에 존재하는 토큰이 리스트로 한차례 더 나눠져 있음 (2차원)\n",
    "# 각 리스트에 존재하는 토큰을 하나의 리스트로 결합\n",
    "words = np.concatenate(X_train).tolist()\n",
    "print(len(words))"
   ]
  },
  {
   "cell_type": "code",
   "execution_count": 90,
   "id": "55021902",
   "metadata": {},
   "outputs": [
    {
     "name": "stdout",
     "output_type": "stream",
     "text": [
      "53961\n"
     ]
    }
   ],
   "source": [
    "# list -> dict\n",
    "counter = Counter(words)\n",
    "print(len(counter))"
   ]
  },
  {
   "cell_type": "code",
   "execution_count": 91,
   "id": "c04cc663",
   "metadata": {},
   "outputs": [
    {
     "name": "stdout",
     "output_type": "stream",
     "text": [
      "9996\n"
     ]
    }
   ],
   "source": [
    "# 가장 많이 사용된 순으로 9996개 추출\n",
    "counter = counter.most_common(10000-4)\n",
    "print(len(counter))"
   ]
  },
  {
   "cell_type": "code",
   "execution_count": null,
   "id": "0edfe8db",
   "metadata": {},
   "outputs": [],
   "source": [
    "# 앞에 4개의 빈 원소가 있는 리스트를 추가\n",
    "vocab = ['<PAD>', '<BOS>', '<UNK>', '<UNUSED>'] + [key for key, _ in counter]\n",
    "print(vocab)"
   ]
  },
  {
   "cell_type": "code",
   "execution_count": 105,
   "id": "a7b00546",
   "metadata": {},
   "outputs": [
    {
     "name": "stdout",
     "output_type": "stream",
     "text": [
      "10000\n"
     ]
    }
   ],
   "source": [
    "# '문자':인덱스 로 변환\n",
    "word_to_index = {word:index for index, word in enumerate(vocab)}\n",
    "print(len(word_to_index))"
   ]
  },
  {
   "cell_type": "code",
   "execution_count": 124,
   "id": "c24ccbe4",
   "metadata": {},
   "outputs": [
    {
     "name": "stdout",
     "output_type": "stream",
     "text": [
      "10000\n"
     ]
    }
   ],
   "source": [
    "index_to_word = {index:word for word, index in word_to_index.items()}\n",
    "print(len(index_to_word))"
   ]
  },
  {
   "cell_type": "code",
   "execution_count": 108,
   "id": "e8dc8187",
   "metadata": {},
   "outputs": [],
   "source": [
    "# 각 리스트에 존재하는 단어를 숫자로 변환\n",
    "# word_to_index에 없는 단어가 나오면 <UNK>:2으로 변환\n",
    "def wordlist_to_indexlist(wordlist):\n",
    "    return [word_to_index[word] if word in word_to_index else word_to_index['<UNK>'] for word in wordlist]\n",
    "        \n",
    "train_X = list(map(wordlist_to_indexlist, X_train))"
   ]
  },
  {
   "cell_type": "code",
   "execution_count": 109,
   "id": "cdbec223",
   "metadata": {},
   "outputs": [
    {
     "name": "stdout",
     "output_type": "stream",
     "text": [
      "원문 : ['아', '더', '빙', '.', '.', '진짜', '짜증', '나', '네요', '목소리']\n",
      "변환 : [32, 74, 919, 4, 4, 39, 228, 20, 33, 748]\n",
      "원문 : ['흠', '.', '..', '포스터', '보고', '초딩', '영화', '줄', '.', '...', '오버', '연기', '조차', '가볍', '지', '않', '구나']\n",
      "변환 : [1028, 4, 11, 519, 549, 687, 5, 120, 4, 70, 1639, 52, 925, 1006, 15, 44, 391]\n",
      "원문 : ['너무', '재', '밓었다그래서보는것을추천한다']\n",
      "변환 : [24, 205, 2]\n",
      "원문 : ['교도소', '이야기', '구먼', '.', '.', '솔직히', '재미', '없', '다', '.', '.', '평점', '조정']\n",
      "변환 : [8409, 158, 3925, 4, 4, 298, 94, 17, 6, 4, 4, 58, 3479]\n",
      "원문 : ['사이몬페그', '익살', '스런', '연기', '돋보였', '던', '영화', '!', '스파이더맨', '에서', '늙', '어', '보이', '기', '만', '했', '던', '커스틴', '던스트', '너무나', '이뻐', '보였', '다']\n",
      "변환 : [2, 8894, 1108, 52, 2832, 60, 5, 14, 2758, 41, 1188, 35, 351, 42, 22, 40, 60, 2, 2, 427, 3102, 1766, 6]\n"
     ]
    }
   ],
   "source": [
    "for a,b in zip(X_train[:5], train_X[:5]):\n",
    "    print(f'원문 : {a}')\n",
    "    print(f'변환 : {b}')"
   ]
  },
  {
   "cell_type": "code",
   "execution_count": 130,
   "id": "84bf043c",
   "metadata": {},
   "outputs": [],
   "source": [
    "# 문장 encode : str -> int\n",
    "# 처음에 BOS 추가 및 모르는 단어 UNK로 변환\n",
    "def get_encoded_sentence(sentence, word_to_index):\n",
    "    return [word_to_index['<BOS>']]+[word_to_index[word] if word in word_to_index else word_to_index['<UNK>'] for word in tokenizer.morphs(sentence)]\n",
    "\n",
    "def get_encoded_sentences(sentences, word_to_index):\n",
    "    return [get_encoded_sentence(sentence, word_to_index) for sentence in sentences]\n",
    "\n",
    "# 문장 decode : int -> str\n",
    "# <BOS>를 제외한 나머지 단어들을 decode (encoded_sentece[1:])\n",
    "def get_decoded_sentence(encoded_sentence, index_to_word):\n",
    "    return ' '.join(index_to_word[index] if index in index_to_word else '<UNK>' for index in encoded_sentence[1:])  #[1:]를 통해 <BOS>를 제외\n",
    "\n",
    "def get_decoded_sentences(encoded_sentences, index_to_word):\n",
    "    return [get_decoded_sentence(encoded_sentence, index_to_word) for encoded_sentence in encoded_sentences]"
   ]
  },
  {
   "cell_type": "code",
   "execution_count": 144,
   "id": "d67fa07f",
   "metadata": {},
   "outputs": [
    {
     "name": "stdout",
     "output_type": "stream",
     "text": [
      "[1, 32, 74, 919, 4, 4, 39, 228, 20, 33, 748]\n"
     ]
    }
   ],
   "source": [
    "temp_a = get_encoded_sentence(train_data_nonNa.loc[0, 'document'], word_to_index=word_to_index)\n",
    "print(temp_a)"
   ]
  },
  {
   "cell_type": "code",
   "execution_count": 145,
   "id": "e89cbdb4",
   "metadata": {},
   "outputs": [
    {
     "data": {
      "text/plain": [
       "'아 더 빙 . . 진짜 짜증 나 네요 목소리'"
      ]
     },
     "execution_count": 145,
     "metadata": {},
     "output_type": "execute_result"
    }
   ],
   "source": [
    "get_decoded_sentence(temp_a, index_to_word=index_to_word)"
   ]
  },
  {
   "cell_type": "markdown",
   "id": "df0809e8",
   "metadata": {},
   "source": [
    "### 변수 정리\n",
    "- train_data, test_data : txt 원본 데이터\n",
    "- train_data_nonNa : train_data에서 중복 및 결측치 제거\n",
    "- tokenizer = Mecab() : Mecab 분석기를 사용하는 변수\n",
    "- X_train : train_data에 있는 각 문장 리스트가 토큰으로 변환된 리스트\n",
    "- words : X_train에 있는 모든 토큰의 리스트\n",
    "- vocab : <PAD>, <BOS>, <UNK>, <UNUSED>를 추가한 사전 리스트\n",
    "- word_to_index : 문자:인덱스 형태의 사전 dict\n",
    "- index_to_word : 인덱스:문자 형태의 사전 dict\n",
    "- train_X : X_train의 토큰이 숫자로 변형된 리스트"
   ]
  },
  {
   "cell_type": "markdown",
   "id": "b686fb10",
   "metadata": {},
   "source": [
    "### 문장 길이 비교"
   ]
  },
  {
   "cell_type": "code",
   "execution_count": 137,
   "id": "50024797",
   "metadata": {
    "scrolled": false
   },
   "outputs": [
    {
     "name": "stdout",
     "output_type": "stream",
     "text": [
      "문장길이 평균 :  15.98170773419436\n",
      "문장길이 최대 :  116\n",
      "문장길이 표준편차 :  12.82473766384545\n",
      "pad_sequences maxlen :  41\n",
      "전체 문장의 0.9341711017772366%가 maxlen 설정값 이내에 포함됩니다. \n"
     ]
    }
   ],
   "source": [
    "num_tokens = [len(tokens) for tokens in X_train]\n",
    "num_tokens = np.array(num_tokens)\n",
    "\n",
    "print('문장길이 평균 : ', np.mean(num_tokens))\n",
    "print('문장길이 최대 : ', np.max(num_tokens))\n",
    "print('문장길이 표준편차 : ', np.std(num_tokens))\n",
    "\n",
    "max_tokens = np.mean(num_tokens) + 2 * np.std(num_tokens)\n",
    "maxlen = int(max_tokens)\n",
    "\n",
    "print('pad_sequences maxlen : ', maxlen)\n",
    "print(f'전체 문장의 {np.sum(num_tokens < max_tokens) / len(num_tokens)}%가 maxlen 설정값 이내에 포함됩니다. ')"
   ]
  },
  {
   "cell_type": "markdown",
   "id": "f7a4c18f",
   "metadata": {},
   "source": [
    "## 데이터 전처리"
   ]
  },
  {
   "cell_type": "code",
   "execution_count": 138,
   "id": "8b466ffc",
   "metadata": {},
   "outputs": [],
   "source": [
    "import tensorflow as tf\n",
    "from tensorflow import keras"
   ]
  },
  {
   "cell_type": "code",
   "execution_count": 149,
   "id": "1099a9a7",
   "metadata": {},
   "outputs": [],
   "source": [
    "# train_data_nonNa에 있는 document 데이터를 모두 encode\n",
    "x_train = get_encoded_sentences(train_data_nonNa.loc[:,'document'], word_to_index=word_to_index)"
   ]
  },
  {
   "cell_type": "code",
   "execution_count": 150,
   "id": "9fc66fc8",
   "metadata": {},
   "outputs": [],
   "source": [
    "x_train = tf.keras.preprocessing.sequence.pad_sequences(\n",
    "    x_train, value=word_to_index[\"<PAD>\"], padding='pre', maxlen=maxlen\n",
    ")"
   ]
  },
  {
   "cell_type": "code",
   "execution_count": 173,
   "id": "8631aff2",
   "metadata": {},
   "outputs": [
    {
     "data": {
      "text/plain": [
       "(146182, 41)"
      ]
     },
     "execution_count": 173,
     "metadata": {},
     "output_type": "execute_result"
    }
   ],
   "source": [
    "x_train.shape"
   ]
  },
  {
   "cell_type": "code",
   "execution_count": 152,
   "id": "d5d96834",
   "metadata": {},
   "outputs": [],
   "source": [
    "y_train = train_data_nonNa.loc[:,'label']"
   ]
  },
  {
   "cell_type": "markdown",
   "id": "b2634900",
   "metadata": {},
   "source": [
    "#### test 데이터 전처리"
   ]
  },
  {
   "cell_type": "code",
   "execution_count": 174,
   "id": "e4b4c10b",
   "metadata": {},
   "outputs": [
    {
     "data": {
      "text/plain": [
       "(50000, 3)"
      ]
     },
     "execution_count": 174,
     "metadata": {},
     "output_type": "execute_result"
    }
   ],
   "source": [
    "test_data.shape"
   ]
  },
  {
   "cell_type": "code",
   "execution_count": 188,
   "id": "5275def5",
   "metadata": {},
   "outputs": [],
   "source": [
    "def preprocess_data(data, word_to_index):\n",
    "    # 중복 및 결측치 제거\n",
    "    data = data.drop_duplicates(subset=['document'])\n",
    "    data = data.dropna(how='any')\n",
    "    print(data.shape)\n",
    "    \n",
    "    # train에서 사용한 word_to_index를 가져와 test 데이터에 적용\n",
    "    x_data = get_encoded_sentences(data['document'] , word_to_index)\n",
    "\n",
    "    return x_data, data.loc[:,'label']"
   ]
  },
  {
   "cell_type": "code",
   "execution_count": 189,
   "id": "4d5cba65",
   "metadata": {},
   "outputs": [
    {
     "name": "stdout",
     "output_type": "stream",
     "text": [
      "(49157, 3)\n"
     ]
    }
   ],
   "source": [
    "x_test, y_test = preprocess_data(test_data, word_to_index)"
   ]
  },
  {
   "cell_type": "code",
   "execution_count": 194,
   "id": "77b3939e",
   "metadata": {},
   "outputs": [
    {
     "data": {
      "text/plain": [
       "['굳 ㅋ',\n",
       " '<UNK>',\n",
       " '뭐 야 <UNK> 평점 <UNK> <UNK> . ... 나쁘 진 않 지만 10 점 짜리 <UNK> 더더욱 아니 잖아',\n",
       " '지루 하 지 <UNK> 않 은데 완전 막장 임 . .. 돈 주 고 보 기 <UNK> <UNK> . ...',\n",
       " '3 D 만 아니 었 어도 별 다섯 개 줬 을 텐데 . . 왜 3 D 로 나와서 제 <UNK> <UNK> 불편 하 게 하 죠 ? ?']"
      ]
     },
     "execution_count": 194,
     "metadata": {},
     "output_type": "execute_result"
    }
   ],
   "source": [
    "get_decoded_sentences(x_test, index_to_word)[:5]"
   ]
  },
  {
   "cell_type": "code",
   "execution_count": 200,
   "id": "81bcfdaf",
   "metadata": {},
   "outputs": [
    {
     "data": {
      "text/plain": [
       "(49157, (49157,))"
      ]
     },
     "execution_count": 200,
     "metadata": {},
     "output_type": "execute_result"
    }
   ],
   "source": [
    "len(x_test), y_test.shape"
   ]
  },
  {
   "cell_type": "code",
   "execution_count": 197,
   "id": "e48bb070",
   "metadata": {},
   "outputs": [],
   "source": [
    "x_test = tf.keras.preprocessing.sequence.pad_sequences(\n",
    "    x_test, value=word_to_index[\"<PAD>\"], padding='pre', maxlen=maxlen\n",
    ")"
   ]
  },
  {
   "cell_type": "code",
   "execution_count": 199,
   "id": "bc4872c5",
   "metadata": {},
   "outputs": [
    {
     "data": {
      "text/plain": [
       "(49157, 41)"
      ]
     },
     "execution_count": 199,
     "metadata": {},
     "output_type": "execute_result"
    }
   ],
   "source": [
    "x_test.shape"
   ]
  },
  {
   "cell_type": "markdown",
   "id": "efb1605e",
   "metadata": {},
   "source": [
    "## Model 학습"
   ]
  },
  {
   "cell_type": "code",
   "execution_count": 221,
   "id": "c57550a9",
   "metadata": {},
   "outputs": [],
   "source": [
    "from sklearn.model_selection import train_test_split\n",
    "\n",
    "train_x, val_x, train_y, val_y = train_test_split(\n",
    "    x_train, y_train, test_size=0.2, random_state=2000\n",
    ")"
   ]
  },
  {
   "cell_type": "code",
   "execution_count": 241,
   "id": "8fd2762d",
   "metadata": {},
   "outputs": [
    {
     "data": {
      "text/plain": [
       "(41, 10000, 16)"
      ]
     },
     "execution_count": 241,
     "metadata": {},
     "output_type": "execute_result"
    }
   ],
   "source": [
    "input_shape = x_train.shape[-1]\n",
    "voca_size = len(word_to_index) # input_dim\n",
    "word_vector_dim = 16 # 워드 벡터 차원 수 (output_dim)\n",
    "\n",
    "input_shape, voca_size, word_vector_dim"
   ]
  },
  {
   "cell_type": "markdown",
   "id": "91c04288",
   "metadata": {},
   "source": [
    "### 기본 Dense"
   ]
  },
  {
   "cell_type": "code",
   "execution_count": 242,
   "id": "f476f69c",
   "metadata": {},
   "outputs": [],
   "source": [
    "def get_dense_model(input_shape, voca_size, word_vector_dim):\n",
    "    inputs = keras.Input(shape=input_shape)\n",
    "    x = keras.layers.Embedding(voca_size, word_vector_dim, input_shape=(None, ))(inputs)\n",
    "    x = keras.layers.Dense(8, activation='relu')(x)\n",
    "    x = keras.layers.Dense(16, activation='relu')(x)\n",
    "    outputs = keras.layers.Dense(1, activation='sigmoid')(x)\n",
    "    \n",
    "    return keras.Model(inputs,outputs)"
   ]
  },
  {
   "cell_type": "code",
   "execution_count": 243,
   "id": "b19dea2e",
   "metadata": {},
   "outputs": [
    {
     "name": "stdout",
     "output_type": "stream",
     "text": [
      "Model: \"model_6\"\n",
      "_________________________________________________________________\n",
      "Layer (type)                 Output Shape              Param #   \n",
      "=================================================================\n",
      "input_9 (InputLayer)         [(None, 41)]              0         \n",
      "_________________________________________________________________\n",
      "embedding_6 (Embedding)      (None, 41, 16)            160000    \n",
      "_________________________________________________________________\n",
      "dense_12 (Dense)             (None, 41, 8)             136       \n",
      "_________________________________________________________________\n",
      "dense_13 (Dense)             (None, 41, 16)            144       \n",
      "_________________________________________________________________\n",
      "dense_14 (Dense)             (None, 41, 1)             17        \n",
      "=================================================================\n",
      "Total params: 160,297\n",
      "Trainable params: 160,297\n",
      "Non-trainable params: 0\n",
      "_________________________________________________________________\n"
     ]
    }
   ],
   "source": [
    "dense_model = get_dense_model(input_shape, voca_size, word_vector_dim)\n",
    "dense_model.summary()"
   ]
  },
  {
   "cell_type": "code",
   "execution_count": 244,
   "id": "eb3daacd",
   "metadata": {},
   "outputs": [
    {
     "name": "stdout",
     "output_type": "stream",
     "text": [
      "Epoch 1/20\n",
      "457/457 [==============================] - 3s 5ms/step - loss: 0.6827 - accuracy: 0.5353 - val_loss: 0.6765 - val_accuracy: 0.5419\n",
      "Epoch 2/20\n",
      "457/457 [==============================] - 2s 5ms/step - loss: 0.6739 - accuracy: 0.5424 - val_loss: 0.6748 - val_accuracy: 0.5425\n",
      "Epoch 3/20\n",
      "457/457 [==============================] - 2s 5ms/step - loss: 0.6731 - accuracy: 0.5422 - val_loss: 0.6748 - val_accuracy: 0.5428\n",
      "Epoch 4/20\n",
      "457/457 [==============================] - 2s 5ms/step - loss: 0.6728 - accuracy: 0.5434 - val_loss: 0.6750 - val_accuracy: 0.5374\n",
      "Epoch 5/20\n",
      "457/457 [==============================] - 2s 5ms/step - loss: 0.6727 - accuracy: 0.5438 - val_loss: 0.6750 - val_accuracy: 0.5377\n",
      "Epoch 6/20\n",
      "457/457 [==============================] - 2s 5ms/step - loss: 0.6727 - accuracy: 0.5402 - val_loss: 0.6749 - val_accuracy: 0.5426\n",
      "Epoch 7/20\n",
      "457/457 [==============================] - 2s 5ms/step - loss: 0.6726 - accuracy: 0.5441 - val_loss: 0.6749 - val_accuracy: 0.5431\n",
      "Epoch 8/20\n",
      "457/457 [==============================] - 2s 5ms/step - loss: 0.6725 - accuracy: 0.5452 - val_loss: 0.6750 - val_accuracy: 0.5378\n",
      "Epoch 9/20\n",
      "457/457 [==============================] - 2s 5ms/step - loss: 0.6725 - accuracy: 0.5416 - val_loss: 0.6749 - val_accuracy: 0.5427\n",
      "Epoch 10/20\n",
      "457/457 [==============================] - 2s 5ms/step - loss: 0.6725 - accuracy: 0.5440 - val_loss: 0.6752 - val_accuracy: 0.5374\n",
      "Epoch 11/20\n",
      "457/457 [==============================] - 2s 5ms/step - loss: 0.6725 - accuracy: 0.5423 - val_loss: 0.6749 - val_accuracy: 0.5429\n",
      "Epoch 12/20\n",
      "457/457 [==============================] - 2s 5ms/step - loss: 0.6725 - accuracy: 0.5422 - val_loss: 0.6749 - val_accuracy: 0.5430\n",
      "Epoch 13/20\n",
      "457/457 [==============================] - 2s 5ms/step - loss: 0.6725 - accuracy: 0.5430 - val_loss: 0.6750 - val_accuracy: 0.5429\n",
      "Epoch 14/20\n",
      "457/457 [==============================] - 2s 5ms/step - loss: 0.6724 - accuracy: 0.5435 - val_loss: 0.6750 - val_accuracy: 0.5425\n",
      "Epoch 15/20\n",
      "457/457 [==============================] - 2s 5ms/step - loss: 0.6724 - accuracy: 0.5431 - val_loss: 0.6750 - val_accuracy: 0.5429\n",
      "Epoch 16/20\n",
      "457/457 [==============================] - 2s 5ms/step - loss: 0.6724 - accuracy: 0.5425 - val_loss: 0.6752 - val_accuracy: 0.5424\n",
      "Epoch 17/20\n",
      "457/457 [==============================] - 2s 5ms/step - loss: 0.6724 - accuracy: 0.5436 - val_loss: 0.6753 - val_accuracy: 0.5379\n",
      "Epoch 18/20\n",
      "457/457 [==============================] - 2s 5ms/step - loss: 0.6723 - accuracy: 0.5429 - val_loss: 0.6752 - val_accuracy: 0.5427\n",
      "Epoch 19/20\n",
      "457/457 [==============================] - 2s 5ms/step - loss: 0.6723 - accuracy: 0.5451 - val_loss: 0.6752 - val_accuracy: 0.5377\n",
      "Epoch 20/20\n",
      "457/457 [==============================] - 2s 5ms/step - loss: 0.6724 - accuracy: 0.5421 - val_loss: 0.6752 - val_accuracy: 0.5378\n"
     ]
    }
   ],
   "source": [
    "dense_model.compile(\n",
    "    optimizer = 'adam',\n",
    "    loss='binary_crossentropy',\n",
    "    metrics=['accuracy']\n",
    ")\n",
    "\n",
    "history_dense = dense_model.fit(\n",
    "    train_x, train_y,\n",
    "    validation_data=(val_x, val_y),\n",
    "    epochs = 20,\n",
    "    batch_size=256\n",
    ")"
   ]
  },
  {
   "cell_type": "code",
   "execution_count": 245,
   "id": "b5e9c78b",
   "metadata": {},
   "outputs": [
    {
     "name": "stdout",
     "output_type": "stream",
     "text": [
      "1537/1537 - 3s - loss: 0.6751 - accuracy: 0.5349\n",
      "[0.6751322746276855, 0.5349483489990234]\n"
     ]
    }
   ],
   "source": [
    "results = dense_model.evaluate(x_test,  y_test, verbose=2)\n",
    "\n",
    "print(results)"
   ]
  },
  {
   "cell_type": "code",
   "execution_count": 246,
   "id": "cf56bfb6",
   "metadata": {},
   "outputs": [
    {
     "data": {
      "image/png": "[encoded data removed]",
      "text/plain": [
       "<Figure size 432x288 with 1 Axes>"
      ]
     },
     "metadata": {
      "needs_background": "light"
     },
     "output_type": "display_data"
    },
    {
     "data": {
      "image/png": "[encoded data removed]",
      "text/plain": [
       "<Figure size 432x288 with 1 Axes>"
      ]
     },
     "metadata": {
      "needs_background": "light"
     },
     "output_type": "display_data"
    }
   ],
   "source": [
    "import matplotlib.pyplot as plt\n",
    "\n",
    "plt.plot(range(1,21), history_dense.history['loss'], 'r', label='loss')\n",
    "plt.plot(range(1,21), history_dense.history['val_loss'], 'b', label='val_loss')\n",
    "plt.legend()\n",
    "plt.show()\n",
    "\n",
    "plt.plot(range(1,21), history_dense.history['accuracy'], 'r', label='train')\n",
    "plt.plot(range(1,21), history_dense.history['val_accuracy'], 'b', label='val')\n",
    "plt.legend()\n",
    "plt.show()"
   ]
  },
  {
   "cell_type": "markdown",
   "id": "f94dd9ad",
   "metadata": {},
   "source": [
    "### Conv1d Net"
   ]
  },
  {
   "cell_type": "code",
   "execution_count": 222,
   "id": "78b3629d",
   "metadata": {},
   "outputs": [],
   "source": [
    "def get_conv_model(input_shape, voca_size, word_vector_dim):\n",
    "    inputs = keras.Input(shape=input_shape)\n",
    "    x = keras.layers.Embedding(voca_size, word_vector_dim, input_shape=(None, ))(inputs)\n",
    "    x = keras.layers.Conv1D(16,5,activation='relu')(x)\n",
    "    x = keras.layers.MaxPooling1D(3)(x)\n",
    "    x = keras.layers.Conv1D(16, 5, activation='relu')(x)\n",
    "    x = keras.layers.GlobalMaxPooling1D()(x)\n",
    "    x =keras.layers.Dense(8, activation='relu')(x)\n",
    "    outputs = keras.layers.Dense(1, activation='sigmoid')(x)\n",
    "    \n",
    "    return keras.Model(inputs,outputs)"
   ]
  },
  {
   "cell_type": "code",
   "execution_count": 228,
   "id": "ea2c420f",
   "metadata": {},
   "outputs": [
    {
     "name": "stdout",
     "output_type": "stream",
     "text": [
      "Model: \"model_4\"\n",
      "_________________________________________________________________\n",
      "Layer (type)                 Output Shape              Param #   \n",
      "=================================================================\n",
      "input_7 (InputLayer)         [(None, 41)]              0         \n",
      "_________________________________________________________________\n",
      "embedding_4 (Embedding)      (None, 41, 16)            160000    \n",
      "_________________________________________________________________\n",
      "conv1d_8 (Conv1D)            (None, 37, 16)            1296      \n",
      "_________________________________________________________________\n",
      "max_pooling1d_4 (MaxPooling1 (None, 12, 16)            0         \n",
      "_________________________________________________________________\n",
      "conv1d_9 (Conv1D)            (None, 8, 16)             1296      \n",
      "_________________________________________________________________\n",
      "global_max_pooling1d_4 (Glob (None, 16)                0         \n",
      "_________________________________________________________________\n",
      "dense_8 (Dense)              (None, 8)                 136       \n",
      "_________________________________________________________________\n",
      "dense_9 (Dense)              (None, 1)                 9         \n",
      "=================================================================\n",
      "Total params: 162,737\n",
      "Trainable params: 162,737\n",
      "Non-trainable params: 0\n",
      "_________________________________________________________________\n"
     ]
    }
   ],
   "source": [
    "conv_model = get_conv_model(input_shape, voca_size, word_vector_dim)\n",
    "conv_model.summary()"
   ]
  },
  {
   "cell_type": "code",
   "execution_count": 229,
   "id": "d429da14",
   "metadata": {},
   "outputs": [],
   "source": [
    "conv_model.compile(\n",
    "    optimizer = 'adam',\n",
    "    loss='binary_crossentropy',\n",
    "    metrics=['accuracy']\n",
    ")"
   ]
  },
  {
   "cell_type": "code",
   "execution_count": 230,
   "id": "fec78cc0",
   "metadata": {
    "scrolled": true
   },
   "outputs": [
    {
     "name": "stdout",
     "output_type": "stream",
     "text": [
      "Epoch 1/20\n",
      "457/457 [==============================] - 3s 5ms/step - loss: 0.4573 - accuracy: 0.7784 - val_loss: 0.3730 - val_accuracy: 0.8330\n",
      "Epoch 2/20\n",
      "457/457 [==============================] - 2s 5ms/step - loss: 0.3296 - accuracy: 0.8567 - val_loss: 0.3574 - val_accuracy: 0.8413\n",
      "Epoch 3/20\n",
      "457/457 [==============================] - 2s 5ms/step - loss: 0.2915 - accuracy: 0.8759 - val_loss: 0.3622 - val_accuracy: 0.8411\n",
      "Epoch 4/20\n",
      "457/457 [==============================] - 2s 5ms/step - loss: 0.2570 - accuracy: 0.8942 - val_loss: 0.3696 - val_accuracy: 0.8415\n",
      "Epoch 5/20\n",
      "457/457 [==============================] - 2s 5ms/step - loss: 0.2215 - accuracy: 0.9125 - val_loss: 0.3957 - val_accuracy: 0.8403\n",
      "Epoch 6/20\n",
      "457/457 [==============================] - 2s 5ms/step - loss: 0.1865 - accuracy: 0.9290 - val_loss: 0.4357 - val_accuracy: 0.8314\n",
      "Epoch 7/20\n",
      "457/457 [==============================] - 2s 5ms/step - loss: 0.1553 - accuracy: 0.9428 - val_loss: 0.4895 - val_accuracy: 0.8306\n",
      "Epoch 8/20\n",
      "457/457 [==============================] - 2s 5ms/step - loss: 0.1289 - accuracy: 0.9550 - val_loss: 0.5306 - val_accuracy: 0.8259\n",
      "Epoch 9/20\n",
      "457/457 [==============================] - 2s 5ms/step - loss: 0.1088 - accuracy: 0.9620 - val_loss: 0.6065 - val_accuracy: 0.8206\n",
      "Epoch 10/20\n",
      "457/457 [==============================] - 2s 5ms/step - loss: 0.0930 - accuracy: 0.9683 - val_loss: 0.6592 - val_accuracy: 0.8150\n",
      "Epoch 11/20\n",
      "457/457 [==============================] - 2s 5ms/step - loss: 0.0816 - accuracy: 0.9725 - val_loss: 0.7401 - val_accuracy: 0.8164\n",
      "Epoch 12/20\n",
      "457/457 [==============================] - 2s 5ms/step - loss: 0.0732 - accuracy: 0.9750 - val_loss: 0.7793 - val_accuracy: 0.8154\n",
      "Epoch 13/20\n",
      "457/457 [==============================] - 2s 5ms/step - loss: 0.0669 - accuracy: 0.9773 - val_loss: 0.8778 - val_accuracy: 0.8109\n",
      "Epoch 14/20\n",
      "457/457 [==============================] - 2s 5ms/step - loss: 0.0603 - accuracy: 0.9796 - val_loss: 0.8958 - val_accuracy: 0.8107\n",
      "Epoch 15/20\n",
      "457/457 [==============================] - 2s 5ms/step - loss: 0.0557 - accuracy: 0.9811 - val_loss: 0.9548 - val_accuracy: 0.8087\n",
      "Epoch 16/20\n",
      "457/457 [==============================] - 2s 5ms/step - loss: 0.0521 - accuracy: 0.9826 - val_loss: 1.0440 - val_accuracy: 0.8055\n",
      "Epoch 17/20\n",
      "457/457 [==============================] - 2s 5ms/step - loss: 0.0488 - accuracy: 0.9834 - val_loss: 1.1198 - val_accuracy: 0.8052\n",
      "Epoch 18/20\n",
      "457/457 [==============================] - 2s 4ms/step - loss: 0.0484 - accuracy: 0.9830 - val_loss: 1.1398 - val_accuracy: 0.8029\n",
      "Epoch 19/20\n",
      "457/457 [==============================] - 2s 5ms/step - loss: 0.0472 - accuracy: 0.9833 - val_loss: 1.2009 - val_accuracy: 0.8008\n",
      "Epoch 20/20\n",
      "457/457 [==============================] - 2s 5ms/step - loss: 0.0438 - accuracy: 0.9843 - val_loss: 1.2524 - val_accuracy: 0.8059\n"
     ]
    }
   ],
   "source": [
    "history = conv_model.fit(\n",
    "    train_x, train_y,\n",
    "    validation_data=(val_x, val_y),\n",
    "    epochs = 20,\n",
    "    batch_size=256\n",
    ")"
   ]
  },
  {
   "cell_type": "code",
   "execution_count": 238,
   "id": "e3e17b12",
   "metadata": {},
   "outputs": [
    {
     "name": "stdout",
     "output_type": "stream",
     "text": [
      "1537/1537 - 2s - loss: 1.2357 - accuracy: 0.8082\n",
      "[1.2356936931610107, 0.8081859946250916]\n"
     ]
    }
   ],
   "source": [
    "results = conv_model.evaluate(x_test,  y_test, verbose=2)\n",
    "\n",
    "print(results)"
   ]
  },
  {
   "cell_type": "code",
   "execution_count": 232,
   "id": "f04c5dcc",
   "metadata": {},
   "outputs": [
    {
     "data": {
      "image/png": "[encoded data removed]",
      "text/plain": [
       "<Figure size 432x288 with 1 Axes>"
      ]
     },
     "metadata": {
      "needs_background": "light"
     },
     "output_type": "display_data"
    }
   ],
   "source": [
    "plt.plot(range(1,21), history.history['loss'], 'r', label='loss')\n",
    "plt.plot(range(1,21), history.history['val_loss'], 'b', label='val_loss')\n",
    "plt.legend()\n",
    "plt.show()"
   ]
  },
  {
   "cell_type": "code",
   "execution_count": 233,
   "id": "5f6f36c5",
   "metadata": {},
   "outputs": [
    {
     "data": {
      "image/png": "[encoded data removed]",
      "text/plain": [
       "<Figure size 432x288 with 1 Axes>"
      ]
     },
     "metadata": {
      "needs_background": "light"
     },
     "output_type": "display_data"
    }
   ],
   "source": [
    "plt.plot(range(1,21), history.history['accuracy'], 'r', label='train')\n",
    "plt.plot(range(1,21), history.history['val_accuracy'], 'b', label='val')\n",
    "plt.legend()\n",
    "plt.show()"
   ]
  },
  {
   "cell_type": "markdown",
   "id": "d2f46de2",
   "metadata": {},
   "source": [
    "### lstm"
   ]
  },
  {
   "cell_type": "code",
   "execution_count": 234,
   "id": "e054fa22",
   "metadata": {},
   "outputs": [],
   "source": [
    "def get_lstm_model(input_shape, voca_size, word_vector_dim):\n",
    "    inputs = keras.Input(shape=input_shape)\n",
    "    x = keras.layers.Embedding(voca_size, word_vector_dim, input_shape=(None, ))(inputs)\n",
    "    x = keras.layers.LSTM(8)(x)\n",
    "    x =keras.layers.Dense(8, activation='relu')(x)\n",
    "    outputs = keras.layers.Dense(1, activation='sigmoid')(x)\n",
    "    \n",
    "    return keras.Model(inputs,outputs)"
   ]
  },
  {
   "cell_type": "code",
   "execution_count": 235,
   "id": "1126c6a8",
   "metadata": {},
   "outputs": [
    {
     "name": "stdout",
     "output_type": "stream",
     "text": [
      "Model: \"model_5\"\n",
      "_________________________________________________________________\n",
      "Layer (type)                 Output Shape              Param #   \n",
      "=================================================================\n",
      "input_8 (InputLayer)         [(None, 41)]              0         \n",
      "_________________________________________________________________\n",
      "embedding_5 (Embedding)      (None, 41, 16)            160000    \n",
      "_________________________________________________________________\n",
      "lstm (LSTM)                  (None, 8)                 800       \n",
      "_________________________________________________________________\n",
      "dense_10 (Dense)             (None, 8)                 72        \n",
      "_________________________________________________________________\n",
      "dense_11 (Dense)             (None, 1)                 9         \n",
      "=================================================================\n",
      "Total params: 160,881\n",
      "Trainable params: 160,881\n",
      "Non-trainable params: 0\n",
      "_________________________________________________________________\n"
     ]
    }
   ],
   "source": [
    "lstm_model = get_lstm_model(input_shape, voca_size, word_vector_dim)\n",
    "lstm_model.summary()"
   ]
  },
  {
   "cell_type": "code",
   "execution_count": 236,
   "id": "c35bebd1",
   "metadata": {},
   "outputs": [
    {
     "name": "stdout",
     "output_type": "stream",
     "text": [
      "Epoch 1/20\n",
      "457/457 [==============================] - 10s 7ms/step - loss: 0.4434 - accuracy: 0.7979 - val_loss: 0.3657 - val_accuracy: 0.8399\n",
      "Epoch 2/20\n",
      "457/457 [==============================] - 2s 5ms/step - loss: 0.3324 - accuracy: 0.8593 - val_loss: 0.3545 - val_accuracy: 0.8463\n",
      "Epoch 3/20\n",
      "457/457 [==============================] - 2s 5ms/step - loss: 0.3092 - accuracy: 0.8702 - val_loss: 0.3523 - val_accuracy: 0.8469\n",
      "Epoch 4/20\n",
      "457/457 [==============================] - 2s 5ms/step - loss: 0.2908 - accuracy: 0.8782 - val_loss: 0.3509 - val_accuracy: 0.8488\n",
      "Epoch 5/20\n",
      "457/457 [==============================] - 2s 5ms/step - loss: 0.2724 - accuracy: 0.8867 - val_loss: 0.3630 - val_accuracy: 0.8473\n",
      "Epoch 6/20\n",
      "457/457 [==============================] - 2s 5ms/step - loss: 0.2551 - accuracy: 0.8939 - val_loss: 0.3653 - val_accuracy: 0.8473\n",
      "Epoch 7/20\n",
      "457/457 [==============================] - 2s 5ms/step - loss: 0.2386 - accuracy: 0.9014 - val_loss: 0.3750 - val_accuracy: 0.8473\n",
      "Epoch 8/20\n",
      "457/457 [==============================] - 2s 5ms/step - loss: 0.2241 - accuracy: 0.9083 - val_loss: 0.3924 - val_accuracy: 0.8460\n",
      "Epoch 9/20\n",
      "457/457 [==============================] - 3s 6ms/step - loss: 0.2107 - accuracy: 0.9143 - val_loss: 0.4090 - val_accuracy: 0.8442\n",
      "Epoch 10/20\n",
      "457/457 [==============================] - 2s 5ms/step - loss: 0.1996 - accuracy: 0.9192 - val_loss: 0.4300 - val_accuracy: 0.8430\n",
      "Epoch 11/20\n",
      "457/457 [==============================] - 2s 5ms/step - loss: 0.1886 - accuracy: 0.9249 - val_loss: 0.4646 - val_accuracy: 0.8413\n",
      "Epoch 12/20\n",
      "457/457 [==============================] - 2s 5ms/step - loss: 0.1790 - accuracy: 0.9294 - val_loss: 0.4532 - val_accuracy: 0.8379\n",
      "Epoch 13/20\n",
      "457/457 [==============================] - 2s 5ms/step - loss: 0.1718 - accuracy: 0.9319 - val_loss: 0.4924 - val_accuracy: 0.8390\n",
      "Epoch 14/20\n",
      "457/457 [==============================] - 3s 5ms/step - loss: 0.1635 - accuracy: 0.9365 - val_loss: 0.4921 - val_accuracy: 0.8362\n",
      "Epoch 15/20\n",
      "457/457 [==============================] - 2s 5ms/step - loss: 0.1558 - accuracy: 0.9403 - val_loss: 0.5377 - val_accuracy: 0.8339\n",
      "Epoch 16/20\n",
      "457/457 [==============================] - 2s 5ms/step - loss: 0.1508 - accuracy: 0.9415 - val_loss: 0.5494 - val_accuracy: 0.8347\n",
      "Epoch 17/20\n",
      "457/457 [==============================] - 2s 5ms/step - loss: 0.1451 - accuracy: 0.9445 - val_loss: 0.5555 - val_accuracy: 0.8325\n",
      "Epoch 18/20\n",
      "457/457 [==============================] - 2s 5ms/step - loss: 0.1381 - accuracy: 0.9478 - val_loss: 0.5771 - val_accuracy: 0.8321\n",
      "Epoch 19/20\n",
      "457/457 [==============================] - 2s 5ms/step - loss: 0.1334 - accuracy: 0.9499 - val_loss: 0.5865 - val_accuracy: 0.8299\n",
      "Epoch 20/20\n",
      "457/457 [==============================] - 2s 5ms/step - loss: 0.1289 - accuracy: 0.9514 - val_loss: 0.6185 - val_accuracy: 0.8291\n"
     ]
    }
   ],
   "source": [
    "lstm_model.compile(\n",
    "    optimizer = 'adam',\n",
    "    loss='binary_crossentropy',\n",
    "    metrics=['accuracy']\n",
    ")\n",
    "\n",
    "history_lstm = lstm_model.fit(\n",
    "    train_x, train_y,\n",
    "    validation_data=(val_x, val_y),\n",
    "    epochs = 20,\n",
    "    batch_size=256\n",
    ")"
   ]
  },
  {
   "cell_type": "code",
   "execution_count": 240,
   "id": "62a1b9cd",
   "metadata": {},
   "outputs": [
    {
     "name": "stdout",
     "output_type": "stream",
     "text": [
      "1537/1537 - 3s - loss: 0.6014 - accuracy: 0.8316\n",
      "[0.6013917922973633, 0.8316007852554321]\n"
     ]
    }
   ],
   "source": [
    "results = lstm_model.evaluate(x_test,  y_test, verbose=2)\n",
    "\n",
    "print(results)"
   ]
  },
  {
   "cell_type": "code",
   "execution_count": 237,
   "id": "506a4d7d",
   "metadata": {},
   "outputs": [
    {
     "data": {
      "image/png": "[encoded data removed]",
      "text/plain": [
       "<Figure size 432x288 with 1 Axes>"
      ]
     },
     "metadata": {
      "needs_background": "light"
     },
     "output_type": "display_data"
    },
    {
     "data": {
      "image/png": "[encoded data removed]",
      "text/plain": [
       "<Figure size 432x288 with 1 Axes>"
      ]
     },
     "metadata": {
      "needs_background": "light"
     },
     "output_type": "display_data"
    }
   ],
   "source": [
    "plt.plot(range(1,21), history_lstm.history['loss'], 'r', label='loss')\n",
    "plt.plot(range(1,21), history_lstm.history['val_loss'], 'b', label='val_loss')\n",
    "plt.legend()\n",
    "plt.show()\n",
    "\n",
    "plt.plot(range(1,21), history_lstm.history['accuracy'], 'r', label='train')\n",
    "plt.plot(range(1,21), history_lstm.history['val_accuracy'], 'b', label='val')\n",
    "plt.legend()\n",
    "plt.show()"
   ]
  }
 ],
 "metadata": {
  "kernelspec": {
   "display_name": "Python 3 (ipykernel)",
   "language": "python",
   "name": "python3"
  },
  "language_info": {
   "codemirror_mode": {
    "name": "ipython",
    "version": 3
   },
   "file_extension": ".py",
   "mimetype": "text/x-python",
   "name": "python",
   "nbconvert_exporter": "python",
   "pygments_lexer": "ipython3",
   "version": "3.9.7"
  }
 },
 "nbformat": 4,
 "nbformat_minor": 5
}
