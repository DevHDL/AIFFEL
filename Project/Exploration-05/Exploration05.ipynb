{
 "cells": [
  {
   "cell_type": "code",
   "execution_count": 1,
   "id": "3a3d69ea",
   "metadata": {},
   "outputs": [],
   "source": [
    "import pandas as pd\n",
    "import konlpy\n",
    "import gensim"
   ]
  },
  {
   "cell_type": "markdown",
   "id": "5f645f8b",
   "metadata": {},
   "source": [
    "## 데이터 불러오기\n",
    "- Train, Test 데이터"
   ]
  },
  {
   "cell_type": "code",
   "execution_count": 2,
   "id": "19bf39ce",
   "metadata": {},
   "outputs": [],
   "source": [
    "train_data = pd.read_table('~/aiffel/sentiment_classification/data/ratings_train.txt')\n",
    "test_data = pd.read_table('~/aiffel/sentiment_classification/data/ratings_test.txt')"
   ]
  },
  {
   "cell_type": "code",
   "execution_count": 3,
   "id": "0d987042",
   "metadata": {
    "scrolled": false
   },
   "outputs": [
    {
     "data": {
      "text/html": [
       "<div>\n",
       "<style scoped>\n",
       "    .dataframe tbody tr th:only-of-type {\n",
       "        vertical-align: middle;\n",
       "    }\n",
       "\n",
       "    .dataframe tbody tr th {\n",
       "        vertical-align: top;\n",
       "    }\n",
       "\n",
       "    .dataframe thead th {\n",
       "        text-align: right;\n",
       "    }\n",
       "</style>\n",
       "<table border=\"1\" class=\"dataframe\">\n",
       "  <thead>\n",
       "    <tr style=\"text-align: right;\">\n",
       "      <th></th>\n",
       "      <th>id</th>\n",
       "      <th>document</th>\n",
       "      <th>label</th>\n",
       "    </tr>\n",
       "  </thead>\n",
       "  <tbody>\n",
       "    <tr>\n",
       "      <th>0</th>\n",
       "      <td>9976970</td>\n",
       "      <td>아 더빙.. 진짜 짜증나네요 목소리</td>\n",
       "      <td>0</td>\n",
       "    </tr>\n",
       "    <tr>\n",
       "      <th>1</th>\n",
       "      <td>3819312</td>\n",
       "      <td>흠...포스터보고 초딩영화줄....오버연기조차 가볍지 않구나</td>\n",
       "      <td>1</td>\n",
       "    </tr>\n",
       "    <tr>\n",
       "      <th>2</th>\n",
       "      <td>10265843</td>\n",
       "      <td>너무재밓었다그래서보는것을추천한다</td>\n",
       "      <td>0</td>\n",
       "    </tr>\n",
       "    <tr>\n",
       "      <th>3</th>\n",
       "      <td>9045019</td>\n",
       "      <td>교도소 이야기구먼 ..솔직히 재미는 없다..평점 조정</td>\n",
       "      <td>0</td>\n",
       "    </tr>\n",
       "    <tr>\n",
       "      <th>4</th>\n",
       "      <td>6483659</td>\n",
       "      <td>사이몬페그의 익살스런 연기가 돋보였던 영화!스파이더맨에서 늙어보이기만 했던 커스틴 ...</td>\n",
       "      <td>1</td>\n",
       "    </tr>\n",
       "  </tbody>\n",
       "</table>\n",
       "</div>"
      ],
      "text/plain": [
       "         id                                           document  label\n",
       "0   9976970                                아 더빙.. 진짜 짜증나네요 목소리      0\n",
       "1   3819312                  흠...포스터보고 초딩영화줄....오버연기조차 가볍지 않구나      1\n",
       "2  10265843                                  너무재밓었다그래서보는것을추천한다      0\n",
       "3   9045019                      교도소 이야기구먼 ..솔직히 재미는 없다..평점 조정      0\n",
       "4   6483659  사이몬페그의 익살스런 연기가 돋보였던 영화!스파이더맨에서 늙어보이기만 했던 커스틴 ...      1"
      ]
     },
     "execution_count": 3,
     "metadata": {},
     "output_type": "execute_result"
    }
   ],
   "source": [
    "train_data.head()"
   ]
  },
  {
   "cell_type": "code",
   "execution_count": 4,
   "id": "c71d41f6",
   "metadata": {},
   "outputs": [
    {
     "data": {
      "text/plain": [
       "((150000, 3), (50000, 3))"
      ]
     },
     "execution_count": 4,
     "metadata": {},
     "output_type": "execute_result"
    }
   ],
   "source": [
    "train_data.shape, test_data.shape"
   ]
  },
  {
   "cell_type": "markdown",
   "id": "bd30cb98",
   "metadata": {},
   "source": [
    "## Train 데이터 분석"
   ]
  },
  {
   "cell_type": "code",
   "execution_count": 5,
   "id": "efdbad54",
   "metadata": {},
   "outputs": [
    {
     "name": "stdout",
     "output_type": "stream",
     "text": [
      "<class 'pandas.core.frame.DataFrame'>\n",
      "RangeIndex: 150000 entries, 0 to 149999\n",
      "Data columns (total 3 columns):\n",
      " #   Column    Non-Null Count   Dtype \n",
      "---  ------    --------------   ----- \n",
      " 0   id        150000 non-null  int64 \n",
      " 1   document  149995 non-null  object\n",
      " 2   label     150000 non-null  int64 \n",
      "dtypes: int64(2), object(1)\n",
      "memory usage: 3.4+ MB\n"
     ]
    }
   ],
   "source": [
    "train_data.info()"
   ]
  },
  {
   "cell_type": "markdown",
   "id": "8bffea19",
   "metadata": {},
   "source": [
    "#### info 메소드로 확인 결과\n",
    "- 총 150000 데이터 중 document는 149995로 확인\n",
    "- 결측치가 있는지 확인"
   ]
  },
  {
   "cell_type": "code",
   "execution_count": 6,
   "id": "104889c8",
   "metadata": {
    "scrolled": true
   },
   "outputs": [
    {
     "data": {
      "text/html": [
       "<div>\n",
       "<style scoped>\n",
       "    .dataframe tbody tr th:only-of-type {\n",
       "        vertical-align: middle;\n",
       "    }\n",
       "\n",
       "    .dataframe tbody tr th {\n",
       "        vertical-align: top;\n",
       "    }\n",
       "\n",
       "    .dataframe thead th {\n",
       "        text-align: right;\n",
       "    }\n",
       "</style>\n",
       "<table border=\"1\" class=\"dataframe\">\n",
       "  <thead>\n",
       "    <tr style=\"text-align: right;\">\n",
       "      <th></th>\n",
       "      <th>id</th>\n",
       "      <th>document</th>\n",
       "      <th>label</th>\n",
       "    </tr>\n",
       "  </thead>\n",
       "  <tbody>\n",
       "    <tr>\n",
       "      <th>25857</th>\n",
       "      <td>2172111</td>\n",
       "      <td>NaN</td>\n",
       "      <td>1</td>\n",
       "    </tr>\n",
       "    <tr>\n",
       "      <th>55737</th>\n",
       "      <td>6369843</td>\n",
       "      <td>NaN</td>\n",
       "      <td>1</td>\n",
       "    </tr>\n",
       "    <tr>\n",
       "      <th>110014</th>\n",
       "      <td>1034280</td>\n",
       "      <td>NaN</td>\n",
       "      <td>0</td>\n",
       "    </tr>\n",
       "    <tr>\n",
       "      <th>126782</th>\n",
       "      <td>5942978</td>\n",
       "      <td>NaN</td>\n",
       "      <td>0</td>\n",
       "    </tr>\n",
       "    <tr>\n",
       "      <th>140721</th>\n",
       "      <td>1034283</td>\n",
       "      <td>NaN</td>\n",
       "      <td>0</td>\n",
       "    </tr>\n",
       "  </tbody>\n",
       "</table>\n",
       "</div>"
      ],
      "text/plain": [
       "             id document  label\n",
       "25857   2172111      NaN      1\n",
       "55737   6369843      NaN      1\n",
       "110014  1034280      NaN      0\n",
       "126782  5942978      NaN      0\n",
       "140721  1034283      NaN      0"
      ]
     },
     "execution_count": 6,
     "metadata": {},
     "output_type": "execute_result"
    }
   ],
   "source": [
    "# train데이터 중 document에 결측치가 있는지 확인\n",
    "train_data[train_data['document'].isnull()]"
   ]
  },
  {
   "cell_type": "code",
   "execution_count": 7,
   "id": "e9da9054",
   "metadata": {
    "scrolled": true
   },
   "outputs": [
    {
     "data": {
      "text/plain": [
       "(Empty DataFrame\n",
       " Columns: [id, document, label]\n",
       " Index: [],\n",
       " Empty DataFrame\n",
       " Columns: [id, document, label]\n",
       " Index: [],\n",
       "              id document  label\n",
       " 25857   2172111      NaN      1\n",
       " 55737   6369843      NaN      1\n",
       " 110014  1034280      NaN      0\n",
       " 126782  5942978      NaN      0\n",
       " 140721  1034283      NaN      0)"
      ]
     },
     "execution_count": 7,
     "metadata": {},
     "output_type": "execute_result"
    }
   ],
   "source": [
    "# 각각 확인해보기\n",
    "train_data[train_data['id'].isnull()], train_data[train_data['label'].isnull()], train_data[train_data['document'].isnull()]"
   ]
  },
  {
   "cell_type": "code",
   "execution_count": 8,
   "id": "a4f10f0d",
   "metadata": {},
   "outputs": [
    {
     "data": {
      "text/html": [
       "<div>\n",
       "<style scoped>\n",
       "    .dataframe tbody tr th:only-of-type {\n",
       "        vertical-align: middle;\n",
       "    }\n",
       "\n",
       "    .dataframe tbody tr th {\n",
       "        vertical-align: top;\n",
       "    }\n",
       "\n",
       "    .dataframe thead th {\n",
       "        text-align: right;\n",
       "    }\n",
       "</style>\n",
       "<table border=\"1\" class=\"dataframe\">\n",
       "  <thead>\n",
       "    <tr style=\"text-align: right;\">\n",
       "      <th></th>\n",
       "      <th>id</th>\n",
       "      <th>document</th>\n",
       "      <th>label</th>\n",
       "    </tr>\n",
       "  </thead>\n",
       "  <tbody>\n",
       "    <tr>\n",
       "      <th>1058</th>\n",
       "      <td>5890638</td>\n",
       "      <td>4</td>\n",
       "      <td>0</td>\n",
       "    </tr>\n",
       "    <tr>\n",
       "      <th>1097</th>\n",
       "      <td>2062443</td>\n",
       "      <td>쵝오</td>\n",
       "      <td>1</td>\n",
       "    </tr>\n",
       "    <tr>\n",
       "      <th>1248</th>\n",
       "      <td>3502685</td>\n",
       "      <td>최고</td>\n",
       "      <td>1</td>\n",
       "    </tr>\n",
       "    <tr>\n",
       "      <th>1483</th>\n",
       "      <td>775332</td>\n",
       "      <td>최고</td>\n",
       "      <td>1</td>\n",
       "    </tr>\n",
       "    <tr>\n",
       "      <th>1707</th>\n",
       "      <td>8009134</td>\n",
       "      <td>재밌다</td>\n",
       "      <td>1</td>\n",
       "    </tr>\n",
       "    <tr>\n",
       "      <th>...</th>\n",
       "      <td>...</td>\n",
       "      <td>...</td>\n",
       "      <td>...</td>\n",
       "    </tr>\n",
       "    <tr>\n",
       "      <th>149919</th>\n",
       "      <td>6502490</td>\n",
       "      <td>짱</td>\n",
       "      <td>1</td>\n",
       "    </tr>\n",
       "    <tr>\n",
       "      <th>149949</th>\n",
       "      <td>3924716</td>\n",
       "      <td>OO 영화</td>\n",
       "      <td>0</td>\n",
       "    </tr>\n",
       "    <tr>\n",
       "      <th>149960</th>\n",
       "      <td>6368431</td>\n",
       "      <td>지루하다</td>\n",
       "      <td>0</td>\n",
       "    </tr>\n",
       "    <tr>\n",
       "      <th>149966</th>\n",
       "      <td>6735753</td>\n",
       "      <td>1</td>\n",
       "      <td>0</td>\n",
       "    </tr>\n",
       "    <tr>\n",
       "      <th>149987</th>\n",
       "      <td>7669621</td>\n",
       "      <td>재미있어요^^</td>\n",
       "      <td>1</td>\n",
       "    </tr>\n",
       "  </tbody>\n",
       "</table>\n",
       "<p>3817 rows × 3 columns</p>\n",
       "</div>"
      ],
      "text/plain": [
       "             id document  label\n",
       "1058    5890638        4      0\n",
       "1097    2062443       쵝오      1\n",
       "1248    3502685       최고      1\n",
       "1483     775332       최고      1\n",
       "1707    8009134      재밌다      1\n",
       "...         ...      ...    ...\n",
       "149919  6502490        짱      1\n",
       "149949  3924716    OO 영화      0\n",
       "149960  6368431     지루하다      0\n",
       "149966  6735753        1      0\n",
       "149987  7669621  재미있어요^^      1\n",
       "\n",
       "[3817 rows x 3 columns]"
      ]
     },
     "execution_count": 8,
     "metadata": {},
     "output_type": "execute_result"
    }
   ],
   "source": [
    "# 중복 확인 3817개\n",
    "train_data[train_data['document'].duplicated()]"
   ]
  },
  {
   "cell_type": "markdown",
   "id": "9c58461c",
   "metadata": {},
   "source": [
    "## 형태소 사전과 인코더-디코더 만들기\n",
    " \n",
    "> KoNLPy의 형태소 분석 종류 ([🔗](https://datascienceschool.net/03%20machine%20learning/03.01.02%20KoNLPy%20%ED%95%9C%EA%B5%AD%EC%96%B4%20%EC%B2%98%EB%A6%AC%20%ED%8C%A8%ED%82%A4%EC%A7%80.html))\n",
    "> - Hannanum: 한나눔. KAIST Semantic Web Research Center 개발.\n",
    "    - http://semanticweb.kaist.ac.kr/hannanum/\n",
    "> - Kkma: 꼬꼬마. 서울대학교 IDS(Intelligent Data Systems) 연구실 개발.\n",
    "    - http://kkma.snu.ac.kr/\n",
    "> - Komoran: 코모란. Shineware에서 개발.\n",
    "    - https://github.com/shin285/KOMORAN\n",
    "> - Mecab: 메카브. 일본어용 형태소 분석기를 한국어를 사용할 수 있도록 수정.\n",
    "    - https://bitbucket.org/eunjeon/mecab-ko\n",
    "> - Open Korean Text: 오픈 소스 한국어 분석기. 과거 트위터 형태소 분석기.\n",
    "    - https://github.com/open-korean-text/open-korean-text"
   ]
  },
  {
   "cell_type": "markdown",
   "id": "bee94045",
   "metadata": {},
   "source": [
    "#### 형태소 분석 선택 및 중복, 결측치 제거"
   ]
  },
  {
   "cell_type": "code",
   "execution_count": 9,
   "id": "652a63df",
   "metadata": {},
   "outputs": [],
   "source": [
    "from konlpy.tag import Mecab\n",
    "import numpy as np\n",
    "from collections import Counter"
   ]
  },
  {
   "cell_type": "code",
   "execution_count": 10,
   "id": "affecc4e",
   "metadata": {},
   "outputs": [],
   "source": [
    "# mecab 형태소 분석기 사용\n",
    "# 불용어 정의\n",
    "tokenizer = Mecab()\n",
    "stopwords = ['의','가','이','은','들','는','좀','잘','걍','과','도','를','으로','자','에','와','한','하다']"
   ]
  },
  {
   "cell_type": "code",
   "execution_count": 11,
   "id": "b61d5cd0",
   "metadata": {},
   "outputs": [
    {
     "name": "stdout",
     "output_type": "stream",
     "text": [
      "<class 'pandas.core.frame.DataFrame'>\n",
      "Int64Index: 146182 entries, 0 to 149999\n",
      "Data columns (total 3 columns):\n",
      " #   Column    Non-Null Count   Dtype \n",
      "---  ------    --------------   ----- \n",
      " 0   id        146182 non-null  int64 \n",
      " 1   document  146182 non-null  object\n",
      " 2   label     146182 non-null  int64 \n",
      "dtypes: int64(2), object(1)\n",
      "memory usage: 4.5+ MB\n"
     ]
    }
   ],
   "source": [
    "# drop_duplicates : 중복값 제거 (결측치 중복 포함 : 3817)\n",
    "# dropna : 결측치 제거 (중복 제거 후 남은 결측치 : 1)\n",
    "# 15000 - 3817 -1 = 146182\n",
    "train_data_nonNa = train_data.drop_duplicates(subset=['document'])\n",
    "train_data_nonNa = train_data_nonNa.dropna(how = 'any')\n",
    "train_data_nonNa.info()"
   ]
  },
  {
   "cell_type": "markdown",
   "id": "fcf37bb9",
   "metadata": {},
   "source": [
    "#### token화 및 불용어 처리"
   ]
  },
  {
   "cell_type": "code",
   "execution_count": 12,
   "id": "67628258",
   "metadata": {},
   "outputs": [
    {
     "name": "stdout",
     "output_type": "stream",
     "text": [
      "기본 : 아 더빙.. 진짜 짜증나네요 목소리\n",
      "token화 : ['아', '더', '빙', '.', '.', '진짜', '짜증', '나', '네요', '목소리']\n",
      "불용어 처리 : ['아', '더', '빙', '.', '.', '진짜', '짜증', '나', '네요', '목소리']\n"
     ]
    }
   ],
   "source": [
    "# tokenizer 처리 예시\n",
    "def sentence2token(sentence):\n",
    "    token = tokenizer.morphs(sentence)\n",
    "    print('기본 : {}'.format(sentence))\n",
    "    print('token화 : {}'.format(token))\n",
    "    return token\n",
    "\n",
    "# train에서 문장 하나 가져오기\n",
    "sentence_num = 0\n",
    "# token 생성\n",
    "temp = sentence2token(sentence=train_data_nonNa.loc[sentence_num,\"document\"])\n",
    "# 불용어 처리\n",
    "temp = [word for word in temp if not word in stopwords]\n",
    "print(f'불용어 처리 : {temp}')"
   ]
  },
  {
   "cell_type": "code",
   "execution_count": 13,
   "id": "0eaedf57",
   "metadata": {},
   "outputs": [],
   "source": [
    "# train에 있는 모든 문장을 토큰화 및 불용어 제거 후 토큰 리스트 생성\n",
    "X_train = []\n",
    "for sentence in train_data_nonNa['document']:\n",
    "    temp_X = tokenizer.morphs(sentence) # 토큰화\n",
    "    temp_X = [word for word in temp_X if not word in stopwords] # 불용어 제거\n",
    "    X_train.append(temp_X)"
   ]
  },
  {
   "cell_type": "code",
   "execution_count": 14,
   "id": "d5caacdc",
   "metadata": {
    "scrolled": true
   },
   "outputs": [
    {
     "name": "stdout",
     "output_type": "stream",
     "text": [
      "[['아', '더', '빙', '.', '.', '진짜', '짜증', '나', '네요', '목소리'], ['흠', '.', '..', '포스터', '보고', '초딩', '영화', '줄', '.', '...', '오버', '연기', '조차', '가볍', '지', '않', '구나'], ['너무', '재', '밓었다그래서보는것을추천한다']]\n"
     ]
    }
   ],
   "source": [
    "# 토큰 리스트\n",
    "print(X_train[:3])"
   ]
  },
  {
   "cell_type": "markdown",
   "id": "05012e99",
   "metadata": {},
   "source": [
    "#### 사전 정의"
   ]
  },
  {
   "cell_type": "code",
   "execution_count": 15,
   "id": "cf93f012",
   "metadata": {},
   "outputs": [
    {
     "name": "stdout",
     "output_type": "stream",
     "text": [
      "2336238\n"
     ]
    }
   ],
   "source": [
    "# X_train은 각 document에 존재하는 토큰이 리스트로 한차례 더 나눠져 있음 (2차원)\n",
    "# 각 리스트에 존재하는 토큰을 하나의 리스트로 결합\n",
    "words = np.concatenate(X_train).tolist()\n",
    "print(len(words))"
   ]
  },
  {
   "cell_type": "code",
   "execution_count": 16,
   "id": "73cbb3a8",
   "metadata": {},
   "outputs": [
    {
     "name": "stdout",
     "output_type": "stream",
     "text": [
      "53961\n"
     ]
    }
   ],
   "source": [
    "# list -> dict\n",
    "counter = Counter(words)\n",
    "print(len(counter))"
   ]
  },
  {
   "cell_type": "code",
   "execution_count": 17,
   "id": "d2fc8962",
   "metadata": {},
   "outputs": [
    {
     "name": "stdout",
     "output_type": "stream",
     "text": [
      "9996\n"
     ]
    }
   ],
   "source": [
    "# 가장 많이 사용된 순으로 9996개 추출\n",
    "counter = counter.most_common(10000-4)\n",
    "print(len(counter))"
   ]
  },
  {
   "cell_type": "code",
   "execution_count": 18,
   "id": "9a62fec1",
   "metadata": {},
   "outputs": [
    {
     "name": "stdout",
     "output_type": "stream",
     "text": [
      "['<PAD>', '<BOS>', '<UNK>', '<UNUSED>', '.', '영화', '다', '고', '하', '을']\n"
     ]
    }
   ],
   "source": [
    "# 앞에 4개의 빈 원소가 있는 리스트를 추가\n",
    "vocab = ['<PAD>', '<BOS>', '<UNK>', '<UNUSED>'] + [key for key, _ in counter]\n",
    "print(vocab[:10])"
   ]
  },
  {
   "cell_type": "code",
   "execution_count": 19,
   "id": "9f1e35d6",
   "metadata": {},
   "outputs": [
    {
     "name": "stdout",
     "output_type": "stream",
     "text": [
      "10000\n"
     ]
    }
   ],
   "source": [
    "# '문자':인덱스 로 변환\n",
    "word_to_index = {word:index for index, word in enumerate(vocab)}\n",
    "print(len(word_to_index))"
   ]
  },
  {
   "cell_type": "code",
   "execution_count": 20,
   "id": "f5f60d2e",
   "metadata": {},
   "outputs": [
    {
     "name": "stdout",
     "output_type": "stream",
     "text": [
      "10000\n"
     ]
    }
   ],
   "source": [
    "index_to_word = {index:word for word, index in word_to_index.items()}\n",
    "print(len(index_to_word))"
   ]
  },
  {
   "cell_type": "code",
   "execution_count": 21,
   "id": "9e8a450e",
   "metadata": {},
   "outputs": [],
   "source": [
    "# 각 리스트에 존재하는 단어를 숫자로 변환\n",
    "# word_to_index에 없는 단어가 나오면 <UNK>:2으로 변환\n",
    "def wordlist_to_indexlist(wordlist):\n",
    "    return [word_to_index[word] if word in word_to_index else word_to_index['<UNK>'] for word in wordlist]\n",
    "        \n",
    "train_X = list(map(wordlist_to_indexlist, X_train))"
   ]
  },
  {
   "cell_type": "code",
   "execution_count": 22,
   "id": "b0a0432f",
   "metadata": {},
   "outputs": [
    {
     "name": "stdout",
     "output_type": "stream",
     "text": [
      "원문 : ['아', '더', '빙', '.', '.', '진짜', '짜증', '나', '네요', '목소리']\n",
      "변환 : [32, 74, 919, 4, 4, 39, 228, 20, 33, 748]\n",
      "원문 : ['흠', '.', '..', '포스터', '보고', '초딩', '영화', '줄', '.', '...', '오버', '연기', '조차', '가볍', '지', '않', '구나']\n",
      "변환 : [1028, 4, 11, 519, 549, 687, 5, 120, 4, 70, 1639, 52, 925, 1006, 15, 44, 391]\n",
      "원문 : ['너무', '재', '밓었다그래서보는것을추천한다']\n",
      "변환 : [24, 205, 2]\n",
      "원문 : ['교도소', '이야기', '구먼', '.', '.', '솔직히', '재미', '없', '다', '.', '.', '평점', '조정']\n",
      "변환 : [8409, 158, 3925, 4, 4, 298, 94, 17, 6, 4, 4, 58, 3479]\n",
      "원문 : ['사이몬페그', '익살', '스런', '연기', '돋보였', '던', '영화', '!', '스파이더맨', '에서', '늙', '어', '보이', '기', '만', '했', '던', '커스틴', '던스트', '너무나', '이뻐', '보였', '다']\n",
      "변환 : [2, 8894, 1108, 52, 2832, 60, 5, 14, 2758, 41, 1188, 35, 351, 42, 22, 40, 60, 2, 2, 427, 3102, 1766, 6]\n"
     ]
    }
   ],
   "source": [
    "for a,b in zip(X_train[:5], train_X[:5]):\n",
    "    print(f'원문 : {a}')\n",
    "    print(f'변환 : {b}')"
   ]
  },
  {
   "cell_type": "code",
   "execution_count": 23,
   "id": "f8c83e6e",
   "metadata": {},
   "outputs": [],
   "source": [
    "# 문장 encode : str -> int\n",
    "# 처음에 BOS 추가 및 모르는 단어 UNK로 변환\n",
    "def get_encoded_sentence(sentence, word_to_index):\n",
    "    return [word_to_index['<BOS>']]+[word_to_index[word] if word in word_to_index else word_to_index['<UNK>'] for word in tokenizer.morphs(sentence)]\n",
    "\n",
    "def get_encoded_sentences(sentences, word_to_index):\n",
    "    return [get_encoded_sentence(sentence, word_to_index) for sentence in sentences]\n",
    "\n",
    "# 문장 decode : int -> str\n",
    "# <BOS>를 제외한 나머지 단어들을 decode (encoded_sentece[1:])\n",
    "def get_decoded_sentence(encoded_sentence, index_to_word):\n",
    "    return ' '.join(index_to_word[index] if index in index_to_word else '<UNK>' for index in encoded_sentence[1:])  #[1:]를 통해 <BOS>를 제외\n",
    "\n",
    "def get_decoded_sentences(encoded_sentences, index_to_word):\n",
    "    return [get_decoded_sentence(encoded_sentence, index_to_word) for encoded_sentence in encoded_sentences]"
   ]
  },
  {
   "cell_type": "code",
   "execution_count": 24,
   "id": "726d7b69",
   "metadata": {},
   "outputs": [
    {
     "name": "stdout",
     "output_type": "stream",
     "text": [
      "[1, 32, 74, 919, 4, 4, 39, 228, 20, 33, 748]\n"
     ]
    }
   ],
   "source": [
    "temp_a = get_encoded_sentence(train_data_nonNa.loc[0, 'document'], word_to_index=word_to_index)\n",
    "print(temp_a)"
   ]
  },
  {
   "cell_type": "code",
   "execution_count": 25,
   "id": "d918928f",
   "metadata": {},
   "outputs": [
    {
     "data": {
      "text/plain": [
       "'아 더 빙 . . 진짜 짜증 나 네요 목소리'"
      ]
     },
     "execution_count": 25,
     "metadata": {},
     "output_type": "execute_result"
    }
   ],
   "source": [
    "get_decoded_sentence(temp_a, index_to_word=index_to_word)"
   ]
  },
  {
   "cell_type": "markdown",
   "id": "616715df",
   "metadata": {},
   "source": [
    "### 변수 정리\n",
    "- train_data, test_data : txt 원본 데이터\n",
    "- train_data_nonNa : train_data에서 중복 및 결측치 제거\n",
    "- tokenizer = Mecab() : Mecab 분석기를 사용하는 변수\n",
    "- X_train : train_data에 있는 각 문장 리스트가 토큰으로 변환된 리스트\n",
    "- words : X_train에 있는 모든 토큰의 리스트\n",
    "- vocab : <PAD>, <BOS>, <UNK>, <UNUSED>를 추가한 사전 리스트\n",
    "- word_to_index : 문자:인덱스 형태의 사전 dict\n",
    "- index_to_word : 인덱스:문자 형태의 사전 dict\n",
    "- train_X : X_train의 토큰이 숫자로 변형된 리스트"
   ]
  },
  {
   "cell_type": "markdown",
   "id": "d57b9b5f",
   "metadata": {},
   "source": [
    "### 문장 길이 비교"
   ]
  },
  {
   "cell_type": "code",
   "execution_count": 26,
   "id": "0359c49a",
   "metadata": {
    "scrolled": false
   },
   "outputs": [
    {
     "name": "stdout",
     "output_type": "stream",
     "text": [
      "문장길이 평균 :  15.98170773419436\n",
      "문장길이 최대 :  116\n",
      "문장길이 표준편차 :  12.82473766384545\n",
      "pad_sequences maxlen :  41\n",
      "전체 문장의 0.9341711017772366%가 maxlen 설정값 이내에 포함됩니다. \n"
     ]
    }
   ],
   "source": [
    "num_tokens = [len(tokens) for tokens in X_train]\n",
    "num_tokens = np.array(num_tokens)\n",
    "\n",
    "print('문장길이 평균 : ', np.mean(num_tokens))\n",
    "print('문장길이 최대 : ', np.max(num_tokens))\n",
    "print('문장길이 표준편차 : ', np.std(num_tokens))\n",
    "\n",
    "max_tokens = np.mean(num_tokens) + 2 * np.std(num_tokens)\n",
    "maxlen = int(max_tokens)\n",
    "\n",
    "print('pad_sequences maxlen : ', maxlen)\n",
    "print(f'전체 문장의 {np.sum(num_tokens < max_tokens) / len(num_tokens)}%가 maxlen 설정값 이내에 포함됩니다. ')"
   ]
  },
  {
   "cell_type": "markdown",
   "id": "2bd37639",
   "metadata": {},
   "source": [
    "## 데이터 전처리"
   ]
  },
  {
   "cell_type": "markdown",
   "id": "5ab1943c",
   "metadata": {},
   "source": [
    "#### train 데이터 전처리"
   ]
  },
  {
   "cell_type": "code",
   "execution_count": 27,
   "id": "be200d83",
   "metadata": {},
   "outputs": [],
   "source": [
    "import tensorflow as tf\n",
    "from tensorflow import keras"
   ]
  },
  {
   "cell_type": "code",
   "execution_count": 28,
   "id": "5cdb493e",
   "metadata": {},
   "outputs": [],
   "source": [
    "# train_data_nonNa에 있는 document 데이터를 모두 encode\n",
    "x_train = get_encoded_sentences(train_data_nonNa.loc[:,'document'], word_to_index=word_to_index)"
   ]
  },
  {
   "cell_type": "code",
   "execution_count": 29,
   "id": "7a44325a",
   "metadata": {},
   "outputs": [],
   "source": [
    "x_train = tf.keras.preprocessing.sequence.pad_sequences(\n",
    "    x_train, value=word_to_index[\"<PAD>\"], padding='pre', maxlen=maxlen\n",
    ")"
   ]
  },
  {
   "cell_type": "code",
   "execution_count": 30,
   "id": "bb1e3607",
   "metadata": {},
   "outputs": [
    {
     "data": {
      "text/plain": [
       "(146182, 41)"
      ]
     },
     "execution_count": 30,
     "metadata": {},
     "output_type": "execute_result"
    }
   ],
   "source": [
    "x_train.shape"
   ]
  },
  {
   "cell_type": "code",
   "execution_count": 31,
   "id": "e1afba9d",
   "metadata": {},
   "outputs": [],
   "source": [
    "y_train = train_data_nonNa.loc[:,'label']"
   ]
  },
  {
   "cell_type": "markdown",
   "id": "f1f42513",
   "metadata": {},
   "source": [
    "#### test 데이터 전처리"
   ]
  },
  {
   "cell_type": "code",
   "execution_count": 32,
   "id": "4a9bc347",
   "metadata": {},
   "outputs": [
    {
     "data": {
      "text/plain": [
       "(50000, 3)"
      ]
     },
     "execution_count": 32,
     "metadata": {},
     "output_type": "execute_result"
    }
   ],
   "source": [
    "test_data.shape"
   ]
  },
  {
   "cell_type": "code",
   "execution_count": 33,
   "id": "6aff0688",
   "metadata": {},
   "outputs": [],
   "source": [
    "def preprocess_data(data, word_to_index):\n",
    "    # 중복 및 결측치 제거\n",
    "    data = data.drop_duplicates(subset=['document'])\n",
    "    data = data.dropna(how='any')\n",
    "    print(data.shape)\n",
    "    \n",
    "    # train에서 사용한 word_to_index를 가져와 test 데이터에 적용\n",
    "    x_data = get_encoded_sentences(data['document'] , word_to_index)\n",
    "\n",
    "    return x_data, data.loc[:,'label']"
   ]
  },
  {
   "cell_type": "code",
   "execution_count": 34,
   "id": "ce32085f",
   "metadata": {},
   "outputs": [
    {
     "name": "stdout",
     "output_type": "stream",
     "text": [
      "(49157, 3)\n"
     ]
    }
   ],
   "source": [
    "x_test, y_test = preprocess_data(test_data, word_to_index)"
   ]
  },
  {
   "cell_type": "code",
   "execution_count": 35,
   "id": "01f6d65e",
   "metadata": {},
   "outputs": [
    {
     "data": {
      "text/plain": [
       "['굳 ㅋ',\n",
       " '<UNK>',\n",
       " '뭐 야 <UNK> 평점 <UNK> <UNK> . ... 나쁘 진 않 지만 10 점 짜리 <UNK> 더더욱 아니 잖아',\n",
       " '지루 하 지 <UNK> 않 은데 완전 막장 임 . .. 돈 주 고 보 기 <UNK> <UNK> . ...',\n",
       " '3 D 만 아니 었 어도 별 다섯 개 줬 을 텐데 . . 왜 3 D 로 나와서 제 <UNK> <UNK> 불편 하 게 하 죠 ? ?']"
      ]
     },
     "execution_count": 35,
     "metadata": {},
     "output_type": "execute_result"
    }
   ],
   "source": [
    "get_decoded_sentences(x_test, index_to_word)[:5]"
   ]
  },
  {
   "cell_type": "code",
   "execution_count": 36,
   "id": "ac199ce3",
   "metadata": {},
   "outputs": [
    {
     "data": {
      "text/plain": [
       "(49157, (49157,))"
      ]
     },
     "execution_count": 36,
     "metadata": {},
     "output_type": "execute_result"
    }
   ],
   "source": [
    "len(x_test), y_test.shape"
   ]
  },
  {
   "cell_type": "code",
   "execution_count": 37,
   "id": "ce482190",
   "metadata": {},
   "outputs": [],
   "source": [
    "x_test = tf.keras.preprocessing.sequence.pad_sequences(\n",
    "    x_test, value=word_to_index[\"<PAD>\"], padding='pre', maxlen=maxlen\n",
    ")"
   ]
  },
  {
   "cell_type": "code",
   "execution_count": 38,
   "id": "44927b23",
   "metadata": {},
   "outputs": [
    {
     "data": {
      "text/plain": [
       "(49157, 41)"
      ]
     },
     "execution_count": 38,
     "metadata": {},
     "output_type": "execute_result"
    }
   ],
   "source": [
    "x_test.shape"
   ]
  },
  {
   "cell_type": "markdown",
   "id": "396f7862",
   "metadata": {},
   "source": [
    "## Model 학습"
   ]
  },
  {
   "cell_type": "code",
   "execution_count": 39,
   "id": "6ee8159f",
   "metadata": {},
   "outputs": [],
   "source": [
    "from sklearn.model_selection import train_test_split\n",
    "\n",
    "train_x, val_x, train_y, val_y = train_test_split(\n",
    "    x_train, y_train, test_size=0.2, random_state=2000\n",
    ")"
   ]
  },
  {
   "cell_type": "code",
   "execution_count": 40,
   "id": "40263e3c",
   "metadata": {},
   "outputs": [
    {
     "data": {
      "text/plain": [
       "(41, 10000, 16)"
      ]
     },
     "execution_count": 40,
     "metadata": {},
     "output_type": "execute_result"
    }
   ],
   "source": [
    "results = {}\n",
    "input_shape = x_train.shape[-1]\n",
    "voca_size = len(word_to_index) # input_dim\n",
    "word_vector_dim = 16 # 워드 벡터 차원 수 (output_dim)\n",
    "\n",
    "input_shape, voca_size, word_vector_dim"
   ]
  },
  {
   "cell_type": "markdown",
   "id": "a14cf931",
   "metadata": {},
   "source": [
    "### 기본 Dense"
   ]
  },
  {
   "cell_type": "code",
   "execution_count": 41,
   "id": "33b591d0",
   "metadata": {},
   "outputs": [],
   "source": [
    "def get_dense_model(input_shape, voca_size, word_vector_dim):\n",
    "    inputs = keras.Input(shape=input_shape)\n",
    "    x = keras.layers.Embedding(voca_size, word_vector_dim, input_shape=(None, ))(inputs)\n",
    "    x = keras.layers.Dense(40, activation='relu')(x)\n",
    "    x = keras.layers.Dropout(0.3)(x)\n",
    "    x = keras.layers.Dense(10, activation='relu')(x)\n",
    "    outputs = keras.layers.Dense(1, activation='sigmoid')(x)\n",
    "    \n",
    "    return keras.Model(inputs,outputs)"
   ]
  },
  {
   "cell_type": "code",
   "execution_count": 42,
   "id": "e46291c2",
   "metadata": {},
   "outputs": [
    {
     "name": "stdout",
     "output_type": "stream",
     "text": [
      "Model: \"model\"\n",
      "_________________________________________________________________\n",
      "Layer (type)                 Output Shape              Param #   \n",
      "=================================================================\n",
      "input_1 (InputLayer)         [(None, 41)]              0         \n",
      "_________________________________________________________________\n",
      "embedding (Embedding)        (None, 41, 16)            160000    \n",
      "_________________________________________________________________\n",
      "dense (Dense)                (None, 41, 40)            680       \n",
      "_________________________________________________________________\n",
      "dropout (Dropout)            (None, 41, 40)            0         \n",
      "_________________________________________________________________\n",
      "dense_1 (Dense)              (None, 41, 10)            410       \n",
      "_________________________________________________________________\n",
      "dense_2 (Dense)              (None, 41, 1)             11        \n",
      "=================================================================\n",
      "Total params: 161,101\n",
      "Trainable params: 161,101\n",
      "Non-trainable params: 0\n",
      "_________________________________________________________________\n"
     ]
    }
   ],
   "source": [
    "dense_model = get_dense_model(input_shape, voca_size, word_vector_dim)\n",
    "dense_model.summary()"
   ]
  },
  {
   "cell_type": "code",
   "execution_count": 43,
   "id": "3b7bf8af",
   "metadata": {},
   "outputs": [
    {
     "name": "stdout",
     "output_type": "stream",
     "text": [
      "Epoch 1/10\n",
      "457/457 [==============================] - 4s 5ms/step - loss: 0.6800 - accuracy: 0.5368 - val_loss: 0.6753 - val_accuracy: 0.5373\n",
      "Epoch 2/10\n",
      "457/457 [==============================] - 2s 5ms/step - loss: 0.6739 - accuracy: 0.5418 - val_loss: 0.6748 - val_accuracy: 0.5429\n",
      "Epoch 3/10\n",
      "457/457 [==============================] - 2s 5ms/step - loss: 0.6733 - accuracy: 0.5431 - val_loss: 0.6748 - val_accuracy: 0.5428\n",
      "Epoch 4/10\n",
      "457/457 [==============================] - 2s 5ms/step - loss: 0.6731 - accuracy: 0.5434 - val_loss: 0.6748 - val_accuracy: 0.5429\n",
      "Epoch 5/10\n",
      "457/457 [==============================] - 2s 5ms/step - loss: 0.6730 - accuracy: 0.5434 - val_loss: 0.6748 - val_accuracy: 0.5429\n",
      "Epoch 6/10\n",
      "457/457 [==============================] - 2s 5ms/step - loss: 0.6729 - accuracy: 0.5426 - val_loss: 0.6749 - val_accuracy: 0.5428\n",
      "Epoch 7/10\n",
      "457/457 [==============================] - 2s 5ms/step - loss: 0.6728 - accuracy: 0.5427 - val_loss: 0.6748 - val_accuracy: 0.5429\n",
      "Epoch 8/10\n",
      "457/457 [==============================] - 2s 5ms/step - loss: 0.6727 - accuracy: 0.5439 - val_loss: 0.6749 - val_accuracy: 0.5429\n",
      "Epoch 9/10\n",
      "457/457 [==============================] - 2s 5ms/step - loss: 0.6727 - accuracy: 0.5425 - val_loss: 0.6749 - val_accuracy: 0.5429\n",
      "Epoch 10/10\n",
      "457/457 [==============================] - 2s 5ms/step - loss: 0.6726 - accuracy: 0.5428 - val_loss: 0.6749 - val_accuracy: 0.5429\n"
     ]
    }
   ],
   "source": [
    "dense_model.compile(\n",
    "    optimizer = 'adam',\n",
    "    loss='binary_crossentropy',\n",
    "    metrics=['accuracy']\n",
    ")\n",
    "\n",
    "epochs = 10\n",
    "history_dense = dense_model.fit(\n",
    "    train_x, train_y,\n",
    "    validation_data=(val_x, val_y),\n",
    "    epochs = epochs,\n",
    "    batch_size=256\n",
    ")"
   ]
  },
  {
   "cell_type": "code",
   "execution_count": 44,
   "id": "e0ecbe5b",
   "metadata": {},
   "outputs": [
    {
     "name": "stdout",
     "output_type": "stream",
     "text": [
      "1537/1537 - 3s - loss: 0.6747 - accuracy: 0.5446\n",
      "{'loss': 0.6746910214424133, 'acc': 0.5445721745491028}\n"
     ]
    }
   ],
   "source": [
    "dense_loss, dense_acc = dense_model.evaluate(x_test,  y_test, verbose=2)\n",
    "results['dense'] = {\n",
    "    'loss': dense_loss,\n",
    "    'acc': dense_acc\n",
    "}\n",
    "print(results['dense'])"
   ]
  },
  {
   "cell_type": "code",
   "execution_count": 45,
   "id": "1ae7e8d6",
   "metadata": {},
   "outputs": [
    {
     "data": {
      "image/png": "[encoded data removed]",
      "text/plain": [
       "<Figure size 432x288 with 1 Axes>"
      ]
     },
     "metadata": {
      "needs_background": "light"
     },
     "output_type": "display_data"
    },
    {
     "data": {
      "image/png": "[encoded data removed]",
      "text/plain": [
       "<Figure size 432x288 with 1 Axes>"
      ]
     },
     "metadata": {
      "needs_background": "light"
     },
     "output_type": "display_data"
    }
   ],
   "source": [
    "import matplotlib.pyplot as plt\n",
    "\n",
    "plt.plot(range(1,epochs+1), history_dense.history['loss'], 'r', label='loss')\n",
    "plt.plot(range(1,epochs+1), history_dense.history['val_loss'], 'b', label='val_loss')\n",
    "plt.legend()\n",
    "plt.show()\n",
    "\n",
    "plt.plot(range(1,epochs+1), history_dense.history['accuracy'], 'r', label='train')\n",
    "plt.plot(range(1,epochs+1), history_dense.history['val_accuracy'], 'b', label='val')\n",
    "plt.legend()\n",
    "plt.show()"
   ]
  },
  {
   "cell_type": "markdown",
   "id": "6b378e5c",
   "metadata": {},
   "source": [
    "### Conv1d Net"
   ]
  },
  {
   "cell_type": "code",
   "execution_count": 46,
   "id": "0c4dab35",
   "metadata": {},
   "outputs": [],
   "source": [
    "def get_conv_model(input_shape, voca_size, word_vector_dim):\n",
    "    inputs = keras.Input(shape=input_shape)\n",
    "    x = keras.layers.Embedding(voca_size, word_vector_dim, input_shape=(None, ))(inputs)\n",
    "    x = keras.layers.Conv1D(16, 5,activation='relu')(x)\n",
    "    x = keras.layers.MaxPooling1D(3)(x)\n",
    "    x = keras.layers.Conv1D(16, 5, activation='relu')(x)\n",
    "    x = keras.layers.GlobalMaxPooling1D()(x)\n",
    "    x = keras.layers.Dropout(0.3)(x)\n",
    "    x = keras.layers.Dense(8, activation='relu')(x)\n",
    "    outputs = keras.layers.Dense(1, activation='sigmoid')(x)\n",
    "    \n",
    "    return keras.Model(inputs,outputs)"
   ]
  },
  {
   "cell_type": "code",
   "execution_count": 47,
   "id": "4cdffd60",
   "metadata": {},
   "outputs": [
    {
     "name": "stdout",
     "output_type": "stream",
     "text": [
      "Model: \"model_1\"\n",
      "_________________________________________________________________\n",
      "Layer (type)                 Output Shape              Param #   \n",
      "=================================================================\n",
      "input_2 (InputLayer)         [(None, 41)]              0         \n",
      "_________________________________________________________________\n",
      "embedding_1 (Embedding)      (None, 41, 16)            160000    \n",
      "_________________________________________________________________\n",
      "conv1d (Conv1D)              (None, 37, 16)            1296      \n",
      "_________________________________________________________________\n",
      "max_pooling1d (MaxPooling1D) (None, 12, 16)            0         \n",
      "_________________________________________________________________\n",
      "conv1d_1 (Conv1D)            (None, 8, 16)             1296      \n",
      "_________________________________________________________________\n",
      "global_max_pooling1d (Global (None, 16)                0         \n",
      "_________________________________________________________________\n",
      "dropout_1 (Dropout)          (None, 16)                0         \n",
      "_________________________________________________________________\n",
      "dense_3 (Dense)              (None, 8)                 136       \n",
      "_________________________________________________________________\n",
      "dense_4 (Dense)              (None, 1)                 9         \n",
      "=================================================================\n",
      "Total params: 162,737\n",
      "Trainable params: 162,737\n",
      "Non-trainable params: 0\n",
      "_________________________________________________________________\n"
     ]
    }
   ],
   "source": [
    "conv_model = get_conv_model(input_shape, voca_size, word_vector_dim)\n",
    "conv_model.summary()"
   ]
  },
  {
   "cell_type": "code",
   "execution_count": 48,
   "id": "309f76cd",
   "metadata": {},
   "outputs": [
    {
     "name": "stdout",
     "output_type": "stream",
     "text": [
      "Epoch 1/10\n",
      "457/457 [==============================] - 5s 5ms/step - loss: 0.5052 - accuracy: 0.7465 - val_loss: 0.3874 - val_accuracy: 0.8257\n",
      "Epoch 2/10\n",
      "457/457 [==============================] - 2s 5ms/step - loss: 0.3679 - accuracy: 0.8422 - val_loss: 0.3693 - val_accuracy: 0.8348\n",
      "Epoch 3/10\n",
      "457/457 [==============================] - 2s 5ms/step - loss: 0.3267 - accuracy: 0.8630 - val_loss: 0.3703 - val_accuracy: 0.8369\n",
      "Epoch 4/10\n",
      "457/457 [==============================] - 2s 5ms/step - loss: 0.2939 - accuracy: 0.8781 - val_loss: 0.3769 - val_accuracy: 0.8355\n",
      "Epoch 5/10\n",
      "457/457 [==============================] - 2s 5ms/step - loss: 0.2592 - accuracy: 0.8943 - val_loss: 0.4000 - val_accuracy: 0.8298\n",
      "Epoch 6/10\n",
      "457/457 [==============================] - 2s 5ms/step - loss: 0.2283 - accuracy: 0.9079 - val_loss: 0.4301 - val_accuracy: 0.8285\n",
      "Epoch 7/10\n",
      "457/457 [==============================] - 2s 5ms/step - loss: 0.2008 - accuracy: 0.9184 - val_loss: 0.4567 - val_accuracy: 0.8253\n",
      "Epoch 8/10\n",
      "457/457 [==============================] - 2s 5ms/step - loss: 0.1795 - accuracy: 0.9268 - val_loss: 0.5000 - val_accuracy: 0.8209\n",
      "Epoch 9/10\n",
      "457/457 [==============================] - 2s 5ms/step - loss: 0.1628 - accuracy: 0.9327 - val_loss: 0.5402 - val_accuracy: 0.8189\n",
      "Epoch 10/10\n",
      "457/457 [==============================] - 2s 5ms/step - loss: 0.1487 - accuracy: 0.9378 - val_loss: 0.5651 - val_accuracy: 0.8174\n"
     ]
    }
   ],
   "source": [
    "conv_model.compile(\n",
    "    optimizer = 'adam',\n",
    "    loss='binary_crossentropy',\n",
    "    metrics=['accuracy']\n",
    ")\n",
    "\n",
    "epochs = 10\n",
    "history = conv_model.fit(\n",
    "    train_x, train_y,\n",
    "    validation_data=(val_x, val_y),\n",
    "    epochs = epochs,\n",
    "    batch_size=256\n",
    ")"
   ]
  },
  {
   "cell_type": "code",
   "execution_count": 49,
   "id": "7677175b",
   "metadata": {},
   "outputs": [
    {
     "name": "stdout",
     "output_type": "stream",
     "text": [
      "1537/1537 - 2s - loss: 0.5582 - accuracy: 0.8188\n",
      "{'loss': 0.5582380890846252, 'acc': 0.8187643885612488}\n"
     ]
    }
   ],
   "source": [
    "conv_loss, conv_acc = conv_model.evaluate(x_test,  y_test, verbose=2)\n",
    "\n",
    "results['conv'] = {\n",
    "    'loss': conv_loss,\n",
    "    'acc': conv_acc\n",
    "}\n",
    "print(results['conv'])"
   ]
  },
  {
   "cell_type": "code",
   "execution_count": 50,
   "id": "a4dad317",
   "metadata": {},
   "outputs": [
    {
     "data": {
      "image/png": "[encoded data removed]",
      "text/plain": [
       "<Figure size 432x288 with 1 Axes>"
      ]
     },
     "metadata": {
      "needs_background": "light"
     },
     "output_type": "display_data"
    },
    {
     "data": {
      "image/png": "[encoded data removed]",
      "text/plain": [
       "<Figure size 432x288 with 1 Axes>"
      ]
     },
     "metadata": {
      "needs_background": "light"
     },
     "output_type": "display_data"
    }
   ],
   "source": [
    "plt.plot(range(1,epochs+1), history.history['loss'], 'r', label='loss')\n",
    "plt.plot(range(1,epochs+1), history.history['val_loss'], 'b', label='val_loss')\n",
    "plt.legend()\n",
    "plt.show()\n",
    "\n",
    "plt.plot(range(1,epochs+1), history.history['accuracy'], 'r', label='train')\n",
    "plt.plot(range(1,epochs+1), history.history['val_accuracy'], 'b', label='val')\n",
    "plt.legend()\n",
    "plt.show()"
   ]
  },
  {
   "cell_type": "markdown",
   "id": "9134f599",
   "metadata": {},
   "source": [
    "### lstm"
   ]
  },
  {
   "cell_type": "code",
   "execution_count": 51,
   "id": "e901e9a5",
   "metadata": {},
   "outputs": [],
   "source": [
    "def get_lstm_model(input_shape, voca_size, word_vector_dim):\n",
    "    inputs = keras.Input(shape=input_shape)\n",
    "    x = keras.layers.Embedding(voca_size, word_vector_dim, input_shape=(None, ))(inputs)\n",
    "    x = keras.layers.LSTM(40)(x)\n",
    "    x = keras.layers.Dropout(0.3)(x)\n",
    "    x =keras.layers.Dense(10, activation='relu')(x)\n",
    "    outputs = keras.layers.Dense(1, activation='sigmoid')(x)\n",
    "    \n",
    "    return keras.Model(inputs,outputs)"
   ]
  },
  {
   "cell_type": "code",
   "execution_count": 52,
   "id": "54ff0a30",
   "metadata": {},
   "outputs": [
    {
     "name": "stdout",
     "output_type": "stream",
     "text": [
      "Model: \"model_2\"\n",
      "_________________________________________________________________\n",
      "Layer (type)                 Output Shape              Param #   \n",
      "=================================================================\n",
      "input_3 (InputLayer)         [(None, 41)]              0         \n",
      "_________________________________________________________________\n",
      "embedding_2 (Embedding)      (None, 41, 16)            160000    \n",
      "_________________________________________________________________\n",
      "lstm (LSTM)                  (None, 40)                9120      \n",
      "_________________________________________________________________\n",
      "dropout_2 (Dropout)          (None, 40)                0         \n",
      "_________________________________________________________________\n",
      "dense_5 (Dense)              (None, 10)                410       \n",
      "_________________________________________________________________\n",
      "dense_6 (Dense)              (None, 1)                 11        \n",
      "=================================================================\n",
      "Total params: 169,541\n",
      "Trainable params: 169,541\n",
      "Non-trainable params: 0\n",
      "_________________________________________________________________\n"
     ]
    }
   ],
   "source": [
    "lstm_model = get_lstm_model(input_shape, voca_size, word_vector_dim)\n",
    "lstm_model.summary()"
   ]
  },
  {
   "cell_type": "code",
   "execution_count": 53,
   "id": "b2beb5c0",
   "metadata": {},
   "outputs": [
    {
     "name": "stdout",
     "output_type": "stream",
     "text": [
      "Epoch 1/10\n",
      "457/457 [==============================] - 5s 6ms/step - loss: 0.4282 - accuracy: 0.8015 - val_loss: 0.3592 - val_accuracy: 0.8426\n",
      "Epoch 2/10\n",
      "457/457 [==============================] - 3s 5ms/step - loss: 0.3323 - accuracy: 0.8589 - val_loss: 0.3499 - val_accuracy: 0.8459\n",
      "Epoch 3/10\n",
      "457/457 [==============================] - 3s 6ms/step - loss: 0.3094 - accuracy: 0.8693 - val_loss: 0.3497 - val_accuracy: 0.8451\n",
      "Epoch 4/10\n",
      "457/457 [==============================] - 3s 5ms/step - loss: 0.2910 - accuracy: 0.8768 - val_loss: 0.3523 - val_accuracy: 0.8477\n",
      "Epoch 5/10\n",
      "457/457 [==============================] - 3s 6ms/step - loss: 0.2719 - accuracy: 0.8854 - val_loss: 0.3788 - val_accuracy: 0.8448\n",
      "Epoch 6/10\n",
      "457/457 [==============================] - 2s 5ms/step - loss: 0.2523 - accuracy: 0.8931 - val_loss: 0.3948 - val_accuracy: 0.8463\n",
      "Epoch 7/10\n",
      "457/457 [==============================] - 3s 6ms/step - loss: 0.2347 - accuracy: 0.9012 - val_loss: 0.3861 - val_accuracy: 0.8460\n",
      "Epoch 8/10\n",
      "457/457 [==============================] - 3s 6ms/step - loss: 0.2172 - accuracy: 0.9084 - val_loss: 0.4333 - val_accuracy: 0.8450\n",
      "Epoch 9/10\n",
      "457/457 [==============================] - 3s 5ms/step - loss: 0.2030 - accuracy: 0.9148 - val_loss: 0.4178 - val_accuracy: 0.8450\n",
      "Epoch 10/10\n",
      "457/457 [==============================] - 2s 5ms/step - loss: 0.1874 - accuracy: 0.9222 - val_loss: 0.4836 - val_accuracy: 0.8406\n"
     ]
    }
   ],
   "source": [
    "lstm_model.compile(\n",
    "    optimizer = 'adam',\n",
    "    loss='binary_crossentropy',\n",
    "    metrics=['accuracy']\n",
    ")\n",
    "\n",
    "epochs = 10\n",
    "history_lstm = lstm_model.fit(\n",
    "    train_x, train_y,\n",
    "    validation_data=(val_x, val_y),\n",
    "    epochs = epochs,\n",
    "    batch_size=256\n",
    ")"
   ]
  },
  {
   "cell_type": "code",
   "execution_count": 54,
   "id": "57eaf23d",
   "metadata": {},
   "outputs": [
    {
     "name": "stdout",
     "output_type": "stream",
     "text": [
      "1537/1537 - 3s - loss: 0.4730 - accuracy: 0.8435\n",
      "{'loss': 0.4729917645454407, 'acc': 0.843521773815155}\n"
     ]
    }
   ],
   "source": [
    "lstm_loss, lstm_acc = lstm_model.evaluate(x_test,  y_test, verbose=2)\n",
    "\n",
    "results['lstm'] = {\n",
    "    'loss': lstm_loss,\n",
    "    'acc': lstm_acc\n",
    "}\n",
    "print(results['lstm'])"
   ]
  },
  {
   "cell_type": "code",
   "execution_count": 55,
   "id": "8e87c066",
   "metadata": {},
   "outputs": [
    {
     "data": {
      "image/png": "[encoded data removed]",
      "text/plain": [
       "<Figure size 432x288 with 1 Axes>"
      ]
     },
     "metadata": {
      "needs_background": "light"
     },
     "output_type": "display_data"
    },
    {
     "data": {
      "image/png": "[encoded data removed]",
      "text/plain": [
       "<Figure size 432x288 with 1 Axes>"
      ]
     },
     "metadata": {
      "needs_background": "light"
     },
     "output_type": "display_data"
    }
   ],
   "source": [
    "plt.plot(range(1,epochs+1), history_lstm.history['loss'], 'r', label='loss')\n",
    "plt.plot(range(1,epochs+1), history_lstm.history['val_loss'], 'b', label='val_loss')\n",
    "plt.legend()\n",
    "plt.show()\n",
    "\n",
    "plt.plot(range(1,epochs+1), history_lstm.history['accuracy'], 'r', label='train')\n",
    "plt.plot(range(1,epochs+1), history_lstm.history['val_accuracy'], 'b', label='val')\n",
    "plt.legend()\n",
    "plt.show()"
   ]
  },
  {
   "cell_type": "code",
   "execution_count": 56,
   "id": "aa7c42f2",
   "metadata": {},
   "outputs": [
    {
     "data": {
      "text/plain": [
       "{'dense': {'loss': 0.6746910214424133, 'acc': 0.5445721745491028},\n",
       " 'conv': {'loss': 0.5582380890846252, 'acc': 0.8187643885612488},\n",
       " 'lstm': {'loss': 0.4729917645454407, 'acc': 0.843521773815155}}"
      ]
     },
     "execution_count": 56,
     "metadata": {},
     "output_type": "execute_result"
    }
   ],
   "source": [
    "results"
   ]
  },
  {
   "cell_type": "markdown",
   "id": "f8c4f3c2",
   "metadata": {},
   "source": [
    "## Gensim 활용을 통한 비교 분석"
   ]
  },
  {
   "cell_type": "markdown",
   "id": "9a03dfb9",
   "metadata": {},
   "source": [
    "### Custom Embedding Layer weights 저장"
   ]
  },
  {
   "cell_type": "code",
   "execution_count": 57,
   "id": "58484f0a",
   "metadata": {},
   "outputs": [
    {
     "data": {
      "text/plain": [
       "[<keras.engine.input_layer.InputLayer at 0x78e572e83c40>,\n",
       " <keras.layers.embeddings.Embedding at 0x78e5bf3acb50>,\n",
       " <keras.layers.recurrent_v2.LSTM at 0x78e572ed60a0>,\n",
       " <keras.layers.core.Dropout at 0x78e572ea34f0>,\n",
       " <keras.layers.core.Dense at 0x78e5726eb7c0>,\n",
       " <keras.layers.core.Dense at 0x78e5bc048130>]"
      ]
     },
     "execution_count": 57,
     "metadata": {},
     "output_type": "execute_result"
    }
   ],
   "source": [
    "lstm_model.layers"
   ]
  },
  {
   "cell_type": "code",
   "execution_count": 58,
   "id": "e73b53e4",
   "metadata": {},
   "outputs": [
    {
     "name": "stdout",
     "output_type": "stream",
     "text": [
      "[[-7.93196820e-03  5.43674119e-02 -5.59237935e-02 ... -3.76994908e-02\n",
      "  -6.70441687e-02 -5.41359950e-05]\n",
      " [-4.12348052e-03  6.21793233e-02 -2.53869202e-02 ... -1.70458981e-04\n",
      "  -7.67195374e-02 -2.42639687e-02]\n",
      " [ 2.37875450e-02 -1.70440471e-03  4.03237995e-03 ...  1.27259353e-02\n",
      "   2.58721896e-02  1.51746022e-02]\n",
      " ...\n",
      " [-8.95325989e-02 -4.11467142e-02  1.04394086e-01 ... -1.44017994e-01\n",
      "   1.70913473e-01 -1.13621958e-01]\n",
      " [-6.99587539e-02 -1.77281216e-01  2.41175786e-01 ... -1.85170081e-02\n",
      "   1.62521973e-01 -2.00324669e-01]\n",
      " [ 9.90901291e-02  7.02453256e-02  8.32210630e-02 ...  1.31165192e-01\n",
      "  -8.01883638e-02  1.56493872e-01]]\n"
     ]
    },
    {
     "data": {
      "text/plain": [
       "(10000, 16)"
      ]
     },
     "execution_count": 58,
     "metadata": {},
     "output_type": "execute_result"
    }
   ],
   "source": [
    "# embedding Layer -> model.layers[1]\n",
    "weights = lstm_model.layers[1].get_weights()[0]\n",
    "print(weights)\n",
    "weights.shape"
   ]
  },
  {
   "cell_type": "code",
   "execution_count": 59,
   "id": "79aeb38c",
   "metadata": {},
   "outputs": [
    {
     "data": {
      "text/plain": [
       "True"
      ]
     },
     "execution_count": 59,
     "metadata": {},
     "output_type": "execute_result"
    }
   ],
   "source": [
    "(lstm_model.get_weights()[0] == np.array(weights)).all()"
   ]
  },
  {
   "cell_type": "code",
   "execution_count": 60,
   "id": "33c434a1",
   "metadata": {},
   "outputs": [],
   "source": [
    "custom_w2v_path = 'custom_w2v.txt'\n",
    "\n",
    "# voca_size = 10000, word_vector_dim = 16\n",
    "with open(custom_w2v_path, 'w') as f:\n",
    "    # 사전에 정의된 수, 워드 벡터의 깊이 기록\n",
    "    f.write('{} {}\\n'.format(voca_size-4, word_vector_dim))\n",
    "    \n",
    "    # model의 임베딩 레이어 가중치 기록\n",
    "    vectors = lstm_model.get_weights()[0] # lstm_model.layers[1].get_weights()[0]\n",
    "    for i in range(4, voca_size):\n",
    "        f.write('{} {}\\n'.format(index_to_word[i], ' '.join(map(str, list(vectors[i,:])))))"
   ]
  },
  {
   "cell_type": "markdown",
   "id": "b4646db2",
   "metadata": {},
   "source": [
    "이후 다음과 같이 재사용 가능"
   ]
  },
  {
   "cell_type": "code",
   "execution_count": 61,
   "id": "c201535d",
   "metadata": {
    "scrolled": true
   },
   "outputs": [
    {
     "data": {
      "text/plain": [
       "(16,)"
      ]
     },
     "execution_count": 61,
     "metadata": {},
     "output_type": "execute_result"
    }
   ],
   "source": [
    "from gensim.models.keyedvectors import Word2VecKeyedVectors\n",
    "\n",
    "# \n",
    "word_vectors = Word2VecKeyedVectors.load_word2vec_format(custom_w2v_path, binary=False)\n",
    "vector = word_vectors['슬퍼']\n",
    "vector.shape"
   ]
  },
  {
   "cell_type": "code",
   "execution_count": 62,
   "id": "e6270be5",
   "metadata": {
    "scrolled": true
   },
   "outputs": [
    {
     "data": {
      "text/plain": [
       "[('케미', 0.9612060189247131),\n",
       " ('돌아보', 0.9555216431617737),\n",
       " ('여운', 0.9496964812278748),\n",
       " ('재미있', 0.9477543830871582),\n",
       " ('들이', 0.9464307427406311),\n",
       " ('현기증', 0.9460894465446472),\n",
       " ('훌륭', 0.9449049830436707),\n",
       " ('최강희', 0.9424864053726196),\n",
       " ('훌쩍', 0.9424410462379456),\n",
       " ('쉰', 0.94022136926651)]"
      ]
     },
     "execution_count": 62,
     "metadata": {},
     "output_type": "execute_result"
    }
   ],
   "source": [
    "# 의미적 유사도가 가까운 것 출력\n",
    "word_vectors.similar_by_word('슬퍼')"
   ]
  },
  {
   "cell_type": "code",
   "execution_count": 63,
   "id": "029fc917",
   "metadata": {},
   "outputs": [
    {
     "data": {
      "text/plain": [
       "[('센', 0.9639433026313782),\n",
       " ('희망', 0.9605365991592407),\n",
       " ('보냅니다', 0.9562159776687622),\n",
       " ('즐겼', 0.953188955783844),\n",
       " ('어염', 0.9496724009513855),\n",
       " ('강렬', 0.9481985569000244),\n",
       " ('좋', 0.948058009147644),\n",
       " ('명화', 0.9477666020393372),\n",
       " ('♥♥♥', 0.9471548199653625),\n",
       " ('지나갈', 0.9462836980819702)]"
      ]
     },
     "execution_count": 63,
     "metadata": {},
     "output_type": "execute_result"
    }
   ],
   "source": [
    "word_vectors.similar_by_word('행복')"
   ]
  },
  {
   "cell_type": "markdown",
   "id": "365ba111",
   "metadata": {},
   "source": [
    "### pretrained 된 Word2Vector 가져오기"
   ]
  },
  {
   "cell_type": "code",
   "execution_count": 64,
   "id": "0169447a",
   "metadata": {},
   "outputs": [],
   "source": [
    "from gensim.models.keyedvectors import Word2VecKeyedVectors"
   ]
  },
  {
   "cell_type": "code",
   "execution_count": 65,
   "id": "ea3c924e",
   "metadata": {},
   "outputs": [],
   "source": [
    "w2v_path = '/aiffel/data/word2vec_ko.model'\n",
    "w2v_ko = Word2VecKeyedVectors.load(w2v_path)"
   ]
  },
  {
   "cell_type": "code",
   "execution_count": 66,
   "id": "9d00dc4b",
   "metadata": {},
   "outputs": [],
   "source": [
    "ko_vector = w2v_ko.wv"
   ]
  },
  {
   "cell_type": "code",
   "execution_count": 67,
   "id": "8b831254",
   "metadata": {},
   "outputs": [
    {
     "data": {
      "text/plain": [
       "[('사랑', 0.7550067901611328),\n",
       " ('소중', 0.7270511388778687),\n",
       " ('고독', 0.7223575711250305),\n",
       " ('영원', 0.7196939587593079),\n",
       " ('친절', 0.7095474600791931),\n",
       " ('평온', 0.7088841199874878),\n",
       " ('삶', 0.6893891096115112),\n",
       " ('안녕', 0.6871559023857117),\n",
       " ('애틋', 0.6864286065101624),\n",
       " ('꿈', 0.6853601932525635)]"
      ]
     },
     "execution_count": 67,
     "metadata": {},
     "output_type": "execute_result"
    }
   ],
   "source": [
    "ko_vector.most_similar('행복')"
   ]
  },
  {
   "cell_type": "code",
   "execution_count": 68,
   "id": "a2b78c7c",
   "metadata": {
    "scrolled": true
   },
   "outputs": [
    {
     "data": {
      "text/plain": [
       "[('슬피', 0.7097666263580322),\n",
       " ('고마워', 0.6790604591369629),\n",
       " ('투정', 0.6726022958755493),\n",
       " ('안타까운', 0.6714802384376526),\n",
       " ('문득', 0.6714770197868347),\n",
       " ('차마', 0.6682374477386475),\n",
       " ('소리쳐', 0.6670060753822327),\n",
       " ('화났', 0.6648606657981873),\n",
       " ('두렵', 0.6606371998786926),\n",
       " ('무서워', 0.6601041555404663)]"
      ]
     },
     "execution_count": 68,
     "metadata": {},
     "output_type": "execute_result"
    }
   ],
   "source": [
    "ko_vector.similar_by_word('슬퍼')"
   ]
  },
  {
   "cell_type": "markdown",
   "id": "ca381cbe",
   "metadata": {},
   "source": [
    "### 키워드를 통한 두 word2vec 비교\n",
    "- pretrained된 모델이 보다 유사한 단어를 잘 찾는다"
   ]
  },
  {
   "cell_type": "code",
   "execution_count": 69,
   "id": "53a9d3d8",
   "metadata": {
    "scrolled": true
   },
   "outputs": [
    {
     "data": {
      "text/plain": [
       "([('사랑', 0.7550067901611328),\n",
       "  ('소중', 0.7270511388778687),\n",
       "  ('고독', 0.7223575711250305),\n",
       "  ('영원', 0.7196939587593079),\n",
       "  ('친절', 0.7095474600791931),\n",
       "  ('평온', 0.7088841199874878),\n",
       "  ('삶', 0.6893891096115112),\n",
       "  ('안녕', 0.6871559023857117),\n",
       "  ('애틋', 0.6864286065101624),\n",
       "  ('꿈', 0.6853601932525635)],\n",
       " [('센', 0.9639433026313782),\n",
       "  ('희망', 0.9605365991592407),\n",
       "  ('보냅니다', 0.9562159776687622),\n",
       "  ('즐겼', 0.953188955783844),\n",
       "  ('어염', 0.9496724009513855),\n",
       "  ('강렬', 0.9481985569000244),\n",
       "  ('좋', 0.948058009147644),\n",
       "  ('명화', 0.9477666020393372),\n",
       "  ('♥♥♥', 0.9471548199653625),\n",
       "  ('지나갈', 0.9462836980819702)])"
      ]
     },
     "execution_count": 69,
     "metadata": {},
     "output_type": "execute_result"
    }
   ],
   "source": [
    "ko_vector.most_similar('행복'), word_vectors.similar_by_word('행복')"
   ]
  },
  {
   "cell_type": "code",
   "execution_count": 70,
   "id": "81a46c42",
   "metadata": {},
   "outputs": [
    {
     "data": {
      "text/plain": [
       "([('답답', 0.8710565567016602),\n",
       "  ('침울', 0.8464549779891968),\n",
       "  ('불쾌', 0.8188039064407349),\n",
       "  ('지루', 0.8179979920387268),\n",
       "  ('지저분', 0.8096989393234253),\n",
       "  ('허약', 0.7951755523681641),\n",
       "  ('의아', 0.7921768426895142),\n",
       "  ('난감', 0.7833302021026611),\n",
       "  ('교만', 0.7797324657440186),\n",
       "  ('쓸쓸', 0.779271125793457)],\n",
       " [('뇌', 0.9289692044258118),\n",
       "  ('어야', 0.9010066390037537),\n",
       "  ('망칠', 0.8874727487564087),\n",
       "  ('극히', 0.8872160315513611),\n",
       "  ('집어넣', 0.8837655782699585),\n",
       "  ('소나', 0.8830259442329407),\n",
       "  ('강혜정', 0.8799295425415039),\n",
       "  ('살릴', 0.8790537118911743),\n",
       "  ('이정재', 0.8784809112548828),\n",
       "  ('.,', 0.8780664205551147)])"
      ]
     },
     "execution_count": 70,
     "metadata": {},
     "output_type": "execute_result"
    }
   ],
   "source": [
    "ko_vector.most_similar('피곤'), word_vectors.similar_by_word('피곤')"
   ]
  },
  {
   "cell_type": "markdown",
   "id": "1bed13e2",
   "metadata": {},
   "source": [
    "## pretrained 된 word2vector 사용하기"
   ]
  },
  {
   "cell_type": "code",
   "execution_count": 71,
   "id": "7510f951",
   "metadata": {},
   "outputs": [],
   "source": [
    "voca_size = 10000\n",
    "word_vector_dim = ko_vector.vector_size\n",
    "embedding_matrix = np.random.rand(voca_size, word_vector_dim)"
   ]
  },
  {
   "cell_type": "code",
   "execution_count": 72,
   "id": "6697ab4b",
   "metadata": {},
   "outputs": [],
   "source": [
    "for i in range(4,voca_size):\n",
    "    if index_to_word[i] in ko_vector:\n",
    "        embedding_matrix[i] = ko_vector[index_to_word[i]]"
   ]
  },
  {
   "cell_type": "code",
   "execution_count": 73,
   "id": "bd7f2ccd",
   "metadata": {},
   "outputs": [
    {
     "data": {
      "text/plain": [
       "(10000, 100)"
      ]
     },
     "execution_count": 73,
     "metadata": {},
     "output_type": "execute_result"
    }
   ],
   "source": [
    "embedding_matrix.shape"
   ]
  },
  {
   "cell_type": "code",
   "execution_count": 74,
   "id": "3014e804",
   "metadata": {},
   "outputs": [],
   "source": [
    "from tensorflow.keras.initializers import Constant"
   ]
  },
  {
   "cell_type": "code",
   "execution_count": 75,
   "id": "838fcfef",
   "metadata": {},
   "outputs": [],
   "source": [
    "def get_lstm_model(input_shape, voca_size, word_vector_dim):\n",
    "    inputs = keras.Input(shape=input_shape)\n",
    "    x = keras.layers.Embedding(\n",
    "            voca_size, word_vector_dim, embeddings_initializer=Constant(embedding_matrix), trainable=True\n",
    "        )(inputs)\n",
    "    x = keras.layers.LSTM(100)(x)\n",
    "    x = keras.layers.Dropout(0.3)(x)\n",
    "    x = keras.layers.Dense(10, activation='relu')(x)\n",
    "    outputs = keras.layers.Dense(1, activation='sigmoid')(x)\n",
    "    \n",
    "    return keras.Model(inputs,outputs)"
   ]
  },
  {
   "cell_type": "code",
   "execution_count": 76,
   "id": "0dda7c81",
   "metadata": {},
   "outputs": [
    {
     "name": "stdout",
     "output_type": "stream",
     "text": [
      "10000 100\n",
      "Model: \"model_3\"\n",
      "_________________________________________________________________\n",
      "Layer (type)                 Output Shape              Param #   \n",
      "=================================================================\n",
      "input_4 (InputLayer)         [(None, 41)]              0         \n",
      "_________________________________________________________________\n",
      "embedding_3 (Embedding)      (None, 41, 100)           1000000   \n",
      "_________________________________________________________________\n",
      "lstm_1 (LSTM)                (None, 100)               80400     \n",
      "_________________________________________________________________\n",
      "dropout_3 (Dropout)          (None, 100)               0         \n",
      "_________________________________________________________________\n",
      "dense_7 (Dense)              (None, 10)                1010      \n",
      "_________________________________________________________________\n",
      "dense_8 (Dense)              (None, 1)                 11        \n",
      "=================================================================\n",
      "Total params: 1,081,421\n",
      "Trainable params: 1,081,421\n",
      "Non-trainable params: 0\n",
      "_________________________________________________________________\n"
     ]
    }
   ],
   "source": [
    "print(voca_size, word_vector_dim)\n",
    "lstm_model = get_lstm_model(input_shape, voca_size, word_vector_dim)\n",
    "lstm_model.summary()"
   ]
  },
  {
   "cell_type": "code",
   "execution_count": 77,
   "id": "bfe3c2aa",
   "metadata": {
    "scrolled": false
   },
   "outputs": [
    {
     "name": "stdout",
     "output_type": "stream",
     "text": [
      "Epoch 1/10\n",
      "229/229 [==============================] - 4s 12ms/step - loss: 0.4969 - accuracy: 0.7541 - val_loss: 0.4027 - val_accuracy: 0.8195\n",
      "Epoch 2/10\n",
      "229/229 [==============================] - 2s 10ms/step - loss: 0.3738 - accuracy: 0.8345 - val_loss: 0.3569 - val_accuracy: 0.8426\n",
      "Epoch 3/10\n",
      "229/229 [==============================] - 2s 10ms/step - loss: 0.3246 - accuracy: 0.8592 - val_loss: 0.3416 - val_accuracy: 0.8486\n",
      "Epoch 4/10\n",
      "229/229 [==============================] - 2s 10ms/step - loss: 0.2969 - accuracy: 0.8742 - val_loss: 0.3380 - val_accuracy: 0.8542\n",
      "Epoch 5/10\n",
      "229/229 [==============================] - 2s 10ms/step - loss: 0.2746 - accuracy: 0.8854 - val_loss: 0.3349 - val_accuracy: 0.8581\n",
      "Epoch 6/10\n",
      "229/229 [==============================] - 2s 10ms/step - loss: 0.2555 - accuracy: 0.8947 - val_loss: 0.3289 - val_accuracy: 0.8596\n",
      "Epoch 7/10\n",
      "229/229 [==============================] - 2s 10ms/step - loss: 0.2401 - accuracy: 0.9029 - val_loss: 0.3339 - val_accuracy: 0.8583\n",
      "Epoch 8/10\n",
      "229/229 [==============================] - 2s 10ms/step - loss: 0.2235 - accuracy: 0.9105 - val_loss: 0.3407 - val_accuracy: 0.8587\n",
      "Epoch 9/10\n",
      "229/229 [==============================] - 2s 10ms/step - loss: 0.2085 - accuracy: 0.9185 - val_loss: 0.3759 - val_accuracy: 0.8482\n",
      "Epoch 10/10\n",
      "229/229 [==============================] - 2s 10ms/step - loss: 0.1981 - accuracy: 0.9229 - val_loss: 0.3656 - val_accuracy: 0.8550\n"
     ]
    }
   ],
   "source": [
    "lstm_model.compile(\n",
    "    optimizer = 'adam',\n",
    "    loss='binary_crossentropy',\n",
    "    metrics=['accuracy']\n",
    ")\n",
    "\n",
    "epochs = 10\n",
    "\n",
    "history_lstm = lstm_model.fit(\n",
    "    train_x, train_y,\n",
    "    validation_data=(val_x, val_y),\n",
    "    epochs = epochs,\n",
    "    batch_size=512\n",
    ")"
   ]
  },
  {
   "cell_type": "code",
   "execution_count": 78,
   "id": "b859c5b7",
   "metadata": {},
   "outputs": [
    {
     "name": "stdout",
     "output_type": "stream",
     "text": [
      "1537/1537 - 3s - loss: 0.3619 - accuracy: 0.8580\n",
      "{'loss': 0.36191555857658386, 'acc': 0.8579856157302856}\n"
     ]
    }
   ],
   "source": [
    "pre_lstm_loss, pre_lstm_acc = lstm_model.evaluate(x_test,  y_test, verbose=2)\n",
    "\n",
    "results['pre_lstm'] = {\n",
    "    'loss': pre_lstm_loss,\n",
    "    'acc': pre_lstm_acc\n",
    "}\n",
    "print(results['pre_lstm'])"
   ]
  },
  {
   "cell_type": "code",
   "execution_count": 79,
   "id": "43f14151",
   "metadata": {},
   "outputs": [
    {
     "data": {
      "image/png": "[encoded data removed]",
      "text/plain": [
       "<Figure size 432x288 with 1 Axes>"
      ]
     },
     "metadata": {
      "needs_background": "light"
     },
     "output_type": "display_data"
    },
    {
     "data": {
      "image/png": "[encoded data removed]",
      "text/plain": [
       "<Figure size 432x288 with 1 Axes>"
      ]
     },
     "metadata": {
      "needs_background": "light"
     },
     "output_type": "display_data"
    }
   ],
   "source": [
    "plt.plot(range(1,epochs+1), history_lstm.history['loss'], 'r', label='loss')\n",
    "plt.plot(range(1,epochs+1), history_lstm.history['val_loss'], 'b', label='val_loss')\n",
    "plt.legend()\n",
    "plt.show()\n",
    "\n",
    "plt.plot(range(1,epochs+1), history_lstm.history['accuracy'], 'r', label='train')\n",
    "plt.plot(range(1,epochs+1), history_lstm.history['val_accuracy'], 'b', label='val')\n",
    "plt.legend()\n",
    "plt.show()"
   ]
  },
  {
   "cell_type": "code",
   "execution_count": 80,
   "id": "083cf981",
   "metadata": {},
   "outputs": [
    {
     "data": {
      "text/plain": [
       "{'dense': {'loss': 0.6746910214424133, 'acc': 0.5445721745491028},\n",
       " 'conv': {'loss': 0.5582380890846252, 'acc': 0.8187643885612488},\n",
       " 'lstm': {'loss': 0.4729917645454407, 'acc': 0.843521773815155},\n",
       " 'pre_lstm': {'loss': 0.36191555857658386, 'acc': 0.8579856157302856}}"
      ]
     },
     "execution_count": 80,
     "metadata": {},
     "output_type": "execute_result"
    }
   ],
   "source": [
    "results"
   ]
  },
  {
   "cell_type": "markdown",
   "id": "b79f18e3",
   "metadata": {},
   "source": [
    "## 회고\n",
    "\n",
    "### 이번 실험에 대한 생각\n",
    "- Dense, Conv1d와 비교했을 때 lstm이 뛰어남\n",
    "- 자체 제작된 word2vector와 pretrained word2vector 비교\n",
    "    - pretrained가 더 similar한 단어를 잘 찾긴 했음\n",
    "- pretrained된 word2vector를 lstm에 적용했을 때, 1% 정확도 향상이 있음\n",
    "    - pretrained된 word2vector가 기준 단어와 유사한 단어를 찾는 걸 체감상 꽤나 잘 찾는 것에 비해 정확도에 큰 차이는 없음\n",
    "\n",
    "### 알아간 것\n",
    "- 다양한 모델 임의 제작\n",
    "- word2vector 제작 방법\n",
    "- konlpy, gensim 등 다양한 라이브러리 사용법 등"
   ]
  }
 ],
 "metadata": {
  "kernelspec": {
   "display_name": "Python 3 (ipykernel)",
   "language": "python",
   "name": "python3"
  },
  "language_info": {
   "codemirror_mode": {
    "name": "ipython",
    "version": 3
   },
   "file_extension": ".py",
   "mimetype": "text/x-python",
   "name": "python",
   "nbconvert_exporter": "python",
   "pygments_lexer": "ipython3",
   "version": "3.9.7"
  }
 },
 "nbformat": 4,
 "nbformat_minor": 5
}
