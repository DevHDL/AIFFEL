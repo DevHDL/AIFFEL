{
 "cells": [
  {
   "cell_type": "code",
   "execution_count": 1,
   "id": "3c8564e3",
   "metadata": {},
   "outputs": [],
   "source": [
    "import tensorflow as tf\n",
    "import re\n",
    "import pandas as pd\n",
    "import numpy as np"
   ]
  },
  {
   "cell_type": "markdown",
   "id": "062b309d",
   "metadata": {},
   "source": [
    "## 데이터 불러오기"
   ]
  },
  {
   "cell_type": "code",
   "execution_count": 2,
   "id": "a7eed7ba",
   "metadata": {},
   "outputs": [],
   "source": [
    "#!curl -L -O https://raw.githubusercontent.com/songys/Chatbot_data/master/ChatbotData.csv"
   ]
  },
  {
   "cell_type": "code",
   "execution_count": 3,
   "id": "17b312f7",
   "metadata": {},
   "outputs": [],
   "source": [
    "df_origin = pd.read_csv('ChatbotData.csv')"
   ]
  },
  {
   "cell_type": "code",
   "execution_count": 4,
   "id": "3b57278b",
   "metadata": {},
   "outputs": [
    {
     "name": "stdout",
     "output_type": "stream",
     "text": [
      "<class 'pandas.core.frame.DataFrame'>\n",
      "RangeIndex: 11823 entries, 0 to 11822\n",
      "Data columns (total 3 columns):\n",
      " #   Column  Non-Null Count  Dtype \n",
      "---  ------  --------------  ----- \n",
      " 0   Q       11823 non-null  object\n",
      " 1   A       11823 non-null  object\n",
      " 2   label   11823 non-null  int64 \n",
      "dtypes: int64(1), object(2)\n",
      "memory usage: 277.2+ KB\n"
     ]
    }
   ],
   "source": [
    "df_origin.info()"
   ]
  },
  {
   "cell_type": "code",
   "execution_count": 5,
   "id": "9f9f6360",
   "metadata": {},
   "outputs": [
    {
     "data": {
      "text/html": [
       "<div>\n",
       "<style scoped>\n",
       "    .dataframe tbody tr th:only-of-type {\n",
       "        vertical-align: middle;\n",
       "    }\n",
       "\n",
       "    .dataframe tbody tr th {\n",
       "        vertical-align: top;\n",
       "    }\n",
       "\n",
       "    .dataframe thead th {\n",
       "        text-align: right;\n",
       "    }\n",
       "</style>\n",
       "<table border=\"1\" class=\"dataframe\">\n",
       "  <thead>\n",
       "    <tr style=\"text-align: right;\">\n",
       "      <th></th>\n",
       "      <th>Q</th>\n",
       "      <th>A</th>\n",
       "      <th>label</th>\n",
       "    </tr>\n",
       "  </thead>\n",
       "  <tbody>\n",
       "    <tr>\n",
       "      <th>0</th>\n",
       "      <td>12시 땡!</td>\n",
       "      <td>하루가 또 가네요.</td>\n",
       "      <td>0</td>\n",
       "    </tr>\n",
       "    <tr>\n",
       "      <th>1</th>\n",
       "      <td>1지망 학교 떨어졌어</td>\n",
       "      <td>위로해 드립니다.</td>\n",
       "      <td>0</td>\n",
       "    </tr>\n",
       "    <tr>\n",
       "      <th>2</th>\n",
       "      <td>3박4일 놀러가고 싶다</td>\n",
       "      <td>여행은 언제나 좋죠.</td>\n",
       "      <td>0</td>\n",
       "    </tr>\n",
       "    <tr>\n",
       "      <th>3</th>\n",
       "      <td>3박4일 정도 놀러가고 싶다</td>\n",
       "      <td>여행은 언제나 좋죠.</td>\n",
       "      <td>0</td>\n",
       "    </tr>\n",
       "    <tr>\n",
       "      <th>4</th>\n",
       "      <td>PPL 심하네</td>\n",
       "      <td>눈살이 찌푸려지죠.</td>\n",
       "      <td>0</td>\n",
       "    </tr>\n",
       "  </tbody>\n",
       "</table>\n",
       "</div>"
      ],
      "text/plain": [
       "                 Q            A  label\n",
       "0           12시 땡!   하루가 또 가네요.      0\n",
       "1      1지망 학교 떨어졌어    위로해 드립니다.      0\n",
       "2     3박4일 놀러가고 싶다  여행은 언제나 좋죠.      0\n",
       "3  3박4일 정도 놀러가고 싶다  여행은 언제나 좋죠.      0\n",
       "4          PPL 심하네   눈살이 찌푸려지죠.      0"
      ]
     },
     "execution_count": 5,
     "metadata": {},
     "output_type": "execute_result"
    }
   ],
   "source": [
    "df_origin.head(5)"
   ]
  },
  {
   "cell_type": "code",
   "execution_count": 6,
   "id": "4d62653a",
   "metadata": {},
   "outputs": [],
   "source": [
    "def preprocess_sentence(sentence):\n",
    "    sentence = re.sub(r'([?.!,])', r' \\1', sentence)\n",
    "    sentence = re.sub(r'[\" \"]+', ' ', sentence)\n",
    "    sentence = sentence.strip()\n",
    "    return sentence"
   ]
  },
  {
   "cell_type": "code",
   "execution_count": 7,
   "id": "aa921058",
   "metadata": {},
   "outputs": [
    {
     "data": {
      "text/plain": [
       "'게임도 이제 재미없어'"
      ]
     },
     "execution_count": 7,
     "metadata": {},
     "output_type": "execute_result"
    }
   ],
   "source": [
    "preprocess_sentence(preprocess_sentence(df_origin.loc[130,'Q']))"
   ]
  },
  {
   "cell_type": "markdown",
   "id": "ff96c0fe",
   "metadata": {},
   "source": [
    "## Subword Text Encoder"
   ]
  },
  {
   "cell_type": "code",
   "execution_count": 8,
   "id": "bfa92084",
   "metadata": {},
   "outputs": [
    {
     "data": {
      "text/plain": [
       "(11823, 11823)"
      ]
     },
     "execution_count": 8,
     "metadata": {},
     "output_type": "execute_result"
    }
   ],
   "source": [
    "# question, answer로 분할\n",
    "questions = df_origin['Q'].tolist()\n",
    "answers = df_origin['A'].tolist()\n",
    "len(questions), len(answers)"
   ]
  },
  {
   "cell_type": "code",
   "execution_count": 9,
   "id": "432f71d5",
   "metadata": {},
   "outputs": [],
   "source": [
    "import tensorflow_datasets as tfds\n",
    "# subword 기준으로 tokenizing\n",
    "tokenizer = tfds.deprecated.text.SubwordTextEncoder.build_from_corpus(\n",
    "    questions + answers, target_vocab_size=2**13\n",
    ")"
   ]
  },
  {
   "cell_type": "code",
   "execution_count": 10,
   "id": "040bb87d",
   "metadata": {},
   "outputs": [
    {
     "name": "stdout",
     "output_type": "stream",
     "text": [
      "8170\n"
     ]
    }
   ],
   "source": [
    "print(tokenizer.vocab_size)"
   ]
  },
  {
   "cell_type": "code",
   "execution_count": 11,
   "id": "55714e45",
   "metadata": {},
   "outputs": [
    {
     "data": {
      "text/plain": [
       "([8170], [8171], [8172])"
      ]
     },
     "execution_count": 11,
     "metadata": {},
     "output_type": "execute_result"
    }
   ],
   "source": [
    "# 시작 토큰과 종료 토큰에 고유한 정수를 부여\n",
    "START_TOKEN, DELIMITER_TOKEN, END_TOKEN  = [tokenizer.vocab_size], [tokenizer.vocab_size + 1], [tokenizer.vocab_size + 2]\n",
    "START_TOKEN, DELIMITER_TOKEN, END_TOKEN"
   ]
  },
  {
   "cell_type": "code",
   "execution_count": 12,
   "id": "dd533e25",
   "metadata": {},
   "outputs": [
    {
     "name": "stdout",
     "output_type": "stream",
     "text": [
      "8173\n"
     ]
    }
   ],
   "source": [
    "VOCAB_SIZE = tokenizer.vocab_size + 3\n",
    "print(VOCAB_SIZE)"
   ]
  },
  {
   "cell_type": "code",
   "execution_count": 13,
   "id": "2ec8b6ec",
   "metadata": {},
   "outputs": [
    {
     "name": "stdout",
     "output_type": "stream",
     "text": [
      "정수 인코딩 후의 21번째 질문 샘플: [5759, 607, 2490, 4160]\n",
      "정수 인코딩 후의 21번째 답변 샘플: [2353, 7510, 5, 6273, 94, 7960]\n"
     ]
    }
   ],
   "source": [
    "print('정수 인코딩 후의 21번째 질문 샘플: {}'.format(tokenizer.encode(questions[21])))\n",
    "print('정수 인코딩 후의 21번째 답변 샘플: {}'.format(tokenizer.encode(answers[21])))"
   ]
  },
  {
   "cell_type": "code",
   "execution_count": 14,
   "id": "ff5f439b",
   "metadata": {},
   "outputs": [],
   "source": [
    "# MAX_LENGTH\n",
    "MAX_LENGTH = 40"
   ]
  },
  {
   "attachments": {
    "image.png": {
     "image/png": "[encoded data removed]"
    }
   },
   "cell_type": "markdown",
   "id": "c7e52d6c",
   "metadata": {},
   "source": [
    "### 데이터셋 만들기\n",
    "\n",
    "**참고**\n",
    "![image.png](attachment:image.png)\n",
    "\n",
    "- START + Question + DELIMITER + Answer + END 순으로 데이터 생성"
   ]
  },
  {
   "cell_type": "code",
   "execution_count": 15,
   "id": "1782b79a",
   "metadata": {},
   "outputs": [],
   "source": [
    "# 정수 인코딩, 최대 길이를 초과하는 샘플 제거, 패딩\n",
    "def tokenize_and_filter(inputs, outputs):\n",
    "    tokenized_sentence = []\n",
    "\n",
    "    for (sentence1, sentence2) in zip(inputs, outputs):\n",
    "        sentence = START_TOKEN + tokenizer.encode(sentence1) + DELIMITER_TOKEN + tokenizer.encode(sentence2) + END_TOKEN\n",
    "\n",
    "        if len(sentence) <= MAX_LENGTH:\n",
    "            tokenized_sentence.append(sentence)\n",
    "\n",
    "    # 최대 길이로 모든 데이터셋을 패딩\n",
    "    tokenized_sentence = tf.keras.preprocessing.sequence.pad_sequences(tokenized_sentence, maxlen=MAX_LENGTH, padding='post')\n",
    "    \n",
    "    return tokenized_sentence"
   ]
  },
  {
   "cell_type": "code",
   "execution_count": 16,
   "id": "df319730",
   "metadata": {},
   "outputs": [
    {
     "name": "stdout",
     "output_type": "stream",
     "text": [
      "단어장의 크기 : 8173\n",
      "필터링 후의 질문 샘플 개수: 11822\n"
     ]
    }
   ],
   "source": [
    "tokenized_sentence = tokenize_and_filter(questions, answers)\n",
    "    \n",
    "print('단어장의 크기 :',(VOCAB_SIZE))\n",
    "print('필터링 후의 질문 샘플 개수: {}'.format(len(tokenized_sentence)))"
   ]
  },
  {
   "cell_type": "code",
   "execution_count": 17,
   "id": "947e217d",
   "metadata": {},
   "outputs": [
    {
     "name": "stdout",
     "output_type": "stream",
     "text": [
      "[8170 5772  480  191 2978   42 3811 8171 6340   45 1624  330 7960 8172\n",
      "    0    0    0    0    0    0    0    0    0    0    0    0    0    0\n",
      "    0    0    0    0    0    0    0    0    0    0    0    0]\n"
     ]
    }
   ],
   "source": [
    "print(tokenized_sentence[10])"
   ]
  },
  {
   "cell_type": "code",
   "execution_count": 18,
   "id": "84e9f2d4",
   "metadata": {},
   "outputs": [],
   "source": [
    "BATCH_SIZE = 64\n",
    "BUFFER_SIZE = 20000\n",
    "\n",
    "# 디코더는 이전의 target을 다음의 input으로 사용합니다.\n",
    "# 이에 따라 outputs에서는 START_TOKEN을 제거하겠습니다.\n",
    "dataset = tf.data.Dataset.from_tensor_slices((\n",
    "    {\n",
    "        'dec_inputs': tokenized_sentence[:, :-1],\n",
    "    },\n",
    "    {\n",
    "        'outputs': tokenized_sentence[:, 1:],\n",
    "    }\n",
    "))\n",
    "\n",
    "dataset = dataset.cache()\n",
    "dataset = dataset.shuffle(BUFFER_SIZE)\n",
    "dataset = dataset.batch(BATCH_SIZE)\n",
    "dataset = dataset.prefetch(tf.data.experimental.AUTOTUNE)"
   ]
  },
  {
   "cell_type": "code",
   "execution_count": 19,
   "id": "2622203c",
   "metadata": {},
   "outputs": [
    {
     "name": "stdout",
     "output_type": "stream",
     "text": [
      "[8170 7909 4200 3054 7947 8171 3837   71 7888 7960 8172    0    0    0\n",
      "    0    0    0    0    0    0    0    0    0    0    0    0    0    0\n",
      "    0    0    0    0    0    0    0    0    0    0    0]\n",
      "[7909 4200 3054 7947 8171 3837   71 7888 7960 8172    0    0    0    0\n",
      "    0    0    0    0    0    0    0    0    0    0    0    0    0    0\n",
      "    0    0    0    0    0    0    0    0    0    0    0]\n"
     ]
    }
   ],
   "source": [
    "print(tokenized_sentence[:, :-1][0])\n",
    "print(tokenized_sentence[:, 1:][0])"
   ]
  },
  {
   "attachments": {
    "image.png": {
     "image/png": "[encoded data removed]"
    }
   },
   "cell_type": "markdown",
   "id": "b7de3818",
   "metadata": {},
   "source": [
    "## GPT 모델 구성하기\n",
    "\n",
    "**GPT Model**\n",
    "![image.png](attachment:image.png)\n",
    "\n",
    "**Transformer model과의 차이점**\n",
    "\n",
    "- Encoder, Encoder_layer, Encoder-Decoder Attention 등 삭제\n",
    "    - GPT 모델에는 Encoder가 존재하지 않음"
   ]
  },
  {
   "cell_type": "code",
   "execution_count": 20,
   "id": "406f2d10",
   "metadata": {},
   "outputs": [],
   "source": [
    "class PositionalEncoding(tf.keras.layers.Layer):\n",
    "    \n",
    "    # 최대 문장 길이와 임베딩 벡터의 차원을 변수로 받음\n",
    "    def __init__(self, position, d_model):\n",
    "        super(PositionalEncoding, self).__init__()\n",
    "        self.pos_encoding = self.positional_encoding(position, d_model)\n",
    "        \n",
    "    # 각도 생성\n",
    "    # positional encoding의 vector 수식 참조\n",
    "    # angles = 1 / 10000^(2i/d_model)\n",
    "    def get_angles(self, position, i, d_model):\n",
    "        angles = 1 / tf.pow(10000, (2 * (i // 2)) / tf.cast(d_model, tf.float32))\n",
    "        return position * angles\n",
    "\n",
    "    def positional_encoding(self, position, d_model):\n",
    "        # 각도 배열 생성\n",
    "        angle_rads = self.get_angles(\n",
    "            position=tf.range(position, dtype=tf.float32)[:, tf.newaxis],\n",
    "            i=tf.range(d_model, dtype=tf.float32)[tf.newaxis, :],\n",
    "            d_model=d_model)\n",
    "\n",
    "        # 배열의 짝수 인덱스에는 sin 함수 적용\n",
    "        sines = tf.math.sin(angle_rads[:, 0::2])\n",
    "        # 배열의 홀수 인덱스에는 cosine 함수 적용\n",
    "        cosines = tf.math.cos(angle_rads[:, 1::2])\n",
    "\n",
    "        # sin과 cosine이 교차되도록 재배열\n",
    "        pos_encoding = tf.stack([sines, cosines], axis=0)\n",
    "        pos_encoding = tf.transpose(pos_encoding,[1, 2, 0]) \n",
    "        pos_encoding = tf.reshape(pos_encoding, [position, d_model])\n",
    "\n",
    "        pos_encoding = pos_encoding[tf.newaxis, ...]\n",
    "        return tf.cast(pos_encoding, tf.float32)\n",
    "\n",
    "    def call(self, inputs):\n",
    "        return inputs + self.pos_encoding[:, :tf.shape(inputs)[1], :]"
   ]
  },
  {
   "cell_type": "code",
   "execution_count": 21,
   "id": "5f39cd03",
   "metadata": {},
   "outputs": [],
   "source": [
    "# 스케일드 닷 프로덕트 어텐션 함수\n",
    "def scaled_dot_product_attention(query, key, value, mask):\n",
    "    # 어텐션 가중치는 Q와 K의 닷 프로덕트\n",
    "    matmul_qk = tf.matmul(query, key, transpose_b=True)\n",
    "\n",
    "    # 가중치를 정규화\n",
    "    depth = tf.cast(tf.shape(key)[-1], tf.float32)\n",
    "    logits = matmul_qk / tf.math.sqrt(depth)\n",
    "\n",
    "    # 패딩에 마스크 추가\n",
    "    if mask is not None:\n",
    "        logits += (mask * -1e9)\n",
    "\n",
    "    # softmax적용\n",
    "    attention_weights = tf.nn.softmax(logits, axis=-1)\n",
    "\n",
    "    # 최종 어텐션은 가중치와 V의 닷 프로덕트\n",
    "    output = tf.matmul(attention_weights, value)\n",
    "    return output"
   ]
  },
  {
   "cell_type": "code",
   "execution_count": 22,
   "id": "2524668b",
   "metadata": {},
   "outputs": [],
   "source": [
    "class MultiHeadAttention(tf.keras.layers.Layer):\n",
    "\n",
    "    def __init__(self, d_model, num_heads, name=\"multi_head_attention\"):\n",
    "        super(MultiHeadAttention, self).__init__(name=name)\n",
    "        self.num_heads = num_heads\n",
    "        self.d_model = d_model\n",
    "\n",
    "        assert d_model % self.num_heads == 0\n",
    "\n",
    "        self.depth = d_model // self.num_heads\n",
    "\n",
    "        self.query_dense = tf.keras.layers.Dense(units=d_model)\n",
    "        self.key_dense = tf.keras.layers.Dense(units=d_model)\n",
    "        self.value_dense = tf.keras.layers.Dense(units=d_model)\n",
    "\n",
    "        self.dense = tf.keras.layers.Dense(units=d_model)\n",
    "\n",
    "    def split_heads(self, inputs, batch_size):\n",
    "        inputs = tf.reshape(\n",
    "            inputs, shape=(batch_size, -1, self.num_heads, self.depth))\n",
    "        return tf.transpose(inputs, perm=[0, 2, 1, 3])\n",
    "\n",
    "    def call(self, inputs):\n",
    "        query, key, value, mask = inputs['query'], inputs['key'], inputs[\n",
    "            'value'], inputs['mask']\n",
    "        batch_size = tf.shape(query)[0]\n",
    "\n",
    "        # Q, K, V에 각각 Dense를 적용합니다\n",
    "        query = self.query_dense(query)\n",
    "        key = self.key_dense(key)\n",
    "        value = self.value_dense(value)\n",
    "\n",
    "        # 병렬 연산을 위한 머리를 여러 개 만듭니다\n",
    "        query = self.split_heads(query, batch_size)\n",
    "        key = self.split_heads(key, batch_size)\n",
    "        value = self.split_heads(value, batch_size)\n",
    "\n",
    "        # 스케일드 닷 프로덕트 어텐션 함수\n",
    "        scaled_attention = scaled_dot_product_attention(query, key, value, mask)\n",
    "\n",
    "        scaled_attention = tf.transpose(scaled_attention, perm=[0, 2, 1, 3])\n",
    "\n",
    "        # 어텐션 연산 후에 각 결과를 다시 연결(concatenate)합니다\n",
    "        concat_attention = tf.reshape(scaled_attention,\n",
    "                                      (batch_size, -1, self.d_model))\n",
    "\n",
    "        # 최종 결과에도 Dense를 한 번 더 적용합니다\n",
    "        outputs = self.dense(concat_attention)\n",
    "\n",
    "        return outputs"
   ]
  },
  {
   "cell_type": "code",
   "execution_count": 23,
   "id": "0a29f526",
   "metadata": {},
   "outputs": [],
   "source": [
    "def create_padding_mask(x):\n",
    "    mask = tf.cast(tf.math.equal(x, 0), tf.float32)\n",
    "    # (batch_size, 1, 1, sequence length)\n",
    "    # tf.newaxis : 새로운 차원 추가\n",
    "    return mask[:, tf.newaxis, tf.newaxis, :]"
   ]
  },
  {
   "cell_type": "code",
   "execution_count": 24,
   "id": "ef0dd962",
   "metadata": {},
   "outputs": [],
   "source": [
    "# tf.linalg.band_part(tensor, -1, 0)\n",
    "# [[1,0,0],\n",
    "# [1,1,0]\n",
    "# [1,1,1]]\n",
    "def create_look_ahead_mask(x):\n",
    "    seq_len = tf.shape(x)[1]\n",
    "    look_ahead_mask = 1 - tf.linalg.band_part(tf.ones((seq_len, seq_len)), -1, 0)\n",
    "    padding_mask = create_padding_mask(x)\n",
    "    return tf.maximum(look_ahead_mask, padding_mask)"
   ]
  },
  {
   "cell_type": "markdown",
   "id": "b8af125a",
   "metadata": {},
   "source": [
    "### Decode Layer\n",
    "\n",
    "**Transformer Model과의 차이점**\n",
    "- enc_outputs, padding_mask 삭제\n",
    "    - Encoder-Decoder Multi head Attention 삭제에 따른 연관 변수들 삭제\n",
    "- attenion2 삭제\n",
    "    - Encoder-Decoder Multihead Attention 구현 코드이므로 GPT에서는 불필요하므로 삭제\n",
    "- Dense(attention1)\n",
    "    - Dense에 입력으로 attention1(Masked Attention)으로 변경\n",
    "- outputs = tf.keras.layers.LayerNormalization(epsilon=1e-6)(outputs + attention1)\n",
    "    - 이후 LayerNormalization에서 FFNN 출력과 Masked Attention의 출력을 LayerNorm의 입력으로 변경"
   ]
  },
  {
   "cell_type": "code",
   "execution_count": 25,
   "id": "5148cc9b",
   "metadata": {},
   "outputs": [],
   "source": [
    "# 디코더 하나의 레이어를 함수로 구현.\n",
    "# 이 하나의 레이어 안에는 세 개의 서브 레이어가 존재합니다.\n",
    "def decoder_layer(units, d_model, num_heads, dropout, name=\"decoder_layer\"):\n",
    "    inputs = tf.keras.Input(shape=(None, d_model), name=\"inputs\")\n",
    "    #enc_outputs = tf.keras.Input(shape=(None, d_model), name=\"encoder_outputs\")\n",
    "    look_ahead_mask = tf.keras.Input(shape=(1, None, None), name=\"look_ahead_mask\")\n",
    "    #padding_mask = tf.keras.Input(shape=(1, 1, None), name='padding_mask')\n",
    "\n",
    "    # 첫 번째 서브 레이어 : 멀티 헤드 어텐션 수행 (셀프 어텐션)\n",
    "    attention1 = MultiHeadAttention(\n",
    "      d_model, num_heads, name=\"attention_1\")(inputs={\n",
    "          'query': inputs,\n",
    "          'key': inputs,\n",
    "          'value': inputs,\n",
    "          'mask': look_ahead_mask\n",
    "      })\n",
    "\n",
    "    # LayerNormalization 수행\n",
    "    attention1 = tf.keras.layers.LayerNormalization(epsilon=1e-6)(attention1 + inputs)\n",
    "\n",
    "    # encoder-decoder multi head attention Pass\n",
    "    '''\n",
    "    # 두 번째 서브 레이어 : 마스크드 멀티 헤드 어텐션 수행 (인코더-디코더 어텐션)\n",
    "    attention2 = MultiHeadAttention(\n",
    "      d_model, num_heads, name=\"attention_2\")(inputs={\n",
    "          'query': attention1,\n",
    "          'key': enc_outputs,\n",
    "          'value': enc_outputs,\n",
    "          'mask': padding_mask\n",
    "      })\n",
    "\n",
    "\n",
    "    # 마스크드 멀티 헤드 어텐션의 결과는\n",
    "    # Dropout과 LayerNormalization이라는 훈련을 돕는 테크닉을 수행\n",
    "    attention2 = tf.keras.layers.Dropout(rate=dropout)(attention2)\n",
    "    attention2 = tf.keras.layers.LayerNormalization(epsilon=1e-6)(attention2 + attention1)\n",
    "    '''\n",
    "    \n",
    "    # FFNN : 첫 번째 멀티 헤드 어텐션의 출력을 받는 2개의 완전연결층\n",
    "    outputs = tf.keras.layers.Dense(units=units, activation='relu')(attention1)\n",
    "    outputs = tf.keras.layers.Dense(units=d_model)(outputs)\n",
    "\n",
    "    # 완전연결층의 결과는 Dropout과 LayerNormalization 수행\n",
    "    outputs = tf.keras.layers.Dropout(rate=dropout)(outputs)\n",
    "    \n",
    "    # Masked Multi head Attention의 출력과 output을 Normalization\n",
    "    outputs = tf.keras.layers.LayerNormalization(epsilon=1e-6)(outputs + attention1)\n",
    "\n",
    "    return tf.keras.Model(\n",
    "        inputs=[inputs, look_ahead_mask], outputs=outputs, name=name\n",
    "    )"
   ]
  },
  {
   "cell_type": "markdown",
   "id": "f43eb14e",
   "metadata": {},
   "source": [
    "### Decoder\n",
    "\n",
    "**Transformer Model과의 차이점**\n",
    "- enc_outputs, padding_mask 삭제\n",
    "    - Encoder-Decoder Multi head Attention 삭제에 따른 연관 변수들 삭제\n",
    "- decoder_layer(...)(inputs=[...])\n",
    "    - inputs 수정\n",
    "    - enc_outputs, padding_mask 삭제\n",
    "- tf.keras.Model(inputs=[inputs, look_ahead_mask],...)\n",
    "    - inputs 수정\n",
    "    - enc_outputs, padding_mask 삭제"
   ]
  },
  {
   "cell_type": "code",
   "execution_count": 26,
   "id": "4db51aae",
   "metadata": {},
   "outputs": [],
   "source": [
    "def decoder(vocab_size,\n",
    "            num_layers,\n",
    "            units,\n",
    "            d_model,\n",
    "            num_heads,\n",
    "            dropout,\n",
    "            name='decoder'):\n",
    "    \n",
    "    inputs = tf.keras.Input(shape=(None,), name='inputs')\n",
    "    # GPT model에는 encoder output이 필요 없음\n",
    "    #enc_outputs = tf.keras.Input(shape=(None, d_model), name='encoder_outputs')\n",
    "    look_ahead_mask = tf.keras.Input(shape=(1, None, None), name='look_ahead_mask')\n",
    "\n",
    "    # 패딩 마스크\n",
    "    #padding_mask = tf.keras.Input(shape=(1, 1, None), name='padding_mask')\n",
    "\n",
    "    # 임베딩 레이어\n",
    "    embeddings = tf.keras.layers.Embedding(vocab_size, d_model)(inputs)\n",
    "    embeddings *= tf.math.sqrt(tf.cast(d_model, tf.float32))\n",
    "\n",
    "    # 포지셔널 인코딩\n",
    "    embeddings = PositionalEncoding(vocab_size, d_model)(embeddings)\n",
    "\n",
    "    # Dropout이라는 훈련을 돕는 테크닉을 수행\n",
    "    outputs = tf.keras.layers.Dropout(rate=dropout)(embeddings)\n",
    "\n",
    "    # inputs 수정\n",
    "    for i in range(num_layers):\n",
    "        outputs = decoder_layer(\n",
    "            units=units,\n",
    "            d_model=d_model,\n",
    "            num_heads=num_heads,\n",
    "            dropout=dropout,\n",
    "            name='decoder_layer_{}'.format(i),\n",
    "        )(inputs=[outputs, look_ahead_mask])\n",
    "\n",
    "    # inputs 수정\n",
    "    return tf.keras.Model(\n",
    "        inputs=[inputs, look_ahead_mask],\n",
    "        outputs=outputs, name=name\n",
    "    )"
   ]
  },
  {
   "cell_type": "markdown",
   "id": "3c26bfe1",
   "metadata": {},
   "source": [
    "### GPT method\n",
    "\n",
    "**Transformer Model과의 차이점**\n",
    "- Encoder inputs, enc_padding_mask, dec_padding_mask 등 삭제\n",
    "    - dec_padding_mask의 경우, encoder-decoder attention에 사용되므로 삭제\n",
    "- Model(inputs=) 변경\n",
    "    - encoder inputs가 삭제됨에 따라 변경"
   ]
  },
  {
   "cell_type": "code",
   "execution_count": 27,
   "id": "2b4be29d",
   "metadata": {},
   "outputs": [],
   "source": [
    "def GPT(vocab_size,\n",
    "                num_layers,\n",
    "                units,\n",
    "                d_model,\n",
    "                num_heads,\n",
    "                dropout,\n",
    "                name=\"gpt\"):\n",
    "    \n",
    "    dec_inputs = tf.keras.Input(shape=(None,), name=\"dec_inputs\")\n",
    "\n",
    "    # 디코더에서 미래의 토큰을 마스크 하기 위해서 사용합니다.\n",
    "    # 내부적으로 패딩 마스크도 포함되어져 있습니다.\n",
    "    look_ahead_mask = tf.keras.layers.Lambda(\n",
    "        create_look_ahead_mask,\n",
    "        output_shape=(1, None, None),\n",
    "        name='look_ahead_mask')(dec_inputs)\n",
    "\n",
    "    # 디코더\n",
    "    dec_outputs = decoder(\n",
    "        vocab_size=vocab_size,\n",
    "        num_layers=num_layers,\n",
    "        units=units,\n",
    "        d_model=d_model,\n",
    "        num_heads=num_heads,\n",
    "        dropout=dropout,\n",
    "    )(inputs=[dec_inputs, look_ahead_mask])\n",
    "\n",
    "    # 완전연결층\n",
    "    outputs = tf.keras.layers.Dense(units=vocab_size, name=\"outputs\")(dec_outputs)\n",
    "\n",
    "    return tf.keras.Model(inputs=dec_inputs, outputs=outputs, name=name)"
   ]
  },
  {
   "cell_type": "markdown",
   "id": "81ae6482",
   "metadata": {},
   "source": [
    "## 모델 생성 및 훈련"
   ]
  },
  {
   "cell_type": "code",
   "execution_count": 28,
   "id": "af84a5ad",
   "metadata": {},
   "outputs": [
    {
     "name": "stdout",
     "output_type": "stream",
     "text": [
      "Model: \"gpt\"\n",
      "__________________________________________________________________________________________________\n",
      "Layer (type)                    Output Shape         Param #     Connected to                     \n",
      "==================================================================================================\n",
      "dec_inputs (InputLayer)         [(None, None)]       0                                            \n",
      "__________________________________________________________________________________________________\n",
      "look_ahead_mask (Lambda)        (None, 1, None, None 0           dec_inputs[0][0]                 \n",
      "__________________________________________________________________________________________________\n",
      "decoder (Functional)            (None, None, 256)    3146496     dec_inputs[0][0]                 \n",
      "                                                                 look_ahead_mask[0][0]            \n",
      "__________________________________________________________________________________________________\n",
      "outputs (Dense)                 (None, None, 8173)   2100461     decoder[0][0]                    \n",
      "==================================================================================================\n",
      "Total params: 5,246,957\n",
      "Trainable params: 5,246,957\n",
      "Non-trainable params: 0\n",
      "__________________________________________________________________________________________________\n"
     ]
    }
   ],
   "source": [
    "tf.keras.backend.clear_session()\n",
    "\n",
    "# 하이퍼파라미터\n",
    "NUM_LAYERS = 2 # 인코더와 디코더의 층의 개수\n",
    "D_MODEL = 256 # 인코더와 디코더 내부의 입, 출력의 고정 차원\n",
    "NUM_HEADS = 8 # 멀티 헤드 어텐션에서의 헤드 수 \n",
    "UNITS = 512 # 피드 포워드 신경망의 은닉층의 크기\n",
    "DROPOUT = 0.1 # 드롭아웃의 비율\n",
    "\n",
    "model = GPT(\n",
    "    vocab_size=VOCAB_SIZE,\n",
    "    num_layers=NUM_LAYERS,\n",
    "    units=UNITS,\n",
    "    d_model=D_MODEL,\n",
    "    num_heads=NUM_HEADS,\n",
    "    dropout=DROPOUT\n",
    ")\n",
    "\n",
    "model.summary()"
   ]
  },
  {
   "cell_type": "code",
   "execution_count": 29,
   "id": "0d93c947",
   "metadata": {},
   "outputs": [
    {
     "name": "stdout",
     "output_type": "stream",
     "text": [
      "Model: \"decoder\"\n",
      "__________________________________________________________________________________________________\n",
      "Layer (type)                    Output Shape         Param #     Connected to                     \n",
      "==================================================================================================\n",
      "inputs (InputLayer)             [(None, None)]       0                                            \n",
      "__________________________________________________________________________________________________\n",
      "embedding (Embedding)           (None, None, 256)    2092288     inputs[0][0]                     \n",
      "__________________________________________________________________________________________________\n",
      "tf.math.multiply (TFOpLambda)   (None, None, 256)    0           embedding[0][0]                  \n",
      "__________________________________________________________________________________________________\n",
      "positional_encoding (Positional (None, None, 256)    0           tf.math.multiply[0][0]           \n",
      "__________________________________________________________________________________________________\n",
      "dropout (Dropout)               (None, None, 256)    0           positional_encoding[0][0]        \n",
      "__________________________________________________________________________________________________\n",
      "look_ahead_mask (InputLayer)    [(None, 1, None, Non 0                                            \n",
      "__________________________________________________________________________________________________\n",
      "decoder_layer_0 (Functional)    (None, None, 256)    527104      dropout[0][0]                    \n",
      "                                                                 look_ahead_mask[0][0]            \n",
      "__________________________________________________________________________________________________\n",
      "decoder_layer_1 (Functional)    (None, None, 256)    527104      decoder_layer_0[0][0]            \n",
      "                                                                 look_ahead_mask[0][0]            \n",
      "==================================================================================================\n",
      "Total params: 3,146,496\n",
      "Trainable params: 3,146,496\n",
      "Non-trainable params: 0\n",
      "__________________________________________________________________________________________________\n"
     ]
    }
   ],
   "source": [
    "# Decoder 내부에 존재하는 레이어들 출력\n",
    "model.layers[2].summary()"
   ]
  },
  {
   "cell_type": "code",
   "execution_count": 30,
   "id": "701b78a5",
   "metadata": {},
   "outputs": [],
   "source": [
    "def loss_function(y_true, y_pred):\n",
    "    y_true = tf.reshape(y_true, shape=(-1, MAX_LENGTH - 1))\n",
    "\n",
    "    loss = tf.keras.losses.SparseCategoricalCrossentropy(from_logits=True, reduction='none')(y_true, y_pred)\n",
    "\n",
    "    mask = tf.cast(tf.not_equal(y_true, 0), tf.float32)\n",
    "    loss = tf.multiply(loss, mask)\n",
    "\n",
    "    return tf.reduce_mean(loss)"
   ]
  },
  {
   "cell_type": "code",
   "execution_count": 31,
   "id": "8bd6c491",
   "metadata": {},
   "outputs": [],
   "source": [
    "class CustomSchedule(tf.keras.optimizers.schedules.LearningRateSchedule):\n",
    "\n",
    "    def __init__(self, d_model, warmup_steps=4000):\n",
    "        super(CustomSchedule, self).__init__()\n",
    "\n",
    "        self.d_model = d_model\n",
    "        self.d_model = tf.cast(self.d_model, tf.float32)\n",
    "\n",
    "        self.warmup_steps = warmup_steps\n",
    "\n",
    "    def __call__(self, step):\n",
    "        arg1 = tf.math.rsqrt(step)\n",
    "        arg2 = step * (self.warmup_steps**-1.5)\n",
    "\n",
    "        return tf.math.rsqrt(self.d_model) * tf.math.minimum(arg1, arg2)"
   ]
  },
  {
   "cell_type": "code",
   "execution_count": 32,
   "id": "81b19e73",
   "metadata": {},
   "outputs": [],
   "source": [
    "learning_rate = CustomSchedule(D_MODEL)\n",
    "\n",
    "optimizer = tf.keras.optimizers.Adam(learning_rate, beta_1=0.9, beta_2=0.98, epsilon=1e-9)\n",
    "\n",
    "def accuracy(y_true, y_pred):\n",
    "    y_true = tf.reshape(y_true, shape=(-1, MAX_LENGTH - 1))\n",
    "    return tf.keras.metrics.sparse_categorical_accuracy(y_true, y_pred)\n",
    "\n",
    "model.compile(optimizer=optimizer, loss=loss_function, metrics=[accuracy])"
   ]
  },
  {
   "cell_type": "code",
   "execution_count": 33,
   "id": "0bac3369",
   "metadata": {},
   "outputs": [
    {
     "name": "stdout",
     "output_type": "stream",
     "text": [
      "Epoch 1/20\n",
      "185/185 [==============================] - 9s 35ms/step - loss: 2.9346 - accuracy: 0.0275\n",
      "Epoch 2/20\n",
      "185/185 [==============================] - 7s 35ms/step - loss: 2.4805 - accuracy: 0.0727\n",
      "Epoch 3/20\n",
      "185/185 [==============================] - 6s 35ms/step - loss: 2.1707 - accuracy: 0.0765\n",
      "Epoch 4/20\n",
      "185/185 [==============================] - 7s 35ms/step - loss: 2.0187 - accuracy: 0.0822\n",
      "Epoch 5/20\n",
      "185/185 [==============================] - 6s 35ms/step - loss: 1.9132 - accuracy: 0.0883\n",
      "Epoch 6/20\n",
      "185/185 [==============================] - 6s 35ms/step - loss: 1.8170 - accuracy: 0.0941\n",
      "Epoch 7/20\n",
      "185/185 [==============================] - 6s 34ms/step - loss: 1.7188 - accuracy: 0.1000\n",
      "Epoch 8/20\n",
      "185/185 [==============================] - 6s 34ms/step - loss: 1.6168 - accuracy: 0.1076\n",
      "Epoch 9/20\n",
      "185/185 [==============================] - 6s 34ms/step - loss: 1.5090 - accuracy: 0.1163\n",
      "Epoch 10/20\n",
      "185/185 [==============================] - 6s 35ms/step - loss: 1.3971 - accuracy: 0.1254\n",
      "Epoch 11/20\n",
      "185/185 [==============================] - 6s 35ms/step - loss: 1.2827 - accuracy: 0.1349\n",
      "Epoch 12/20\n",
      "185/185 [==============================] - 6s 35ms/step - loss: 1.1665 - accuracy: 0.1458\n",
      "Epoch 13/20\n",
      "185/185 [==============================] - 6s 34ms/step - loss: 1.0512 - accuracy: 0.1585\n",
      "Epoch 14/20\n",
      "185/185 [==============================] - 6s 34ms/step - loss: 0.9380 - accuracy: 0.1722\n",
      "Epoch 15/20\n",
      "185/185 [==============================] - 6s 35ms/step - loss: 0.8324 - accuracy: 0.1872\n",
      "Epoch 16/20\n",
      "185/185 [==============================] - 6s 34ms/step - loss: 0.7341 - accuracy: 0.2028\n",
      "Epoch 17/20\n",
      "185/185 [==============================] - 6s 35ms/step - loss: 0.6480 - accuracy: 0.2181\n",
      "Epoch 18/20\n",
      "185/185 [==============================] - 6s 35ms/step - loss: 0.5758 - accuracy: 0.2317\n",
      "Epoch 19/20\n",
      "185/185 [==============================] - 6s 34ms/step - loss: 0.5198 - accuracy: 0.2432\n",
      "Epoch 20/20\n",
      "185/185 [==============================] - 6s 35ms/step - loss: 0.4777 - accuracy: 0.2517\n"
     ]
    }
   ],
   "source": [
    "epochs = 20\n",
    "history = model.fit(\n",
    "    dataset, epochs=epochs, verbose=1\n",
    ")"
   ]
  },
  {
   "cell_type": "code",
   "execution_count": 34,
   "id": "81383076",
   "metadata": {},
   "outputs": [
    {
     "data": {
      "image/png": "[encoded data removed]",
      "text/plain": [
       "<Figure size 432x288 with 1 Axes>"
      ]
     },
     "metadata": {
      "needs_background": "light"
     },
     "output_type": "display_data"
    },
    {
     "data": {
      "image/png": "[encoded data removed]",
      "text/plain": [
       "<Figure size 432x288 with 1 Axes>"
      ]
     },
     "metadata": {
      "needs_background": "light"
     },
     "output_type": "display_data"
    }
   ],
   "source": [
    "import matplotlib.pyplot as plt\n",
    "\n",
    "plt.plot(history.history['accuracy'])\n",
    "plt.show()\n",
    "\n",
    "plt.plot(history.history['loss'])\n",
    "plt.show()"
   ]
  },
  {
   "cell_type": "markdown",
   "id": "b8ad332d",
   "metadata": {},
   "source": [
    "## 테스트"
   ]
  },
  {
   "cell_type": "code",
   "execution_count": 35,
   "id": "c623785f",
   "metadata": {},
   "outputs": [
    {
     "name": "stdout",
     "output_type": "stream",
     "text": [
      "tf.Tensor([[8170 3453   36 8171]], shape=(1, 4), dtype=int32)\n",
      "[   7   14 7977   19]\n"
     ]
    }
   ],
   "source": [
    "s = '슬프네'\n",
    "sentence = preprocess_sentence(s)\n",
    "sentence = tf.expand_dims(\n",
    "      START_TOKEN + tokenizer.encode(sentence) + DELIMITER_TOKEN, axis=0)\n",
    "\n",
    "print(sentence)\n",
    "#sentence = tf.keras.preprocessing.sequence.pad_sequences(sentence, maxlen=MAX_LENGTH, padding='post')\n",
    "\n",
    "predictions = model.predict(sentence)\n",
    "predictions = np.argmax(predictions, axis=-1).reshape(-1)\n",
    "print(predictions)"
   ]
  },
  {
   "cell_type": "code",
   "execution_count": 36,
   "id": "c44a94b7",
   "metadata": {},
   "outputs": [
    {
     "data": {
      "text/plain": [
       "'좋아하는 고 ?좋은 '"
      ]
     },
     "execution_count": 36,
     "metadata": {},
     "output_type": "execute_result"
    }
   ],
   "source": [
    "tokenizer.decode([i for i in predictions if i < tokenizer.vocab_size])"
   ]
  },
  {
   "cell_type": "code",
   "execution_count": 37,
   "id": "b33502f8",
   "metadata": {},
   "outputs": [
    {
     "name": "stdout",
     "output_type": "stream",
     "text": [
      "tf.Tensor([[8170   73  685  373 7946 7977 8171]], shape=(1, 7), dtype=int32)\n",
      "[   7 2771 2834 7977  299 8171   97]\n",
      "좋아하는 하루도 종일 ?좋을까저도 \n"
     ]
    }
   ],
   "source": [
    "s = '오늘 하루 어때?'\n",
    "sentence = preprocess_sentence(s)\n",
    "sentence = tf.expand_dims(\n",
    "      START_TOKEN + tokenizer.encode(sentence) + DELIMITER_TOKEN, axis=0)\n",
    "\n",
    "print(sentence)\n",
    "#sentence = tf.keras.preprocessing.sequence.pad_sequences(sentence, maxlen=MAX_LENGTH, padding='post')\n",
    "\n",
    "predictions = model.predict(sentence)\n",
    "predictions = np.argmax(predictions, axis=-1).reshape(-1)\n",
    "print(predictions)\n",
    "print(tokenizer.decode([i for i in predictions if i < tokenizer.vocab_size]))"
   ]
  },
  {
   "cell_type": "code",
   "execution_count": 38,
   "id": "f073d224",
   "metadata": {},
   "outputs": [
    {
     "name": "stdout",
     "output_type": "stream",
     "text": [
      "tf.Tensor([[8170   73   22 5149  350 8171]], shape=(1, 6), dtype=int32)\n",
      "[   7 2771 7169 1277 8171 1604]\n",
      "좋아하는 하루도 바쁘네한데 친구들과 \n"
     ]
    }
   ],
   "source": [
    "s = '오늘 좀 심심하네'\n",
    "sentence = preprocess_sentence(s)\n",
    "sentence = tf.expand_dims(\n",
    "      START_TOKEN + tokenizer.encode(sentence) + DELIMITER_TOKEN, axis=0)\n",
    "\n",
    "print(sentence)\n",
    "#sentence = tf.keras.preprocessing.sequence.pad_sequences(sentence, maxlen=MAX_LENGTH, padding='post')\n",
    "\n",
    "predictions = model.predict(sentence)\n",
    "predictions = np.argmax(predictions, axis=-1).reshape(-1)\n",
    "print(predictions)\n",
    "print(tokenizer.decode([i for i in predictions if i < tokenizer.vocab_size]))"
   ]
  },
  {
   "cell_type": "code",
   "execution_count": null,
   "id": "97e054b8",
   "metadata": {},
   "outputs": [],
   "source": []
  }
 ],
 "metadata": {
  "kernelspec": {
   "display_name": "Python 3 (ipykernel)",
   "language": "python",
   "name": "python3"
  },
  "language_info": {
   "codemirror_mode": {
    "name": "ipython",
    "version": 3
   },
   "file_extension": ".py",
   "mimetype": "text/x-python",
   "name": "python",
   "nbconvert_exporter": "python",
   "pygments_lexer": "ipython3",
   "version": "3.9.7"
  }
 },
 "nbformat": 4,
 "nbformat_minor": 5
}
