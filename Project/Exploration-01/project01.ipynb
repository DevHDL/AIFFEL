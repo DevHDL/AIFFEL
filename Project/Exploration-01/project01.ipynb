{
 "cells": [
  {
   "cell_type": "code",
   "execution_count": 1,
   "metadata": {},
   "outputs": [],
   "source": [
    "from sklearn.datasets import load_diabetes"
   ]
  },
  {
   "cell_type": "code",
   "execution_count": 2,
   "metadata": {},
   "outputs": [
    {
     "data": {
      "text/plain": [
       "dict_keys(['data', 'target', 'frame', 'DESCR', 'feature_names', 'data_filename', 'target_filename', 'data_module'])"
      ]
     },
     "execution_count": 2,
     "metadata": {},
     "output_type": "execute_result"
    }
   ],
   "source": [
    "# 1. 데이터 가져오기\n",
    "load_diabetes().keys()"
   ]
  },
  {
   "cell_type": "code",
   "execution_count": 3,
   "metadata": {},
   "outputs": [],
   "source": [
    "import numpy as np\n",
    "\n",
    "# 2~3. X,y 준비하기\n",
    "X = np.array(load_diabetes()['data'])\n",
    "y = np.array(load_diabetes()['target'])"
   ]
  },
  {
   "cell_type": "code",
   "execution_count": 4,
   "metadata": {},
   "outputs": [
    {
     "data": {
      "text/plain": [
       "((442, 10), (442,))"
      ]
     },
     "execution_count": 4,
     "metadata": {},
     "output_type": "execute_result"
    }
   ],
   "source": [
    "X.shape, y.shape"
   ]
  },
  {
   "cell_type": "code",
   "execution_count": 5,
   "metadata": {},
   "outputs": [],
   "source": [
    "# 4. train, test 분류하기\n",
    "from sklearn.model_selection import train_test_split\n",
    "\n",
    "X_train, X_test, y_train, y_test = train_test_split(X, y, test_size=0.2, random_state=2000)"
   ]
  },
  {
   "cell_type": "code",
   "execution_count": 6,
   "metadata": {},
   "outputs": [],
   "source": [
    "# 5. model 준비하기\n",
    "def model(X, W, b):\n",
    "    predictions = 0\n",
    "    for i in range(X.shape[-1]):\n",
    "        predictions += X[:, i] * W[i]\n",
    "    predictions += b\n",
    "    return predictions\n",
    "\n",
    "# 6. 손실함수 정의하기 \n",
    "# mse\n",
    "def mse(a, b):\n",
    "    mse = ((a-b)**2).mean()\n",
    "    return mse\n",
    "\n",
    "# loss function\n",
    "def loss(X, y, W, b):\n",
    "    predictions = model(X, W, b)\n",
    "    L  = mse(y, predictions)\n",
    "    return L\n",
    "\n",
    "# 7. gradient 구현하기\n",
    "def gradient(X, y, W, b):\n",
    "    N = len(y)\n",
    "    y_pred = model(X, W, b)\n",
    "    dW = 1/N * 2 * X.T.dot(y_pred - y)\n",
    "    db = 2 * (y_pred - y).mean()\n",
    "    return dW, db\n",
    "\n",
    "# 학습 함수 구현\n",
    "def learning(X, y, W, b, n, learning_rate):\n",
    "    losses = []\n",
    "\n",
    "    for i in range(1, n+1):\n",
    "        dW, db = gradient(X, y, W, b)\n",
    "        W -= learning_rate * dW\n",
    "        b -= learning_rate * db\n",
    "        L = loss(X, y, W, b)\n",
    "        losses.append(L)\n",
    "\n",
    "        if i%100 == 0:\n",
    "            print(f'Iteration {i} : Loss {L:0.4f}')\n",
    "\n",
    "    return {\n",
    "        'weight': W,\n",
    "        'bias': b,\n",
    "        'losses': losses\n",
    "    }"
   ]
  },
  {
   "cell_type": "code",
   "execution_count": 7,
   "metadata": {},
   "outputs": [
    {
     "name": "stdout",
     "output_type": "stream",
     "text": [
      "Iteration 100 : Loss 21774.7112\n",
      "Iteration 200 : Loss 16630.0558\n",
      "Iteration 300 : Loss 13180.0289\n",
      "Iteration 400 : Loss 10865.4975\n",
      "Iteration 500 : Loss 9311.8140\n",
      "Iteration 600 : Loss 8267.9461\n",
      "Iteration 700 : Loss 7565.6893\n",
      "Iteration 800 : Loss 7092.3382\n",
      "Iteration 900 : Loss 6772.3745\n",
      "Iteration 1000 : Loss 6555.1971\n",
      "Iteration 1100 : Loss 6406.9008\n",
      "Iteration 1200 : Loss 6304.7673\n",
      "Iteration 1300 : Loss 6233.5741\n",
      "Iteration 1400 : Loss 6183.1214\n",
      "Iteration 1500 : Loss 6146.5749\n",
      "Iteration 1600 : Loss 6119.3551\n",
      "Iteration 1700 : Loss 6098.3935\n",
      "Iteration 1800 : Loss 6081.6340\n",
      "Iteration 1900 : Loss 6067.6990\n",
      "Iteration 2000 : Loss 6055.6653\n",
      "Test MSE : 4625.180675795101\n"
     ]
    }
   ],
   "source": [
    "# 9. 모델 학습하기\n",
    "model_params = learning(\n",
    "    X=X_train,\n",
    "    y=y_train,\n",
    "    W=np.random.rand(10),\n",
    "    b=np.random.rand(),\n",
    "    n=2000,\n",
    "    learning_rate=0.001\n",
    ")\n",
    "\n",
    "prediction = model(\n",
    "    X=X_test,\n",
    "    W=model_params['weight'],\n",
    "    b=model_params['bias']\n",
    ")\n",
    "\n",
    "# 10. test 데이터 성능 확인하기\n",
    "loss_mse = loss(X_test, y_test, model_params['weight'], model_params['bias'])\n",
    "print(f'Test MSE : {loss_mse}')"
   ]
  },
  {
   "cell_type": "code",
   "execution_count": 8,
   "metadata": {},
   "outputs": [
    {
     "data": {
      "image/png": "[encoded data removed]",
      "text/plain": [
       "<Figure size 640x480 with 1 Axes>"
      ]
     },
     "metadata": {},
     "output_type": "display_data"
    }
   ],
   "source": [
    "# 11. 정답 데이터와 예측 데이터 시각화\n",
    "import matplotlib.pyplot as plt \n",
    "\n",
    "plt.scatter(X_test[:, 0], y_test)\n",
    "plt.scatter(X_test[:, 0], prediction)\n",
    "plt.show()"
   ]
  },
  {
   "cell_type": "code",
   "execution_count": 9,
   "metadata": {},
   "outputs": [
    {
     "name": "stdout",
     "output_type": "stream",
     "text": [
      "Iteration 100 : Loss 4921.6870\n",
      "Iteration 200 : Loss 4225.8142\n",
      "Iteration 300 : Loss 3833.0208\n",
      "Iteration 400 : Loss 3597.3926\n",
      "Iteration 500 : Loss 3445.9685\n",
      "Iteration 600 : Loss 3341.7540\n",
      "Iteration 700 : Loss 3265.5863\n",
      "Iteration 800 : Loss 3207.2215\n",
      "Iteration 900 : Loss 3160.9392\n",
      "Iteration 1000 : Loss 3123.3618\n",
      "Iteration 1100 : Loss 3092.3631\n",
      "Iteration 1200 : Loss 3066.5145\n",
      "Iteration 1300 : Loss 3044.7976\n",
      "Iteration 1400 : Loss 3026.4509\n",
      "Iteration 1500 : Loss 3010.8844\n",
      "Iteration 1600 : Loss 2997.6291\n",
      "Iteration 1700 : Loss 2986.3058\n",
      "Iteration 1800 : Loss 2976.6043\n",
      "Iteration 1900 : Loss 2968.2688\n",
      "Iteration 2000 : Loss 2961.0869\n",
      "Iteration 2100 : Loss 2954.8818\n",
      "Iteration 2200 : Loss 2949.5057\n",
      "Iteration 2300 : Loss 2944.8345\n",
      "Iteration 2400 : Loss 2940.7641\n",
      "Iteration 2500 : Loss 2937.2065\n",
      "Iteration 2600 : Loss 2934.0876\n",
      "Iteration 2700 : Loss 2931.3448\n",
      "Iteration 2800 : Loss 2928.9248\n",
      "Iteration 2900 : Loss 2926.7826\n",
      "Iteration 3000 : Loss 2924.8797\n",
      "Iteration 3100 : Loss 2923.1835\n",
      "Iteration 3200 : Loss 2921.6661\n",
      "Iteration 3300 : Loss 2920.3036\n",
      "Iteration 3400 : Loss 2919.0757\n",
      "Iteration 3500 : Loss 2917.9649\n",
      "Iteration 3600 : Loss 2916.9561\n",
      "Iteration 3700 : Loss 2916.0364\n",
      "Iteration 3800 : Loss 2915.1947\n",
      "Iteration 3900 : Loss 2914.4215\n",
      "Iteration 4000 : Loss 2913.7084\n",
      "Iteration 4100 : Loss 2913.0482\n",
      "Iteration 4200 : Loss 2912.4349\n",
      "Iteration 4300 : Loss 2911.8629\n",
      "Iteration 4400 : Loss 2911.3276\n",
      "Iteration 4500 : Loss 2910.8250\n",
      "Iteration 4600 : Loss 2910.3514\n",
      "Iteration 4700 : Loss 2909.9038\n",
      "Iteration 4800 : Loss 2909.4795\n",
      "Iteration 4900 : Loss 2909.0760\n",
      "Iteration 5000 : Loss 2908.6914\n",
      "Test MSE : 2836.8352795466158\n"
     ]
    },
    {
     "data": {
      "image/png": "[encoded data removed]",
      "text/plain": [
       "<Figure size 640x480 with 1 Axes>"
      ]
     },
     "metadata": {},
     "output_type": "display_data"
    }
   ],
   "source": [
    "# epochs, learning_rate 수정\n",
    "model_params = learning(\n",
    "    X=X_train,\n",
    "    y=y_train,\n",
    "    W=np.random.rand(10),\n",
    "    b=np.random.rand(),\n",
    "    n=5000,\n",
    "    learning_rate=0.2\n",
    ")\n",
    "\n",
    "prediction = model(\n",
    "    X=X_test,\n",
    "    W=model_params['weight'],\n",
    "    b=model_params['bias']\n",
    ")\n",
    "\n",
    "loss_mse = loss(X_test, y_test, model_params['weight'], model_params['bias'])\n",
    "print(f'Test MSE : {loss_mse}')\n",
    "\n",
    "import matplotlib.pyplot as plt \n",
    "\n",
    "plt.scatter(X_test[:, 0], y_test)\n",
    "plt.scatter(X_test[:, 0], prediction)\n",
    "plt.show()"
   ]
  },
  {
   "cell_type": "code",
   "execution_count": 10,
   "metadata": {},
   "outputs": [
    {
     "name": "stdout",
     "output_type": "stream",
     "text": [
      "Test MSE : 2836.8352795466158\n"
     ]
    }
   ],
   "source": [
    "print(f'Test MSE : {loss_mse}')"
   ]
  }
 ],
 "metadata": {
  "kernelspec": {
   "display_name": "jupyter-env",
   "language": "python",
   "name": "python3"
  },
  "language_info": {
   "codemirror_mode": {
    "name": "ipython",
    "version": 3
   },
   "file_extension": ".py",
   "mimetype": "text/x-python",
   "name": "python",
   "nbconvert_exporter": "python",
   "pygments_lexer": "ipython3",
   "version": "3.11.9"
  }
 },
 "nbformat": 4,
 "nbformat_minor": 2
}
