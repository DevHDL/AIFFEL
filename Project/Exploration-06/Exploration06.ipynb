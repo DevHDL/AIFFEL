{
 "cells": [
  {
   "cell_type": "code",
   "execution_count": 1,
   "id": "9ee47c23",
   "metadata": {},
   "outputs": [
    {
     "name": "stderr",
     "output_type": "stream",
     "text": [
      "[nltk_data] Downloading package stopwords to /aiffel/nltk_data...\n",
      "[nltk_data]   Package stopwords is already up-to-date!\n"
     ]
    }
   ],
   "source": [
    "import nltk\n",
    "nltk.download('stopwords')\n",
    "from nltk.corpus import stopwords\n",
    "\n",
    "import numpy as np\n",
    "import pandas as pd\n",
    "import os\n",
    "import re\n",
    "import matplotlib.pyplot as plt\n",
    "from tensorflow import keras\n",
    "\n",
    "import urllib.request\n",
    "from bs4 import BeautifulSoup\n",
    "from tqdm import tqdm"
   ]
  },
  {
   "cell_type": "markdown",
   "id": "b98ee21c",
   "metadata": {},
   "source": [
    "## 데이터 가져오기"
   ]
  },
  {
   "cell_type": "code",
   "execution_count": 2,
   "id": "4e1a4465",
   "metadata": {},
   "outputs": [],
   "source": [
    "urllib.request.urlretrieve(\"https://raw.githubusercontent.com/sunnysai12345/News_Summary/master/news_summary_more.csv\", filename=\"news_summary_more.csv\")\n",
    "data = pd.read_csv('news_summary_more.csv', encoding='iso-8859-1')"
   ]
  },
  {
   "cell_type": "code",
   "execution_count": 3,
   "id": "0be3f56d",
   "metadata": {},
   "outputs": [
    {
     "data": {
      "text/html": [
       "<div>\n",
       "<style scoped>\n",
       "    .dataframe tbody tr th:only-of-type {\n",
       "        vertical-align: middle;\n",
       "    }\n",
       "\n",
       "    .dataframe tbody tr th {\n",
       "        vertical-align: top;\n",
       "    }\n",
       "\n",
       "    .dataframe thead th {\n",
       "        text-align: right;\n",
       "    }\n",
       "</style>\n",
       "<table border=\"1\" class=\"dataframe\">\n",
       "  <thead>\n",
       "    <tr style=\"text-align: right;\">\n",
       "      <th></th>\n",
       "      <th>headlines</th>\n",
       "      <th>text</th>\n",
       "    </tr>\n",
       "  </thead>\n",
       "  <tbody>\n",
       "    <tr>\n",
       "      <th>45694</th>\n",
       "      <td>Chinese firm Haier makes smartwatch with built...</td>\n",
       "      <td>Chinese electronics company Haier has develope...</td>\n",
       "    </tr>\n",
       "    <tr>\n",
       "      <th>47777</th>\n",
       "      <td>Avalanche warning issued in J&amp;K, Himachal, U'k...</td>\n",
       "      <td>The Snow and Avalanche Study Establishment on ...</td>\n",
       "    </tr>\n",
       "    <tr>\n",
       "      <th>78909</th>\n",
       "      <td>US company offers to implant rice-sized microc...</td>\n",
       "      <td>Wisconsin-based Three Square Market has given ...</td>\n",
       "    </tr>\n",
       "    <tr>\n",
       "      <th>11351</th>\n",
       "      <td>7-year-old dies in Maharashtra after firecrack...</td>\n",
       "      <td>A seven-year-old boy died in Maharashtra's Bul...</td>\n",
       "    </tr>\n",
       "    <tr>\n",
       "      <th>43677</th>\n",
       "      <td>Amateur photos help NASA study mysterious auro...</td>\n",
       "      <td>In a first, amateur photographers spotting pur...</td>\n",
       "    </tr>\n",
       "    <tr>\n",
       "      <th>34723</th>\n",
       "      <td>China admits reporting two major quakes which ...</td>\n",
       "      <td>China's earthquake department has admitted to ...</td>\n",
       "    </tr>\n",
       "    <tr>\n",
       "      <th>37079</th>\n",
       "      <td>PIL filed in Delhi HC against felling of over ...</td>\n",
       "      <td>A Public Interest Litigation (PIL) has been fi...</td>\n",
       "    </tr>\n",
       "    <tr>\n",
       "      <th>19597</th>\n",
       "      <td>What on earth is PUBG: Anand Mahindra on tract...</td>\n",
       "      <td>After PUBG players spotted a Mahindra tractor ...</td>\n",
       "    </tr>\n",
       "    <tr>\n",
       "      <th>39476</th>\n",
       "      <td>Man kills wife over frequent fights, surrender...</td>\n",
       "      <td>A man in Delhi allegedly killed his wife in a ...</td>\n",
       "    </tr>\n",
       "    <tr>\n",
       "      <th>70002</th>\n",
       "      <td>Telangana priests to get salaries on par with ...</td>\n",
       "      <td>Telangana Chief Minister K Chandrasekhar Rao o...</td>\n",
       "    </tr>\n",
       "  </tbody>\n",
       "</table>\n",
       "</div>"
      ],
      "text/plain": [
       "                                               headlines  \\\n",
       "45694  Chinese firm Haier makes smartwatch with built...   \n",
       "47777  Avalanche warning issued in J&K, Himachal, U'k...   \n",
       "78909  US company offers to implant rice-sized microc...   \n",
       "11351  7-year-old dies in Maharashtra after firecrack...   \n",
       "43677  Amateur photos help NASA study mysterious auro...   \n",
       "34723  China admits reporting two major quakes which ...   \n",
       "37079  PIL filed in Delhi HC against felling of over ...   \n",
       "19597  What on earth is PUBG: Anand Mahindra on tract...   \n",
       "39476  Man kills wife over frequent fights, surrender...   \n",
       "70002  Telangana priests to get salaries on par with ...   \n",
       "\n",
       "                                                    text  \n",
       "45694  Chinese electronics company Haier has develope...  \n",
       "47777  The Snow and Avalanche Study Establishment on ...  \n",
       "78909  Wisconsin-based Three Square Market has given ...  \n",
       "11351  A seven-year-old boy died in Maharashtra's Bul...  \n",
       "43677  In a first, amateur photographers spotting pur...  \n",
       "34723  China's earthquake department has admitted to ...  \n",
       "37079  A Public Interest Litigation (PIL) has been fi...  \n",
       "19597  After PUBG players spotted a Mahindra tractor ...  \n",
       "39476  A man in Delhi allegedly killed his wife in a ...  \n",
       "70002  Telangana Chief Minister K Chandrasekhar Rao o...  "
      ]
     },
     "execution_count": 3,
     "metadata": {},
     "output_type": "execute_result"
    }
   ],
   "source": [
    "data.sample(10)"
   ]
  },
  {
   "cell_type": "markdown",
   "id": "b54e49cd",
   "metadata": {},
   "source": [
    "## 데이터 전처리"
   ]
  },
  {
   "cell_type": "markdown",
   "id": "beffd7f2",
   "metadata": {},
   "source": [
    "### 데이터 중복 및 결측치 처리"
   ]
  },
  {
   "cell_type": "code",
   "execution_count": 4,
   "id": "3807e98f",
   "metadata": {},
   "outputs": [
    {
     "data": {
      "text/plain": [
       "(98401, 2)"
      ]
     },
     "execution_count": 4,
     "metadata": {},
     "output_type": "execute_result"
    }
   ],
   "source": [
    "data.shape"
   ]
  },
  {
   "cell_type": "code",
   "execution_count": 5,
   "id": "fb5cd09b",
   "metadata": {},
   "outputs": [
    {
     "name": "stdout",
     "output_type": "stream",
     "text": [
      "headlines 열에서 중복을 배제한 유일한 샘플의 수 : 98280\n",
      "text 열에서 중복을 배제한 유일한 샘플의 수 : 98360\n"
     ]
    }
   ],
   "source": [
    "print('headlines 열에서 중복을 배제한 유일한 샘플의 수 :', data['headlines'].nunique())\n",
    "print('text 열에서 중복을 배제한 유일한 샘플의 수 :', data['text'].nunique())"
   ]
  },
  {
   "cell_type": "code",
   "execution_count": 6,
   "id": "9e364c52",
   "metadata": {},
   "outputs": [
    {
     "data": {
      "text/plain": [
       "(98360, 2)"
      ]
     },
     "execution_count": 6,
     "metadata": {},
     "output_type": "execute_result"
    }
   ],
   "source": [
    "data.drop_duplicates(subset=['text'], inplace=True)\n",
    "data.shape"
   ]
  },
  {
   "cell_type": "code",
   "execution_count": 7,
   "id": "6cf9fc0e",
   "metadata": {},
   "outputs": [
    {
     "data": {
      "text/html": [
       "<div>\n",
       "<style scoped>\n",
       "    .dataframe tbody tr th:only-of-type {\n",
       "        vertical-align: middle;\n",
       "    }\n",
       "\n",
       "    .dataframe tbody tr th {\n",
       "        vertical-align: top;\n",
       "    }\n",
       "\n",
       "    .dataframe thead th {\n",
       "        text-align: right;\n",
       "    }\n",
       "</style>\n",
       "<table border=\"1\" class=\"dataframe\">\n",
       "  <thead>\n",
       "    <tr style=\"text-align: right;\">\n",
       "      <th></th>\n",
       "      <th>headlines</th>\n",
       "      <th>text</th>\n",
       "    </tr>\n",
       "  </thead>\n",
       "  <tbody>\n",
       "  </tbody>\n",
       "</table>\n",
       "</div>"
      ],
      "text/plain": [
       "Empty DataFrame\n",
       "Columns: [headlines, text]\n",
       "Index: []"
      ]
     },
     "execution_count": 7,
     "metadata": {},
     "output_type": "execute_result"
    }
   ],
   "source": [
    "# headlines 와 text가 동시에 중복인 경우는 없음\n",
    "data[data.duplicated(['headlines', 'text'])]"
   ]
  },
  {
   "cell_type": "code",
   "execution_count": 8,
   "id": "66651753",
   "metadata": {},
   "outputs": [
    {
     "name": "stdout",
     "output_type": "stream",
     "text": [
      "headlines    0\n",
      "text         0\n",
      "dtype: int64\n"
     ]
    }
   ],
   "source": [
    "# 결측치 : 0\n",
    "print(data.isnull().sum())"
   ]
  },
  {
   "cell_type": "markdown",
   "id": "4892e9d0",
   "metadata": {},
   "source": [
    "### 데이터 정규화 사전 및 불용어 리스트 가져오기\n",
    "- 정규화 사전 출처 : [🔗](https://stackoverflow.com/questions/19790188/expanding-english-language-contractions-in-python)\n",
    "- nltk 패키지 사용법 : [🔗](https://datascienceschool.net/03%20machine%20learning/03.01.01%20NLTK%20%EC%9E%90%EC%97%B0%EC%96%B4%20%EC%B2%98%EB%A6%AC%20%ED%8C%A8%ED%82%A4%EC%A7%80.html)"
   ]
  },
  {
   "cell_type": "code",
   "execution_count": 9,
   "id": "f85adfc7",
   "metadata": {},
   "outputs": [
    {
     "name": "stdout",
     "output_type": "stream",
     "text": [
      "정규화 사전의 수:  120\n"
     ]
    }
   ],
   "source": [
    "# 정규화 사전\n",
    "contractions = {\"ain't\": \"is not\", \"aren't\": \"are not\",\"can't\": \"cannot\", \"'cause\": \"because\", \"could've\": \"could have\", \"couldn't\": \"could not\",\n",
    "                           \"didn't\": \"did not\",  \"doesn't\": \"does not\", \"don't\": \"do not\", \"hadn't\": \"had not\", \"hasn't\": \"has not\", \"haven't\": \"have not\",\n",
    "                           \"he'd\": \"he would\",\"he'll\": \"he will\", \"he's\": \"he is\", \"how'd\": \"how did\", \"how'd'y\": \"how do you\", \"how'll\": \"how will\", \"how's\": \"how is\",\n",
    "                           \"I'd\": \"I would\", \"I'd've\": \"I would have\", \"I'll\": \"I will\", \"I'll've\": \"I will have\",\"I'm\": \"I am\", \"I've\": \"I have\", \"i'd\": \"i would\",\n",
    "                           \"i'd've\": \"i would have\", \"i'll\": \"i will\",  \"i'll've\": \"i will have\",\"i'm\": \"i am\", \"i've\": \"i have\", \"isn't\": \"is not\", \"it'd\": \"it would\",\n",
    "                           \"it'd've\": \"it would have\", \"it'll\": \"it will\", \"it'll've\": \"it will have\",\"it's\": \"it is\", \"let's\": \"let us\", \"ma'am\": \"madam\",\n",
    "                           \"mayn't\": \"may not\", \"might've\": \"might have\",\"mightn't\": \"might not\",\"mightn't've\": \"might not have\", \"must've\": \"must have\",\n",
    "                           \"mustn't\": \"must not\", \"mustn't've\": \"must not have\", \"needn't\": \"need not\", \"needn't've\": \"need not have\",\"o'clock\": \"of the clock\",\n",
    "                           \"oughtn't\": \"ought not\", \"oughtn't've\": \"ought not have\", \"shan't\": \"shall not\", \"sha'n't\": \"shall not\", \"shan't've\": \"shall not have\",\n",
    "                           \"she'd\": \"she would\", \"she'd've\": \"she would have\", \"she'll\": \"she will\", \"she'll've\": \"she will have\", \"she's\": \"she is\",\n",
    "                           \"should've\": \"should have\", \"shouldn't\": \"should not\", \"shouldn't've\": \"should not have\", \"so've\": \"so have\",\"so's\": \"so as\",\n",
    "                           \"this's\": \"this is\",\"that'd\": \"that would\", \"that'd've\": \"that would have\", \"that's\": \"that is\", \"there'd\": \"there would\",\n",
    "                           \"there'd've\": \"there would have\", \"there's\": \"there is\", \"here's\": \"here is\",\"they'd\": \"they would\", \"they'd've\": \"they would have\",\n",
    "                           \"they'll\": \"they will\", \"they'll've\": \"they will have\", \"they're\": \"they are\", \"they've\": \"they have\", \"to've\": \"to have\",\n",
    "                           \"wasn't\": \"was not\", \"we'd\": \"we would\", \"we'd've\": \"we would have\", \"we'll\": \"we will\", \"we'll've\": \"we will have\", \"we're\": \"we are\",\n",
    "                           \"we've\": \"we have\", \"weren't\": \"were not\", \"what'll\": \"what will\", \"what'll've\": \"what will have\", \"what're\": \"what are\",\n",
    "                           \"what's\": \"what is\", \"what've\": \"what have\", \"when's\": \"when is\", \"when've\": \"when have\", \"where'd\": \"where did\", \"where's\": \"where is\",\n",
    "                           \"where've\": \"where have\", \"who'll\": \"who will\", \"who'll've\": \"who will have\", \"who's\": \"who is\", \"who've\": \"who have\",\n",
    "                           \"why's\": \"why is\", \"why've\": \"why have\", \"will've\": \"will have\", \"won't\": \"will not\", \"won't've\": \"will not have\",\n",
    "                           \"would've\": \"would have\", \"wouldn't\": \"would not\", \"wouldn't've\": \"would not have\", \"y'all\": \"you all\",\n",
    "                           \"y'all'd\": \"you all would\",\"y'all'd've\": \"you all would have\",\"y'all're\": \"you all are\",\"y'all've\": \"you all have\",\n",
    "                           \"you'd\": \"you would\", \"you'd've\": \"you would have\", \"you'll\": \"you will\", \"you'll've\": \"you will have\",\n",
    "                           \"you're\": \"you are\", \"you've\": \"you have\"}\n",
    "\n",
    "print(\"정규화 사전의 수: \", len(contractions))"
   ]
  },
  {
   "cell_type": "code",
   "execution_count": 10,
   "id": "044b0a97",
   "metadata": {},
   "outputs": [
    {
     "name": "stdout",
     "output_type": "stream",
     "text": [
      "179\n"
     ]
    },
    {
     "data": {
      "text/plain": [
       "['i', 'me', 'my', 'myself', 'we', 'our', 'ours', 'ourselves', 'you', \"you're\"]"
      ]
     },
     "execution_count": 10,
     "metadata": {},
     "output_type": "execute_result"
    }
   ],
   "source": [
    "# nltk에서 제공하는 불용어 리스트\n",
    "# 불용어 리스트 추출\n",
    "print(len(stopwords.words('english')))\n",
    "stopwords.words('english')[:10]"
   ]
  },
  {
   "cell_type": "markdown",
   "id": "43397e89",
   "metadata": {},
   "source": [
    "### 데이터 전처리\n",
    "1. 텍스트 소문자화\n",
    "2. html 태그 제거\n",
    "3. 괄호 내 문자열 제거\n",
    "4. 쌍따옴표 제거\n",
    "5. 약어 정규화\n",
    "6. 소유격 제거\n",
    "7. 영어 외 문자(숫자, 특수문자 등) 공백으로 변환\n",
    "8. 불용어 제거 (headlines는 미제거)"
   ]
  },
  {
   "cell_type": "markdown",
   "id": "f1df9e39",
   "metadata": {},
   "source": [
    "#### 데이터 전처리 방식 정리 (예시)"
   ]
  },
  {
   "cell_type": "code",
   "execution_count": 11,
   "id": "2936c207",
   "metadata": {},
   "outputs": [
    {
     "name": "stdout",
     "output_type": "stream",
     "text": [
      "A team of IIT-Roorkee scientists is testing a floating device that can generate electricity from flowing surface water of rivers. Instead of using water falling from height to turn turbines like in traditional dams, the prototype uses velocity of flowing river, professor RP Saini said. \"Flowing water can generate hundred times more power than wind of same velocity,\" Saini added.\n"
     ]
    }
   ],
   "source": [
    "# 데이터 전처리 방식 정리 (예시)\n",
    "sentence_origin = data.loc[104]['text']\n",
    "print(sentence_origin)"
   ]
  },
  {
   "cell_type": "code",
   "execution_count": 12,
   "id": "d8cdd600",
   "metadata": {},
   "outputs": [
    {
     "name": "stdout",
     "output_type": "stream",
     "text": [
      "A team of IIT-Roorkee scientis\n",
      "a team of iit-roorkee scientis\n"
     ]
    }
   ],
   "source": [
    "sentence1 = sentence_origin.lower()\n",
    "print(sentence_origin[:30])\n",
    "print(sentence1[:30])"
   ]
  },
  {
   "cell_type": "code",
   "execution_count": 13,
   "id": "60cdda05",
   "metadata": {},
   "outputs": [
    {
     "name": "stdout",
     "output_type": "stream",
     "text": [
      "a team of iit-roorkee scientists is testing a floating device that can generate electricity from flowing surface water of rivers. instead of using water falling from height to turn turbines like in traditional dams, the prototype uses velocity of flowing river, professor rp saini said. \"flowing water can generate hundred times more power than wind of same velocity,\" saini added.\n"
     ]
    }
   ],
   "source": [
    "sentence2 = BeautifulSoup(sentence1, 'lxml').text\n",
    "print(sentence2)"
   ]
  },
  {
   "cell_type": "code",
   "execution_count": 14,
   "id": "edea8cdf",
   "metadata": {},
   "outputs": [
    {
     "name": "stdout",
     "output_type": "stream",
     "text": [
      "a team of iit-roorkee scientists is testing a floating device that can generate electricity from flowing surface water of rivers. instead of using water falling from height to turn turbines like in traditional dams, the prototype uses velocity of flowing river, professor rp saini said. \"flowing water can generate hundred times more power than wind of same velocity,\" saini added.\n"
     ]
    }
   ],
   "source": [
    "sentence3 = re.sub(r'\\([^)]*\\)', '', sentence2)\n",
    "print(sentence3)"
   ]
  },
  {
   "cell_type": "code",
   "execution_count": 15,
   "id": "bd093866",
   "metadata": {},
   "outputs": [
    {
     "name": "stdout",
     "output_type": "stream",
     "text": [
      "a team of iit-roorkee scientists is testing a floating device that can generate electricity from flowing surface water of rivers. instead of using water falling from height to turn turbines like in traditional dams, the prototype uses velocity of flowing river, professor rp saini said. flowing water can generate hundred times more power than wind of same velocity, saini added.\n"
     ]
    }
   ],
   "source": [
    "sentence4 = re.sub('\"', '', sentence3)\n",
    "print(sentence4)"
   ]
  },
  {
   "cell_type": "code",
   "execution_count": 16,
   "id": "68029a39",
   "metadata": {},
   "outputs": [
    {
     "name": "stdout",
     "output_type": "stream",
     "text": [
      "a team of iit-roorkee scientists is testing a floating device that can generate electricity from flowing surface water of rivers. instead of using water falling from height to turn turbines like in traditional dams, the prototype uses velocity of flowing river, professor rp saini said. flowing water can generate hundred times more power than wind of same velocity, saini added.\n"
     ]
    }
   ],
   "source": [
    "sentence5 = ' '.join([contractions[t] if t in contractions else t for t in sentence4.split(\" \")])\n",
    "print(sentence5)"
   ]
  },
  {
   "cell_type": "code",
   "execution_count": 17,
   "id": "35629f72",
   "metadata": {},
   "outputs": [
    {
     "name": "stdout",
     "output_type": "stream",
     "text": [
      "a team of iit-roorkee scientists is testing a floating device that can generate electricity from flowing surface water of rivers. instead of using water falling from height to turn turbines like in traditional dams, the prototype uses velocity of flowing river, professor rp saini said. flowing water can generate hundred times more power than wind of same velocity, saini added.\n"
     ]
    }
   ],
   "source": [
    "sentence6 = re.sub(r\"'s\\b\",\"\",sentence5)\n",
    "print(sentence6)"
   ]
  },
  {
   "cell_type": "code",
   "execution_count": 18,
   "id": "1c7a6075",
   "metadata": {},
   "outputs": [
    {
     "name": "stdout",
     "output_type": "stream",
     "text": [
      "a team of iit roorkee scientists is testing a floating device that can generate electricity from flowing surface water of rivers  instead of using water falling from height to turn turbines like in traditional dams  the prototype uses velocity of flowing river  professor rp saini said  flowing water can generate hundred times more power than wind of same velocity  saini added \n"
     ]
    }
   ],
   "source": [
    "sentence7 = re.sub(\"[^a-zA-Z]\", \" \", sentence6)\n",
    "print(sentence7)"
   ]
  },
  {
   "cell_type": "code",
   "execution_count": 19,
   "id": "be0bca43",
   "metadata": {},
   "outputs": [
    {
     "name": "stdout",
     "output_type": "stream",
     "text": [
      "a team of iit roorkee scientists is testing a floating device that can generate electricity from flowing surface water of rivers  instead of using water falling from height to turn turbines like in traditional dams  the prototype uses velocity of flowing river  professor rp saini said  flowing water can generate hundred times more power than wind of same velocity  saini added \n"
     ]
    }
   ],
   "source": [
    "sentence8 = re.sub('[m]{2,}', 'mm', sentence7)\n",
    "print(sentence8)"
   ]
  },
  {
   "cell_type": "code",
   "execution_count": 20,
   "id": "c331deaf",
   "metadata": {
    "scrolled": true
   },
   "outputs": [
    {
     "name": "stdout",
     "output_type": "stream",
     "text": [
      "team iit roorkee scientists testing floating device generate electricity flowing surface water rivers instead using water falling height turn turbines like traditional dams prototype uses velocity flowing river professor rp saini said flowing water generate hundred times power wind velocity saini added\n"
     ]
    }
   ],
   "source": [
    "token = ' '.join(word for word in sentence8.split() if not word in stopwords.words('english') if len(word) > 1)\n",
    "print(token)"
   ]
  },
  {
   "cell_type": "markdown",
   "id": "35c8328a",
   "metadata": {},
   "source": [
    "#### 데이터 전처리 함수 정의 및 전처리 시작"
   ]
  },
  {
   "cell_type": "code",
   "execution_count": 21,
   "id": "cac2b903",
   "metadata": {},
   "outputs": [],
   "source": [
    "def preprocess_sentence(sentence, remove_stopwords=True):\n",
    "    sentence = sentence.lower()\n",
    "    sentence = BeautifulSoup(sentence, \"lxml\").text\n",
    "    sentence = re.sub(r'\\([^)]*\\)', '', sentence)\n",
    "    sentence = re.sub('\"','', sentence)\n",
    "    sentence = ' '.join([contractions[t] if t in contractions else t for t in sentence.split(\" \")])\n",
    "    sentence = re.sub(r\"'s\\b\",\"\",sentence)\n",
    "    sentence = re.sub(\"[^a-zA-Z]\", \" \", sentence)\n",
    "    sentence = re.sub('[m]{2,}', 'mm', sentence)\n",
    "    \n",
    "    if remove_stopwords:\n",
    "        tokens = ' '.join(word for word in sentence.split() if not word in stopwords.words('english') if len(word) > 1)\n",
    "    else:\n",
    "        tokens = ' '.join(word for word in sentence.split() if len(word) > 1)\n",
    "    return tokens"
   ]
  },
  {
   "cell_type": "code",
   "execution_count": 22,
   "id": "aa2a7d9a",
   "metadata": {},
   "outputs": [
    {
     "name": "stdout",
     "output_type": "stream",
     "text": [
      "원본 : Union Minister Anantkumar Hegde took a dig at Congress President Rahul Gandhi by calling him a \"hybrid specimen\" who has no clue about religion. \"A father who's...Muslim, a mother who's...Christian and the son is supposed to be...Brahmin. How is that even possible?\" he said. He added such \"hybrid specimen\" cannot be found in any laboratory in the world.\n",
      "\n",
      "변환 : union minister anantkumar hegde took dig congress president rahul gandhi calling hybrid specimen clue religion father muslim mother christian son supposed brahmin even possible said added hybrid specimen cannot found laboratory world\n"
     ]
    }
   ],
   "source": [
    "# 비교 예시\n",
    "temp = data.loc[45]['text']\n",
    "print('원본 : {}\\n'.format(temp))\n",
    "print('변환 : {}'.format(preprocess_sentence(temp, True)))"
   ]
  },
  {
   "cell_type": "code",
   "execution_count": 23,
   "id": "e2d30fe6",
   "metadata": {},
   "outputs": [
    {
     "name": "stderr",
     "output_type": "stream",
     "text": [
      "100%|██████████| 98360/98360 [00:17<00:00, 5652.26it/s]\n",
      "100%|██████████| 98360/98360 [11:38<00:00, 140.84it/s]\n"
     ]
    }
   ],
   "source": [
    "clean_headlines = []\n",
    "clean_text = []\n",
    "\n",
    "for x in tqdm(data['headlines']):\n",
    "    clean_headlines.append(preprocess_sentence(x, False))\n",
    "\n",
    "for x in tqdm(data['text']):\n",
    "    clean_text.append(preprocess_sentence(x, True))"
   ]
  },
  {
   "cell_type": "code",
   "execution_count": 26,
   "id": "569ca1e4",
   "metadata": {},
   "outputs": [
    {
     "data": {
      "text/plain": [
       "['upgrad learner switches to career in ml al with salary hike',\n",
       " 'delhi techie wins free food from swiggy for one year on cred',\n",
       " 'new zealand end rohit sharma led india match winning streak',\n",
       " 'aegon life iterm insurance plan helps customers save tax',\n",
       " 'have known hirani for yrs what if metoo claims are not true sonam']"
      ]
     },
     "execution_count": 26,
     "metadata": {},
     "output_type": "execute_result"
    }
   ],
   "source": [
    "clean_headlines[:5]"
   ]
  },
  {
   "cell_type": "code",
   "execution_count": 27,
   "id": "31f4126e",
   "metadata": {},
   "outputs": [
    {
     "data": {
      "text/plain": [
       "['saurav kant alumnus upgrad iiit pg program machine learning artificial intelligence sr systems engineer infosys almost years work experience program upgrad degree career support helped transition data scientist tech mahindra salary hike upgrad online power learning powered lakh careers',\n",
       " 'kunal shah credit card bill payment platform cred gave users chance win free food swiggy one year pranav kaushik delhi techie bagged reward spending cred coins users get one cred coin per rupee bill paid used avail rewards brands like ixigo bookmyshow ubereats cult fit',\n",
       " 'new zealand defeated india wickets fourth odi hamilton thursday win first match five match odi series india lost international match rohit sharma captaincy consecutive victories dating back march match witnessed india getting seventh lowest total odi cricket history',\n",
       " 'aegon life iterm insurance plan customers enjoy tax benefits premiums paid save taxes plan provides life cover age years also customers options insure critical illnesses disability accidental death benefit rider life cover age years',\n",
       " 'speaking sexual harassment allegations rajkumar hirani sonam kapoor said known hirani many years true metoo movement get derailed metoo movement always believe woman case need reserve judgment added hirani accused assistant worked sanju']"
      ]
     },
     "execution_count": 27,
     "metadata": {},
     "output_type": "execute_result"
    }
   ],
   "source": [
    "clean_text[:5]"
   ]
  },
  {
   "cell_type": "code",
   "execution_count": 28,
   "id": "0b876241",
   "metadata": {},
   "outputs": [],
   "source": [
    "data['headlines'] = clean_headlines\n",
    "data['text'] = clean_text"
   ]
  },
  {
   "cell_type": "code",
   "execution_count": 29,
   "id": "9369e9c6",
   "metadata": {
    "scrolled": true
   },
   "outputs": [
    {
     "name": "stdout",
     "output_type": "stream",
     "text": [
      "(98360, 2)\n"
     ]
    },
    {
     "data": {
      "text/html": [
       "<div>\n",
       "<style scoped>\n",
       "    .dataframe tbody tr th:only-of-type {\n",
       "        vertical-align: middle;\n",
       "    }\n",
       "\n",
       "    .dataframe tbody tr th {\n",
       "        vertical-align: top;\n",
       "    }\n",
       "\n",
       "    .dataframe thead th {\n",
       "        text-align: right;\n",
       "    }\n",
       "</style>\n",
       "<table border=\"1\" class=\"dataframe\">\n",
       "  <thead>\n",
       "    <tr style=\"text-align: right;\">\n",
       "      <th></th>\n",
       "      <th>headlines</th>\n",
       "      <th>text</th>\n",
       "    </tr>\n",
       "  </thead>\n",
       "  <tbody>\n",
       "    <tr>\n",
       "      <th>0</th>\n",
       "      <td>upgrad learner switches to career in ml al wit...</td>\n",
       "      <td>saurav kant alumnus upgrad iiit pg program mac...</td>\n",
       "    </tr>\n",
       "    <tr>\n",
       "      <th>1</th>\n",
       "      <td>delhi techie wins free food from swiggy for on...</td>\n",
       "      <td>kunal shah credit card bill payment platform c...</td>\n",
       "    </tr>\n",
       "    <tr>\n",
       "      <th>2</th>\n",
       "      <td>new zealand end rohit sharma led india match w...</td>\n",
       "      <td>new zealand defeated india wickets fourth odi ...</td>\n",
       "    </tr>\n",
       "    <tr>\n",
       "      <th>3</th>\n",
       "      <td>aegon life iterm insurance plan helps customer...</td>\n",
       "      <td>aegon life iterm insurance plan customers enjo...</td>\n",
       "    </tr>\n",
       "    <tr>\n",
       "      <th>4</th>\n",
       "      <td>have known hirani for yrs what if metoo claims...</td>\n",
       "      <td>speaking sexual harassment allegations rajkuma...</td>\n",
       "    </tr>\n",
       "  </tbody>\n",
       "</table>\n",
       "</div>"
      ],
      "text/plain": [
       "                                           headlines  \\\n",
       "0  upgrad learner switches to career in ml al wit...   \n",
       "1  delhi techie wins free food from swiggy for on...   \n",
       "2  new zealand end rohit sharma led india match w...   \n",
       "3  aegon life iterm insurance plan helps customer...   \n",
       "4  have known hirani for yrs what if metoo claims...   \n",
       "\n",
       "                                                text  \n",
       "0  saurav kant alumnus upgrad iiit pg program mac...  \n",
       "1  kunal shah credit card bill payment platform c...  \n",
       "2  new zealand defeated india wickets fourth odi ...  \n",
       "3  aegon life iterm insurance plan customers enjo...  \n",
       "4  speaking sexual harassment allegations rajkuma...  "
      ]
     },
     "execution_count": 29,
     "metadata": {},
     "output_type": "execute_result"
    }
   ],
   "source": [
    "print(data.shape)\n",
    "data.head()"
   ]
  },
  {
   "cell_type": "code",
   "execution_count": 30,
   "id": "e752ba23",
   "metadata": {},
   "outputs": [],
   "source": [
    "data.replace('', np.nan, inplace=True)"
   ]
  },
  {
   "cell_type": "code",
   "execution_count": 31,
   "id": "783aad0f",
   "metadata": {},
   "outputs": [
    {
     "data": {
      "text/plain": [
       "headlines    0\n",
       "text         0\n",
       "dtype: int64"
      ]
     },
     "execution_count": 31,
     "metadata": {},
     "output_type": "execute_result"
    }
   ],
   "source": [
    "data.isnull().sum()"
   ]
  },
  {
   "cell_type": "markdown",
   "id": "48da4d5b",
   "metadata": {},
   "source": [
    "### 데이터 Max_len 설정"
   ]
  },
  {
   "cell_type": "code",
   "execution_count": 38,
   "id": "f344b79f",
   "metadata": {},
   "outputs": [],
   "source": [
    "headlines_len = [len(s.split()) for s in data['headlines']]\n",
    "text_len = [len(s.split()) for s in data['text']]"
   ]
  },
  {
   "cell_type": "code",
   "execution_count": 39,
   "id": "75292afa",
   "metadata": {},
   "outputs": [
    {
     "name": "stdout",
     "output_type": "stream",
     "text": [
      "요약의 최소 : 1\n",
      "요약의 최대 : 11\n",
      "요약의 평균 : 9.125915916265742\n",
      "텍스트의 최소 : 1\n",
      "텍스트의 최대 : 40\n",
      "텍스트의 평균 : 34.54028866651911\n"
     ]
    }
   ],
   "source": [
    "print('요약의 최소 : {}'.format(np.min(headlines_len)))\n",
    "print('요약의 최대 : {}'.format(np.max(headlines_len)))\n",
    "print('요약의 평균 : {}'.format(np.mean(headlines_len)))\n",
    "\n",
    "print('텍스트의 최소 : {}'.format(np.min(text_len)))\n",
    "print('텍스트의 최대 : {}'.format(np.max(text_len)))\n",
    "print('텍스트의 평균 : {}'.format(np.mean(text_len)))"
   ]
  },
  {
   "cell_type": "code",
   "execution_count": 40,
   "id": "1b151542",
   "metadata": {},
   "outputs": [
    {
     "data": {
      "image/png": "[encoded data removed]",
      "text/plain": [
       "<Figure size 432x288 with 2 Axes>"
      ]
     },
     "metadata": {
      "needs_background": "light"
     },
     "output_type": "display_data"
    },
    {
     "data": {
      "image/png": "[encoded data removed]",
      "text/plain": [
       "<Figure size 432x288 with 1 Axes>"
      ]
     },
     "metadata": {
      "needs_background": "light"
     },
     "output_type": "display_data"
    },
    {
     "data": {
      "image/png": "[encoded data removed]",
      "text/plain": [
       "<Figure size 432x288 with 1 Axes>"
      ]
     },
     "metadata": {
      "needs_background": "light"
     },
     "output_type": "display_data"
    }
   ],
   "source": [
    "# boxplot을 이용한 IQR 시각화\n",
    "plt.subplot(1,2,1)\n",
    "plt.boxplot(headlines_len)\n",
    "plt.title('headlines')\n",
    "plt.subplot(1,2,2)\n",
    "plt.boxplot(text_len)\n",
    "plt.title('Text')\n",
    "plt.tight_layout()\n",
    "plt.show()\n",
    "\n",
    "# 히스토그램 시각화\n",
    "plt.title('headlines')\n",
    "plt.hist(headlines_len, bins = 40)\n",
    "plt.xlabel('length of samples')\n",
    "plt.ylabel('number of samples')\n",
    "plt.show()\n",
    "\n",
    "plt.title('Text')\n",
    "plt.hist(text_len, bins = 40)\n",
    "plt.xlabel('length of samples')\n",
    "plt.ylabel('number of samples')\n",
    "plt.show()"
   ]
  },
  {
   "cell_type": "code",
   "execution_count": 41,
   "id": "4da2a497",
   "metadata": {},
   "outputs": [],
   "source": [
    "def below_threshold_len(max_len, nested_list):\n",
    "    cnt = 0\n",
    "    for s in nested_list:\n",
    "        if(len(s.split()) <= max_len):\n",
    "            cnt = cnt + 1\n",
    "    print('전체 샘플 중 길이가 %s 이하인 샘플의 비율: %s'%(max_len, (cnt / len(nested_list))))"
   ]
  },
  {
   "cell_type": "code",
   "execution_count": 42,
   "id": "8ff4728c",
   "metadata": {},
   "outputs": [
    {
     "name": "stdout",
     "output_type": "stream",
     "text": [
      "전체 샘플 중 길이가 11 이하인 샘플의 비율: 1.0\n",
      "전체 샘플 중 길이가 40 이하인 샘플의 비율: 1.0\n"
     ]
    }
   ],
   "source": [
    "# 임의의 max_len 선정\n",
    "headlines_max_len = 11\n",
    "text_max_len = 40\n",
    "\n",
    "below_threshold_len(headlines_max_len,  data['headlines'])\n",
    "below_threshold_len(text_max_len, data['text'])"
   ]
  },
  {
   "cell_type": "code",
   "execution_count": 43,
   "id": "bef54727",
   "metadata": {},
   "outputs": [
    {
     "data": {
      "text/plain": [
       "(85843, 2)"
      ]
     },
     "execution_count": 43,
     "metadata": {},
     "output_type": "execute_result"
    }
   ],
   "source": [
    "# max_len 길이 이하만 추출\n",
    "# 98360 -> 85843\n",
    "data = data[data['headlines'].apply(lambda x: len(x.split()) <= headlines_max_len)]\n",
    "data = data[data['text'].apply(lambda x: len(x.split()) <= text_max_len)]\n",
    "\n",
    "data.shape"
   ]
  },
  {
   "cell_type": "markdown",
   "id": "bad8edd8",
   "metadata": {},
   "source": [
    "### encoder, decoder 데이터 정의"
   ]
  },
  {
   "cell_type": "code",
   "execution_count": 44,
   "id": "9d807e99",
   "metadata": {},
   "outputs": [
    {
     "data": {
      "text/html": [
       "<div>\n",
       "<style scoped>\n",
       "    .dataframe tbody tr th:only-of-type {\n",
       "        vertical-align: middle;\n",
       "    }\n",
       "\n",
       "    .dataframe tbody tr th {\n",
       "        vertical-align: top;\n",
       "    }\n",
       "\n",
       "    .dataframe thead th {\n",
       "        text-align: right;\n",
       "    }\n",
       "</style>\n",
       "<table border=\"1\" class=\"dataframe\">\n",
       "  <thead>\n",
       "    <tr style=\"text-align: right;\">\n",
       "      <th></th>\n",
       "      <th>headlines</th>\n",
       "      <th>text</th>\n",
       "      <th>decoder_input</th>\n",
       "      <th>decoder_target</th>\n",
       "    </tr>\n",
       "  </thead>\n",
       "  <tbody>\n",
       "    <tr>\n",
       "      <th>0</th>\n",
       "      <td>upgrad learner switches to career in ml al wit...</td>\n",
       "      <td>saurav kant alumnus upgrad iiit pg program mac...</td>\n",
       "      <td>sostoken upgrad learner switches to career in ...</td>\n",
       "      <td>upgrad learner switches to career in ml al wit...</td>\n",
       "    </tr>\n",
       "    <tr>\n",
       "      <th>2</th>\n",
       "      <td>new zealand end rohit sharma led india match w...</td>\n",
       "      <td>new zealand defeated india wickets fourth odi ...</td>\n",
       "      <td>sostoken new zealand end rohit sharma led indi...</td>\n",
       "      <td>new zealand end rohit sharma led india match w...</td>\n",
       "    </tr>\n",
       "    <tr>\n",
       "      <th>3</th>\n",
       "      <td>aegon life iterm insurance plan helps customer...</td>\n",
       "      <td>aegon life iterm insurance plan customers enjo...</td>\n",
       "      <td>sostoken aegon life iterm insurance plan helps...</td>\n",
       "      <td>aegon life iterm insurance plan helps customer...</td>\n",
       "    </tr>\n",
       "    <tr>\n",
       "      <th>5</th>\n",
       "      <td>rahat fateh ali khan denies getting notice for...</td>\n",
       "      <td>pakistani singer rahat fateh ali khan denied r...</td>\n",
       "      <td>sostoken rahat fateh ali khan denies getting n...</td>\n",
       "      <td>rahat fateh ali khan denies getting notice for...</td>\n",
       "    </tr>\n",
       "    <tr>\n",
       "      <th>7</th>\n",
       "      <td>govt directs alok verma to join work day befor...</td>\n",
       "      <td>weeks ex cbi director alok verma told departme...</td>\n",
       "      <td>sostoken govt directs alok verma to join work ...</td>\n",
       "      <td>govt directs alok verma to join work day befor...</td>\n",
       "    </tr>\n",
       "  </tbody>\n",
       "</table>\n",
       "</div>"
      ],
      "text/plain": [
       "                                           headlines  \\\n",
       "0  upgrad learner switches to career in ml al wit...   \n",
       "2  new zealand end rohit sharma led india match w...   \n",
       "3  aegon life iterm insurance plan helps customer...   \n",
       "5  rahat fateh ali khan denies getting notice for...   \n",
       "7  govt directs alok verma to join work day befor...   \n",
       "\n",
       "                                                text  \\\n",
       "0  saurav kant alumnus upgrad iiit pg program mac...   \n",
       "2  new zealand defeated india wickets fourth odi ...   \n",
       "3  aegon life iterm insurance plan customers enjo...   \n",
       "5  pakistani singer rahat fateh ali khan denied r...   \n",
       "7  weeks ex cbi director alok verma told departme...   \n",
       "\n",
       "                                       decoder_input  \\\n",
       "0  sostoken upgrad learner switches to career in ...   \n",
       "2  sostoken new zealand end rohit sharma led indi...   \n",
       "3  sostoken aegon life iterm insurance plan helps...   \n",
       "5  sostoken rahat fateh ali khan denies getting n...   \n",
       "7  sostoken govt directs alok verma to join work ...   \n",
       "\n",
       "                                      decoder_target  \n",
       "0  upgrad learner switches to career in ml al wit...  \n",
       "2  new zealand end rohit sharma led india match w...  \n",
       "3  aegon life iterm insurance plan helps customer...  \n",
       "5  rahat fateh ali khan denies getting notice for...  \n",
       "7  govt directs alok verma to join work day befor...  "
      ]
     },
     "execution_count": 44,
     "metadata": {},
     "output_type": "execute_result"
    }
   ],
   "source": [
    "# headline 토큰에는 훈련을 위한 시작 및 종료 토큰 추가\n",
    "data['decoder_input'] = data['headlines'].apply(lambda x: 'sostoken ' + x)\n",
    "data['decoder_target'] = data['headlines'].apply(lambda x: x + ' eostoken')\n",
    "data.head()"
   ]
  },
  {
   "cell_type": "code",
   "execution_count": 45,
   "id": "3a815acc",
   "metadata": {},
   "outputs": [
    {
     "data": {
      "text/plain": [
       "'upgrad learner switches to career in ml al with salary hike eostoken'"
      ]
     },
     "execution_count": 45,
     "metadata": {},
     "output_type": "execute_result"
    }
   ],
   "source": [
    "# 마지막에 eostoken이 잘 붙었는지 확인\n",
    "data['decoder_target'][0]"
   ]
  },
  {
   "cell_type": "code",
   "execution_count": 46,
   "id": "18e34263",
   "metadata": {},
   "outputs": [],
   "source": [
    "# encoder decoder input target 정의\n",
    "encoder_input = np.array(data['text'])\n",
    "decoder_input = np.array(data['decoder_input'])\n",
    "decoder_target = np.array(data['decoder_target'])"
   ]
  },
  {
   "cell_type": "markdown",
   "id": "02dd9826",
   "metadata": {},
   "source": [
    "### 데이터 분리"
   ]
  },
  {
   "cell_type": "code",
   "execution_count": 47,
   "id": "bfd0c00f",
   "metadata": {},
   "outputs": [
    {
     "data": {
      "text/plain": [
       "array([66932, 51225, 60493, ...,  1526, 53297, 17622])"
      ]
     },
     "execution_count": 47,
     "metadata": {},
     "output_type": "execute_result"
    }
   ],
   "source": [
    "# shuffle을 이용한 데이터 샘플 순서 무작위 정의\n",
    "indices = np.arange(encoder_input.shape[0])\n",
    "np.random.shuffle(indices)\n",
    "\n",
    "encoder_input = encoder_input[indices]\n",
    "decoder_input = decoder_input[indices]\n",
    "decoder_target = decoder_target[indices]\n",
    "indices"
   ]
  },
  {
   "cell_type": "code",
   "execution_count": 48,
   "id": "c5b5afbe",
   "metadata": {},
   "outputs": [
    {
     "name": "stdout",
     "output_type": "stream",
     "text": [
      "테스트 데이터의 수 : 17168\n"
     ]
    }
   ],
   "source": [
    "# 테스트 데이터 수 정의\n",
    "n_of_val = int(len(encoder_input)*0.2)\n",
    "print('테스트 데이터의 수 :', n_of_val)"
   ]
  },
  {
   "cell_type": "code",
   "execution_count": 49,
   "id": "f9ac0a6f",
   "metadata": {},
   "outputs": [
    {
     "data": {
      "text/plain": [
       "((68675,), (17168,))"
      ]
     },
     "execution_count": 49,
     "metadata": {},
     "output_type": "execute_result"
    }
   ],
   "source": [
    "# train, test 데이터 분리\n",
    "# train 68675개, test 17168개로 분리\n",
    "encoder_input_train = encoder_input[:-n_of_val]\n",
    "decoder_input_train = decoder_input[:-n_of_val]\n",
    "decoder_target_train = decoder_target[:-n_of_val]\n",
    "\n",
    "encoder_input_test = encoder_input[-n_of_val:]\n",
    "decoder_input_test = decoder_input[-n_of_val:]\n",
    "decoder_target_test = decoder_target[-n_of_val:]\n",
    "\n",
    "encoder_input_train.shape, encoder_input_test.shape"
   ]
  },
  {
   "cell_type": "markdown",
   "id": "00c0f872",
   "metadata": {},
   "source": [
    "## "
   ]
  },
  {
   "cell_type": "code",
   "execution_count": 50,
   "id": "85824d08",
   "metadata": {},
   "outputs": [],
   "source": [
    "from tensorflow.keras.preprocessing.text import Tokenizer \n",
    "from tensorflow.keras.preprocessing.sequence import pad_sequences"
   ]
  },
  {
   "cell_type": "code",
   "execution_count": 51,
   "id": "544a906e",
   "metadata": {},
   "outputs": [],
   "source": [
    "# 토크나이저 정의 및 단어 집합 생성(train encode 데이터)\n",
    "src_tokenizer = Tokenizer()\n",
    "src_tokenizer.fit_on_texts(encoder_input_train)"
   ]
  },
  {
   "cell_type": "code",
   "execution_count": 52,
   "id": "88d7b791",
   "metadata": {},
   "outputs": [
    {
     "name": "stdout",
     "output_type": "stream",
     "text": [
      "단어 집합(vocabulary)의 크기 : 64725\n",
      "등장 빈도가 6번 이하인 희귀 단어의 수: 44180\n",
      "단어 집합에서 희귀 단어를 제외시킬 경우의 단어 집합의 크기: 20545\n",
      "단어 집합에서 희귀 단어의 비율: 68.25801467748165\n",
      "전체 등장 빈도에서 희귀 단어 등장 빈도 비율: 3.7942437686346677\n"
     ]
    }
   ],
   "source": [
    "# 등장 빈도 수 기준\n",
    "threshold = 7\n",
    "\n",
    "# 총 단어 수\n",
    "total_cnt = len(src_tokenizer.word_index)\n",
    "# threshold보다 적은 단어 수\n",
    "rare_cnt = 0\n",
    "# 단어의 총 빈도 수 및 rare 빈도 수\n",
    "total_freq = 0\n",
    "rare_freq = 0\n",
    "\n",
    "\n",
    "# key: 단어, value: 빈도 수\n",
    "for key, value in src_tokenizer.word_counts.items():\n",
    "    total_freq = total_freq + value\n",
    "\n",
    "    # 단어의 등장 빈도수가 threshold보다 작으면 rare 변수에 추가\n",
    "    if(value < threshold):\n",
    "        rare_cnt = rare_cnt + 1\n",
    "        rare_freq = rare_freq + value\n",
    "\n",
    "print('단어 집합(vocabulary)의 크기 :', total_cnt)\n",
    "print('등장 빈도가 %s번 이하인 희귀 단어의 수: %s'%(threshold - 1, rare_cnt))\n",
    "print('단어 집합에서 희귀 단어를 제외시킬 경우의 단어 집합의 크기: %s'%(total_cnt - rare_cnt))\n",
    "print(\"단어 집합에서 희귀 단어의 비율:\", (rare_cnt / total_cnt)*100)\n",
    "print(\"전체 등장 빈도에서 희귀 단어 등장 빈도 비율:\", (rare_freq / total_freq)*100)"
   ]
  },
  {
   "cell_type": "code",
   "execution_count": 53,
   "id": "a44ae5fc",
   "metadata": {},
   "outputs": [],
   "source": [
    "# 단어 수 : 64672\n",
    "# 등장 빈도 6회 이하 단어 수 : 44060 (68.12%)\n",
    "# 7회 이상 : 64672 - 44080 = 20612\n",
    "\n",
    "# 단어 집합 크기 제한(20000)을 통한 단어 집합 생성\n",
    "src_vocab = 20000\n",
    "src_tokenizer = Tokenizer(num_words=src_vocab)\n",
    "src_tokenizer.fit_on_texts(encoder_input_train)"
   ]
  },
  {
   "cell_type": "code",
   "execution_count": 54,
   "id": "5c991690",
   "metadata": {},
   "outputs": [],
   "source": [
    "# text to int(정수 시퀀스)\n",
    "# train test 모두 처리\n",
    "encoder_input_train = src_tokenizer.texts_to_sequences(encoder_input_train) \n",
    "encoder_input_test = src_tokenizer.texts_to_sequences(encoder_input_test)"
   ]
  },
  {
   "cell_type": "code",
   "execution_count": 55,
   "id": "0845211a",
   "metadata": {},
   "outputs": [
    {
     "name": "stdout",
     "output_type": "stream",
     "text": [
      "[[551, 1421, 275, 4525, 1448, 98, 18039, 177, 1, 1421, 13622, 99, 119, 11867, 99, 7071, 1775, 34, 231, 1566, 1421, 6317, 13128, 1723, 3030, 4258, 39, 1061, 177, 4, 6, 1070, 1421, 2741, 4945, 3935, 792, 2932, 513, 2064], [1410, 127, 1, 176, 53, 212, 8194, 1712, 4946, 315, 1101, 3802, 8194, 828, 18, 32, 3416, 8025, 10297, 343, 4306, 1059, 1502, 469, 1, 6501, 8194, 253, 3181], [1039, 3350, 1516, 100, 6088, 11152, 5, 42, 798, 94, 878, 13129, 798, 2503, 1554, 127, 464, 45, 28, 45, 3031, 464, 88, 1105, 70, 829, 6149, 823, 1324, 1443, 798, 32, 318, 2202, 692, 464, 296]]\n"
     ]
    }
   ],
   "source": [
    "print(encoder_input_train[:3])"
   ]
  },
  {
   "cell_type": "code",
   "execution_count": 56,
   "id": "12ba4aca",
   "metadata": {},
   "outputs": [],
   "source": [
    "# decoder input에도 같은 순서 반복\n",
    "tar_tokenizer = Tokenizer()\n",
    "tar_tokenizer.fit_on_texts(decoder_input_train)"
   ]
  },
  {
   "cell_type": "code",
   "execution_count": 57,
   "id": "54c4e1a5",
   "metadata": {},
   "outputs": [],
   "source": [
    "def check_vocab_freq(threshold, tokenizer):\n",
    "    threshold = threshold\n",
    "    total_cnt = len(tokenizer.word_index)\n",
    "    rare_cnt = 0\n",
    "    total_freq = 0\n",
    "    rare_freq = 0\n",
    "\n",
    "    # 단어와 빈도수의 쌍(pair)을 key와 value로 받는다.\n",
    "    for key, value in tar_tokenizer.word_counts.items():\n",
    "        total_freq = total_freq + value\n",
    "\n",
    "        # 단어의 등장 빈도수가 threshold보다 작으면\n",
    "        if(value < threshold):\n",
    "            rare_cnt = rare_cnt + 1\n",
    "            rare_freq = rare_freq + value\n",
    "\n",
    "    print('단어 집합(vocabulary)의 크기 :', total_cnt)\n",
    "    print('등장 빈도가 %s번 이하인 희귀 단어의 수: %s'%(threshold - 1, rare_cnt))\n",
    "    print('단어 집합에서 희귀 단어를 제외시킬 경우의 단어 집합의 크기 %s'%(total_cnt - rare_cnt))\n",
    "    print(\"단어 집합에서 희귀 단어의 비율:\", (rare_cnt / total_cnt)*100)\n",
    "    print(\"전체 등장 빈도에서 희귀 단어 등장 빈도 비율:\", (rare_freq / total_freq)*100)"
   ]
  },
  {
   "cell_type": "code",
   "execution_count": 58,
   "id": "d51b121d",
   "metadata": {},
   "outputs": [
    {
     "name": "stdout",
     "output_type": "stream",
     "text": [
      "단어 집합(vocabulary)의 크기 : 28478\n",
      "등장 빈도가 5번 이하인 희귀 단어의 수: 18743\n",
      "단어 집합에서 희귀 단어를 제외시킬 경우의 단어 집합의 크기 9735\n",
      "단어 집합에서 희귀 단어의 비율: 65.81571739588455\n",
      "전체 등장 빈도에서 희귀 단어 등장 빈도 비율: 5.158000983462305\n"
     ]
    }
   ],
   "source": [
    "# threshold=6일 때\n",
    "check_vocab_freq(6, tar_tokenizer)"
   ]
  },
  {
   "cell_type": "code",
   "execution_count": 59,
   "id": "90baa475",
   "metadata": {},
   "outputs": [
    {
     "name": "stdout",
     "output_type": "stream",
     "text": [
      "단어 집합(vocabulary)의 크기 : 28478\n",
      "등장 빈도가 7번 이하인 희귀 단어의 수: 20276\n",
      "단어 집합에서 희귀 단어를 제외시킬 경우의 단어 집합의 크기 8202\n",
      "단어 집합에서 희귀 단어의 비율: 71.19882014186389\n",
      "전체 등장 빈도에서 희귀 단어 등장 빈도 비율: 6.58028301859664\n"
     ]
    }
   ],
   "source": [
    "# threshold=8일 때\n",
    "check_vocab_freq(8, tar_tokenizer)"
   ]
  },
  {
   "cell_type": "code",
   "execution_count": 60,
   "id": "a6e0c6a6",
   "metadata": {},
   "outputs": [
    {
     "name": "stdout",
     "output_type": "stream",
     "text": [
      "input\n",
      "input  [[1, 753, 8204, 85, 22, 325, 3, 133, 8898, 607, 117], [1, 1370, 1743, 195, 166, 6, 1269], [1, 880, 3989, 3, 1003, 4, 205, 59], [1, 15, 203, 3, 952, 7, 3612, 761], [1, 953, 12, 7110, 5, 9737, 736, 1384, 314, 126]]\n",
      "target\n",
      "decoder  [[753, 8204, 85, 22, 325, 3, 133, 8898, 607, 117, 2], [1370, 1743, 195, 166, 6, 1269, 2], [880, 3989, 3, 1003, 4, 205, 59, 2], [15, 203, 3, 952, 7, 3612, 761, 2], [953, 12, 7110, 5, 9737, 736, 1384, 314, 126, 2]]\n"
     ]
    }
   ],
   "source": [
    "# threshold=8일 때 기준으로 단어 집합 크기 제한\n",
    "tar_vocab = 10000\n",
    "tar_tokenizer = Tokenizer(num_words=tar_vocab) \n",
    "tar_tokenizer.fit_on_texts(decoder_input_train)\n",
    "tar_tokenizer.fit_on_texts(decoder_target_train)\n",
    "\n",
    "# 텍스트 시퀀스를 정수 시퀀스로 변환\n",
    "decoder_input_train = tar_tokenizer.texts_to_sequences(decoder_input_train) \n",
    "decoder_target_train = tar_tokenizer.texts_to_sequences(decoder_target_train)\n",
    "decoder_input_test = tar_tokenizer.texts_to_sequences(decoder_input_test)\n",
    "decoder_target_test = tar_tokenizer.texts_to_sequences(decoder_target_test)\n",
    "\n",
    "# 잘 변환되었는지 확인\n",
    "print('input')\n",
    "print('input ',decoder_input_train[:5])\n",
    "print('target')\n",
    "print('decoder ',decoder_target_train[:5])"
   ]
  },
  {
   "cell_type": "code",
   "execution_count": 61,
   "id": "96926faa",
   "metadata": {},
   "outputs": [
    {
     "name": "stdout",
     "output_type": "stream",
     "text": [
      "삭제할 훈련 데이터의 개수 : 0\n",
      "삭제할 테스트 데이터의 개수 : 0\n"
     ]
    }
   ],
   "source": [
    "# headlines의 길이가 0인 경우 추출\n",
    "drop_train = [index for index, sentence in enumerate(decoder_input_train) if len(sentence) == 1]\n",
    "drop_test = [index for index, sentence in enumerate(decoder_input_test) if len(sentence) == 1]\n",
    "\n",
    "print('삭제할 훈련 데이터의 개수 :', len(drop_train))\n",
    "print('삭제할 테스트 데이터의 개수 :', len(drop_test))"
   ]
  },
  {
   "cell_type": "code",
   "execution_count": 62,
   "id": "c6368b9a",
   "metadata": {},
   "outputs": [],
   "source": [
    "#decoder_input_train[drop_train[0]]"
   ]
  },
  {
   "cell_type": "code",
   "execution_count": 63,
   "id": "f939656d",
   "metadata": {},
   "outputs": [
    {
     "name": "stdout",
     "output_type": "stream",
     "text": [
      "훈련 데이터의 개수 : 68675\n",
      "훈련 레이블의 개수 : 68675\n",
      "테스트 데이터의 개수 : 17168\n",
      "테스트 레이블의 개수 : 17168\n"
     ]
    }
   ],
   "source": [
    "encoder_input_train = [sentence for index, sentence in enumerate(encoder_input_train) if index not in drop_train]\n",
    "decoder_input_train = [sentence for index, sentence in enumerate(decoder_input_train) if index not in drop_train]\n",
    "decoder_target_train = [sentence for index, sentence in enumerate(decoder_target_train) if index not in drop_train]\n",
    "\n",
    "encoder_input_test = [sentence for index, sentence in enumerate(encoder_input_test) if index not in drop_test]\n",
    "decoder_input_test = [sentence for index, sentence in enumerate(decoder_input_test) if index not in drop_test]\n",
    "decoder_target_test = [sentence for index, sentence in enumerate(decoder_target_test) if index not in drop_test]\n",
    "\n",
    "print('훈련 데이터의 개수 :', len(encoder_input_train))\n",
    "print('훈련 레이블의 개수 :', len(decoder_input_train))\n",
    "print('테스트 데이터의 개수 :', len(encoder_input_test))\n",
    "print('테스트 레이블의 개수 :', len(decoder_input_test))"
   ]
  },
  {
   "cell_type": "code",
   "execution_count": 64,
   "id": "2a6791b8",
   "metadata": {},
   "outputs": [],
   "source": [
    "# 패딩 -> pre\n",
    "encoder_input_train = pad_sequences(encoder_input_train, maxlen=text_max_len, padding='pre')\n",
    "decoder_input_train = pad_sequences(decoder_input_train, maxlen=headlines_max_len, padding='pre')\n",
    "decoder_target_train = pad_sequences(decoder_target_train, maxlen=headlines_max_len, padding='pre')\n",
    "\n",
    "encoder_input_test = pad_sequences(encoder_input_test, maxlen=text_max_len, padding='pre')\n",
    "decoder_input_test = pad_sequences(decoder_input_test, maxlen=headlines_max_len, padding='pre')\n",
    "decoder_target_test = pad_sequences(decoder_target_test, maxlen=headlines_max_len, padding='pre')"
   ]
  },
  {
   "cell_type": "code",
   "execution_count": 65,
   "id": "e469782c",
   "metadata": {},
   "outputs": [
    {
     "data": {
      "text/plain": [
       "array([  551,  1421,   275,  4525,  1448,    98, 18039,   177,     1,\n",
       "        1421, 13622,    99,   119, 11867,    99,  7071,  1775,    34,\n",
       "         231,  1566,  1421,  6317, 13128,  1723,  3030,  4258,    39,\n",
       "        1061,   177,     4,     6,  1070,  1421,  2741,  4945,  3935,\n",
       "         792,  2932,   513,  2064], dtype=int32)"
      ]
     },
     "execution_count": 65,
     "metadata": {},
     "output_type": "execute_result"
    }
   ],
   "source": [
    "# 앞에 0으로 패딩이 들어간 모습을 볼 수 있음\n",
    "encoder_input_train[0]"
   ]
  },
  {
   "cell_type": "markdown",
   "id": "9c12218b",
   "metadata": {},
   "source": [
    "## 모델 설계"
   ]
  },
  {
   "cell_type": "code",
   "execution_count": 66,
   "id": "90c7a24c",
   "metadata": {},
   "outputs": [
    {
     "name": "stdout",
     "output_type": "stream",
     "text": [
      "Model: \"model\"\n",
      "__________________________________________________________________________________________________\n",
      "Layer (type)                    Output Shape         Param #     Connected to                     \n",
      "==================================================================================================\n",
      "input_1 (InputLayer)            [(None, 40)]         0                                            \n",
      "__________________________________________________________________________________________________\n",
      "embedding (Embedding)           (None, 40, 128)      2560000     input_1[0][0]                    \n",
      "__________________________________________________________________________________________________\n",
      "lstm (LSTM)                     [(None, 40, 256), (N 394240      embedding[0][0]                  \n",
      "__________________________________________________________________________________________________\n",
      "input_2 (InputLayer)            [(None, None)]       0                                            \n",
      "__________________________________________________________________________________________________\n",
      "lstm_1 (LSTM)                   [(None, 40, 256), (N 525312      lstm[0][0]                       \n",
      "__________________________________________________________________________________________________\n",
      "embedding_1 (Embedding)         (None, None, 128)    1280000     input_2[0][0]                    \n",
      "__________________________________________________________________________________________________\n",
      "lstm_2 (LSTM)                   [(None, 40, 256), (N 525312      lstm_1[0][0]                     \n",
      "__________________________________________________________________________________________________\n",
      "lstm_3 (LSTM)                   [(None, None, 256),  394240      embedding_1[0][0]                \n",
      "                                                                 lstm_2[0][1]                     \n",
      "                                                                 lstm_2[0][2]                     \n",
      "__________________________________________________________________________________________________\n",
      "attention_layer (AdditiveAttent (None, None, 256)    256         lstm_3[0][0]                     \n",
      "                                                                 lstm_2[0][0]                     \n",
      "__________________________________________________________________________________________________\n",
      "concat_layer (Concatenate)      (None, None, 512)    0           lstm_3[0][0]                     \n",
      "                                                                 attention_layer[0][0]            \n",
      "__________________________________________________________________________________________________\n",
      "dense_1 (Dense)                 (None, None, 10000)  5130000     concat_layer[0][0]               \n",
      "==================================================================================================\n",
      "Total params: 10,809,360\n",
      "Trainable params: 10,809,360\n",
      "Non-trainable params: 0\n",
      "__________________________________________________________________________________________________\n"
     ]
    }
   ],
   "source": [
    "from tensorflow.keras.layers import Input, LSTM, Embedding, Dense, Concatenate, TimeDistributed\n",
    "from tensorflow.keras.models import Model\n",
    "from tensorflow.keras.callbacks import EarlyStopping, ModelCheckpoint\n",
    "from tensorflow.keras.layers import AdditiveAttention\n",
    "\n",
    "\n",
    "# 인코더 설계 시작\n",
    "embedding_dim = 128\n",
    "hidden_size = 256\n",
    "\n",
    "# 인코더\n",
    "encoder_inputs = Input(shape=(text_max_len,))\n",
    "\n",
    "# 인코더의 임베딩 층\n",
    "enc_emb = Embedding(src_vocab, embedding_dim)(encoder_inputs)\n",
    "\n",
    "# 인코더의 LSTM 1\n",
    "encoder_lstm1 = LSTM(hidden_size, return_sequences=True, return_state=True ,dropout = 0.4)\n",
    "encoder_output1, state_h1, state_c1 = encoder_lstm1(enc_emb)\n",
    "\n",
    "# 인코더의 LSTM 2\n",
    "encoder_lstm2 = LSTM(hidden_size, return_sequences=True, return_state=True, dropout=0.4)\n",
    "encoder_output2, state_h2, state_c2 = encoder_lstm2(encoder_output1)\n",
    "\n",
    "# 인코더의 LSTM 3\n",
    "encoder_lstm3 = LSTM(hidden_size, return_state=True, return_sequences=True, dropout=0.4)\n",
    "encoder_outputs, state_h, state_c= encoder_lstm3(encoder_output2)\n",
    "\n",
    "# 디코더 설계\n",
    "decoder_inputs = Input(shape=(None,))\n",
    "\n",
    "# 디코더의 임베딩 층\n",
    "dec_emb_layer = Embedding(tar_vocab, embedding_dim)\n",
    "dec_emb = dec_emb_layer(decoder_inputs)\n",
    "\n",
    "# 디코더의 LSTM\n",
    "decoder_lstm = LSTM(hidden_size, return_sequences=True, return_state=True, dropout=0.4)\n",
    "decoder_outputs, _, _ = decoder_lstm(dec_emb, initial_state=[state_h, state_c])\n",
    "\n",
    "# 디코더의 출력층\n",
    "decoder_softmax_layer = Dense(tar_vocab, activation='softmax')\n",
    "decoder_softmax_outputs = decoder_softmax_layer(decoder_outputs) \n",
    "\n",
    "# 어텐션 층(어텐션 함수)\n",
    "attn_layer = AdditiveAttention(name='attention_layer')\n",
    "\n",
    "# 인코더와 디코더의 모든 time step의 hidden state를 어텐션 층에 전달하고 결과를 리턴\n",
    "attn_out = attn_layer([decoder_outputs, encoder_outputs])\n",
    "\n",
    "# 어텐션의 결과와 디코더의 hidden state들을 연결\n",
    "decoder_concat_input = Concatenate(axis=-1, name='concat_layer')([decoder_outputs, attn_out])\n",
    "\n",
    "# 디코더의 출력층\n",
    "decoder_softmax_layer = Dense(tar_vocab, activation='softmax')\n",
    "decoder_softmax_outputs = decoder_softmax_layer(decoder_concat_input)\n",
    "\n",
    "# 모델 정의\n",
    "model = Model([encoder_inputs, decoder_inputs], decoder_softmax_outputs)\n",
    "model.summary()"
   ]
  },
  {
   "cell_type": "code",
   "execution_count": 67,
   "id": "e1ca7538",
   "metadata": {},
   "outputs": [
    {
     "name": "stdout",
     "output_type": "stream",
     "text": [
      "Epoch 1/50\n",
      "269/269 [==============================] - 31s 92ms/step - loss: 5.9836 - val_loss: 5.6087\n",
      "Epoch 2/50\n",
      "269/269 [==============================] - 24s 90ms/step - loss: 5.6326 - val_loss: 5.4962\n",
      "Epoch 3/50\n",
      "269/269 [==============================] - 25s 91ms/step - loss: 5.4944 - val_loss: 5.2960\n",
      "Epoch 4/50\n",
      "269/269 [==============================] - 24s 89ms/step - loss: 5.2326 - val_loss: 5.0547\n",
      "Epoch 5/50\n",
      "269/269 [==============================] - 24s 89ms/step - loss: 4.9662 - val_loss: 4.8363\n",
      "Epoch 6/50\n",
      "269/269 [==============================] - 24s 91ms/step - loss: 4.7421 - val_loss: 4.8849\n",
      "Epoch 7/50\n",
      "269/269 [==============================] - 24s 90ms/step - loss: 4.5623 - val_loss: 4.5605\n",
      "Epoch 8/50\n",
      "269/269 [==============================] - 24s 90ms/step - loss: 4.3891 - val_loss: 4.4363\n",
      "Epoch 9/50\n",
      "269/269 [==============================] - 24s 90ms/step - loss: 4.2277 - val_loss: 4.3516\n",
      "Epoch 10/50\n",
      "269/269 [==============================] - 24s 90ms/step - loss: 4.0812 - val_loss: 4.2380\n",
      "Epoch 11/50\n",
      "269/269 [==============================] - 24s 90ms/step - loss: 3.9483 - val_loss: 4.1942\n",
      "Epoch 12/50\n",
      "269/269 [==============================] - 24s 90ms/step - loss: 3.8361 - val_loss: 4.1207\n",
      "Epoch 13/50\n",
      "269/269 [==============================] - 24s 90ms/step - loss: 3.7297 - val_loss: 4.0762\n",
      "Epoch 14/50\n",
      "269/269 [==============================] - 24s 91ms/step - loss: 3.6348 - val_loss: 4.1233\n",
      "Epoch 15/50\n",
      "269/269 [==============================] - 24s 90ms/step - loss: 3.5455 - val_loss: 4.0087\n",
      "Epoch 16/50\n",
      "269/269 [==============================] - 24s 91ms/step - loss: 3.4695 - val_loss: 3.9740\n",
      "Epoch 17/50\n",
      "269/269 [==============================] - 24s 91ms/step - loss: 3.3933 - val_loss: 3.9619\n",
      "Epoch 18/50\n",
      "269/269 [==============================] - 24s 90ms/step - loss: 3.3271 - val_loss: 3.9478\n",
      "Epoch 19/50\n",
      "269/269 [==============================] - 24s 90ms/step - loss: 3.2628 - val_loss: 3.9331\n",
      "Epoch 20/50\n",
      "269/269 [==============================] - 24s 90ms/step - loss: 3.2003 - val_loss: 3.9466\n",
      "Epoch 21/50\n",
      "269/269 [==============================] - 24s 90ms/step - loss: 3.1427 - val_loss: 3.9034\n",
      "Epoch 22/50\n",
      "269/269 [==============================] - 24s 90ms/step - loss: 3.0878 - val_loss: 3.9018\n",
      "Epoch 23/50\n",
      "269/269 [==============================] - 24s 90ms/step - loss: 3.0385 - val_loss: 3.8952\n",
      "Epoch 24/50\n",
      "269/269 [==============================] - 24s 90ms/step - loss: 2.9929 - val_loss: 3.8906\n",
      "Epoch 25/50\n",
      "269/269 [==============================] - 24s 90ms/step - loss: 2.9447 - val_loss: 3.8815\n",
      "Epoch 26/50\n",
      "269/269 [==============================] - 24s 91ms/step - loss: 2.8993 - val_loss: 3.8848\n",
      "Epoch 27/50\n",
      "269/269 [==============================] - 24s 90ms/step - loss: 2.8665 - val_loss: 3.8783\n",
      "Epoch 28/50\n",
      "269/269 [==============================] - 24s 90ms/step - loss: 2.8226 - val_loss: 3.8862\n",
      "Epoch 29/50\n",
      "269/269 [==============================] - 24s 90ms/step - loss: 2.7799 - val_loss: 3.8883\n",
      "Epoch 00029: early stopping\n"
     ]
    }
   ],
   "source": [
    "model.compile(\n",
    "    optimizer='rmsprop',\n",
    "    loss = 'sparse_categorical_crossentropy'\n",
    ")\n",
    "\n",
    "history = model.fit(\n",
    "    x=[encoder_input_train, decoder_input_train],\n",
    "    y=decoder_target_train,\n",
    "    validation_data=([encoder_input_test, decoder_input_test], decoder_target_test),\n",
    "    batch_size=256,\n",
    "    callbacks=[\n",
    "        keras.callbacks.EarlyStopping(monitor='val_loss', patience=2, verbose=1)\n",
    "    ],\n",
    "    epochs=50\n",
    ")"
   ]
  },
  {
   "cell_type": "code",
   "execution_count": 68,
   "id": "f3e003a6",
   "metadata": {},
   "outputs": [
    {
     "data": {
      "image/png": "[encoded data removed]",
      "text/plain": [
       "<Figure size 432x288 with 1 Axes>"
      ]
     },
     "metadata": {
      "needs_background": "light"
     },
     "output_type": "display_data"
    }
   ],
   "source": [
    "# loss 확인\n",
    "plt.plot(history.history['loss'], label='train')\n",
    "plt.plot(history.history['val_loss'], label='test')\n",
    "plt.legend()\n",
    "plt.show()"
   ]
  },
  {
   "cell_type": "markdown",
   "id": "33a95b37",
   "metadata": {},
   "source": [
    "## 인퍼런스 모델 구현"
   ]
  },
  {
   "cell_type": "code",
   "execution_count": 69,
   "id": "14a6339f",
   "metadata": {},
   "outputs": [],
   "source": [
    "# 원문 단어 집합에서 정수 -> 단어를 얻음\n",
    "src_index_to_word = src_tokenizer.index_word\n",
    "# 요약 단어 집합에서 단어 -> 정수를 얻음\n",
    "tar_word_to_index = tar_tokenizer.word_index \n",
    "# 요약 단어 집합에서 정수 -> 단어를 얻음\n",
    "tar_index_to_word = tar_tokenizer.index_word "
   ]
  },
  {
   "cell_type": "code",
   "execution_count": 70,
   "id": "68e6f6ac",
   "metadata": {},
   "outputs": [],
   "source": [
    "# 인코더 설계\n",
    "encoder_model = Model(inputs=encoder_inputs, outputs=[encoder_outputs, state_h, state_c])\n",
    "\n",
    "# 이전 시점의 상태들을 저장하는 텐서\n",
    "decoder_state_input_h = Input(shape=(hidden_size,))\n",
    "decoder_state_input_c = Input(shape=(hidden_size,))\n",
    "\n",
    "dec_emb2 = dec_emb_layer(decoder_inputs)\n",
    "\n",
    "# 문장의 다음 단어를 예측하기 위해서 초기 상태(initial_state)를 이전 시점의 상태로 사용. 이는 뒤의 함수 decode_sequence()에 구현\n",
    "# 훈련 과정에서와 달리 LSTM의 리턴하는 은닉 상태와 셀 상태인 state_h와 state_c를 버리지 않음.\n",
    "decoder_outputs2, state_h2, state_c2 = decoder_lstm(dec_emb2, initial_state=[decoder_state_input_h, decoder_state_input_c])\n",
    "\n",
    "# 어텐션 함수\n",
    "decoder_hidden_state_input = Input(shape=(text_max_len, hidden_size))\n",
    "attn_out_inf = attn_layer([decoder_outputs2, decoder_hidden_state_input])\n",
    "decoder_inf_concat = Concatenate(axis=-1, name='concat')([decoder_outputs2, attn_out_inf])\n",
    "\n",
    "# 디코더의 출력층\n",
    "decoder_outputs2 = decoder_softmax_layer(decoder_inf_concat) \n",
    "\n",
    "# 최종 디코더 모델\n",
    "decoder_model = Model(\n",
    "    [decoder_inputs] + [decoder_hidden_state_input,decoder_state_input_h, decoder_state_input_c],\n",
    "    [decoder_outputs2] + [state_h2, state_c2])"
   ]
  },
  {
   "cell_type": "code",
   "execution_count": 71,
   "id": "d6166eaa",
   "metadata": {},
   "outputs": [],
   "source": [
    "def decode_sequence(input_seq):\n",
    "    # 입력으로부터 인코더의 상태를 얻음\n",
    "    e_out, e_h, e_c = encoder_model.predict(input_seq)\n",
    "\n",
    "     # <SOS>에 해당하는 토큰 생성\n",
    "    target_seq = np.zeros((1,1))\n",
    "    target_seq[0, 0] = tar_word_to_index['sostoken']\n",
    "\n",
    "    stop_condition = False\n",
    "    decoded_sentence = ''\n",
    "    while not stop_condition: # stop_condition이 True가 될 때까지 루프 반복\n",
    "\n",
    "        output_tokens, h, c = decoder_model.predict([target_seq] + [e_out, e_h, e_c])\n",
    "        sampled_token_index = np.argmax(output_tokens[0, -1, :])\n",
    "        sampled_token = tar_index_to_word[sampled_token_index]\n",
    "\n",
    "        if (sampled_token!='eostoken'):\n",
    "            decoded_sentence += ' '+sampled_token\n",
    "\n",
    "        #  <eos>에 도달하거나 최대 길이를 넘으면 중단.\n",
    "        if (sampled_token == 'eostoken'  or len(decoded_sentence.split()) >= (headlines_max_len-1)):\n",
    "            stop_condition = True\n",
    "\n",
    "        # 길이가 1인 타겟 시퀀스를 업데이트\n",
    "        target_seq = np.zeros((1,1))\n",
    "        target_seq[0, 0] = sampled_token_index\n",
    "\n",
    "        # 상태를 업데이트 합니다.\n",
    "        e_h, e_c = h, c\n",
    "\n",
    "    return decoded_sentence"
   ]
  },
  {
   "cell_type": "markdown",
   "id": "b737a4e1",
   "metadata": {},
   "source": [
    "## 모델 테스트"
   ]
  },
  {
   "cell_type": "code",
   "execution_count": 78,
   "id": "e8137801",
   "metadata": {},
   "outputs": [],
   "source": [
    "# 원문의 정수 시퀀스를 텍스트 시퀀스로 변환\n",
    "def seq2text(input_seq):\n",
    "    temp=''\n",
    "    for i in input_seq:\n",
    "        if (i!=0):\n",
    "            temp = temp + src_index_to_word[i]+' '\n",
    "    return temp\n",
    "\n",
    "# 요약문의 정수 시퀀스를 텍스트 시퀀스로 변환\n",
    "def seq2summary(input_seq):\n",
    "    temp=''\n",
    "    for i in input_seq:\n",
    "         if (i>2):\n",
    "            temp = temp + tar_index_to_word[i]+' '\n",
    "    return temp.strip()"
   ]
  },
  {
   "cell_type": "code",
   "execution_count": 79,
   "id": "dc19449c",
   "metadata": {},
   "outputs": [
    {
     "data": {
      "text/plain": [
       "17168"
      ]
     },
     "execution_count": 79,
     "metadata": {},
     "output_type": "execute_result"
    }
   ],
   "source": [
    "len(encoder_input_test)"
   ]
  },
  {
   "cell_type": "code",
   "execution_count": 80,
   "id": "178fe06c",
   "metadata": {},
   "outputs": [
    {
     "data": {
      "text/plain": [
       "'mia by celebrates your unique'"
      ]
     },
     "execution_count": 80,
     "metadata": {},
     "output_type": "execute_result"
    }
   ],
   "source": [
    "seq2summary(decoder_input_test[51])"
   ]
  },
  {
   "cell_type": "code",
   "execution_count": 81,
   "id": "a71e8e79",
   "metadata": {
    "scrolled": false
   },
   "outputs": [
    {
     "name": "stdout",
     "output_type": "stream",
     "text": [
      "원문 : year old pune based woman suspected suicide bomber detained jammu kashmir police thursday night alert earlier issued warning non kashmiri woman may attempt suicide attack republic day woman questioned anti terrorism squad alleged isis connections sent programme \n",
      "실제 요약 : suspected female suicide bomber held in jammu and kashmir\n",
      "예측 요약 :  woman shoots self after being shoots self at delhi woman\n",
      "\n",
      "\n",
      "원문 : presenting mia latest collection celebrates unique traits women difference women bring lives work things unique way explore crystal encrusted range earrings rings make rise shine \n",
      "실제 요약 : mia by celebrates your unique\n",
      "예측 요약 :  women should be taught women to wear sarees in women\n",
      "\n",
      "\n",
      "원문 : firecracker traders delhi ncr moved supreme court wednesday seeking permission sell stock comes court monday banned sale firecrackers region till november order check alarming pollution level traders told court licences banned november last year got revived september \n",
      "실제 요약 : delhi firecracker traders seek sc approval to sell stock\n",
      "예측 요약 :  hc directs delhi govt to deposit cr for drug welfare\n",
      "\n",
      "\n",
      "원문 : un security council saturday unanimously approved day ceasefire resolution syria allow humanitarian aid deliveries medical evacuations resolution comes week long airstrikes bombings killed people country eastern ghouta vote scheduled thursday got delayed due disagreements among members \n",
      "실제 요약 : day ceasefire in syria after people killed last week\n",
      "예측 요약 :  un to give un troops to fight troops in yemen\n",
      "\n",
      "\n",
      "원문 : video footage shows drunk man karnataka wearing policeman cap riding stolen police bike talking riders capturing video policeman chased another bike least kilometre person recording video heard shouting superstar rajinikanth policeman catches signal \n",
      "실제 요약 : drunk man in karnataka attempts to steal cop bike and cap\n",
      "예측 요약 :  video shows man stealing stealing from bengaluru airport in bengaluru\n",
      "\n",
      "\n",
      "원문 : power minister rk singh asked major air conditioner manufacturers maintain default temperature setting degree celsius aim promote energy efficiency every degree increase air conditioner temperature setting results saving electricity consumed singh said said countries like japan regulated temperature degree \n",
      "실제 요약 : govt asks ac makers to maintain default temperature at\n",
      "예측 요약 :  govt plans to replace food in air india in may\n",
      "\n",
      "\n",
      "원문 : uttar pradesh newly appointed dgp singh directed state anti romeo squads carry camera bodies duty singh also cautioned district police chiefs keep check trouble makers vigilante groups step taken ensure anti romeo squads resort moral policing official said \n",
      "실제 요약 : up dgp directs anti romeo squads to carry body cameras\n",
      "예측 요약 :  up govt orders to stop meat from up govt offices\n",
      "\n",
      "\n",
      "원문 : vidya balan shared picture holding additional credit card captioned needs credit director gifts comes kangana ranaut credited additional story upcoming film simran poster main writer apurva asrani vidya could demand additional credit new film producer gave commented asrani picture nn \n",
      "실제 요약 : who needs credit when your director gifts this card vidya\n",
      "예측 요약 :  kangana shares pic of her stock on her film completing\n",
      "\n",
      "\n",
      "원문 : panchayat uttar pradesh village dominated muslim population decided impose fine lakh cow slaughter total lakh penalty given person provides information cow slaughter mohammed former village pradhan reportedly said \n",
      "실제 요약 : muslim village sets fine for cow slaughter\n",
      "예측 요약 :  up to give cow free cow slaughter in up village\n",
      "\n",
      "\n",
      "원문 : iit delhi administration decided make students next batch sign undertaking admissions drink alcohol smoke cigarettes use drugs campus institute said earlier approach inform parents students violated ban drinking smoking failed students found violating undertaking penalised expelled \n",
      "실제 요약 : iit delhi asks for against drinking smoking\n",
      "예측 요약 :  iit delhi students iit du students to get food fee\n",
      "\n",
      "\n",
      "원문 : uttar pradesh cm yogi adityanath wednesday refused wear cap offered sant kabir adityanath went oversee preparations pm narendra modi visit hussain caretaker said hard feelings understand bjp government wear cap wear \n",
      "실제 요약 : up cm yogi refuses to wear cap at kabir\n",
      "예측 요약 :  up cm yogi adityanath to be called up cm yogi\n",
      "\n",
      "\n",
      "원문 : victoria secret model nina slammed magazine using pictures claiming deviated portfolio fit samples built runway model never stick thin ever embrace added nina \n",
      "실제 요약 : model slams magazine for removing pics over not being thin\n",
      "예측 요약 :  what is the way that is called your own model\n",
      "\n",
      "\n",
      "원문 : railway ministry planning crore coach country new president proposed plasma colour televisions gps systems satellite bulletproof public address system dr apj abdul kalam last president travel following declared unsafe operations \n",
      "실제 요약 : railway ministry plans cr coach for new president\n",
      "예측 요약 :  google to be made in all time by yrs minister\n",
      "\n",
      "\n",
      "원문 : delhi chief minister arvind kejriwal tuesday described death former tamil nadu chief minister dmk leader karunanidhi great loss nation tweeted feel sad hear demise great leader may soul rest peace pay tributes karunanidhi chennai \n",
      "실제 요약 : great loss to the nation kejriwal on karunanidhi demise\n",
      "예측 요약 :  kejriwal could be like to attend his family says cm\n",
      "\n",
      "\n",
      "원문 : saudi arabia crown prince mohammed bin salman revealed owner million french according reports newly built sold mystery buyer louis ownership concealed various shell companies france luxembourg reports added \n",
      "실제 요약 : saudi crown prince bought cr french reports\n",
      "예측 요약 :  saudi prince harry may pay mn to saudi crown prince\n",
      "\n",
      "\n",
      "원문 : nepal year old mountaineer min bahadur died saturday mount everest base camp attempting become oldest person climb world tallest peak age become oldest climber scale peak however year old japanese national later broke record \n",
      "실제 요약 : yr old dies while attempting to be oldest everest climber\n",
      "예측 요약 :  yr old indian boy dies after th everest in days\n",
      "\n",
      "\n",
      "원문 : tamil helped save persons injured terror attack mumbai chhatrapati shivaji terminus said saw kasab spraying bullets commuters assault rifle took cover metres two options run life rush victims hospital opted latter added \n",
      "실제 요약 : saw kasab bullets man who saved lives during\n",
      "예측 요약 :  crpf jawans martyred in attack on sterlite attack in jharkhand\n",
      "\n",
      "\n",
      "원문 : sir michael british mathematician received fields medal also known nobel mathematics passed away age january best known co development branch mathematics called theory singer index also president royal society \n",
      "실제 요약 : fields medal winning passes away aged\n",
      "예측 요약 :  father of nobel passes away at his own passes away\n",
      "\n",
      "\n",
      "원문 : government friday made aadhaar mandatory opening bank accounts well financial transactions existing bank account holders asked furnish aadhaar number december failing account become invalid earlier government made aadhaar compulsory filing income tax returns \n",
      "실제 요약 : aadhaar mandatory for new accounts transactions over\n",
      "예측 요약 :  govt allows aadhaar to link aadhaar to pan pan linking\n",
      "\n",
      "\n",
      "원문 : uttar pradesh cm yogi adityanath set million startup fund encourage startup schemes state said mou signed small industries development bank india purpose government also set call centre address issues concerning initiative added \n",
      "실제 요약 : up cm yogi adityanath sets up million startup fund\n",
      "예측 요약 :  up cm announces up cm up cm invests in up\n",
      "\n",
      "\n",
      "원문 : woman accused spicejet crew threatening asked medical help onboard delhi mumbai flight metal bottle fallen said pilot threatened aircraft returned parking bay objected take spicejet claimed refused help crew offered \n",
      "실제 요약 : spicejet denied medical help threatened to me flyer\n",
      "예측 요약 :  woman claims she was fired after flight fired for hour\n",
      "\n",
      "\n",
      "원문 : axis bank ceo shikha sharma speaking iim ahmedabad said choice life partner single important choice make life hen looking partner look beyond looks success style added strength relationship going come character noted \n",
      "실제 요약 : choice of life partner most important choice axis bank ceo\n",
      "예측 요약 :  would be made in years yes bank ceo on sharma\n",
      "\n",
      "\n",
      "원문 : luxury hotel singapore introduced five suites children themes including safari castle underwater space underwater suite features submarine themed bed suite themed bed suites cost singapore dollars per night also include specialised bath products stuffed toys \n",
      "실제 요약 : singapore hotel has castle safari themed for kids\n",
      "예측 요약 :  study finds kids to be locked up in space school\n",
      "\n",
      "\n",
      "원문 : jammu kashmir youth received special arms training pakistan surrendered security forces state friday youth moved pakistan visa wagah border training several small arms improvised explosive devices militant group lashkar taiba operatives adnan malik saab \n",
      "실제 요약 : kashmiri youth who got arms training in pakistan surrenders\n",
      "예측 요약 :  pak army to let pak border to fight firing report\n",
      "\n",
      "\n",
      "원문 : enforcement directorate attached properties worth crore raghu karnataka executive engineer prevention money laundering act investigation initiated based fir chargesheet filed karnataka lokayukta raghu allegedly acquired disproportionate assets including plots residential properties proceeds crime \n",
      "실제 요약 : ed seizes taka engineer assets worth cr\n",
      "예측 요약 :  ed attaches cr worth cr in scam accused of benami\n",
      "\n",
      "\n",
      "원문 : tamil actor writer starred films passed away age thursday suffering health related issues three years known films like guru also instrumental launching silk made debut film wrote script \n",
      "실제 요약 : tamil actor passes away at\n",
      "예측 요약 :  my film was my film on my age says writer\n",
      "\n",
      "\n",
      "원문 : nissan former representative director greg kelly tuesday released jail granted bail court tokyo japan detained november along former boss ex nissan chairman carlos ghosn suspicion understating ghosn income financial statements several years local court set kelly bail around \n",
      "실제 요약 : ousted nissan chief former aide released on bail in japan\n",
      "예측 요약 :  ex nissan to return to alok nath in jail reports\n",
      "\n",
      "\n",
      "원문 : leaked facebook user data cambridge analytica said basically used scapegoat facebook cambridge analytica facebook said although gained access information legitimate way violated rules passing third party cambridge analytica allegedly exploited data influence us elections \n",
      "실제 요약 : being used as man who leaked facebook user data\n",
      "예측 요약 :  fb fb data scandal linked to collect data on fb\n",
      "\n",
      "\n",
      "원문 : us president donald trump thursday said planned meetings north korean leader kim jong un terrific thanking china help north korea trump said meetings jong un set leaders expected meet may early june \n",
      "실제 요약 : meetings with kim jong un will be us prez trump\n",
      "예측 요약 :  us will not allow kim jong talks talks to korea\n",
      "\n",
      "\n",
      "원문 : pakistani army said soon begin building fence along volatile border afghanistan improve security adding secure border common interest countries army said border posts also built enhance defence surveillance along frontier however afghan authorities opposed move \n",
      "실제 요약 : pakistan to fence whole border with afghanistan\n",
      "예측 요약 :  pak army to launch along border along border border border\n",
      "\n",
      "\n",
      "원문 : government estimated gdp growth congress leader chidambaram said worst fears imminent economic slowdown come true slowdown jobs created promised crore jobs per year created said added government claims robust growth thin air \n",
      "실제 요약 : fears of economic slowdown came true chidambaram\n",
      "예측 요약 :  will not be good to cut tax on gst chidambaram\n",
      "\n",
      "\n",
      "원문 : delhi bound jet airways flight diverted ahmedabad monday note found onboard said flight covered hijackers added cargo area contains explosive bombs blast land del demanding flight flown pok passengers screened flight landed ahmedabad \n",
      "실제 요약 : mumbai delhi flight diverted to ahmedabad over hijack threat\n",
      "예측 요약 :  indigo plane forced to remove emergency landing at delhi airport\n",
      "\n",
      "\n",
      "원문 : indian tennis player sania mirza said german midfielder mesut zil statement declared international retirement thing read right one thing racism accepted sania wrote zil issued four page statement twitter claiming disrespect racism caused retire \n",
      "실제 요약 : thing to read sania on retirement statement\n",
      "예측 요약 :  it is the best player to be called ex girlfriend\n",
      "\n",
      "\n",
      "원문 : researchers developed artificial intelligence based device analyse data identify objects actual speed light develop device created physical artificial neural network modelled human brain works system identifies objects based light object reflects rather waiting form image \n",
      "실제 요약 : ai device that identifies objects at speed of light built\n",
      "예측 요약 :  ai device can detect cancer like detect in real time\n",
      "\n",
      "\n",
      "원문 : popular pubg game named issued one month ban game playing hacker claimed hacker killed twice ways decided play apologised session acknowledging knew great idea \n",
      "실제 요약 : pubg faces one month ban for playing with hacker\n",
      "예측 요약 :  how did not have been sent to own people thrones\n",
      "\n",
      "\n",
      "원문 : west bengal cm mamata banerjee monday accused university grants commission stopping scholarship grants researchers phd projects national eligibility test state cm added many representatives universities colleges also informed regularly issuing fatwa different issues said proper \n",
      "실제 요약 : ugc stopping scholarship grants to researchers mamata\n",
      "예측 요약 :  wb cm proposes up cm to remove anti romeo squads\n",
      "\n",
      "\n",
      "원문 : supreme court refused grant custodial parole unitech md sanjay chandra said finding difficult raise funds comply court orders chandra would complete one year jail days arrested august sc also directed crore deposited unitech homebuyers seeking refund \n",
      "실제 요약 : sc denies custody parole to jailed unitech md sanjay chandra\n",
      "예측 요약 :  sc rejects plea to be part of amrapali in dec\n",
      "\n",
      "\n",
      "원문 : four police constables arrested consuming liquor bihar state liquor prohibited since april policemen found drinking banned beverage police outpost located station chowk bhagalpur town fourth case bhagalpur action taken policemen violating anti liquor law \n",
      "실제 요약 : four policemen arrested for consuming liquor in dry bihar\n",
      "예측 요약 :  liquor held for liquor in liquor at liquor in up\n",
      "\n",
      "\n",
      "원문 : national company law tribunal asked india promoter non executive chairman abhijit rajan leave country without permission authorities concerned union bank india taken infrastructure construction firm insolvency court alleging default crore mumbai based company total debt around crore \n",
      "실제 요약 : nclt bars mumbai based promoter from leaving india\n",
      "예측 요약 :  tata steel appoints cbi panel to settle case against india\n",
      "\n",
      "\n",
      "원문 : man crushed death riding scooter caught two buses delhi according reports incident occurred victim stopped behind bus suddenly another bus tried overtake first one drivers buses arrested case registered \n",
      "실제 요약 : delhi man riding scooter crushed to death between two buses\n",
      "예측 요약 :  man crushed to death by bike while taking selfie in\n",
      "\n",
      "\n",
      "원문 : us president donald trump photographed dumping box fish food pond japan trip trump japanese pm shinzo abe began food koi trump entire box incident caused outrage twitter users saying fish cannot absorb large amount food time \n",
      "실제 요약 : trump dumps entire box of fish food into in japan\n",
      "예측 요약 :  trump slams trump for failing to find his own weight\n",
      "\n",
      "\n",
      "원문 : new zealand education ministry raised concerns maths exam grade students criticised hard leaving many tears new zealand qualifications authority received numerous complaints even teachers reportedly struggling solve questions however defended paper saying set experienced mathematics teachers \n",
      "실제 요약 : nz govt raises concerns after students cry over maths exam\n",
      "예측 요약 :  students to give up to give book on national highways\n",
      "\n",
      "\n",
      "원문 : consumer forum ordered restaurant pay lakh compensation customer lost toyota car giving keys parking hyderabad restaurant alleged man created fake ticket build case however forum dismissed claim penalised restaurant failing implement proper security measures \n",
      "실제 요약 : car stolen from parking eatery asked to pay lakh\n",
      "예측 요약 :  flyers pay to pay for stealing money from car delivery\n",
      "\n",
      "\n",
      "원문 : taiwan fair trade commission imposed fine million us based mobile technology major qualcomm stating anti trust violations chip technology commission said qualcomm monopoly market status chip market violates laws refusing properly license technology others qualcomm statement said disagrees decision \n",
      "실제 요약 : qualcomm faces million fine in taiwan\n",
      "예측 요약 :  us firm bans lawsuit against tracking users to pay lakh\n",
      "\n",
      "\n",
      "원문 : government directed speedy settlement claims crop insurance life insurance general insurance schemes flood hit kerala state run insurance companies also set help immediate settlement claims kerala worst floods century killed people caused crore damage left lakh homeless \n",
      "실제 요약 : told to to kerala flood victims\n",
      "예측 요약 :  govt to pay lakh to lakh funds for yr old\n",
      "\n",
      "\n",
      "원문 : janhvi kapoor daughter late actress sridevi celebrated st birthday tuesday old age home mumbai wishing janhvi birthday cousin sonam kapoor shared picture captioned one strongest girls know became woman today happy birthday \n",
      "실제 요약 : janhvi kapoor spends st birthday at old age home\n",
      "예측 요약 :  sridevi janhvi mom to janhvi on her th day anniversary\n",
      "\n",
      "\n",
      "원문 : television actress chatterjee took instagram share screenshot message said director demanded compromise wanted part upcoming project advertisement opposite bollywood said received message via middleman added offers common industry \n",
      "실제 요약 : tv actress shares message she got asking her to compromise\n",
      "예측 요약 :  will not want to do next films to do kajol\n",
      "\n",
      "\n",
      "원문 : study swiss federal institute aquatic science technology estimates kilograms gold worth million pass country sewers every year study also found kilograms silver lost year notably world gold passes swiss every year \n",
      "실제 요약 : kg of gold through swiss each year study\n",
      "예측 요약 :  crore in lottery linked to record crore in yrs study\n",
      "\n",
      "\n",
      "원문 : video surfaced online showing truck driver rajasthan assaulted looted video shows victim lying ground urinating mouth another first inside bag victim mouth policeman removed negligence case \n",
      "실제 요약 : kidnap truck driver in his mouth in rajasthan\n",
      "예측 요약 :  video shows bengaluru man who saved him in front video\n",
      "\n",
      "\n",
      "원문 : latest beta version android facebook owned messaging service whatsapp added feature let users app icon icon design app changed beta users change shape icons users choose shapes dubbed circle square square \n",
      "실제 요약 : whatsapp may let users app icon\n",
      "예측 요약 :  whatsapp adds feature to let users switch to play apps\n",
      "\n",
      "\n"
     ]
    }
   ],
   "source": [
    "for i in range(50, 100):\n",
    "    print(\"원문 :\", seq2text(encoder_input_test[i]))\n",
    "    print(\"실제 요약 :\", seq2summary(decoder_input_test[i]))\n",
    "    print(\"예측 요약 :\", decode_sequence(encoder_input_test[i].reshape(1, text_max_len)))\n",
    "    print(\"\\n\")"
   ]
  },
  {
   "cell_type": "markdown",
   "id": "63ea90bc",
   "metadata": {},
   "source": [
    "## summa를 활용한 추출적 요약 시도"
   ]
  },
  {
   "cell_type": "code",
   "execution_count": 76,
   "id": "9bbe73a7",
   "metadata": {},
   "outputs": [],
   "source": [
    "from summa.summarizer import summarize"
   ]
  },
  {
   "cell_type": "code",
   "execution_count": 77,
   "id": "fa373c09",
   "metadata": {},
   "outputs": [],
   "source": [
    "data_origin = pd.read_csv('news_summary_more.csv', encoding='iso-8859-1')"
   ]
  },
  {
   "cell_type": "code",
   "execution_count": 89,
   "id": "dfbed85d",
   "metadata": {},
   "outputs": [
    {
     "data": {
      "text/html": [
       "<div>\n",
       "<style scoped>\n",
       "    .dataframe tbody tr th:only-of-type {\n",
       "        vertical-align: middle;\n",
       "    }\n",
       "\n",
       "    .dataframe tbody tr th {\n",
       "        vertical-align: top;\n",
       "    }\n",
       "\n",
       "    .dataframe thead th {\n",
       "        text-align: right;\n",
       "    }\n",
       "</style>\n",
       "<table border=\"1\" class=\"dataframe\">\n",
       "  <thead>\n",
       "    <tr style=\"text-align: right;\">\n",
       "      <th></th>\n",
       "      <th>headlines</th>\n",
       "      <th>text</th>\n",
       "    </tr>\n",
       "  </thead>\n",
       "  <tbody>\n",
       "    <tr>\n",
       "      <th>0</th>\n",
       "      <td>upGrad learner switches to career in ML &amp; Al w...</td>\n",
       "      <td>Saurav Kant, an alumnus of upGrad and IIIT-B's...</td>\n",
       "    </tr>\n",
       "    <tr>\n",
       "      <th>1</th>\n",
       "      <td>Delhi techie wins free food from Swiggy for on...</td>\n",
       "      <td>Kunal Shah's credit card bill payment platform...</td>\n",
       "    </tr>\n",
       "    <tr>\n",
       "      <th>2</th>\n",
       "      <td>New Zealand end Rohit Sharma-led India's 12-ma...</td>\n",
       "      <td>New Zealand defeated India by 8 wickets in the...</td>\n",
       "    </tr>\n",
       "    <tr>\n",
       "      <th>3</th>\n",
       "      <td>Aegon life iTerm insurance plan helps customer...</td>\n",
       "      <td>With Aegon Life iTerm Insurance plan, customer...</td>\n",
       "    </tr>\n",
       "    <tr>\n",
       "      <th>4</th>\n",
       "      <td>Have known Hirani for yrs, what if MeToo claim...</td>\n",
       "      <td>Speaking about the sexual harassment allegatio...</td>\n",
       "    </tr>\n",
       "  </tbody>\n",
       "</table>\n",
       "</div>"
      ],
      "text/plain": [
       "                                           headlines  \\\n",
       "0  upGrad learner switches to career in ML & Al w...   \n",
       "1  Delhi techie wins free food from Swiggy for on...   \n",
       "2  New Zealand end Rohit Sharma-led India's 12-ma...   \n",
       "3  Aegon life iTerm insurance plan helps customer...   \n",
       "4  Have known Hirani for yrs, what if MeToo claim...   \n",
       "\n",
       "                                                text  \n",
       "0  Saurav Kant, an alumnus of upGrad and IIIT-B's...  \n",
       "1  Kunal Shah's credit card bill payment platform...  \n",
       "2  New Zealand defeated India by 8 wickets in the...  \n",
       "3  With Aegon Life iTerm Insurance plan, customer...  \n",
       "4  Speaking about the sexual harassment allegatio...  "
      ]
     },
     "execution_count": 89,
     "metadata": {},
     "output_type": "execute_result"
    }
   ],
   "source": [
    "data_origin.head()"
   ]
  },
  {
   "cell_type": "code",
   "execution_count": 86,
   "id": "73d2aaec",
   "metadata": {},
   "outputs": [
    {
     "data": {
      "text/plain": [
       "\"upGrad's Online Power Learning has powered 3 lakh+ careers.\""
      ]
     },
     "execution_count": 86,
     "metadata": {},
     "output_type": "execute_result"
    }
   ],
   "source": [
    "summarize(data_origin.loc[0,'text'], words=10)"
   ]
  },
  {
   "cell_type": "code",
   "execution_count": 105,
   "id": "cb9a9600",
   "metadata": {},
   "outputs": [
    {
     "data": {
      "text/html": [
       "<div>\n",
       "<style scoped>\n",
       "    .dataframe tbody tr th:only-of-type {\n",
       "        vertical-align: middle;\n",
       "    }\n",
       "\n",
       "    .dataframe tbody tr th {\n",
       "        vertical-align: top;\n",
       "    }\n",
       "\n",
       "    .dataframe thead th {\n",
       "        text-align: right;\n",
       "    }\n",
       "</style>\n",
       "<table border=\"1\" class=\"dataframe\">\n",
       "  <thead>\n",
       "    <tr style=\"text-align: right;\">\n",
       "      <th></th>\n",
       "      <th>headlines</th>\n",
       "      <th>text</th>\n",
       "      <th>decoder_input</th>\n",
       "      <th>decoder_target</th>\n",
       "    </tr>\n",
       "  </thead>\n",
       "  <tbody>\n",
       "    <tr>\n",
       "      <th>0</th>\n",
       "      <td>upgrad learner switches to career in ml al wit...</td>\n",
       "      <td>saurav kant alumnus upgrad iiit pg program mac...</td>\n",
       "      <td>sostoken upgrad learner switches to career in ...</td>\n",
       "      <td>upgrad learner switches to career in ml al wit...</td>\n",
       "    </tr>\n",
       "    <tr>\n",
       "      <th>2</th>\n",
       "      <td>new zealand end rohit sharma led india match w...</td>\n",
       "      <td>new zealand defeated india wickets fourth odi ...</td>\n",
       "      <td>sostoken new zealand end rohit sharma led indi...</td>\n",
       "      <td>new zealand end rohit sharma led india match w...</td>\n",
       "    </tr>\n",
       "    <tr>\n",
       "      <th>3</th>\n",
       "      <td>aegon life iterm insurance plan helps customer...</td>\n",
       "      <td>aegon life iterm insurance plan customers enjo...</td>\n",
       "      <td>sostoken aegon life iterm insurance plan helps...</td>\n",
       "      <td>aegon life iterm insurance plan helps customer...</td>\n",
       "    </tr>\n",
       "    <tr>\n",
       "      <th>5</th>\n",
       "      <td>rahat fateh ali khan denies getting notice for...</td>\n",
       "      <td>pakistani singer rahat fateh ali khan denied r...</td>\n",
       "      <td>sostoken rahat fateh ali khan denies getting n...</td>\n",
       "      <td>rahat fateh ali khan denies getting notice for...</td>\n",
       "    </tr>\n",
       "    <tr>\n",
       "      <th>7</th>\n",
       "      <td>govt directs alok verma to join work day befor...</td>\n",
       "      <td>weeks ex cbi director alok verma told departme...</td>\n",
       "      <td>sostoken govt directs alok verma to join work ...</td>\n",
       "      <td>govt directs alok verma to join work day befor...</td>\n",
       "    </tr>\n",
       "  </tbody>\n",
       "</table>\n",
       "</div>"
      ],
      "text/plain": [
       "                                           headlines  \\\n",
       "0  upgrad learner switches to career in ml al wit...   \n",
       "2  new zealand end rohit sharma led india match w...   \n",
       "3  aegon life iterm insurance plan helps customer...   \n",
       "5  rahat fateh ali khan denies getting notice for...   \n",
       "7  govt directs alok verma to join work day befor...   \n",
       "\n",
       "                                                text  \\\n",
       "0  saurav kant alumnus upgrad iiit pg program mac...   \n",
       "2  new zealand defeated india wickets fourth odi ...   \n",
       "3  aegon life iterm insurance plan customers enjo...   \n",
       "5  pakistani singer rahat fateh ali khan denied r...   \n",
       "7  weeks ex cbi director alok verma told departme...   \n",
       "\n",
       "                                       decoder_input  \\\n",
       "0  sostoken upgrad learner switches to career in ...   \n",
       "2  sostoken new zealand end rohit sharma led indi...   \n",
       "3  sostoken aegon life iterm insurance plan helps...   \n",
       "5  sostoken rahat fateh ali khan denies getting n...   \n",
       "7  sostoken govt directs alok verma to join work ...   \n",
       "\n",
       "                                      decoder_target  \n",
       "0  upgrad learner switches to career in ml al wit...  \n",
       "2  new zealand end rohit sharma led india match w...  \n",
       "3  aegon life iterm insurance plan helps customer...  \n",
       "5  rahat fateh ali khan denies getting notice for...  \n",
       "7  govt directs alok verma to join work day befor...  "
      ]
     },
     "execution_count": 105,
     "metadata": {},
     "output_type": "execute_result"
    }
   ],
   "source": [
    "data.head()"
   ]
  },
  {
   "cell_type": "code",
   "execution_count": 125,
   "id": "8faaaa58",
   "metadata": {},
   "outputs": [
    {
     "name": "stderr",
     "output_type": "stream",
     "text": [
      "100%|██████████| 85843/85843 [03:25<00:00, 416.80it/s]\n"
     ]
    }
   ],
   "source": [
    "# data_origin에 존재하는 text를 summarize를 통해 추출적 요약 시도\n",
    "# 해당 요약은 data의 summa로 추가\n",
    "for i in tqdm(data.index):\n",
    "    data.loc[i,'summa'] = summarize(data_origin.loc[i, 'text'], words=10)"
   ]
  },
  {
   "cell_type": "code",
   "execution_count": 126,
   "id": "faff4004",
   "metadata": {},
   "outputs": [
    {
     "data": {
      "text/html": [
       "<div>\n",
       "<style scoped>\n",
       "    .dataframe tbody tr th:only-of-type {\n",
       "        vertical-align: middle;\n",
       "    }\n",
       "\n",
       "    .dataframe tbody tr th {\n",
       "        vertical-align: top;\n",
       "    }\n",
       "\n",
       "    .dataframe thead th {\n",
       "        text-align: right;\n",
       "    }\n",
       "</style>\n",
       "<table border=\"1\" class=\"dataframe\">\n",
       "  <thead>\n",
       "    <tr style=\"text-align: right;\">\n",
       "      <th></th>\n",
       "      <th>headlines</th>\n",
       "      <th>text</th>\n",
       "      <th>decoder_input</th>\n",
       "      <th>decoder_target</th>\n",
       "      <th>summa</th>\n",
       "    </tr>\n",
       "  </thead>\n",
       "  <tbody>\n",
       "    <tr>\n",
       "      <th>0</th>\n",
       "      <td>upgrad learner switches to career in ml al wit...</td>\n",
       "      <td>saurav kant alumnus upgrad iiit pg program mac...</td>\n",
       "      <td>sostoken upgrad learner switches to career in ...</td>\n",
       "      <td>upgrad learner switches to career in ml al wit...</td>\n",
       "      <td>upGrad's Online Power Learning has powered 3 l...</td>\n",
       "    </tr>\n",
       "    <tr>\n",
       "      <th>2</th>\n",
       "      <td>new zealand end rohit sharma led india match w...</td>\n",
       "      <td>new zealand defeated india wickets fourth odi ...</td>\n",
       "      <td>sostoken new zealand end rohit sharma led indi...</td>\n",
       "      <td>new zealand end rohit sharma led india match w...</td>\n",
       "      <td>The match witnessed India getting all out for ...</td>\n",
       "    </tr>\n",
       "    <tr>\n",
       "      <th>3</th>\n",
       "      <td>aegon life iterm insurance plan helps customer...</td>\n",
       "      <td>aegon life iterm insurance plan customers enjo...</td>\n",
       "      <td>sostoken aegon life iterm insurance plan helps...</td>\n",
       "      <td>aegon life iterm insurance plan helps customer...</td>\n",
       "      <td></td>\n",
       "    </tr>\n",
       "    <tr>\n",
       "      <th>5</th>\n",
       "      <td>rahat fateh ali khan denies getting notice for...</td>\n",
       "      <td>pakistani singer rahat fateh ali khan denied r...</td>\n",
       "      <td>sostoken rahat fateh ali khan denies getting n...</td>\n",
       "      <td>rahat fateh ali khan denies getting notice for...</td>\n",
       "      <td></td>\n",
       "    </tr>\n",
       "    <tr>\n",
       "      <th>7</th>\n",
       "      <td>govt directs alok verma to join work day befor...</td>\n",
       "      <td>weeks ex cbi director alok verma told departme...</td>\n",
       "      <td>sostoken govt directs alok verma to join work ...</td>\n",
       "      <td>govt directs alok verma to join work day befor...</td>\n",
       "      <td></td>\n",
       "    </tr>\n",
       "  </tbody>\n",
       "</table>\n",
       "</div>"
      ],
      "text/plain": [
       "                                           headlines  \\\n",
       "0  upgrad learner switches to career in ml al wit...   \n",
       "2  new zealand end rohit sharma led india match w...   \n",
       "3  aegon life iterm insurance plan helps customer...   \n",
       "5  rahat fateh ali khan denies getting notice for...   \n",
       "7  govt directs alok verma to join work day befor...   \n",
       "\n",
       "                                                text  \\\n",
       "0  saurav kant alumnus upgrad iiit pg program mac...   \n",
       "2  new zealand defeated india wickets fourth odi ...   \n",
       "3  aegon life iterm insurance plan customers enjo...   \n",
       "5  pakistani singer rahat fateh ali khan denied r...   \n",
       "7  weeks ex cbi director alok verma told departme...   \n",
       "\n",
       "                                       decoder_input  \\\n",
       "0  sostoken upgrad learner switches to career in ...   \n",
       "2  sostoken new zealand end rohit sharma led indi...   \n",
       "3  sostoken aegon life iterm insurance plan helps...   \n",
       "5  sostoken rahat fateh ali khan denies getting n...   \n",
       "7  sostoken govt directs alok verma to join work ...   \n",
       "\n",
       "                                      decoder_target  \\\n",
       "0  upgrad learner switches to career in ml al wit...   \n",
       "2  new zealand end rohit sharma led india match w...   \n",
       "3  aegon life iterm insurance plan helps customer...   \n",
       "5  rahat fateh ali khan denies getting notice for...   \n",
       "7  govt directs alok verma to join work day befor...   \n",
       "\n",
       "                                               summa  \n",
       "0  upGrad's Online Power Learning has powered 3 l...  \n",
       "2  The match witnessed India getting all out for ...  \n",
       "3                                                     \n",
       "5                                                     \n",
       "7                                                     "
      ]
     },
     "execution_count": 126,
     "metadata": {},
     "output_type": "execute_result"
    }
   ],
   "source": [
    "data.head()"
   ]
  },
  {
   "cell_type": "code",
   "execution_count": 203,
   "id": "d037b031",
   "metadata": {},
   "outputs": [
    {
     "data": {
      "text/plain": [
       "Int64Index([    0,     2,     3,     5,     7,     8,     9,    10,    14,\n",
       "               15,\n",
       "            ...\n",
       "            98390, 98391, 98392, 98393, 98394, 98395, 98396, 98397, 98398,\n",
       "            98400],\n",
       "           dtype='int64', length=85843)"
      ]
     },
     "execution_count": 203,
     "metadata": {},
     "output_type": "execute_result"
    }
   ],
   "source": [
    "data.index"
   ]
  },
  {
   "cell_type": "code",
   "execution_count": 223,
   "id": "5b89048c",
   "metadata": {
    "scrolled": true
   },
   "outputs": [
    {
     "data": {
      "text/plain": [
       "\"New Zealand defeated India by 8 wickets in the fourth ODI at Hamilton on Thursday to win their first match of the five-match ODI series. India lost an international match under Rohit Sharma's captaincy after 12 consecutive victories dating back to March 2018. The match witnessed India getting all out for 92, their seventh lowest total in ODI cricket history.\""
      ]
     },
     "execution_count": 223,
     "metadata": {},
     "output_type": "execute_result"
    }
   ],
   "source": [
    "data_origin.loc[2,'text']"
   ]
  },
  {
   "cell_type": "code",
   "execution_count": 235,
   "id": "293a2983",
   "metadata": {},
   "outputs": [
    {
     "data": {
      "text/plain": [
       "'The match witnessed India getting all out for 92, their seventh lowest total in ODI cricket history.'"
      ]
     },
     "execution_count": 235,
     "metadata": {},
     "output_type": "execute_result"
    }
   ],
   "source": [
    "summarize(data_origin.loc[2,'text'], words=10)"
   ]
  },
  {
   "cell_type": "code",
   "execution_count": 236,
   "id": "980a3709",
   "metadata": {
    "scrolled": false
   },
   "outputs": [
    {
     "name": "stdout",
     "output_type": "stream",
     "text": [
      "실제 원문 : PM Narendra Modi's decision to walk throughout late PM Atal Bihari Vajpayee's funeral procession from BJP headquarters to Rashtriya Smriti Sthal was a surprise, a security official has said. \"We got very little time to tweak his security plan,\" he added. Security protocol requires the area to be cordoned off hours before a Prime Minister drives past a road.\n",
      "원문 : pm narendra modi decision walk throughout late pm atal bihari vajpayee funeral procession bjp headquarters rashtriya smriti surprise security official said got little time security plan added security protocol requires area cordoned hours prime minister drives past road \n",
      "실제 요약 : pm modi walking in atal procession was surprise security\n",
      "예측 요약 :  pm modi prez kovind extend greetings on late pm vajpayee\n",
      "summa 요약 : \"We got very little time to tweak his security plan,\" he added.\n",
      "\n",
      "\n",
      "실제 원문 : According to reports, Facebook is working on a laptop-sized video chat device that will allow users to feel like they're in the same room. The device's camera technology will automatically scan for objects and 'lock onto them'. For example, the camera will be able to zoom in on drawings that children are holding up to show to their parents.\n",
      "원문 : according reports facebook working laptop sized video chat device allow users feel like room device camera technology automatically scan objects lock onto example camera able zoom drawings children holding show parents \n",
      "실제 요약 : facebook working on video chat device report\n",
      "예측 요약 :  facebook patents device that can be used in real time\n",
      "summa 요약 : The device's camera technology will automatically scan for objects and 'lock onto them'.\n",
      "\n",
      "\n",
      "실제 원문 : A Delhi-based woman journalist has alleged that an Uber driver verbally assaulted her and left her stranded after throwing away her belongings on a road on Monday. The woman said he even threatened her saying, \"Maar dalunga, ladki hai, sambhal ke reh\" and claimed passersby only stared and did nothing. Meanwhile, Uber has said they have suspended the driver.\n",
      "원문 : delhi based woman journalist alleged uber driver verbally assaulted left stranded throwing away belongings road monday woman said even threatened saying ladki hai sambhal ke claimed passersby nothing meanwhile uber said suspended driver \n",
      "실제 요약 : delhi journo harassed by uber driver shares experience on fb\n",
      "예측 요약 :  uber driver who raped woman in front of her kidnapping\n",
      "summa 요약 : Meanwhile, Uber has said they have suspended the driver.\n",
      "\n",
      "\n",
      "실제 원문 : The ICICI Bank board has reportedly been divided over whether to ask CEO Chanda Kochhar to resign as CBI probes allegations of impropriety over loans given to Videocon Group. Some outside directors are opposed to Kochhar continuing in her role, reports said. Notably, the board had expressed \"full faith and confidence\" in Kochhar and refuted reports of any wrongdoing.\n",
      "원문 : icici bank board reportedly divided whether ask ceo chanda kochhar resign cbi probes allegations loans given videocon group outside directors opposed kochhar continuing role reports said notably board expressed full faith confidence kochhar refuted reports wrongdoing \n",
      "실제 요약 : icici board split over keeping chanda kochhar as ceo report\n",
      "예측 요약 :  bank ceo chanda kochhar to be probed by axis bank\n",
      "summa 요약 : Notably, the board had expressed \"full faith and confidence\" in Kochhar and refuted reports of any wrongdoing.\n",
      "\n",
      "\n",
      "실제 원문 : Producer Prernaa Arora has been arrested for her alleged involvement in a fraud of Ã¢ÂÂ¹16 crore, as per reports. This comes after film distributor Vashu Bhagnani reportedly filed a complaint against Arora's production house for failing to credit him as distributor for the film 'Fanney Khan'. Prernaa was arrested by Economic Offences Wing of the Mumbai Police, reports added. \n",
      "원문 : producer prernaa arora arrested alleged involvement fraud crore per reports comes film distributor bhagnani reportedly filed complaint arora production house failing credit distributor film fanney khan prernaa arrested economic offences wing mumbai police reports added \n",
      "실제 요약 : producer prernaa arora arrested for fraud of cr reports\n",
      "예측 요약 :  ex man who lost cr in fraud case against cr\n",
      "summa 요약 : Producer Prernaa Arora has been arrested for her alleged involvement in a fraud of Ã¢ÂÂ¹16 crore, as per reports.\n",
      "\n",
      "\n",
      "실제 원문 : Twitter has released its FIFA World Cup statistics, which show the tournament generated 115 billion views for tweets during the 64 games. 19-year-old Kylian MbappÃÂ©'s fourth goal for France in the final was the most-tweeted moment, while the most-mentioned player was Brazil's Neymar Jr, who was criticised for his diving antics. Brazil tweeted the most followed by Japan and UK.\n",
      "원문 : twitter released fifa world cup statistics show tournament generated billion views tweets games year old kylian mbapp fourth goal france final tweeted moment mentioned player brazil neymar jr criticised diving antics brazil tweeted followed japan uk \n",
      "실제 요약 : world cup tweets viewed bn times mbapp goal top moment\n",
      "예측 요약 :  twitter mocks fifa world cup wc with neymar in wc\n",
      "summa 요약 : Brazil tweeted the most followed by Japan and UK.\n",
      "\n",
      "\n",
      "실제 원문 : South African batsman Hashim Amla, who scored two tons for Kings XI Punjab in last year's IPL, went unsold during the IPL 2018 auction on Saturday. Former Rajasthan Royals batsman Shane Watson was sold to CSK for Ã¢ÂÂ¹4 crore. Chris Woakes was bought by RCB for Ã¢ÂÂ¹7.4 crore, while Windies' Carlos Brathwaite was sold to Sunrisers Hyderabad for Ã¢ÂÂ¹2 crore.\n",
      "원문 : south african batsman hashim amla scored two tons kings xi punjab last year ipl went unsold ipl auction saturday former rajasthan royals batsman shane watson sold csk crore chris woakes bought rcb crore windies carlos brathwaite sold sunrisers hyderabad crore \n",
      "실제 요약 : amla who scored tons in last ipl goes unsold\n",
      "예측 요약 :  dhawan hits ipl auction of his year old ipl match\n",
      "summa 요약 : Former Rajasthan Royals batsman Shane Watson was sold to CSK for Ã¢ÂÂ¹4 crore.\n",
      "\n",
      "\n",
      "실제 원문 : Nine CRPF personnel on Tuesday lost their lives in an IED blast by Naxals in Chhattisgarh's Sukma district. Reports said that about 100 Naxals had carried out an ambush to attack the CRPF personnel. Their Mine Protected Vehicle (MPV) was blown up when the personnel were out on a combing operation in the area, reports added. \n",
      "원문 : nine crpf personnel tuesday lost lives blast naxals chhattisgarh sukma district reports said naxals carried ambush attack crpf personnel mine protected vehicle blown personnel operation area reports added \n",
      "실제 요약 : crpf personnel martyred in naxal attack in chhattisgarh\n",
      "예측 요약 :  maoists get death in chhattisgarh village in chhattisgarh jawans martyred\n",
      "summa 요약 : Reports said that about 100 Naxals had carried out an ambush to attack the CRPF personnel.\n",
      "\n",
      "\n",
      "실제 원문 : Actor Amitabh Bachchan invited the Indian women's cricket team on his reality show 'Kaun Banega Crorepati'. The cricketers were a part of a new segment on the show, titled 'Nayi Chaah Nahi Raah'. Bachchan also surprised Smriti Mandhana when he called up her favourite singer Arijit Singh, who even sung a song for her.\n",
      "원문 : actor amitabh bachchan invited indian women cricket team reality show kaun banega crorepati cricketers part new segment show titled nahi bachchan also surprised smriti mandhana called favourite singer arijit singh even sung song \n",
      "실제 요약 : amitabh bachchan invites indian women cricket team on kbc\n",
      "예측 요약 :  big to make women in india next team with report\n",
      "summa 요약 : Actor Amitabh Bachchan invited the Indian women's cricket team on his reality show 'Kaun Banega Crorepati'.\n",
      "\n",
      "\n",
      "실제 원문 : Facebook has said it recently found a bug that automatically suggested posting publicly when people were creating their posts, potentially causing them to post friends-only content to the public. The bug, which was active between May 18 and 27, affected 1.4 crore users. Apologising for the error, Facebook said itÃ¢ÂÂs asking users to review posts they made during that time.\n",
      "원문 : facebook said recently found bug automatically suggested posting publicly people creating posts potentially causing post friends content public bug active may affected crore users apologising error facebook said asking users review posts made time \n",
      "실제 요약 : fb bug changed cr users privacy setting to public\n",
      "예측 요약 :  fb admits to remove fake news on its own outage\n",
      "summa 요약 : Apologising for the error, Facebook said itÃ¢ÂÂs asking users to review posts they made during that time.\n",
      "\n",
      "\n",
      "실제 원문 : The no-confidence motion moved by the Opposition against the Modi government was rejected on Friday in the Lok Sabha after a 12-hour debate. While 325 MPs voted Ã¢ÂÂNoÃ¢ÂÂ, 126 voted Ã¢ÂÂYesÃ¢ÂÂ during the voting. Prime Minister Narendra Modi addressed the Lok Sabha for 90 minutes ahead of the voting on the no-confidence motion.\n",
      "원문 : confidence motion moved opposition modi government rejected friday lok sabha hour debate mps voted voted yes voting prime minister narendra modi addressed lok sabha minutes ahead voting confidence motion \n",
      "실제 요약 : no confidence motion against govt rejected after hour debate\n",
      "예측 요약 :  no no right to change in lok sabha polls owaisi\n",
      "summa 요약 : Prime Minister Narendra Modi addressed the Lok Sabha for 90 minutes ahead of the voting on the no-confidence motion.\n",
      "\n",
      "\n",
      "실제 원문 : E-commerce major Amazon has invested about Ã¢ÂÂ¹2,600 crore into its Indian subsidiary Amazon Seller Services, according to filings. This brings Amazon's total investment in its main marketplace business in India, to more than Ã¢ÂÂ¹20,000 crore. This comes amid reports of US-based Walmart trying to acquire a controlling stake in homegrown e-commerce firm Flipkart for around $15 billion.\n",
      "원문 : commerce major amazon invested crore indian subsidiary amazon seller services according filings brings amazon total investment main marketplace business india crore comes amid reports us based walmart trying acquire controlling stake homegrown commerce firm flipkart around billion \n",
      "실제 요약 : amazon invests crore in india unit\n",
      "예측 요약 :  amazon invests crore in its wholesale arm amazon in india\n",
      "summa 요약 : E-commerce major Amazon has invested about Ã¢ÂÂ¹2,600 crore into its Indian subsidiary Amazon Seller Services, according to filings.\n",
      "\n",
      "\n",
      "실제 원문 : An 18-year-old Pune-based woman, suspected to be a suicide bomber, was detained by Jammu and Kashmir Police on Thursday night. An alert was earlier issued, warning that a non-Kashmiri woman may attempt a suicide attack on Republic Day. In 2015, the woman was questioned by the Anti-Terrorism Squad over alleged ISIS connections and was sent for a deradicalisation programme.\n",
      "원문 : year old pune based woman suspected suicide bomber detained jammu kashmir police thursday night alert earlier issued warning non kashmiri woman may attempt suicide attack republic day woman questioned anti terrorism squad alleged isis connections sent programme \n",
      "실제 요약 : suspected female suicide bomber held in jammu and kashmir\n",
      "예측 요약 :  woman shoots self after being shoots self at delhi woman\n",
      "summa 요약 : An 18-year-old Pune-based woman, suspected to be a suicide bomber, was detained by Jammu and Kashmir Police on Thursday night.\n",
      "\n",
      "\n",
      "실제 원문 : The firecracker traders in Delhi-NCR moved Supreme Court on Wednesday seeking permission to sell their stock. This comes after the court on Monday banned the sale of firecrackers in the region till November 1 in order to check alarming pollution level. The traders told the court their licences, which were banned in November last year, got revived on September 12.\n",
      "원문 : firecracker traders delhi ncr moved supreme court wednesday seeking permission sell stock comes court monday banned sale firecrackers region till november order check alarming pollution level traders told court licences banned november last year got revived september \n",
      "실제 요약 : delhi firecracker traders seek sc approval to sell stock\n",
      "예측 요약 :  hc directs delhi govt to deposit cr for drug welfare\n",
      "summa 요약 : The traders told the court their licences, which were banned in November last year, got revived on September 12.\n",
      "\n",
      "\n",
      "실제 원문 : Power Minister RK Singh has asked major air-conditioner manufacturers to maintain default temperature setting at 24 degree Celsius with an aim to promote energy efficiency. \"Every 1-degree increase in the air-conditioner temperature setting results in saving of 6% of electricity consumed,\" Singh said. He further said that some countries like Japan have regulated the temperature at 28 degree.\n",
      "원문 : power minister rk singh asked major air conditioner manufacturers maintain default temperature setting degree celsius aim promote energy efficiency every degree increase air conditioner temperature setting results saving electricity consumed singh said said countries like japan regulated temperature degree \n",
      "실제 요약 : govt asks ac makers to maintain default temperature at\n",
      "예측 요약 :  govt plans to replace food in air india in may\n",
      "summa 요약 : \"Every 1-degree increase in the air-conditioner temperature setting results in saving of 6% of electricity consumed,\" Singh said.\n",
      "\n",
      "\n",
      "실제 원문 : A Delhi-bound Jet Airways flight was diverted to Ahmedabad on Monday after a note was found onboard, which said the flight was \"covered by hijackers\". It added \"Cargo area contains explosive bombs and will blast if you land in DEL,\" while demanding that the flight be flown to PoK. All the passengers were screened after the flight landed in Ahmedabad.\n",
      "원문 : delhi bound jet airways flight diverted ahmedabad monday note found onboard said flight covered hijackers added cargo area contains explosive bombs blast land del demanding flight flown pok passengers screened flight landed ahmedabad \n",
      "실제 요약 : mumbai delhi flight diverted to ahmedabad over hijack threat\n",
      "예측 요약 :  indigo plane forced to remove emergency landing at delhi airport\n",
      "summa 요약 : All the passengers were screened after the flight landed in Ahmedabad.\n",
      "\n",
      "\n",
      "실제 원문 : Four police constables have been arrested for consuming liquor in Bihar, a state where liquor is prohibited since April 2016. The policemen were found drinking the banned beverage in a police outpost, located at Station Chowk in Bhagalpur town. This was the fourth case in Bhagalpur where an action was taken against policemen for violating the anti-liquor law.\n",
      "원문 : four police constables arrested consuming liquor bihar state liquor prohibited since april policemen found drinking banned beverage police outpost located station chowk bhagalpur town fourth case bhagalpur action taken policemen violating anti liquor law \n",
      "실제 요약 : four policemen arrested for consuming liquor in dry bihar\n",
      "예측 요약 :  liquor held for liquor in liquor at liquor in up\n",
      "summa 요약 : This was the fourth case in Bhagalpur where an action was taken against policemen for violating the anti-liquor law.\n",
      "\n",
      "\n",
      "실제 원문 : The New Zealand Education Ministry has raised concerns after a maths exam for grade 11 students was criticised for being too hard and leaving many in tears. The New Zealand Qualifications Authority (NZQA) has received numerous complaints, with even teachers reportedly struggling to solve questions. However, NZQA defended the paper, saying that it was set by experienced mathematics teachers.\n",
      "원문 : new zealand education ministry raised concerns maths exam grade students criticised hard leaving many tears new zealand qualifications authority received numerous complaints even teachers reportedly struggling solve questions however defended paper saying set experienced mathematics teachers \n",
      "실제 요약 : nz govt raises concerns after students cry over maths exam\n",
      "예측 요약 :  students to give up to give book on national highways\n",
      "summa 요약 : The New Zealand Qualifications Authority (NZQA) has received numerous complaints, with even teachers reportedly struggling to solve questions.\n",
      "\n",
      "\n"
     ]
    }
   ],
   "source": [
    "# seq2summary(decoder_input_test)를 통해 나온 문장이 decoder_input에 존재하거나\n",
    "# summa가 존재하는 경우, data_origin에서의 실제 원문과 summa 요약을 추가 print\n",
    "for i in range(0, 100):\n",
    "    index_query = data[data['decoder_input'].str.contains(seq2summary(decoder_input_test[i]))]\n",
    "    if len(index_query) ==0: continue\n",
    "    if data.loc[index_query.index[0], 'summa'] == '': continue\n",
    "    \n",
    "    print(\"실제 원문 :\", data_origin.loc[index_query.index[0], 'text'])\n",
    "    print(\"원문 :\", seq2text(encoder_input_test[i]))\n",
    "    print(\"실제 요약 :\", seq2summary(decoder_input_test[i]))\n",
    "    print(\"예측 요약 :\", decode_sequence(encoder_input_test[i].reshape(1, text_max_len)))\n",
    "    print(\"summa 요약 :\", data.loc[index_query.index[0], 'summa'])\n",
    "    print(\"\\n\")"
   ]
  },
  {
   "cell_type": "markdown",
   "id": "15af6f07",
   "metadata": {},
   "source": [
    "## 결과\n",
    "\n",
    "### 비교\n",
    "- 추상적 요약\n",
    "    - 다양한 단어가 나옴\n",
    "    - 연관 없는 단어도 나오는 경우가 존재\n",
    "    - 문장의 완성도는 떨어지는 듯 함\n",
    "    - 핵심단어가 존재하지만 아닌 경우는 비슷한 단어로 대체하는 것처럼 보임\n",
    "- 추출적 요약\n",
    "    - Summarize는 원문의 길이가 적으면 요약이 안되는 듯 함\n",
    "    - 중요 문장을 최대한 그대로 가져오므로 문장의 완성도는 높게 나오는 듯 함\n",
    "    - 문장 그대로 가져오는 것 때문에 보통은 핵심단어가 포함되는 듯 함"
   ]
  },
  {
   "cell_type": "code",
   "execution_count": null,
   "id": "3d50e612",
   "metadata": {},
   "outputs": [],
   "source": []
  }
 ],
 "metadata": {
  "kernelspec": {
   "display_name": "Python 3 (ipykernel)",
   "language": "python",
   "name": "python3"
  },
  "language_info": {
   "codemirror_mode": {
    "name": "ipython",
    "version": 3
   },
   "file_extension": ".py",
   "mimetype": "text/x-python",
   "name": "python",
   "nbconvert_exporter": "python",
   "pygments_lexer": "ipython3",
   "version": "3.9.7"
  }
 },
 "nbformat": 4,
 "nbformat_minor": 5
}
