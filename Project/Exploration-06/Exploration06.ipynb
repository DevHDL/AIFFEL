{
 "cells": [
  {
   "cell_type": "code",
   "execution_count": 63,
   "id": "04cc7876",
   "metadata": {},
   "outputs": [
    {
     "name": "stderr",
     "output_type": "stream",
     "text": [
      "[nltk_data] Downloading package stopwords to /aiffel/nltk_data...\n",
      "[nltk_data]   Package stopwords is already up-to-date!\n"
     ]
    }
   ],
   "source": [
    "import nltk\n",
    "nltk.download('stopwords')\n",
    "from nltk.corpus import stopwords\n",
    "\n",
    "import numpy as np\n",
    "import pandas as pd\n",
    "import os\n",
    "import re\n",
    "import matplotlib.pyplot as plt\n",
    "from tensorflow import keras\n",
    "\n",
    "import urllib.request\n",
    "from bs4 import BeautifulSoup\n",
    "from tqdm import tqdm"
   ]
  },
  {
   "cell_type": "markdown",
   "id": "989bd74a",
   "metadata": {},
   "source": [
    "## 데이터 가져오기"
   ]
  },
  {
   "cell_type": "code",
   "execution_count": 13,
   "id": "f5a11185",
   "metadata": {},
   "outputs": [],
   "source": [
    "urllib.request.urlretrieve(\"https://raw.githubusercontent.com/sunnysai12345/News_Summary/master/news_summary_more.csv\", filename=\"news_summary_more.csv\")\n",
    "data = pd.read_csv('news_summary_more.csv', encoding='iso-8859-1')"
   ]
  },
  {
   "cell_type": "code",
   "execution_count": 14,
   "id": "73e817bc",
   "metadata": {},
   "outputs": [
    {
     "data": {
      "text/html": [
       "<div>\n",
       "<style scoped>\n",
       "    .dataframe tbody tr th:only-of-type {\n",
       "        vertical-align: middle;\n",
       "    }\n",
       "\n",
       "    .dataframe tbody tr th {\n",
       "        vertical-align: top;\n",
       "    }\n",
       "\n",
       "    .dataframe thead th {\n",
       "        text-align: right;\n",
       "    }\n",
       "</style>\n",
       "<table border=\"1\" class=\"dataframe\">\n",
       "  <thead>\n",
       "    <tr style=\"text-align: right;\">\n",
       "      <th></th>\n",
       "      <th>headlines</th>\n",
       "      <th>text</th>\n",
       "    </tr>\n",
       "  </thead>\n",
       "  <tbody>\n",
       "    <tr>\n",
       "      <th>65943</th>\n",
       "      <td>Luxury fashion brand Gucci bans fur in its col...</td>\n",
       "      <td>Italian luxury fashion brand Gucci's CEO Marco...</td>\n",
       "    </tr>\n",
       "    <tr>\n",
       "      <th>17420</th>\n",
       "      <td>Video shows Delhi cop's son hitting, kicking girl</td>\n",
       "      <td>A video of a man, identified as Delhi policema...</td>\n",
       "    </tr>\n",
       "    <tr>\n",
       "      <th>43214</th>\n",
       "      <td>Cristiano Ronaldo scores 4 goals, his 50th car...</td>\n",
       "      <td>Real Madrid forward Cristiano Ronaldo on Sunda...</td>\n",
       "    </tr>\n",
       "    <tr>\n",
       "      <th>24267</th>\n",
       "      <td>Japan executes 6 more cult members over 1995 c...</td>\n",
       "      <td>Japan on Thursday executed six remaining membe...</td>\n",
       "    </tr>\n",
       "    <tr>\n",
       "      <th>56356</th>\n",
       "      <td>Nawazuddin, Vijay's 'Monsoon Shootout' hits th...</td>\n",
       "      <td>Nawazuddin Siddiqui and Vijay Varma's film 'Mo...</td>\n",
       "    </tr>\n",
       "    <tr>\n",
       "      <th>87355</th>\n",
       "      <td>Highest whisky bar serves 1st Chivas custom sc...</td>\n",
       "      <td>Bangkok's newly opened Alfresco 64 - A Chivas ...</td>\n",
       "    </tr>\n",
       "    <tr>\n",
       "      <th>25756</th>\n",
       "      <td>Google may face record fine by EU over Android...</td>\n",
       "      <td>Google is reportedly facing a record European ...</td>\n",
       "    </tr>\n",
       "    <tr>\n",
       "      <th>67569</th>\n",
       "      <td>Govt raises natural gas price for first time i...</td>\n",
       "      <td>The government on Friday hiked the domestic na...</td>\n",
       "    </tr>\n",
       "    <tr>\n",
       "      <th>6857</th>\n",
       "      <td>BJP worker shot dead in West Bengal</td>\n",
       "      <td>BJP booth level leader Sandip Ghosh was allege...</td>\n",
       "    </tr>\n",
       "    <tr>\n",
       "      <th>2890</th>\n",
       "      <td>Rakesh Roshan is a fighter: PM to Hrithik on d...</td>\n",
       "      <td>After actor Hrithik Roshan revealed that his f...</td>\n",
       "    </tr>\n",
       "  </tbody>\n",
       "</table>\n",
       "</div>"
      ],
      "text/plain": [
       "                                               headlines  \\\n",
       "65943  Luxury fashion brand Gucci bans fur in its col...   \n",
       "17420  Video shows Delhi cop's son hitting, kicking girl   \n",
       "43214  Cristiano Ronaldo scores 4 goals, his 50th car...   \n",
       "24267  Japan executes 6 more cult members over 1995 c...   \n",
       "56356  Nawazuddin, Vijay's 'Monsoon Shootout' hits th...   \n",
       "87355  Highest whisky bar serves 1st Chivas custom sc...   \n",
       "25756  Google may face record fine by EU over Android...   \n",
       "67569  Govt raises natural gas price for first time i...   \n",
       "6857                 BJP worker shot dead in West Bengal   \n",
       "2890   Rakesh Roshan is a fighter: PM to Hrithik on d...   \n",
       "\n",
       "                                                    text  \n",
       "65943  Italian luxury fashion brand Gucci's CEO Marco...  \n",
       "17420  A video of a man, identified as Delhi policema...  \n",
       "43214  Real Madrid forward Cristiano Ronaldo on Sunda...  \n",
       "24267  Japan on Thursday executed six remaining membe...  \n",
       "56356  Nawazuddin Siddiqui and Vijay Varma's film 'Mo...  \n",
       "87355  Bangkok's newly opened Alfresco 64 - A Chivas ...  \n",
       "25756  Google is reportedly facing a record European ...  \n",
       "67569  The government on Friday hiked the domestic na...  \n",
       "6857   BJP booth level leader Sandip Ghosh was allege...  \n",
       "2890   After actor Hrithik Roshan revealed that his f...  "
      ]
     },
     "execution_count": 14,
     "metadata": {},
     "output_type": "execute_result"
    }
   ],
   "source": [
    "data.sample(10)"
   ]
  },
  {
   "cell_type": "markdown",
   "id": "84a9ecbd",
   "metadata": {},
   "source": [
    "## 데이터 전처리"
   ]
  },
  {
   "cell_type": "markdown",
   "id": "5d2562b7",
   "metadata": {},
   "source": [
    "### 데이터 중복 및 결측치 처리"
   ]
  },
  {
   "cell_type": "code",
   "execution_count": 15,
   "id": "7b0e7d93",
   "metadata": {},
   "outputs": [
    {
     "data": {
      "text/plain": [
       "(98401, 2)"
      ]
     },
     "execution_count": 15,
     "metadata": {},
     "output_type": "execute_result"
    }
   ],
   "source": [
    "data.shape"
   ]
  },
  {
   "cell_type": "code",
   "execution_count": 16,
   "id": "041cd4ff",
   "metadata": {},
   "outputs": [
    {
     "name": "stdout",
     "output_type": "stream",
     "text": [
      "headlines 열에서 중복을 배제한 유일한 샘플의 수 : 98280\n",
      "text 열에서 중복을 배제한 유일한 샘플의 수 : 98360\n"
     ]
    }
   ],
   "source": [
    "print('headlines 열에서 중복을 배제한 유일한 샘플의 수 :', data['headlines'].nunique())\n",
    "print('text 열에서 중복을 배제한 유일한 샘플의 수 :', data['text'].nunique())"
   ]
  },
  {
   "cell_type": "code",
   "execution_count": 17,
   "id": "09b6df12",
   "metadata": {},
   "outputs": [
    {
     "data": {
      "text/plain": [
       "(98360, 2)"
      ]
     },
     "execution_count": 17,
     "metadata": {},
     "output_type": "execute_result"
    }
   ],
   "source": [
    "data.drop_duplicates(subset=['text'], inplace=True)\n",
    "data.shape"
   ]
  },
  {
   "cell_type": "code",
   "execution_count": 23,
   "id": "cbf30825",
   "metadata": {},
   "outputs": [
    {
     "data": {
      "text/html": [
       "<div>\n",
       "<style scoped>\n",
       "    .dataframe tbody tr th:only-of-type {\n",
       "        vertical-align: middle;\n",
       "    }\n",
       "\n",
       "    .dataframe tbody tr th {\n",
       "        vertical-align: top;\n",
       "    }\n",
       "\n",
       "    .dataframe thead th {\n",
       "        text-align: right;\n",
       "    }\n",
       "</style>\n",
       "<table border=\"1\" class=\"dataframe\">\n",
       "  <thead>\n",
       "    <tr style=\"text-align: right;\">\n",
       "      <th></th>\n",
       "      <th>headlines</th>\n",
       "      <th>text</th>\n",
       "    </tr>\n",
       "  </thead>\n",
       "  <tbody>\n",
       "  </tbody>\n",
       "</table>\n",
       "</div>"
      ],
      "text/plain": [
       "Empty DataFrame\n",
       "Columns: [headlines, text]\n",
       "Index: []"
      ]
     },
     "execution_count": 23,
     "metadata": {},
     "output_type": "execute_result"
    }
   ],
   "source": [
    "# headlines 와 text가 동시에 중복인 경우는 없음\n",
    "data[data.duplicated(['headlines', 'text'])]"
   ]
  },
  {
   "cell_type": "code",
   "execution_count": 24,
   "id": "3b9d9763",
   "metadata": {},
   "outputs": [
    {
     "name": "stdout",
     "output_type": "stream",
     "text": [
      "headlines    0\n",
      "text         0\n",
      "dtype: int64\n"
     ]
    }
   ],
   "source": [
    "# 결측치 : 0\n",
    "print(data.isnull().sum())"
   ]
  },
  {
   "cell_type": "markdown",
   "id": "88c33218",
   "metadata": {},
   "source": [
    "### 데이터 정규화 사전 및 불용어 리스트 가져오기\n",
    "- 정규화 사전 출처 : [🔗](https://stackoverflow.com/questions/19790188/expanding-english-language-contractions-in-python)\n",
    "- nltk 패키지 사용법 : [🔗](https://datascienceschool.net/03%20machine%20learning/03.01.01%20NLTK%20%EC%9E%90%EC%97%B0%EC%96%B4%20%EC%B2%98%EB%A6%AC%20%ED%8C%A8%ED%82%A4%EC%A7%80.html)"
   ]
  },
  {
   "cell_type": "code",
   "execution_count": 25,
   "id": "530369f5",
   "metadata": {},
   "outputs": [
    {
     "name": "stdout",
     "output_type": "stream",
     "text": [
      "정규화 사전의 수:  120\n"
     ]
    }
   ],
   "source": [
    "# 정규화 사전\n",
    "contractions = {\"ain't\": \"is not\", \"aren't\": \"are not\",\"can't\": \"cannot\", \"'cause\": \"because\", \"could've\": \"could have\", \"couldn't\": \"could not\",\n",
    "                           \"didn't\": \"did not\",  \"doesn't\": \"does not\", \"don't\": \"do not\", \"hadn't\": \"had not\", \"hasn't\": \"has not\", \"haven't\": \"have not\",\n",
    "                           \"he'd\": \"he would\",\"he'll\": \"he will\", \"he's\": \"he is\", \"how'd\": \"how did\", \"how'd'y\": \"how do you\", \"how'll\": \"how will\", \"how's\": \"how is\",\n",
    "                           \"I'd\": \"I would\", \"I'd've\": \"I would have\", \"I'll\": \"I will\", \"I'll've\": \"I will have\",\"I'm\": \"I am\", \"I've\": \"I have\", \"i'd\": \"i would\",\n",
    "                           \"i'd've\": \"i would have\", \"i'll\": \"i will\",  \"i'll've\": \"i will have\",\"i'm\": \"i am\", \"i've\": \"i have\", \"isn't\": \"is not\", \"it'd\": \"it would\",\n",
    "                           \"it'd've\": \"it would have\", \"it'll\": \"it will\", \"it'll've\": \"it will have\",\"it's\": \"it is\", \"let's\": \"let us\", \"ma'am\": \"madam\",\n",
    "                           \"mayn't\": \"may not\", \"might've\": \"might have\",\"mightn't\": \"might not\",\"mightn't've\": \"might not have\", \"must've\": \"must have\",\n",
    "                           \"mustn't\": \"must not\", \"mustn't've\": \"must not have\", \"needn't\": \"need not\", \"needn't've\": \"need not have\",\"o'clock\": \"of the clock\",\n",
    "                           \"oughtn't\": \"ought not\", \"oughtn't've\": \"ought not have\", \"shan't\": \"shall not\", \"sha'n't\": \"shall not\", \"shan't've\": \"shall not have\",\n",
    "                           \"she'd\": \"she would\", \"she'd've\": \"she would have\", \"she'll\": \"she will\", \"she'll've\": \"she will have\", \"she's\": \"she is\",\n",
    "                           \"should've\": \"should have\", \"shouldn't\": \"should not\", \"shouldn't've\": \"should not have\", \"so've\": \"so have\",\"so's\": \"so as\",\n",
    "                           \"this's\": \"this is\",\"that'd\": \"that would\", \"that'd've\": \"that would have\", \"that's\": \"that is\", \"there'd\": \"there would\",\n",
    "                           \"there'd've\": \"there would have\", \"there's\": \"there is\", \"here's\": \"here is\",\"they'd\": \"they would\", \"they'd've\": \"they would have\",\n",
    "                           \"they'll\": \"they will\", \"they'll've\": \"they will have\", \"they're\": \"they are\", \"they've\": \"they have\", \"to've\": \"to have\",\n",
    "                           \"wasn't\": \"was not\", \"we'd\": \"we would\", \"we'd've\": \"we would have\", \"we'll\": \"we will\", \"we'll've\": \"we will have\", \"we're\": \"we are\",\n",
    "                           \"we've\": \"we have\", \"weren't\": \"were not\", \"what'll\": \"what will\", \"what'll've\": \"what will have\", \"what're\": \"what are\",\n",
    "                           \"what's\": \"what is\", \"what've\": \"what have\", \"when's\": \"when is\", \"when've\": \"when have\", \"where'd\": \"where did\", \"where's\": \"where is\",\n",
    "                           \"where've\": \"where have\", \"who'll\": \"who will\", \"who'll've\": \"who will have\", \"who's\": \"who is\", \"who've\": \"who have\",\n",
    "                           \"why's\": \"why is\", \"why've\": \"why have\", \"will've\": \"will have\", \"won't\": \"will not\", \"won't've\": \"will not have\",\n",
    "                           \"would've\": \"would have\", \"wouldn't\": \"would not\", \"wouldn't've\": \"would not have\", \"y'all\": \"you all\",\n",
    "                           \"y'all'd\": \"you all would\",\"y'all'd've\": \"you all would have\",\"y'all're\": \"you all are\",\"y'all've\": \"you all have\",\n",
    "                           \"you'd\": \"you would\", \"you'd've\": \"you would have\", \"you'll\": \"you will\", \"you'll've\": \"you will have\",\n",
    "                           \"you're\": \"you are\", \"you've\": \"you have\"}\n",
    "\n",
    "print(\"정규화 사전의 수: \", len(contractions))"
   ]
  },
  {
   "cell_type": "code",
   "execution_count": 29,
   "id": "15967d51",
   "metadata": {},
   "outputs": [
    {
     "name": "stdout",
     "output_type": "stream",
     "text": [
      "179\n"
     ]
    },
    {
     "data": {
      "text/plain": [
       "['i', 'me', 'my', 'myself', 'we', 'our', 'ours', 'ourselves', 'you', \"you're\"]"
      ]
     },
     "execution_count": 29,
     "metadata": {},
     "output_type": "execute_result"
    }
   ],
   "source": [
    "# nltk에서 제공하는 불용어 리스트\n",
    "# 불용어 리스트 추출\n",
    "print(len(stopwords.words('english')))\n",
    "stopwords.words('english')[:10]"
   ]
  },
  {
   "cell_type": "markdown",
   "id": "c0094358",
   "metadata": {},
   "source": [
    "### 데이터 전처리\n",
    "1. 텍스트 소문자화\n",
    "2. html 태그 제거\n",
    "3. 괄호 내 문자열 제거\n",
    "4. 쌍따옴표 제거\n",
    "5. 약어 정규화\n",
    "6. 소유격 제거\n",
    "7. 영어 외 문자(숫자, 특수문자 등) 공백으로 변환\n",
    "8. 불용어 제거 (headlines는 미제거)"
   ]
  },
  {
   "cell_type": "markdown",
   "id": "4b3bd769",
   "metadata": {},
   "source": [
    "#### 데이터 전처리 방식 정리 (예시)"
   ]
  },
  {
   "cell_type": "code",
   "execution_count": 38,
   "id": "925f1e22",
   "metadata": {},
   "outputs": [
    {
     "name": "stdout",
     "output_type": "stream",
     "text": [
      "A team of IIT-Roorkee scientists is testing a floating device that can generate electricity from flowing surface water of rivers. Instead of using water falling from height to turn turbines like in traditional dams, the prototype uses velocity of flowing river, professor RP Saini said. \"Flowing water can generate hundred times more power than wind of same velocity,\" Saini added.\n"
     ]
    }
   ],
   "source": [
    "# 데이터 전처리 방식 정리 (예시)\n",
    "sentence_origin = data.loc[104]['text']\n",
    "print(sentence_origin)"
   ]
  },
  {
   "cell_type": "code",
   "execution_count": 40,
   "id": "e2602e0a",
   "metadata": {},
   "outputs": [
    {
     "name": "stdout",
     "output_type": "stream",
     "text": [
      "A team of IIT-Roorkee scientis\n",
      "a team of iit-roorkee scientis\n"
     ]
    }
   ],
   "source": [
    "sentence1 = sentence_origin.lower()\n",
    "print(sentence_origin[:30])\n",
    "print(sentence1[:30])"
   ]
  },
  {
   "cell_type": "code",
   "execution_count": 42,
   "id": "15814fe0",
   "metadata": {},
   "outputs": [
    {
     "name": "stdout",
     "output_type": "stream",
     "text": [
      "a team of iit-roorkee scientists is testing a floating device that can generate electricity from flowing surface water of rivers. instead of using water falling from height to turn turbines like in traditional dams, the prototype uses velocity of flowing river, professor rp saini said. \"flowing water can generate hundred times more power than wind of same velocity,\" saini added.\n"
     ]
    }
   ],
   "source": [
    "sentence2 = BeautifulSoup(sentence1, 'lxml').text\n",
    "print(sentence2)"
   ]
  },
  {
   "cell_type": "code",
   "execution_count": 44,
   "id": "8c0ffe8b",
   "metadata": {},
   "outputs": [
    {
     "name": "stdout",
     "output_type": "stream",
     "text": [
      "a team of iit-roorkee scientists is testing a floating device that can generate electricity from flowing surface water of rivers. instead of using water falling from height to turn turbines like in traditional dams, the prototype uses velocity of flowing river, professor rp saini said. \"flowing water can generate hundred times more power than wind of same velocity,\" saini added.\n"
     ]
    }
   ],
   "source": [
    "sentence3 = re.sub(r'\\([^)]*\\)', '', sentence2)\n",
    "print(sentence3)"
   ]
  },
  {
   "cell_type": "code",
   "execution_count": 46,
   "id": "2b790883",
   "metadata": {},
   "outputs": [
    {
     "name": "stdout",
     "output_type": "stream",
     "text": [
      "a team of iit-roorkee scientists is testing a floating device that can generate electricity from flowing surface water of rivers. instead of using water falling from height to turn turbines like in traditional dams, the prototype uses velocity of flowing river, professor rp saini said. flowing water can generate hundred times more power than wind of same velocity, saini added.\n"
     ]
    }
   ],
   "source": [
    "sentence4 = re.sub('\"', '', sentence3)\n",
    "print(sentence4)"
   ]
  },
  {
   "cell_type": "code",
   "execution_count": 48,
   "id": "d711826d",
   "metadata": {},
   "outputs": [
    {
     "name": "stdout",
     "output_type": "stream",
     "text": [
      "a team of iit-roorkee scientists is testing a floating device that can generate electricity from flowing surface water of rivers. instead of using water falling from height to turn turbines like in traditional dams, the prototype uses velocity of flowing river, professor rp saini said. flowing water can generate hundred times more power than wind of same velocity, saini added.\n"
     ]
    }
   ],
   "source": [
    "sentence5 = ' '.join([contractions[t] if t in contractions else t for t in sentence4.split(\" \")])\n",
    "print(sentence5)"
   ]
  },
  {
   "cell_type": "code",
   "execution_count": 49,
   "id": "f34d1d35",
   "metadata": {},
   "outputs": [
    {
     "name": "stdout",
     "output_type": "stream",
     "text": [
      "a team of iit-roorkee scientists is testing a floating device that can generate electricity from flowing surface water of rivers. instead of using water falling from height to turn turbines like in traditional dams, the prototype uses velocity of flowing river, professor rp saini said. flowing water can generate hundred times more power than wind of same velocity, saini added.\n"
     ]
    }
   ],
   "source": [
    "sentence6 = re.sub(r\"'s\\b\",\"\",sentence5)\n",
    "print(sentence6)"
   ]
  },
  {
   "cell_type": "code",
   "execution_count": 51,
   "id": "a0cfe2e3",
   "metadata": {},
   "outputs": [
    {
     "name": "stdout",
     "output_type": "stream",
     "text": [
      "a team of iit roorkee scientists is testing a floating device that can generate electricity from flowing surface water of rivers  instead of using water falling from height to turn turbines like in traditional dams  the prototype uses velocity of flowing river  professor rp saini said  flowing water can generate hundred times more power than wind of same velocity  saini added \n"
     ]
    }
   ],
   "source": [
    "sentence7 = re.sub(\"[^a-zA-Z]\", \" \", sentence6)\n",
    "print(sentence7)"
   ]
  },
  {
   "cell_type": "code",
   "execution_count": 52,
   "id": "faf7af7a",
   "metadata": {},
   "outputs": [
    {
     "name": "stdout",
     "output_type": "stream",
     "text": [
      "a team of iit roorkee scientists is testing a floating device that can generate electricity from flowing surface water of rivers  instead of using water falling from height to turn turbines like in traditional dams  the prototype uses velocity of flowing river  professor rp saini said  flowing water can generate hundred times more power than wind of same velocity  saini added \n"
     ]
    }
   ],
   "source": [
    "sentence8 = re.sub('[m]{2,}', 'mm', sentence7)\n",
    "print(sentence8)"
   ]
  },
  {
   "cell_type": "code",
   "execution_count": 53,
   "id": "bbfb875b",
   "metadata": {
    "scrolled": true
   },
   "outputs": [
    {
     "name": "stdout",
     "output_type": "stream",
     "text": [
      "team iit roorkee scientists testing floating device generate electricity flowing surface water rivers instead using water falling height turn turbines like traditional dams prototype uses velocity flowing river professor rp saini said flowing water generate hundred times power wind velocity saini added\n"
     ]
    }
   ],
   "source": [
    "token = ' '.join(word for word in sentence8.split() if not word in stopwords.words('english') if len(word) > 1)\n",
    "print(token)"
   ]
  },
  {
   "cell_type": "markdown",
   "id": "9b097212",
   "metadata": {},
   "source": [
    "#### 데이터 전처리 함수 정의 및 전처리 시작"
   ]
  },
  {
   "cell_type": "code",
   "execution_count": 58,
   "id": "9e6fe02d",
   "metadata": {},
   "outputs": [],
   "source": [
    "def preprocess_sentence(sentence, remove_stopwords=True):\n",
    "    sentence = sentence.lower()\n",
    "    sentence = BeautifulSoup(sentence, \"lxml\").text\n",
    "    sentence = re.sub(r'\\([^)]*\\)', '', sentence)\n",
    "    sentence = re.sub('\"','', sentence)\n",
    "    sentence = ' '.join([contractions[t] if t in contractions else t for t in sentence.split(\" \")])\n",
    "    sentence = re.sub(r\"'s\\b\",\"\",sentence)\n",
    "    sentence = re.sub(\"[^a-zA-Z]\", \" \", sentence)\n",
    "    sentence = re.sub('[m]{2,}', 'mm', sentence)\n",
    "    \n",
    "    if remove_stopwords:\n",
    "        tokens = ' '.join(word for word in sentence.split() if not word in stopwords.words('english') if len(word) > 1)\n",
    "    else:\n",
    "        tokens = ' '.join(word for word in sentence.split() if len(word) > 1)\n",
    "    return tokens"
   ]
  },
  {
   "cell_type": "code",
   "execution_count": 62,
   "id": "28a81df0",
   "metadata": {},
   "outputs": [
    {
     "name": "stdout",
     "output_type": "stream",
     "text": [
      "원본 : Union Minister Anantkumar Hegde took a dig at Congress President Rahul Gandhi by calling him a \"hybrid specimen\" who has no clue about religion. \"A father who's...Muslim, a mother who's...Christian and the son is supposed to be...Brahmin. How is that even possible?\" he said. He added such \"hybrid specimen\" cannot be found in any laboratory in the world.\n",
      "\n",
      "변환 : union minister anantkumar hegde took dig congress president rahul gandhi calling hybrid specimen clue religion father muslim mother christian son supposed brahmin even possible said added hybrid specimen cannot found laboratory world\n"
     ]
    }
   ],
   "source": [
    "# 비교 예시\n",
    "temp = data.loc[45]['text']\n",
    "print('원본 : {}\\n'.format(temp))\n",
    "print('변환 : {}'.format(preprocess_sentence(temp, True)))"
   ]
  },
  {
   "cell_type": "code",
   "execution_count": 64,
   "id": "6bc884c8",
   "metadata": {},
   "outputs": [
    {
     "name": "stderr",
     "output_type": "stream",
     "text": [
      "100%|██████████| 98360/98360 [00:17<00:00, 5718.79it/s]\n",
      "100%|██████████| 98360/98360 [09:34<00:00, 171.20it/s]\n"
     ]
    }
   ],
   "source": [
    "clean_headlines = []\n",
    "clean_text = []\n",
    "\n",
    "for x in tqdm(data['headlines']):\n",
    "    clean_headlines.append(preprocess_sentence(x, False))\n",
    "\n",
    "for x in tqdm(data['text']):\n",
    "    clean_text.append(preprocess_sentence(x, True))"
   ]
  },
  {
   "cell_type": "code",
   "execution_count": 65,
   "id": "46dbfd47",
   "metadata": {},
   "outputs": [
    {
     "data": {
      "text/plain": [
       "['upgrad learner switches to career in ml al with salary hike',\n",
       " 'delhi techie wins free food from swiggy for one year on cred',\n",
       " 'new zealand end rohit sharma led india match winning streak',\n",
       " 'aegon life iterm insurance plan helps customers save tax',\n",
       " 'have known hirani for yrs what if metoo claims are not true sonam']"
      ]
     },
     "execution_count": 65,
     "metadata": {},
     "output_type": "execute_result"
    }
   ],
   "source": [
    "clean_headlines[:5]"
   ]
  },
  {
   "cell_type": "code",
   "execution_count": 66,
   "id": "9ff835f1",
   "metadata": {},
   "outputs": [
    {
     "data": {
      "text/plain": [
       "['saurav kant alumnus upgrad iiit pg program machine learning artificial intelligence sr systems engineer infosys almost years work experience program upgrad degree career support helped transition data scientist tech mahindra salary hike upgrad online power learning powered lakh careers',\n",
       " 'kunal shah credit card bill payment platform cred gave users chance win free food swiggy one year pranav kaushik delhi techie bagged reward spending cred coins users get one cred coin per rupee bill paid used avail rewards brands like ixigo bookmyshow ubereats cult fit',\n",
       " 'new zealand defeated india wickets fourth odi hamilton thursday win first match five match odi series india lost international match rohit sharma captaincy consecutive victories dating back march match witnessed india getting seventh lowest total odi cricket history',\n",
       " 'aegon life iterm insurance plan customers enjoy tax benefits premiums paid save taxes plan provides life cover age years also customers options insure critical illnesses disability accidental death benefit rider life cover age years',\n",
       " 'speaking sexual harassment allegations rajkumar hirani sonam kapoor said known hirani many years true metoo movement get derailed metoo movement always believe woman case need reserve judgment added hirani accused assistant worked sanju']"
      ]
     },
     "execution_count": 66,
     "metadata": {},
     "output_type": "execute_result"
    }
   ],
   "source": [
    "clean_text[:5]"
   ]
  },
  {
   "cell_type": "code",
   "execution_count": 67,
   "id": "4b08bb40",
   "metadata": {},
   "outputs": [],
   "source": [
    "data['headlines'] = clean_headlines\n",
    "data['text'] = clean_text"
   ]
  },
  {
   "cell_type": "code",
   "execution_count": 71,
   "id": "09b3757c",
   "metadata": {},
   "outputs": [
    {
     "name": "stdout",
     "output_type": "stream",
     "text": [
      "(98360, 2)\n"
     ]
    },
    {
     "data": {
      "text/html": [
       "<div>\n",
       "<style scoped>\n",
       "    .dataframe tbody tr th:only-of-type {\n",
       "        vertical-align: middle;\n",
       "    }\n",
       "\n",
       "    .dataframe tbody tr th {\n",
       "        vertical-align: top;\n",
       "    }\n",
       "\n",
       "    .dataframe thead th {\n",
       "        text-align: right;\n",
       "    }\n",
       "</style>\n",
       "<table border=\"1\" class=\"dataframe\">\n",
       "  <thead>\n",
       "    <tr style=\"text-align: right;\">\n",
       "      <th></th>\n",
       "      <th>headlines</th>\n",
       "      <th>text</th>\n",
       "    </tr>\n",
       "  </thead>\n",
       "  <tbody>\n",
       "    <tr>\n",
       "      <th>0</th>\n",
       "      <td>upgrad learner switches to career in ml al wit...</td>\n",
       "      <td>saurav kant alumnus upgrad iiit pg program mac...</td>\n",
       "    </tr>\n",
       "    <tr>\n",
       "      <th>1</th>\n",
       "      <td>delhi techie wins free food from swiggy for on...</td>\n",
       "      <td>kunal shah credit card bill payment platform c...</td>\n",
       "    </tr>\n",
       "    <tr>\n",
       "      <th>2</th>\n",
       "      <td>new zealand end rohit sharma led india match w...</td>\n",
       "      <td>new zealand defeated india wickets fourth odi ...</td>\n",
       "    </tr>\n",
       "    <tr>\n",
       "      <th>3</th>\n",
       "      <td>aegon life iterm insurance plan helps customer...</td>\n",
       "      <td>aegon life iterm insurance plan customers enjo...</td>\n",
       "    </tr>\n",
       "    <tr>\n",
       "      <th>4</th>\n",
       "      <td>have known hirani for yrs what if metoo claims...</td>\n",
       "      <td>speaking sexual harassment allegations rajkuma...</td>\n",
       "    </tr>\n",
       "  </tbody>\n",
       "</table>\n",
       "</div>"
      ],
      "text/plain": [
       "                                           headlines  \\\n",
       "0  upgrad learner switches to career in ml al wit...   \n",
       "1  delhi techie wins free food from swiggy for on...   \n",
       "2  new zealand end rohit sharma led india match w...   \n",
       "3  aegon life iterm insurance plan helps customer...   \n",
       "4  have known hirani for yrs what if metoo claims...   \n",
       "\n",
       "                                                text  \n",
       "0  saurav kant alumnus upgrad iiit pg program mac...  \n",
       "1  kunal shah credit card bill payment platform c...  \n",
       "2  new zealand defeated india wickets fourth odi ...  \n",
       "3  aegon life iterm insurance plan customers enjo...  \n",
       "4  speaking sexual harassment allegations rajkuma...  "
      ]
     },
     "execution_count": 71,
     "metadata": {},
     "output_type": "execute_result"
    }
   ],
   "source": [
    "print(data.shape)\n",
    "data.head()"
   ]
  },
  {
   "cell_type": "code",
   "execution_count": 70,
   "id": "775e20b0",
   "metadata": {},
   "outputs": [
    {
     "data": {
      "text/plain": [
       "headlines    0\n",
       "text         0\n",
       "dtype: int64"
      ]
     },
     "execution_count": 70,
     "metadata": {},
     "output_type": "execute_result"
    }
   ],
   "source": [
    "data.isnull().sum()"
   ]
  },
  {
   "cell_type": "markdown",
   "id": "1566527b",
   "metadata": {},
   "source": [
    "### 데이터 Max_len 설정"
   ]
  },
  {
   "cell_type": "code",
   "execution_count": 72,
   "id": "f61f68ce",
   "metadata": {},
   "outputs": [],
   "source": [
    "headlines_len = [len(s.split()) for s in data['headlines']]\n",
    "text_len = [len(s.split()) for s in data['text']]"
   ]
  },
  {
   "cell_type": "code",
   "execution_count": 73,
   "id": "db3ffedc",
   "metadata": {},
   "outputs": [
    {
     "name": "stdout",
     "output_type": "stream",
     "text": [
      "요약의 최소 : 1\n",
      "요약의 최대 : 16\n",
      "요약의 평균 : 9.299532330215534\n",
      "텍스트의 최소 : 1\n",
      "텍스트의 최대 : 60\n",
      "텍스트의 평균 : 35.09968483123221\n"
     ]
    }
   ],
   "source": [
    "print('요약의 최소 : {}'.format(np.min(headlines_len)))\n",
    "print('요약의 최대 : {}'.format(np.max(headlines_len)))\n",
    "print('요약의 평균 : {}'.format(np.mean(headlines_len)))\n",
    "\n",
    "print('텍스트의 최소 : {}'.format(np.min(text_len)))\n",
    "print('텍스트의 최대 : {}'.format(np.max(text_len)))\n",
    "print('텍스트의 평균 : {}'.format(np.mean(text_len)))"
   ]
  },
  {
   "cell_type": "code",
   "execution_count": 79,
   "id": "ed13ab87",
   "metadata": {},
   "outputs": [
    {
     "data": {
      "image/png": "[encoded data removed]",
      "text/plain": [
       "<Figure size 432x288 with 2 Axes>"
      ]
     },
     "metadata": {
      "needs_background": "light"
     },
     "output_type": "display_data"
    },
    {
     "data": {
      "image/png": "[encoded data removed]",
      "text/plain": [
       "<Figure size 432x288 with 1 Axes>"
      ]
     },
     "metadata": {
      "needs_background": "light"
     },
     "output_type": "display_data"
    },
    {
     "data": {
      "image/png": "[encoded data removed]",
      "text/plain": [
       "<Figure size 432x288 with 1 Axes>"
      ]
     },
     "metadata": {
      "needs_background": "light"
     },
     "output_type": "display_data"
    }
   ],
   "source": [
    "# boxplot을 이용한 IQR 시각화\n",
    "plt.subplot(1,2,1)\n",
    "plt.boxplot(headlines_len)\n",
    "plt.title('headlines')\n",
    "plt.subplot(1,2,2)\n",
    "plt.boxplot(text_len)\n",
    "plt.title('Text')\n",
    "plt.tight_layout()\n",
    "plt.show()\n",
    "\n",
    "# 히스토그램 시각화\n",
    "plt.title('headlines')\n",
    "plt.hist(headlines_len, bins = 40)\n",
    "plt.xlabel('length of samples')\n",
    "plt.ylabel('number of samples')\n",
    "plt.show()\n",
    "\n",
    "plt.title('Text')\n",
    "plt.hist(text_len, bins = 40)\n",
    "plt.xlabel('length of samples')\n",
    "plt.ylabel('number of samples')\n",
    "plt.show()"
   ]
  },
  {
   "cell_type": "code",
   "execution_count": 80,
   "id": "0c7869f6",
   "metadata": {},
   "outputs": [],
   "source": [
    "def below_threshold_len(max_len, nested_list):\n",
    "    cnt = 0\n",
    "    for s in nested_list:\n",
    "        if(len(s.split()) <= max_len):\n",
    "            cnt = cnt + 1\n",
    "    print('전체 샘플 중 길이가 %s 이하인 샘플의 비율: %s'%(max_len, (cnt / len(nested_list))))"
   ]
  },
  {
   "cell_type": "code",
   "execution_count": 89,
   "id": "342f5d6f",
   "metadata": {},
   "outputs": [
    {
     "name": "stdout",
     "output_type": "stream",
     "text": [
      "전체 샘플 중 길이가 11 이하인 샘플의 비율: 1.0\n",
      "전체 샘플 중 길이가 40 이하인 샘플의 비율: 1.0\n"
     ]
    }
   ],
   "source": [
    "# 임의의 max_len 선정\n",
    "headlines_max_len = 11\n",
    "text_max_len = 40\n",
    "\n",
    "below_threshold_len(headlines_max_len,  data['headlines'])\n",
    "below_threshold_len(text_max_len, data['text'])"
   ]
  },
  {
   "cell_type": "code",
   "execution_count": 90,
   "id": "579f8623",
   "metadata": {},
   "outputs": [
    {
     "data": {
      "text/plain": [
       "(85843, 2)"
      ]
     },
     "execution_count": 90,
     "metadata": {},
     "output_type": "execute_result"
    }
   ],
   "source": [
    "# max_len 길이 이하만 추출\n",
    "# 98360 -> 85843\n",
    "data = data[data['headlines'].apply(lambda x: len(x.split()) <= headlines_max_len)]\n",
    "data = data[data['text'].apply(lambda x: len(x.split()) <= text_max_len)]\n",
    "\n",
    "data.shape"
   ]
  },
  {
   "cell_type": "markdown",
   "id": "6138c488",
   "metadata": {},
   "source": [
    "### encoder, decoder 데이터 정의"
   ]
  },
  {
   "cell_type": "code",
   "execution_count": 93,
   "id": "6c2585b3",
   "metadata": {},
   "outputs": [
    {
     "data": {
      "text/html": [
       "<div>\n",
       "<style scoped>\n",
       "    .dataframe tbody tr th:only-of-type {\n",
       "        vertical-align: middle;\n",
       "    }\n",
       "\n",
       "    .dataframe tbody tr th {\n",
       "        vertical-align: top;\n",
       "    }\n",
       "\n",
       "    .dataframe thead th {\n",
       "        text-align: right;\n",
       "    }\n",
       "</style>\n",
       "<table border=\"1\" class=\"dataframe\">\n",
       "  <thead>\n",
       "    <tr style=\"text-align: right;\">\n",
       "      <th></th>\n",
       "      <th>headlines</th>\n",
       "      <th>text</th>\n",
       "      <th>decoder_input</th>\n",
       "      <th>decoder_target</th>\n",
       "    </tr>\n",
       "  </thead>\n",
       "  <tbody>\n",
       "    <tr>\n",
       "      <th>0</th>\n",
       "      <td>upgrad learner switches to career in ml al wit...</td>\n",
       "      <td>saurav kant alumnus upgrad iiit pg program mac...</td>\n",
       "      <td>sostoken upgrad learner switches to career in ...</td>\n",
       "      <td>upgrad learner switches to career in ml al wit...</td>\n",
       "    </tr>\n",
       "    <tr>\n",
       "      <th>2</th>\n",
       "      <td>new zealand end rohit sharma led india match w...</td>\n",
       "      <td>new zealand defeated india wickets fourth odi ...</td>\n",
       "      <td>sostoken new zealand end rohit sharma led indi...</td>\n",
       "      <td>new zealand end rohit sharma led india match w...</td>\n",
       "    </tr>\n",
       "    <tr>\n",
       "      <th>3</th>\n",
       "      <td>aegon life iterm insurance plan helps customer...</td>\n",
       "      <td>aegon life iterm insurance plan customers enjo...</td>\n",
       "      <td>sostoken aegon life iterm insurance plan helps...</td>\n",
       "      <td>aegon life iterm insurance plan helps customer...</td>\n",
       "    </tr>\n",
       "    <tr>\n",
       "      <th>5</th>\n",
       "      <td>rahat fateh ali khan denies getting notice for...</td>\n",
       "      <td>pakistani singer rahat fateh ali khan denied r...</td>\n",
       "      <td>sostoken rahat fateh ali khan denies getting n...</td>\n",
       "      <td>rahat fateh ali khan denies getting notice for...</td>\n",
       "    </tr>\n",
       "    <tr>\n",
       "      <th>7</th>\n",
       "      <td>govt directs alok verma to join work day befor...</td>\n",
       "      <td>weeks ex cbi director alok verma told departme...</td>\n",
       "      <td>sostoken govt directs alok verma to join work ...</td>\n",
       "      <td>govt directs alok verma to join work day befor...</td>\n",
       "    </tr>\n",
       "  </tbody>\n",
       "</table>\n",
       "</div>"
      ],
      "text/plain": [
       "                                           headlines  \\\n",
       "0  upgrad learner switches to career in ml al wit...   \n",
       "2  new zealand end rohit sharma led india match w...   \n",
       "3  aegon life iterm insurance plan helps customer...   \n",
       "5  rahat fateh ali khan denies getting notice for...   \n",
       "7  govt directs alok verma to join work day befor...   \n",
       "\n",
       "                                                text  \\\n",
       "0  saurav kant alumnus upgrad iiit pg program mac...   \n",
       "2  new zealand defeated india wickets fourth odi ...   \n",
       "3  aegon life iterm insurance plan customers enjo...   \n",
       "5  pakistani singer rahat fateh ali khan denied r...   \n",
       "7  weeks ex cbi director alok verma told departme...   \n",
       "\n",
       "                                       decoder_input  \\\n",
       "0  sostoken upgrad learner switches to career in ...   \n",
       "2  sostoken new zealand end rohit sharma led indi...   \n",
       "3  sostoken aegon life iterm insurance plan helps...   \n",
       "5  sostoken rahat fateh ali khan denies getting n...   \n",
       "7  sostoken govt directs alok verma to join work ...   \n",
       "\n",
       "                                      decoder_target  \n",
       "0  upgrad learner switches to career in ml al wit...  \n",
       "2  new zealand end rohit sharma led india match w...  \n",
       "3  aegon life iterm insurance plan helps customer...  \n",
       "5  rahat fateh ali khan denies getting notice for...  \n",
       "7  govt directs alok verma to join work day befor...  "
      ]
     },
     "execution_count": 93,
     "metadata": {},
     "output_type": "execute_result"
    }
   ],
   "source": [
    "# headline 토큰에는 훈련을 위한 시작 및 종료 토큰 추가\n",
    "data['decoder_input'] = data['headlines'].apply(lambda x: 'sostoken ' + x)\n",
    "data['decoder_target'] = data['headlines'].apply(lambda x: x + ' eostoken')\n",
    "data.head()"
   ]
  },
  {
   "cell_type": "code",
   "execution_count": 94,
   "id": "fde00859",
   "metadata": {},
   "outputs": [
    {
     "data": {
      "text/plain": [
       "'upgrad learner switches to career in ml al with salary hike eostoken'"
      ]
     },
     "execution_count": 94,
     "metadata": {},
     "output_type": "execute_result"
    }
   ],
   "source": [
    "# 마지막에 eostoken이 잘 붙었는지 확인\n",
    "data['decoder_target'][0]"
   ]
  },
  {
   "cell_type": "code",
   "execution_count": 95,
   "id": "76f1eae8",
   "metadata": {},
   "outputs": [],
   "source": [
    "# encoder decoder input target 정의\n",
    "encoder_input = np.array(data['text'])\n",
    "decoder_input = np.array(data['decoder_input'])\n",
    "decoder_target = np.array(data['decoder_target'])"
   ]
  },
  {
   "cell_type": "markdown",
   "id": "40aa494d",
   "metadata": {},
   "source": [
    "### 데이터 분리"
   ]
  },
  {
   "cell_type": "code",
   "execution_count": 98,
   "id": "a2ad3a4c",
   "metadata": {},
   "outputs": [
    {
     "data": {
      "text/plain": [
       "array([20454, 60067, 39351, ..., 59036, 24551, 58614])"
      ]
     },
     "execution_count": 98,
     "metadata": {},
     "output_type": "execute_result"
    }
   ],
   "source": [
    "# shuffle을 이용한 데이터 샘플 순서 무작위 정의\n",
    "indices = np.arange(encoder_input.shape[0])\n",
    "np.random.shuffle(indices)\n",
    "\n",
    "encoder_input = encoder_input[indices]\n",
    "decoder_input = decoder_input[indices]\n",
    "decoder_target = decoder_target[indices]\n",
    "indices"
   ]
  },
  {
   "cell_type": "code",
   "execution_count": 99,
   "id": "2eab1316",
   "metadata": {},
   "outputs": [
    {
     "name": "stdout",
     "output_type": "stream",
     "text": [
      "테스트 데이터의 수 : 17168\n"
     ]
    }
   ],
   "source": [
    "# 테스트 데이터 수 정의\n",
    "n_of_val = int(len(encoder_input)*0.2)\n",
    "print('테스트 데이터의 수 :', n_of_val)"
   ]
  },
  {
   "cell_type": "code",
   "execution_count": 101,
   "id": "3f2d9b3b",
   "metadata": {},
   "outputs": [
    {
     "data": {
      "text/plain": [
       "((68675,), (17168,))"
      ]
     },
     "execution_count": 101,
     "metadata": {},
     "output_type": "execute_result"
    }
   ],
   "source": [
    "# train, test 데이터 분리\n",
    "# train 68675게, test 17168개로 분리\n",
    "encoder_input_train = encoder_input[:-n_of_val]\n",
    "decoder_input_train = decoder_input[:-n_of_val]\n",
    "decoder_target_train = decoder_target[:-n_of_val]\n",
    "\n",
    "encoder_input_test = encoder_input[-n_of_val:]\n",
    "decoder_input_test = decoder_input[-n_of_val:]\n",
    "decoder_target_test = decoder_target[-n_of_val:]\n",
    "\n",
    "encoder_input_train.shape, encoder_input_test.shape"
   ]
  },
  {
   "cell_type": "markdown",
   "id": "45e742c9",
   "metadata": {},
   "source": [
    "## "
   ]
  },
  {
   "cell_type": "code",
   "execution_count": 102,
   "id": "d385bb0a",
   "metadata": {},
   "outputs": [],
   "source": [
    "from tensorflow.keras.preprocessing.text import Tokenizer \n",
    "from tensorflow.keras.preprocessing.sequence import pad_sequences"
   ]
  },
  {
   "cell_type": "code",
   "execution_count": 103,
   "id": "2d292722",
   "metadata": {},
   "outputs": [],
   "source": [
    "# 토크나이저 정의 및 단어 집합 생성(train encode 데이터)\n",
    "src_tokenizer = Tokenizer()\n",
    "src_tokenizer.fit_on_texts(encoder_input_train)"
   ]
  },
  {
   "cell_type": "code",
   "execution_count": 105,
   "id": "355ad32b",
   "metadata": {},
   "outputs": [
    {
     "name": "stdout",
     "output_type": "stream",
     "text": [
      "단어 집합(vocabulary)의 크기 : 64672\n",
      "등장 빈도가 6번 이하인 희귀 단어의 수: 44060\n",
      "단어 집합에서 희귀 단어를 제외시킬 경우의 단어 집합의 크기: 20612\n",
      "단어 집합에서 희귀 단어의 비율: 68.12840178129639\n",
      "전체 등장 빈도에서 희귀 단어 등장 빈도 비율: 3.7769854673940486\n"
     ]
    }
   ],
   "source": [
    "# 등장 빈도 수 기준\n",
    "threshold = 7\n",
    "\n",
    "# 총 단어 수\n",
    "total_cnt = len(src_tokenizer.word_index)\n",
    "# threshold보다 적은 단어 수\n",
    "rare_cnt = 0\n",
    "# 단어의 총 빈도 수 및 rare 빈도 수\n",
    "total_freq = 0\n",
    "rare_freq = 0\n",
    "\n",
    "\n",
    "# key: 단어, value: 빈도 수\n",
    "for key, value in src_tokenizer.word_counts.items():\n",
    "    total_freq = total_freq + value\n",
    "\n",
    "    # 단어의 등장 빈도수가 threshold보다 작으면 rare 변수에 추가\n",
    "    if(value < threshold):\n",
    "        rare_cnt = rare_cnt + 1\n",
    "        rare_freq = rare_freq + value\n",
    "\n",
    "print('단어 집합(vocabulary)의 크기 :', total_cnt)\n",
    "print('등장 빈도가 %s번 이하인 희귀 단어의 수: %s'%(threshold - 1, rare_cnt))\n",
    "print('단어 집합에서 희귀 단어를 제외시킬 경우의 단어 집합의 크기: %s'%(total_cnt - rare_cnt))\n",
    "print(\"단어 집합에서 희귀 단어의 비율:\", (rare_cnt / total_cnt)*100)\n",
    "print(\"전체 등장 빈도에서 희귀 단어 등장 빈도 비율:\", (rare_freq / total_freq)*100)"
   ]
  },
  {
   "cell_type": "code",
   "execution_count": 106,
   "id": "5a0fbd22",
   "metadata": {},
   "outputs": [],
   "source": [
    "# 단어 수 : 64672\n",
    "# 등장 빈도 6회 이하 단어 수 : 44060 (68.12%)\n",
    "# 7회 이상 : 64672 - 44080 = 20612\n",
    "\n",
    "# 단어 집합 크기 제한(20000)을 통한 단어 집합 생성\n",
    "src_vocab = 20000\n",
    "src_tokenizer = Tokenizer(num_words=src_vocab)\n",
    "src_tokenizer.fit_on_texts(encoder_input_train)"
   ]
  },
  {
   "cell_type": "code",
   "execution_count": null,
   "id": "a6de7bec",
   "metadata": {},
   "outputs": [],
   "source": [
    "# text to int(정수 시퀀스)\n",
    "# train test 모두 처리\n",
    "encoder_input_train = src_tokenizer.texts_to_sequences(encoder_input_train) \n",
    "encoder_input_test = src_tokenizer.texts_to_sequences(encoder_input_test)"
   ]
  },
  {
   "cell_type": "code",
   "execution_count": 110,
   "id": "163cb7d4",
   "metadata": {},
   "outputs": [
    {
     "name": "stdout",
     "output_type": "stream",
     "text": [
      "[[5, 89, 59, 154, 50, 415, 2259, 3120, 5, 452, 252, 1, 1820, 582, 586, 986, 2402, 2873, 1374, 1004, 10585, 2032, 3120, 503, 13136, 5, 8377, 314, 217, 1128, 1076, 4419, 4420, 1491], [778, 568, 459, 382, 201, 4778, 18022, 66, 2555, 420, 18022, 1091, 2555, 635, 295, 1257, 104, 512, 6861, 2180, 4614, 5033, 282, 1091, 174, 4653, 92, 295, 1257, 18022, 2555, 420, 3362], [810, 76, 552, 721, 75, 131, 1160, 2738, 13137, 270, 708, 5933, 7939, 552, 2450, 214, 163, 214, 87, 2303, 37, 602, 1375, 552, 721, 376, 163, 1555, 342, 6158, 552, 721, 1610, 4570]]\n"
     ]
    }
   ],
   "source": [
    "print(encoder_input_train[:3])"
   ]
  },
  {
   "cell_type": "code",
   "execution_count": 111,
   "id": "d9e4ecb1",
   "metadata": {},
   "outputs": [],
   "source": [
    "# decoder input에도 같은 순서 반복\n",
    "tar_tokenizer = Tokenizer()\n",
    "tar_tokenizer.fit_on_texts(decoder_input_train)"
   ]
  },
  {
   "cell_type": "code",
   "execution_count": 112,
   "id": "6907302c",
   "metadata": {},
   "outputs": [],
   "source": [
    "def check_vocab_freq(threshold, tokenizer):\n",
    "    threshold = threshold\n",
    "    total_cnt = len(tokenizer.word_index)\n",
    "    rare_cnt = 0\n",
    "    total_freq = 0\n",
    "    rare_freq = 0\n",
    "\n",
    "    # 단어와 빈도수의 쌍(pair)을 key와 value로 받는다.\n",
    "    for key, value in tar_tokenizer.word_counts.items():\n",
    "        total_freq = total_freq + value\n",
    "\n",
    "        # 단어의 등장 빈도수가 threshold보다 작으면\n",
    "        if(value < threshold):\n",
    "            rare_cnt = rare_cnt + 1\n",
    "            rare_freq = rare_freq + value\n",
    "\n",
    "    print('단어 집합(vocabulary)의 크기 :', total_cnt)\n",
    "    print('등장 빈도가 %s번 이하인 희귀 단어의 수: %s'%(threshold - 1, rare_cnt))\n",
    "    print('단어 집합에서 희귀 단어를 제외시킬 경우의 단어 집합의 크기 %s'%(total_cnt - rare_cnt))\n",
    "    print(\"단어 집합에서 희귀 단어의 비율:\", (rare_cnt / total_cnt)*100)\n",
    "    print(\"전체 등장 빈도에서 희귀 단어 등장 빈도 비율:\", (rare_freq / total_freq)*100)"
   ]
  },
  {
   "cell_type": "code",
   "execution_count": 113,
   "id": "aa6db1ba",
   "metadata": {},
   "outputs": [
    {
     "name": "stdout",
     "output_type": "stream",
     "text": [
      "단어 집합(vocabulary)의 크기 : 28533\n",
      "등장 빈도가 5번 이하인 희귀 단어의 수: 18822\n",
      "단어 집합에서 희귀 단어를 제외시킬 경우의 단어 집합의 크기 9711\n",
      "단어 집합에서 희귀 단어의 비율: 65.96572389864367\n",
      "전체 등장 빈도에서 희귀 단어 등장 빈도 비율: 5.207217338408729\n"
     ]
    }
   ],
   "source": [
    "# threshold=6일 때\n",
    "check_vocab_freq(6, tar_tokenizer)"
   ]
  },
  {
   "cell_type": "code",
   "execution_count": 117,
   "id": "d7db0914",
   "metadata": {},
   "outputs": [
    {
     "name": "stdout",
     "output_type": "stream",
     "text": [
      "단어 집합(vocabulary)의 크기 : 28533\n",
      "등장 빈도가 7번 이하인 희귀 단어의 수: 20335\n",
      "단어 집합에서 희귀 단어를 제외시킬 경우의 단어 집합의 크기 8198\n",
      "단어 집합에서 희귀 단어의 비율: 71.2683559387376\n",
      "전체 등장 빈도에서 희귀 단어 등장 빈도 비율: 6.613640579768501\n"
     ]
    }
   ],
   "source": [
    "# threshold=8일 때\n",
    "check_vocab_freq(8, tar_tokenizer)"
   ]
  },
  {
   "cell_type": "code",
   "execution_count": 118,
   "id": "8c780f61",
   "metadata": {},
   "outputs": [
    {
     "name": "stdout",
     "output_type": "stream",
     "text": [
      "input\n",
      "input  [[1, 15, 743, 193, 4, 522, 1182, 3, 2338], [1, 617, 220, 98, 1484, 8, 3226, 356, 2128, 7], [1, 487, 4104, 1037, 634, 5161, 3, 216, 1453], [1, 2129, 292, 1168, 5976, 1152, 3, 766, 7, 1153, 1298], [1, 948, 1008, 538, 1687]]\n",
      "target\n",
      "decoder  [[15, 743, 193, 4, 522, 1182, 3, 2338, 2], [617, 220, 98, 1484, 8, 3226, 356, 2128, 7, 2], [487, 4104, 1037, 634, 5161, 3, 216, 1453, 2], [2129, 292, 1168, 5976, 1152, 3, 766, 7, 1153, 1298, 2], [948, 1008, 538, 1687, 2]]\n"
     ]
    }
   ],
   "source": [
    "# threshold=8일 때 기준으로 단어 집합 크기 제한\n",
    "tar_vocab = 8000\n",
    "tar_tokenizer = Tokenizer(num_words=tar_vocab) \n",
    "tar_tokenizer.fit_on_texts(decoder_input_train)\n",
    "tar_tokenizer.fit_on_texts(decoder_target_train)\n",
    "\n",
    "# 텍스트 시퀀스를 정수 시퀀스로 변환\n",
    "decoder_input_train = tar_tokenizer.texts_to_sequences(decoder_input_train) \n",
    "decoder_target_train = tar_tokenizer.texts_to_sequences(decoder_target_train)\n",
    "decoder_input_test = tar_tokenizer.texts_to_sequences(decoder_input_test)\n",
    "decoder_target_test = tar_tokenizer.texts_to_sequences(decoder_target_test)\n",
    "\n",
    "# 잘 변환되었는지 확인\n",
    "print('input')\n",
    "print('input ',decoder_input_train[:5])\n",
    "print('target')\n",
    "print('decoder ',decoder_target_train[:5])"
   ]
  },
  {
   "cell_type": "code",
   "execution_count": 119,
   "id": "b81ff346",
   "metadata": {},
   "outputs": [
    {
     "name": "stdout",
     "output_type": "stream",
     "text": [
      "삭제할 훈련 데이터의 개수 : 1\n",
      "삭제할 테스트 데이터의 개수 : 0\n"
     ]
    }
   ],
   "source": [
    "# headlines의 길이가 0인 경우 추출\n",
    "drop_train = [index for index, sentence in enumerate(decoder_input_train) if len(sentence) == 1]\n",
    "drop_test = [index for index, sentence in enumerate(decoder_input_test) if len(sentence) == 1]\n",
    "\n",
    "print('삭제할 훈련 데이터의 개수 :', len(drop_train))\n",
    "print('삭제할 테스트 데이터의 개수 :', len(drop_test))"
   ]
  },
  {
   "cell_type": "code",
   "execution_count": 121,
   "id": "5408d49c",
   "metadata": {},
   "outputs": [
    {
     "data": {
      "text/plain": [
       "[1]"
      ]
     },
     "execution_count": 121,
     "metadata": {},
     "output_type": "execute_result"
    }
   ],
   "source": [
    "decoder_input_train[drop_train[0]]"
   ]
  },
  {
   "cell_type": "code",
   "execution_count": 122,
   "id": "c70dc1ba",
   "metadata": {},
   "outputs": [
    {
     "name": "stdout",
     "output_type": "stream",
     "text": [
      "훈련 데이터의 개수 : 68674\n",
      "훈련 레이블의 개수 : 68674\n",
      "테스트 데이터의 개수 : 17168\n",
      "테스트 레이블의 개수 : 17168\n"
     ]
    }
   ],
   "source": [
    "encoder_input_train = [sentence for index, sentence in enumerate(encoder_input_train) if index not in drop_train]\n",
    "decoder_input_train = [sentence for index, sentence in enumerate(decoder_input_train) if index not in drop_train]\n",
    "decoder_target_train = [sentence for index, sentence in enumerate(decoder_target_train) if index not in drop_train]\n",
    "\n",
    "# test도 수행해야지만 현재 삭제할 테스트 데이터는 없으므로 제외\n",
    "#encoder_input_test = [sentence for index, sentence in enumerate(encoder_input_test) if index not in drop_test]\n",
    "#decoder_input_test = [sentence for index, sentence in enumerate(decoder_input_test) if index not in drop_test]\n",
    "#decoder_target_test = [sentence for index, sentence in enumerate(decoder_target_test) if index not in drop_test]\n",
    "\n",
    "print('훈련 데이터의 개수 :', len(encoder_input_train))\n",
    "print('훈련 레이블의 개수 :', len(decoder_input_train))\n",
    "print('테스트 데이터의 개수 :', len(encoder_input_test))\n",
    "print('테스트 레이블의 개수 :', len(decoder_input_test))"
   ]
  },
  {
   "cell_type": "code",
   "execution_count": null,
   "id": "370a8fc6",
   "metadata": {},
   "outputs": [],
   "source": []
  }
 ],
 "metadata": {
  "kernelspec": {
   "display_name": "Python 3 (ipykernel)",
   "language": "python",
   "name": "python3"
  },
  "language_info": {
   "codemirror_mode": {
    "name": "ipython",
    "version": 3
   },
   "file_extension": ".py",
   "mimetype": "text/x-python",
   "name": "python",
   "nbconvert_exporter": "python",
   "pygments_lexer": "ipython3",
   "version": "3.9.7"
  }
 },
 "nbformat": 4,
 "nbformat_minor": 5
}
